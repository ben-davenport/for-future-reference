{
 "cells": [
  {
   "cell_type": "markdown",
   "metadata": {},
   "source": [
    "## Spatial Segregation and Clustering Indices\n",
    "\n",
    "Contributors: Arezoo Besharati-Zadeh and Paul Waddell\n",
    "\n",
    "This notebook covers several methods used to compute patterns of spatial segregation and clustering.  A good resource for the metrics computed here is https://www.census.gov/hhes/www/housing/resseg/pdf/app_b.pdf"
   ]
  },
  {
   "cell_type": "code",
   "execution_count": 1,
   "metadata": {},
   "outputs": [],
   "source": [
    "%matplotlib inline\n",
    "\n",
    "import math \n",
    "import matplotlib\n",
    "import matplotlib.pyplot as plt\n",
    "import pandas as pd, numpy as np"
   ]
  },
  {
   "cell_type": "code",
   "execution_count": 3,
   "metadata": {},
   "outputs": [
    {
     "name": "stdout",
     "output_type": "stream",
     "text": [
      "<class 'pandas.io.pytables.HDFStore'>\n",
      "File path: data/model_data.h5\n",
      "/annual_household_relocation_rates            frame        (shape->[16,5])      \n",
      "/blocks                                       frame        (shape->[109228,12]) \n",
      "/edges                                        frame        (shape->[342674,4])  \n",
      "/edges_simple                                 frame        (shape->[84457,3])   \n",
      "/households                                   frame        (shape->[2608023,11])\n",
      "/jobs                                         frame        (shape->[3237177,2]) \n",
      "/nodes                                        frame        (shape->[251228,2])  \n",
      "/nodes_simple                                 frame        (shape->[75237,2])   \n",
      "/places                                       frame        (shape->[1,1])       \n",
      "/region                                       frame        (shape->[1,5])       \n",
      "/residential_units                            frame        (shape->[2785948,3]) \n"
     ]
    }
   ],
   "source": [
    "# See what's in the data file \n",
    "with pd.HDFStore('data/model_data.h5') as test:\n",
    "    print (test)"
   ]
  },
  {
   "cell_type": "code",
   "execution_count": 4,
   "metadata": {},
   "outputs": [
    {
     "name": "stdout",
     "output_type": "stream",
     "text": [
      "                     serialno  persons  cars  income  race_of_head  \\\n",
      "b'household_id'                                                      \n",
      "1                2.011001e+12        1     1  131000             1   \n",
      "2                2.013001e+12        1     2  142000             2   \n",
      "3                2.011001e+12        1     2  135990             1   \n",
      "4                2.010001e+12        2     1  109500             1   \n",
      "5                2.012001e+12        2     2  112000             1   \n",
      "\n",
      "                 age_of_head  workers  children  tenure  recent_mover  \\\n",
      "b'household_id'                                                         \n",
      "1                         64        0         0       1             0   \n",
      "2                         61        0         0       1             0   \n",
      "3                         62        0         0       1             0   \n",
      "4                         53        0         1       1             0   \n",
      "5                         61        0         0       1             0   \n",
      "\n",
      "                        block_id  \n",
      "b'household_id'                   \n",
      "1                060014001001054  \n",
      "2                060014001001054  \n",
      "3                060014001001057  \n",
      "4                060014001001036  \n",
      "5                060014001001060  \n",
      "(2608023, 11)\n",
      "serialno        float64\n",
      "persons           int64\n",
      "cars              int64\n",
      "income            int64\n",
      "race_of_head      int64\n",
      "age_of_head       int64\n",
      "workers           int64\n",
      "children          int64\n",
      "tenure            int64\n",
      "recent_mover      int64\n",
      "block_id         object\n",
      "dtype: object\n"
     ]
    }
   ],
   "source": [
    "# read the household's data\n",
    "households_syn = pd.read_hdf('data/model_data.h5',key='households')\n",
    "print (households_syn.head())\n",
    "print (households_syn.shape)\n",
    "print (households_syn.dtypes)\n"
   ]
  },
  {
   "cell_type": "code",
   "execution_count": 5,
   "metadata": {
    "scrolled": false
   },
   "outputs": [
    {
     "data": {
      "text/plain": [
       "1    1675113\n",
       "6     539943\n",
       "2     165759\n",
       "8     126224\n",
       "9      75839\n",
       "7      10202\n",
       "3      10021\n",
       "5       4747\n",
       "4        175\n",
       "Name: race_of_head, dtype: int64"
      ]
     },
     "execution_count": 5,
     "metadata": {},
     "output_type": "execute_result"
    }
   ],
   "source": [
    "#Explore the region's racial distribituon: \n",
    "\n",
    "households_syn.race_of_head.value_counts()"
   ]
  },
  {
   "cell_type": "markdown",
   "metadata": {},
   "source": [
    "### Race categories from data dictionary :\n",
    "1 .White alone\n",
    "\n",
    "2 .Black or African American alone\n",
    "\n",
    "3 .American Indian alone\n",
    "\n",
    "4 .Alaska Native alone\n",
    "\n",
    "5 .American Indian and Alaska Native tribes specified; or American.Indian or Alaska Native, not specified and no other races\n",
    "\n",
    "6 .Asian alone\n",
    "\n",
    "7 .Native Hawaiian and Other Pacific Islander alone\n",
    "\n",
    "8 .Some Other Race alone\n",
    "\n",
    "9 .Two or More Races"
   ]
  },
  {
   "cell_type": "code",
   "execution_count": 6,
   "metadata": {},
   "outputs": [
    {
     "data": {
      "text/plain": [
       "race_of_head\n",
       "1    64.229227\n",
       "2     6.355734\n",
       "3     0.384237\n",
       "4     0.006710\n",
       "5     0.182015\n",
       "6    20.703153\n",
       "7     0.391178\n",
       "8     4.839835\n",
       "9     2.907911\n",
       "Name: serialno, dtype: float64"
      ]
     },
     "execution_count": 6,
     "metadata": {},
     "output_type": "execute_result"
    }
   ],
   "source": [
    "# Compute the share of each race in the region\n",
    "\n",
    "race_distribution = households_syn.groupby(['race_of_head'])\n",
    "a=race_distribution.serialno.count()\n",
    "\n",
    "a.proportaion=a/a.sum()*100\n",
    "a.proportaion\n"
   ]
  },
  {
   "cell_type": "code",
   "execution_count": 7,
   "metadata": {
    "scrolled": true
   },
   "outputs": [
    {
     "data": {
      "text/html": [
       "<div>\n",
       "<style>\n",
       "    .dataframe thead tr:only-child th {\n",
       "        text-align: right;\n",
       "    }\n",
       "\n",
       "    .dataframe thead th {\n",
       "        text-align: left;\n",
       "    }\n",
       "\n",
       "    .dataframe tbody tr th {\n",
       "        vertical-align: top;\n",
       "    }\n",
       "</style>\n",
       "<table border=\"1\" class=\"dataframe\">\n",
       "  <thead>\n",
       "    <tr style=\"text-align: right;\">\n",
       "      <th></th>\n",
       "      <th>serialno</th>\n",
       "      <th>persons</th>\n",
       "      <th>cars</th>\n",
       "      <th>income</th>\n",
       "      <th>race_of_head</th>\n",
       "      <th>age_of_head</th>\n",
       "      <th>workers</th>\n",
       "      <th>children</th>\n",
       "      <th>tenure</th>\n",
       "      <th>recent_mover</th>\n",
       "      <th>block_id</th>\n",
       "      <th>black_bl</th>\n",
       "      <th>asian_bl</th>\n",
       "      <th>white_bl</th>\n",
       "    </tr>\n",
       "    <tr>\n",
       "      <th>b'household_id'</th>\n",
       "      <th></th>\n",
       "      <th></th>\n",
       "      <th></th>\n",
       "      <th></th>\n",
       "      <th></th>\n",
       "      <th></th>\n",
       "      <th></th>\n",
       "      <th></th>\n",
       "      <th></th>\n",
       "      <th></th>\n",
       "      <th></th>\n",
       "      <th></th>\n",
       "      <th></th>\n",
       "      <th></th>\n",
       "    </tr>\n",
       "  </thead>\n",
       "  <tbody>\n",
       "    <tr>\n",
       "      <th>1</th>\n",
       "      <td>2.011001e+12</td>\n",
       "      <td>1</td>\n",
       "      <td>1</td>\n",
       "      <td>131000</td>\n",
       "      <td>1</td>\n",
       "      <td>64</td>\n",
       "      <td>0</td>\n",
       "      <td>0</td>\n",
       "      <td>1</td>\n",
       "      <td>0</td>\n",
       "      <td>060014001001054</td>\n",
       "      <td>0</td>\n",
       "      <td>0</td>\n",
       "      <td>1</td>\n",
       "    </tr>\n",
       "    <tr>\n",
       "      <th>2</th>\n",
       "      <td>2.013001e+12</td>\n",
       "      <td>1</td>\n",
       "      <td>2</td>\n",
       "      <td>142000</td>\n",
       "      <td>2</td>\n",
       "      <td>61</td>\n",
       "      <td>0</td>\n",
       "      <td>0</td>\n",
       "      <td>1</td>\n",
       "      <td>0</td>\n",
       "      <td>060014001001054</td>\n",
       "      <td>1</td>\n",
       "      <td>0</td>\n",
       "      <td>0</td>\n",
       "    </tr>\n",
       "    <tr>\n",
       "      <th>3</th>\n",
       "      <td>2.011001e+12</td>\n",
       "      <td>1</td>\n",
       "      <td>2</td>\n",
       "      <td>135990</td>\n",
       "      <td>1</td>\n",
       "      <td>62</td>\n",
       "      <td>0</td>\n",
       "      <td>0</td>\n",
       "      <td>1</td>\n",
       "      <td>0</td>\n",
       "      <td>060014001001057</td>\n",
       "      <td>0</td>\n",
       "      <td>0</td>\n",
       "      <td>1</td>\n",
       "    </tr>\n",
       "    <tr>\n",
       "      <th>4</th>\n",
       "      <td>2.010001e+12</td>\n",
       "      <td>2</td>\n",
       "      <td>1</td>\n",
       "      <td>109500</td>\n",
       "      <td>1</td>\n",
       "      <td>53</td>\n",
       "      <td>0</td>\n",
       "      <td>1</td>\n",
       "      <td>1</td>\n",
       "      <td>0</td>\n",
       "      <td>060014001001036</td>\n",
       "      <td>0</td>\n",
       "      <td>0</td>\n",
       "      <td>1</td>\n",
       "    </tr>\n",
       "    <tr>\n",
       "      <th>5</th>\n",
       "      <td>2.012001e+12</td>\n",
       "      <td>2</td>\n",
       "      <td>2</td>\n",
       "      <td>112000</td>\n",
       "      <td>1</td>\n",
       "      <td>61</td>\n",
       "      <td>0</td>\n",
       "      <td>0</td>\n",
       "      <td>1</td>\n",
       "      <td>0</td>\n",
       "      <td>060014001001060</td>\n",
       "      <td>0</td>\n",
       "      <td>0</td>\n",
       "      <td>1</td>\n",
       "    </tr>\n",
       "  </tbody>\n",
       "</table>\n",
       "</div>"
      ],
      "text/plain": [
       "                     serialno  persons  cars  income  race_of_head  \\\n",
       "b'household_id'                                                      \n",
       "1                2.011001e+12        1     1  131000             1   \n",
       "2                2.013001e+12        1     2  142000             2   \n",
       "3                2.011001e+12        1     2  135990             1   \n",
       "4                2.010001e+12        2     1  109500             1   \n",
       "5                2.012001e+12        2     2  112000             1   \n",
       "\n",
       "                 age_of_head  workers  children  tenure  recent_mover  \\\n",
       "b'household_id'                                                         \n",
       "1                         64        0         0       1             0   \n",
       "2                         61        0         0       1             0   \n",
       "3                         62        0         0       1             0   \n",
       "4                         53        0         1       1             0   \n",
       "5                         61        0         0       1             0   \n",
       "\n",
       "                        block_id  black_bl  asian_bl  white_bl  \n",
       "b'household_id'                                                 \n",
       "1                060014001001054         0         0         1  \n",
       "2                060014001001054         1         0         0  \n",
       "3                060014001001057         0         0         1  \n",
       "4                060014001001036         0         0         1  \n",
       "5                060014001001060         0         0         1  "
      ]
     },
     "execution_count": 7,
     "metadata": {},
     "output_type": "execute_result"
    }
   ],
   "source": [
    "# Make a dummy variable for each race...\n",
    "#\n",
    "households_syn['black_bl']=(households_syn['race_of_head']==2).astype(int)\n",
    "households_syn['asian_bl']=(households_syn['race_of_head']==6).astype(int)\n",
    "households_syn['white_bl']=(households_syn['race_of_head']==1).astype(int)\n",
    "\n",
    "households_syn.head()"
   ]
  },
  {
   "cell_type": "code",
   "execution_count": 8,
   "metadata": {},
   "outputs": [],
   "source": [
    "# Make a data frame for recentmovers\n",
    "include_criteria = (households_syn.recent_mover==1)\n",
    "\n",
    "households_syn_rm= households_syn.loc[include_criteria].copy()\n"
   ]
  },
  {
   "cell_type": "code",
   "execution_count": 9,
   "metadata": {
    "scrolled": true
   },
   "outputs": [
    {
     "data": {
      "text/html": [
       "<div>\n",
       "<style>\n",
       "    .dataframe thead tr:only-child th {\n",
       "        text-align: right;\n",
       "    }\n",
       "\n",
       "    .dataframe thead th {\n",
       "        text-align: left;\n",
       "    }\n",
       "\n",
       "    .dataframe tbody tr th {\n",
       "        vertical-align: top;\n",
       "    }\n",
       "</style>\n",
       "<table border=\"1\" class=\"dataframe\">\n",
       "  <thead>\n",
       "    <tr style=\"text-align: right;\">\n",
       "      <th></th>\n",
       "      <th>serialno</th>\n",
       "    </tr>\n",
       "    <tr>\n",
       "      <th>block_id</th>\n",
       "      <th></th>\n",
       "    </tr>\n",
       "  </thead>\n",
       "  <tbody>\n",
       "    <tr>\n",
       "      <th>060014001001007</th>\n",
       "      <td>53</td>\n",
       "    </tr>\n",
       "    <tr>\n",
       "      <th>060014001001008</th>\n",
       "      <td>9</td>\n",
       "    </tr>\n",
       "    <tr>\n",
       "      <th>060014001001011</th>\n",
       "      <td>6</td>\n",
       "    </tr>\n",
       "    <tr>\n",
       "      <th>060014001001013</th>\n",
       "      <td>1</td>\n",
       "    </tr>\n",
       "    <tr>\n",
       "      <th>060014001001014</th>\n",
       "      <td>10</td>\n",
       "    </tr>\n",
       "  </tbody>\n",
       "</table>\n",
       "</div>"
      ],
      "text/plain": [
       "                 serialno\n",
       "block_id                 \n",
       "060014001001007        53\n",
       "060014001001008         9\n",
       "060014001001011         6\n",
       "060014001001013         1\n",
       "060014001001014        10"
      ]
     },
     "execution_count": 9,
     "metadata": {},
     "output_type": "execute_result"
    }
   ],
   "source": [
    "# Get the total number of households in each block \n",
    "totalhh=households_syn.groupby(['block_id']).agg({'serialno': 'count'})\n",
    "totalhh.head()"
   ]
  },
  {
   "cell_type": "code",
   "execution_count": 10,
   "metadata": {},
   "outputs": [],
   "source": [
    "# Rename the columns' names \n",
    "totalhh=totalhh.rename(columns = {'serialno':'total_hh_bl'})\n"
   ]
  },
  {
   "cell_type": "code",
   "execution_count": 11,
   "metadata": {},
   "outputs": [
    {
     "data": {
      "text/html": [
       "<div>\n",
       "<style>\n",
       "    .dataframe thead tr:only-child th {\n",
       "        text-align: right;\n",
       "    }\n",
       "\n",
       "    .dataframe thead th {\n",
       "        text-align: left;\n",
       "    }\n",
       "\n",
       "    .dataframe tbody tr th {\n",
       "        vertical-align: top;\n",
       "    }\n",
       "</style>\n",
       "<table border=\"1\" class=\"dataframe\">\n",
       "  <thead>\n",
       "    <tr style=\"text-align: right;\">\n",
       "      <th></th>\n",
       "      <th>black_bl</th>\n",
       "      <th>asian_bl</th>\n",
       "      <th>white_bl</th>\n",
       "    </tr>\n",
       "    <tr>\n",
       "      <th>block_id</th>\n",
       "      <th></th>\n",
       "      <th></th>\n",
       "      <th></th>\n",
       "    </tr>\n",
       "  </thead>\n",
       "  <tbody>\n",
       "    <tr>\n",
       "      <th>060014001001007</th>\n",
       "      <td>11</td>\n",
       "      <td>4</td>\n",
       "      <td>38</td>\n",
       "    </tr>\n",
       "    <tr>\n",
       "      <th>060014001001008</th>\n",
       "      <td>0</td>\n",
       "      <td>0</td>\n",
       "      <td>9</td>\n",
       "    </tr>\n",
       "    <tr>\n",
       "      <th>060014001001011</th>\n",
       "      <td>0</td>\n",
       "      <td>0</td>\n",
       "      <td>6</td>\n",
       "    </tr>\n",
       "    <tr>\n",
       "      <th>060014001001013</th>\n",
       "      <td>1</td>\n",
       "      <td>0</td>\n",
       "      <td>0</td>\n",
       "    </tr>\n",
       "    <tr>\n",
       "      <th>060014001001014</th>\n",
       "      <td>1</td>\n",
       "      <td>1</td>\n",
       "      <td>8</td>\n",
       "    </tr>\n",
       "  </tbody>\n",
       "</table>\n",
       "</div>"
      ],
      "text/plain": [
       "                 black_bl  asian_bl  white_bl\n",
       "block_id                                     \n",
       "060014001001007        11         4        38\n",
       "060014001001008         0         0         9\n",
       "060014001001011         0         0         6\n",
       "060014001001013         1         0         0\n",
       "060014001001014         1         1         8"
      ]
     },
     "execution_count": 11,
     "metadata": {},
     "output_type": "execute_result"
    }
   ],
   "source": [
    "# Get the total number of each race in each block \n",
    "\n",
    "race=households_syn.groupby(['block_id']).agg({'black_bl': 'sum','asian_bl': 'sum','white_bl': 'sum'})\n",
    "\n",
    "race.head()"
   ]
  },
  {
   "cell_type": "code",
   "execution_count": 12,
   "metadata": {
    "scrolled": true
   },
   "outputs": [],
   "source": [
    "#concatanate the above dataframes \n",
    "df = pd.concat([race,totalhh], axis=1)\n",
    "\n"
   ]
  },
  {
   "cell_type": "code",
   "execution_count": 13,
   "metadata": {},
   "outputs": [],
   "source": [
    "# do the above process for recentmovers\n",
    "\n",
    "# Get the total number of households in each block \n",
    "totalhh=households_syn_rm.groupby(['block_id']).agg({'serialno': 'count'})\n",
    "\n",
    "# Rename the column name \n",
    "totalhh=totalhh.rename(columns = {'serialno':'total_hh_bl'})\n",
    "\n",
    "# Get the total number of each race in each block \n",
    "race_rm=households_syn_rm.groupby(['block_id']).agg({'black_bl': 'sum','asian_bl': 'sum','white_bl': 'sum'})\n",
    "\n",
    "#concatanate the dataframes \n",
    "df_rm = pd.concat([race_rm,totalhh], axis=1)\n"
   ]
  },
  {
   "cell_type": "code",
   "execution_count": 14,
   "metadata": {
    "scrolled": true
   },
   "outputs": [
    {
     "data": {
      "text/html": [
       "<div>\n",
       "<style>\n",
       "    .dataframe thead tr:only-child th {\n",
       "        text-align: right;\n",
       "    }\n",
       "\n",
       "    .dataframe thead th {\n",
       "        text-align: left;\n",
       "    }\n",
       "\n",
       "    .dataframe tbody tr th {\n",
       "        vertical-align: top;\n",
       "    }\n",
       "</style>\n",
       "<table border=\"1\" class=\"dataframe\">\n",
       "  <thead>\n",
       "    <tr style=\"text-align: right;\">\n",
       "      <th></th>\n",
       "      <th>black_bl</th>\n",
       "      <th>asian_bl</th>\n",
       "      <th>white_bl</th>\n",
       "      <th>total_hh_bl</th>\n",
       "      <th>prop_black_bl</th>\n",
       "      <th>prop_asian_bl</th>\n",
       "      <th>prop_white_bl</th>\n",
       "      <th>non_black_bl</th>\n",
       "      <th>non_asian_bl</th>\n",
       "      <th>non_white_bl</th>\n",
       "      <th>black_region</th>\n",
       "      <th>asian_region</th>\n",
       "      <th>white_region</th>\n",
       "      <th>total_hh_region</th>\n",
       "      <th>non_black_region</th>\n",
       "      <th>non_asian_region</th>\n",
       "      <th>non_white_region</th>\n",
       "    </tr>\n",
       "    <tr>\n",
       "      <th>block_id</th>\n",
       "      <th></th>\n",
       "      <th></th>\n",
       "      <th></th>\n",
       "      <th></th>\n",
       "      <th></th>\n",
       "      <th></th>\n",
       "      <th></th>\n",
       "      <th></th>\n",
       "      <th></th>\n",
       "      <th></th>\n",
       "      <th></th>\n",
       "      <th></th>\n",
       "      <th></th>\n",
       "      <th></th>\n",
       "      <th></th>\n",
       "      <th></th>\n",
       "      <th></th>\n",
       "    </tr>\n",
       "  </thead>\n",
       "  <tbody>\n",
       "    <tr>\n",
       "      <th>060014001001007</th>\n",
       "      <td>11</td>\n",
       "      <td>4</td>\n",
       "      <td>38</td>\n",
       "      <td>53</td>\n",
       "      <td>0.207547</td>\n",
       "      <td>0.075472</td>\n",
       "      <td>0.716981</td>\n",
       "      <td>42</td>\n",
       "      <td>49</td>\n",
       "      <td>15</td>\n",
       "      <td>165759</td>\n",
       "      <td>539943</td>\n",
       "      <td>1675113</td>\n",
       "      <td>2608023</td>\n",
       "      <td>2442264</td>\n",
       "      <td>2068080</td>\n",
       "      <td>932910</td>\n",
       "    </tr>\n",
       "    <tr>\n",
       "      <th>060014001001008</th>\n",
       "      <td>0</td>\n",
       "      <td>0</td>\n",
       "      <td>9</td>\n",
       "      <td>9</td>\n",
       "      <td>0.000000</td>\n",
       "      <td>0.000000</td>\n",
       "      <td>1.000000</td>\n",
       "      <td>9</td>\n",
       "      <td>9</td>\n",
       "      <td>0</td>\n",
       "      <td>165759</td>\n",
       "      <td>539943</td>\n",
       "      <td>1675113</td>\n",
       "      <td>2608023</td>\n",
       "      <td>2442264</td>\n",
       "      <td>2068080</td>\n",
       "      <td>932910</td>\n",
       "    </tr>\n",
       "    <tr>\n",
       "      <th>060014001001011</th>\n",
       "      <td>0</td>\n",
       "      <td>0</td>\n",
       "      <td>6</td>\n",
       "      <td>6</td>\n",
       "      <td>0.000000</td>\n",
       "      <td>0.000000</td>\n",
       "      <td>1.000000</td>\n",
       "      <td>6</td>\n",
       "      <td>6</td>\n",
       "      <td>0</td>\n",
       "      <td>165759</td>\n",
       "      <td>539943</td>\n",
       "      <td>1675113</td>\n",
       "      <td>2608023</td>\n",
       "      <td>2442264</td>\n",
       "      <td>2068080</td>\n",
       "      <td>932910</td>\n",
       "    </tr>\n",
       "    <tr>\n",
       "      <th>060014001001013</th>\n",
       "      <td>1</td>\n",
       "      <td>0</td>\n",
       "      <td>0</td>\n",
       "      <td>1</td>\n",
       "      <td>1.000000</td>\n",
       "      <td>0.000000</td>\n",
       "      <td>0.000000</td>\n",
       "      <td>0</td>\n",
       "      <td>1</td>\n",
       "      <td>1</td>\n",
       "      <td>165759</td>\n",
       "      <td>539943</td>\n",
       "      <td>1675113</td>\n",
       "      <td>2608023</td>\n",
       "      <td>2442264</td>\n",
       "      <td>2068080</td>\n",
       "      <td>932910</td>\n",
       "    </tr>\n",
       "    <tr>\n",
       "      <th>060014001001014</th>\n",
       "      <td>1</td>\n",
       "      <td>1</td>\n",
       "      <td>8</td>\n",
       "      <td>10</td>\n",
       "      <td>0.100000</td>\n",
       "      <td>0.100000</td>\n",
       "      <td>0.800000</td>\n",
       "      <td>9</td>\n",
       "      <td>9</td>\n",
       "      <td>2</td>\n",
       "      <td>165759</td>\n",
       "      <td>539943</td>\n",
       "      <td>1675113</td>\n",
       "      <td>2608023</td>\n",
       "      <td>2442264</td>\n",
       "      <td>2068080</td>\n",
       "      <td>932910</td>\n",
       "    </tr>\n",
       "    <tr>\n",
       "      <th>060014001001015</th>\n",
       "      <td>2</td>\n",
       "      <td>0</td>\n",
       "      <td>10</td>\n",
       "      <td>12</td>\n",
       "      <td>0.166667</td>\n",
       "      <td>0.000000</td>\n",
       "      <td>0.833333</td>\n",
       "      <td>10</td>\n",
       "      <td>12</td>\n",
       "      <td>2</td>\n",
       "      <td>165759</td>\n",
       "      <td>539943</td>\n",
       "      <td>1675113</td>\n",
       "      <td>2608023</td>\n",
       "      <td>2442264</td>\n",
       "      <td>2068080</td>\n",
       "      <td>932910</td>\n",
       "    </tr>\n",
       "    <tr>\n",
       "      <th>060014001001017</th>\n",
       "      <td>0</td>\n",
       "      <td>2</td>\n",
       "      <td>5</td>\n",
       "      <td>7</td>\n",
       "      <td>0.000000</td>\n",
       "      <td>0.285714</td>\n",
       "      <td>0.714286</td>\n",
       "      <td>7</td>\n",
       "      <td>5</td>\n",
       "      <td>2</td>\n",
       "      <td>165759</td>\n",
       "      <td>539943</td>\n",
       "      <td>1675113</td>\n",
       "      <td>2608023</td>\n",
       "      <td>2442264</td>\n",
       "      <td>2068080</td>\n",
       "      <td>932910</td>\n",
       "    </tr>\n",
       "    <tr>\n",
       "      <th>060014001001024</th>\n",
       "      <td>15</td>\n",
       "      <td>19</td>\n",
       "      <td>104</td>\n",
       "      <td>138</td>\n",
       "      <td>0.108696</td>\n",
       "      <td>0.137681</td>\n",
       "      <td>0.753623</td>\n",
       "      <td>123</td>\n",
       "      <td>119</td>\n",
       "      <td>34</td>\n",
       "      <td>165759</td>\n",
       "      <td>539943</td>\n",
       "      <td>1675113</td>\n",
       "      <td>2608023</td>\n",
       "      <td>2442264</td>\n",
       "      <td>2068080</td>\n",
       "      <td>932910</td>\n",
       "    </tr>\n",
       "    <tr>\n",
       "      <th>060014001001026</th>\n",
       "      <td>5</td>\n",
       "      <td>8</td>\n",
       "      <td>56</td>\n",
       "      <td>69</td>\n",
       "      <td>0.072464</td>\n",
       "      <td>0.115942</td>\n",
       "      <td>0.811594</td>\n",
       "      <td>64</td>\n",
       "      <td>61</td>\n",
       "      <td>13</td>\n",
       "      <td>165759</td>\n",
       "      <td>539943</td>\n",
       "      <td>1675113</td>\n",
       "      <td>2608023</td>\n",
       "      <td>2442264</td>\n",
       "      <td>2068080</td>\n",
       "      <td>932910</td>\n",
       "    </tr>\n",
       "    <tr>\n",
       "      <th>060014001001027</th>\n",
       "      <td>5</td>\n",
       "      <td>11</td>\n",
       "      <td>42</td>\n",
       "      <td>58</td>\n",
       "      <td>0.086207</td>\n",
       "      <td>0.189655</td>\n",
       "      <td>0.724138</td>\n",
       "      <td>53</td>\n",
       "      <td>47</td>\n",
       "      <td>16</td>\n",
       "      <td>165759</td>\n",
       "      <td>539943</td>\n",
       "      <td>1675113</td>\n",
       "      <td>2608023</td>\n",
       "      <td>2442264</td>\n",
       "      <td>2068080</td>\n",
       "      <td>932910</td>\n",
       "    </tr>\n",
       "  </tbody>\n",
       "</table>\n",
       "</div>"
      ],
      "text/plain": [
       "                 black_bl  asian_bl  white_bl  total_hh_bl  prop_black_bl  \\\n",
       "block_id                                                                    \n",
       "060014001001007        11         4        38           53       0.207547   \n",
       "060014001001008         0         0         9            9       0.000000   \n",
       "060014001001011         0         0         6            6       0.000000   \n",
       "060014001001013         1         0         0            1       1.000000   \n",
       "060014001001014         1         1         8           10       0.100000   \n",
       "060014001001015         2         0        10           12       0.166667   \n",
       "060014001001017         0         2         5            7       0.000000   \n",
       "060014001001024        15        19       104          138       0.108696   \n",
       "060014001001026         5         8        56           69       0.072464   \n",
       "060014001001027         5        11        42           58       0.086207   \n",
       "\n",
       "                 prop_asian_bl  prop_white_bl  non_black_bl  non_asian_bl  \\\n",
       "block_id                                                                    \n",
       "060014001001007       0.075472       0.716981            42            49   \n",
       "060014001001008       0.000000       1.000000             9             9   \n",
       "060014001001011       0.000000       1.000000             6             6   \n",
       "060014001001013       0.000000       0.000000             0             1   \n",
       "060014001001014       0.100000       0.800000             9             9   \n",
       "060014001001015       0.000000       0.833333            10            12   \n",
       "060014001001017       0.285714       0.714286             7             5   \n",
       "060014001001024       0.137681       0.753623           123           119   \n",
       "060014001001026       0.115942       0.811594            64            61   \n",
       "060014001001027       0.189655       0.724138            53            47   \n",
       "\n",
       "                 non_white_bl  black_region  asian_region  white_region  \\\n",
       "block_id                                                                  \n",
       "060014001001007            15        165759        539943       1675113   \n",
       "060014001001008             0        165759        539943       1675113   \n",
       "060014001001011             0        165759        539943       1675113   \n",
       "060014001001013             1        165759        539943       1675113   \n",
       "060014001001014             2        165759        539943       1675113   \n",
       "060014001001015             2        165759        539943       1675113   \n",
       "060014001001017             2        165759        539943       1675113   \n",
       "060014001001024            34        165759        539943       1675113   \n",
       "060014001001026            13        165759        539943       1675113   \n",
       "060014001001027            16        165759        539943       1675113   \n",
       "\n",
       "                 total_hh_region  non_black_region  non_asian_region  \\\n",
       "block_id                                                               \n",
       "060014001001007          2608023           2442264           2068080   \n",
       "060014001001008          2608023           2442264           2068080   \n",
       "060014001001011          2608023           2442264           2068080   \n",
       "060014001001013          2608023           2442264           2068080   \n",
       "060014001001014          2608023           2442264           2068080   \n",
       "060014001001015          2608023           2442264           2068080   \n",
       "060014001001017          2608023           2442264           2068080   \n",
       "060014001001024          2608023           2442264           2068080   \n",
       "060014001001026          2608023           2442264           2068080   \n",
       "060014001001027          2608023           2442264           2068080   \n",
       "\n",
       "                 non_white_region  \n",
       "block_id                           \n",
       "060014001001007            932910  \n",
       "060014001001008            932910  \n",
       "060014001001011            932910  \n",
       "060014001001013            932910  \n",
       "060014001001014            932910  \n",
       "060014001001015            932910  \n",
       "060014001001017            932910  \n",
       "060014001001024            932910  \n",
       "060014001001026            932910  \n",
       "060014001001027            932910  "
      ]
     },
     "execution_count": 14,
     "metadata": {},
     "output_type": "execute_result"
    }
   ],
   "source": [
    "# add variables we need to compute the metrics\n",
    "\n",
    "df['prop_black_bl']=df['black_bl']/df['total_hh_bl']\n",
    "df['prop_asian_bl']=df['asian_bl']/df['total_hh_bl']\n",
    "df['prop_white_bl']=df['white_bl']/df['total_hh_bl']\n",
    "\n",
    "df['non_black_bl']= df['total_hh_bl']-df['black_bl']\n",
    "df['non_asian_bl']= df['total_hh_bl']-df['asian_bl']\n",
    "df['non_white_bl']= df['total_hh_bl']-df['white_bl']\n",
    "\n",
    "df['black_region']=len(households_syn[households_syn['black_bl']>0])\n",
    "df['asian_region']=len(households_syn[households_syn['asian_bl']>0])\n",
    "df['white_region']=len(households_syn[households_syn['white_bl']>0])\n",
    "\n",
    "df['total_hh_region']= len(households_syn['asian_bl'])\n",
    "\n",
    "df['non_black_region']= df['total_hh_region']-df['black_region']\n",
    "df['non_asian_region']= df['total_hh_region']-df['asian_region']\n",
    "df['non_white_region']= df['total_hh_region']-df['white_region']\n",
    "\n",
    "df.head(10)\n"
   ]
  },
  {
   "cell_type": "code",
   "execution_count": 15,
   "metadata": {},
   "outputs": [
    {
     "data": {
      "text/html": [
       "<div>\n",
       "<style>\n",
       "    .dataframe thead tr:only-child th {\n",
       "        text-align: right;\n",
       "    }\n",
       "\n",
       "    .dataframe thead th {\n",
       "        text-align: left;\n",
       "    }\n",
       "\n",
       "    .dataframe tbody tr th {\n",
       "        vertical-align: top;\n",
       "    }\n",
       "</style>\n",
       "<table border=\"1\" class=\"dataframe\">\n",
       "  <thead>\n",
       "    <tr style=\"text-align: right;\">\n",
       "      <th></th>\n",
       "      <th>black_bl</th>\n",
       "      <th>asian_bl</th>\n",
       "      <th>white_bl</th>\n",
       "      <th>total_hh_bl</th>\n",
       "      <th>prop_black_bl</th>\n",
       "      <th>prop_asian_bl</th>\n",
       "      <th>prop_white_bl</th>\n",
       "      <th>non_black_bl</th>\n",
       "      <th>non_asian_bl</th>\n",
       "      <th>non_white_bl</th>\n",
       "      <th>black_region</th>\n",
       "      <th>asian_region</th>\n",
       "      <th>white_region</th>\n",
       "      <th>total_hh_region</th>\n",
       "      <th>non_black_region</th>\n",
       "      <th>non_asian_region</th>\n",
       "      <th>non_white_region</th>\n",
       "    </tr>\n",
       "    <tr>\n",
       "      <th>block_id</th>\n",
       "      <th></th>\n",
       "      <th></th>\n",
       "      <th></th>\n",
       "      <th></th>\n",
       "      <th></th>\n",
       "      <th></th>\n",
       "      <th></th>\n",
       "      <th></th>\n",
       "      <th></th>\n",
       "      <th></th>\n",
       "      <th></th>\n",
       "      <th></th>\n",
       "      <th></th>\n",
       "      <th></th>\n",
       "      <th></th>\n",
       "      <th></th>\n",
       "      <th></th>\n",
       "    </tr>\n",
       "  </thead>\n",
       "  <tbody>\n",
       "    <tr>\n",
       "      <th>060014001001007</th>\n",
       "      <td>0</td>\n",
       "      <td>0</td>\n",
       "      <td>4</td>\n",
       "      <td>4</td>\n",
       "      <td>0.0</td>\n",
       "      <td>0.000000</td>\n",
       "      <td>1.000000</td>\n",
       "      <td>4</td>\n",
       "      <td>4</td>\n",
       "      <td>0</td>\n",
       "      <td>33054</td>\n",
       "      <td>109501</td>\n",
       "      <td>263999</td>\n",
       "      <td>456820</td>\n",
       "      <td>423766</td>\n",
       "      <td>347319</td>\n",
       "      <td>192821</td>\n",
       "    </tr>\n",
       "    <tr>\n",
       "      <th>060014001001011</th>\n",
       "      <td>0</td>\n",
       "      <td>0</td>\n",
       "      <td>1</td>\n",
       "      <td>1</td>\n",
       "      <td>0.0</td>\n",
       "      <td>0.000000</td>\n",
       "      <td>1.000000</td>\n",
       "      <td>1</td>\n",
       "      <td>1</td>\n",
       "      <td>0</td>\n",
       "      <td>33054</td>\n",
       "      <td>109501</td>\n",
       "      <td>263999</td>\n",
       "      <td>456820</td>\n",
       "      <td>423766</td>\n",
       "      <td>347319</td>\n",
       "      <td>192821</td>\n",
       "    </tr>\n",
       "    <tr>\n",
       "      <th>060014001001015</th>\n",
       "      <td>0</td>\n",
       "      <td>0</td>\n",
       "      <td>1</td>\n",
       "      <td>1</td>\n",
       "      <td>0.0</td>\n",
       "      <td>0.000000</td>\n",
       "      <td>1.000000</td>\n",
       "      <td>1</td>\n",
       "      <td>1</td>\n",
       "      <td>0</td>\n",
       "      <td>33054</td>\n",
       "      <td>109501</td>\n",
       "      <td>263999</td>\n",
       "      <td>456820</td>\n",
       "      <td>423766</td>\n",
       "      <td>347319</td>\n",
       "      <td>192821</td>\n",
       "    </tr>\n",
       "    <tr>\n",
       "      <th>060014001001017</th>\n",
       "      <td>0</td>\n",
       "      <td>0</td>\n",
       "      <td>2</td>\n",
       "      <td>2</td>\n",
       "      <td>0.0</td>\n",
       "      <td>0.000000</td>\n",
       "      <td>1.000000</td>\n",
       "      <td>2</td>\n",
       "      <td>2</td>\n",
       "      <td>0</td>\n",
       "      <td>33054</td>\n",
       "      <td>109501</td>\n",
       "      <td>263999</td>\n",
       "      <td>456820</td>\n",
       "      <td>423766</td>\n",
       "      <td>347319</td>\n",
       "      <td>192821</td>\n",
       "    </tr>\n",
       "    <tr>\n",
       "      <th>060014001001024</th>\n",
       "      <td>0</td>\n",
       "      <td>0</td>\n",
       "      <td>3</td>\n",
       "      <td>3</td>\n",
       "      <td>0.0</td>\n",
       "      <td>0.000000</td>\n",
       "      <td>1.000000</td>\n",
       "      <td>3</td>\n",
       "      <td>3</td>\n",
       "      <td>0</td>\n",
       "      <td>33054</td>\n",
       "      <td>109501</td>\n",
       "      <td>263999</td>\n",
       "      <td>456820</td>\n",
       "      <td>423766</td>\n",
       "      <td>347319</td>\n",
       "      <td>192821</td>\n",
       "    </tr>\n",
       "    <tr>\n",
       "      <th>060014001001026</th>\n",
       "      <td>0</td>\n",
       "      <td>1</td>\n",
       "      <td>4</td>\n",
       "      <td>5</td>\n",
       "      <td>0.0</td>\n",
       "      <td>0.200000</td>\n",
       "      <td>0.800000</td>\n",
       "      <td>5</td>\n",
       "      <td>4</td>\n",
       "      <td>1</td>\n",
       "      <td>33054</td>\n",
       "      <td>109501</td>\n",
       "      <td>263999</td>\n",
       "      <td>456820</td>\n",
       "      <td>423766</td>\n",
       "      <td>347319</td>\n",
       "      <td>192821</td>\n",
       "    </tr>\n",
       "    <tr>\n",
       "      <th>060014001001027</th>\n",
       "      <td>0</td>\n",
       "      <td>3</td>\n",
       "      <td>2</td>\n",
       "      <td>5</td>\n",
       "      <td>0.0</td>\n",
       "      <td>0.600000</td>\n",
       "      <td>0.400000</td>\n",
       "      <td>5</td>\n",
       "      <td>2</td>\n",
       "      <td>3</td>\n",
       "      <td>33054</td>\n",
       "      <td>109501</td>\n",
       "      <td>263999</td>\n",
       "      <td>456820</td>\n",
       "      <td>423766</td>\n",
       "      <td>347319</td>\n",
       "      <td>192821</td>\n",
       "    </tr>\n",
       "    <tr>\n",
       "      <th>060014001001032</th>\n",
       "      <td>0</td>\n",
       "      <td>0</td>\n",
       "      <td>1</td>\n",
       "      <td>1</td>\n",
       "      <td>0.0</td>\n",
       "      <td>0.000000</td>\n",
       "      <td>1.000000</td>\n",
       "      <td>1</td>\n",
       "      <td>1</td>\n",
       "      <td>0</td>\n",
       "      <td>33054</td>\n",
       "      <td>109501</td>\n",
       "      <td>263999</td>\n",
       "      <td>456820</td>\n",
       "      <td>423766</td>\n",
       "      <td>347319</td>\n",
       "      <td>192821</td>\n",
       "    </tr>\n",
       "    <tr>\n",
       "      <th>060014001001033</th>\n",
       "      <td>0</td>\n",
       "      <td>1</td>\n",
       "      <td>2</td>\n",
       "      <td>3</td>\n",
       "      <td>0.0</td>\n",
       "      <td>0.333333</td>\n",
       "      <td>0.666667</td>\n",
       "      <td>3</td>\n",
       "      <td>2</td>\n",
       "      <td>1</td>\n",
       "      <td>33054</td>\n",
       "      <td>109501</td>\n",
       "      <td>263999</td>\n",
       "      <td>456820</td>\n",
       "      <td>423766</td>\n",
       "      <td>347319</td>\n",
       "      <td>192821</td>\n",
       "    </tr>\n",
       "    <tr>\n",
       "      <th>060014001001036</th>\n",
       "      <td>0</td>\n",
       "      <td>1</td>\n",
       "      <td>5</td>\n",
       "      <td>6</td>\n",
       "      <td>0.0</td>\n",
       "      <td>0.166667</td>\n",
       "      <td>0.833333</td>\n",
       "      <td>6</td>\n",
       "      <td>5</td>\n",
       "      <td>1</td>\n",
       "      <td>33054</td>\n",
       "      <td>109501</td>\n",
       "      <td>263999</td>\n",
       "      <td>456820</td>\n",
       "      <td>423766</td>\n",
       "      <td>347319</td>\n",
       "      <td>192821</td>\n",
       "    </tr>\n",
       "  </tbody>\n",
       "</table>\n",
       "</div>"
      ],
      "text/plain": [
       "                 black_bl  asian_bl  white_bl  total_hh_bl  prop_black_bl  \\\n",
       "block_id                                                                    \n",
       "060014001001007         0         0         4            4            0.0   \n",
       "060014001001011         0         0         1            1            0.0   \n",
       "060014001001015         0         0         1            1            0.0   \n",
       "060014001001017         0         0         2            2            0.0   \n",
       "060014001001024         0         0         3            3            0.0   \n",
       "060014001001026         0         1         4            5            0.0   \n",
       "060014001001027         0         3         2            5            0.0   \n",
       "060014001001032         0         0         1            1            0.0   \n",
       "060014001001033         0         1         2            3            0.0   \n",
       "060014001001036         0         1         5            6            0.0   \n",
       "\n",
       "                 prop_asian_bl  prop_white_bl  non_black_bl  non_asian_bl  \\\n",
       "block_id                                                                    \n",
       "060014001001007       0.000000       1.000000             4             4   \n",
       "060014001001011       0.000000       1.000000             1             1   \n",
       "060014001001015       0.000000       1.000000             1             1   \n",
       "060014001001017       0.000000       1.000000             2             2   \n",
       "060014001001024       0.000000       1.000000             3             3   \n",
       "060014001001026       0.200000       0.800000             5             4   \n",
       "060014001001027       0.600000       0.400000             5             2   \n",
       "060014001001032       0.000000       1.000000             1             1   \n",
       "060014001001033       0.333333       0.666667             3             2   \n",
       "060014001001036       0.166667       0.833333             6             5   \n",
       "\n",
       "                 non_white_bl  black_region  asian_region  white_region  \\\n",
       "block_id                                                                  \n",
       "060014001001007             0         33054        109501        263999   \n",
       "060014001001011             0         33054        109501        263999   \n",
       "060014001001015             0         33054        109501        263999   \n",
       "060014001001017             0         33054        109501        263999   \n",
       "060014001001024             0         33054        109501        263999   \n",
       "060014001001026             1         33054        109501        263999   \n",
       "060014001001027             3         33054        109501        263999   \n",
       "060014001001032             0         33054        109501        263999   \n",
       "060014001001033             1         33054        109501        263999   \n",
       "060014001001036             1         33054        109501        263999   \n",
       "\n",
       "                 total_hh_region  non_black_region  non_asian_region  \\\n",
       "block_id                                                               \n",
       "060014001001007           456820            423766            347319   \n",
       "060014001001011           456820            423766            347319   \n",
       "060014001001015           456820            423766            347319   \n",
       "060014001001017           456820            423766            347319   \n",
       "060014001001024           456820            423766            347319   \n",
       "060014001001026           456820            423766            347319   \n",
       "060014001001027           456820            423766            347319   \n",
       "060014001001032           456820            423766            347319   \n",
       "060014001001033           456820            423766            347319   \n",
       "060014001001036           456820            423766            347319   \n",
       "\n",
       "                 non_white_region  \n",
       "block_id                           \n",
       "060014001001007            192821  \n",
       "060014001001011            192821  \n",
       "060014001001015            192821  \n",
       "060014001001017            192821  \n",
       "060014001001024            192821  \n",
       "060014001001026            192821  \n",
       "060014001001027            192821  \n",
       "060014001001032            192821  \n",
       "060014001001033            192821  \n",
       "060014001001036            192821  "
      ]
     },
     "execution_count": 15,
     "metadata": {},
     "output_type": "execute_result"
    }
   ],
   "source": [
    "# Doing the above computations for recentmovers\n",
    "\n",
    "df_rm['prop_black_bl']=df_rm['black_bl']/df_rm['total_hh_bl']\n",
    "df_rm['prop_asian_bl']=df_rm['asian_bl']/df_rm['total_hh_bl']\n",
    "df_rm['prop_white_bl']=df_rm['white_bl']/df_rm['total_hh_bl']\n",
    "\n",
    "df_rm['non_black_bl']= df_rm['total_hh_bl']-df_rm['black_bl']\n",
    "df_rm['non_asian_bl']= df_rm['total_hh_bl']-df_rm['asian_bl']\n",
    "df_rm['non_white_bl']= df_rm['total_hh_bl']-df_rm['white_bl']\n",
    "\n",
    "df_rm['black_region']=len(households_syn_rm[households_syn_rm['black_bl']>0])\n",
    "df_rm['asian_region']=len(households_syn_rm[households_syn_rm['asian_bl']>0])\n",
    "df_rm['white_region']=len(households_syn_rm[households_syn_rm['white_bl']>0])\n",
    "\n",
    "df_rm['total_hh_region']= len(households_syn_rm['asian_bl'])\n",
    "\n",
    "df_rm['non_black_region']= df_rm['total_hh_region']-df_rm['black_region']\n",
    "df_rm['non_asian_region']= df_rm['total_hh_region']-df_rm['asian_region']\n",
    "df_rm['non_white_region']= df_rm['total_hh_region']-df_rm['white_region']\n",
    "\n",
    "df_rm.head(10)"
   ]
  },
  {
   "cell_type": "markdown",
   "metadata": {},
   "source": [
    "# First dimention | EVENNESS *******"
   ]
  },
  {
   "cell_type": "markdown",
   "metadata": {},
   "source": [
    "# 1. Index of dissimilarity "
   ]
  },
  {
   "cell_type": "code",
   "execution_count": 16,
   "metadata": {},
   "outputs": [],
   "source": [
    "def dissimilarity(df, wi, W, bi, B):\n",
    "    df['dissimilarity'] = (\n",
    "        abs((df[wi]/df[W])\n",
    "            - (df[bi]/df[B])))\n",
    "    return (df['dissimilarity'].sum())/2"
   ]
  },
  {
   "cell_type": "markdown",
   "metadata": {},
   "source": [
    "## Black Pop\n"
   ]
  },
  {
   "cell_type": "code",
   "execution_count": 17,
   "metadata": {
    "scrolled": true
   },
   "outputs": [
    {
     "name": "stdout",
     "output_type": "stream",
     "text": [
      "0.6460062334246468\n",
      "0.7084308861824553\n"
     ]
    }
   ],
   "source": [
    "segregation = [\n",
    "    (df, 'non_black_bl', 'non_black_region', 'black_bl', 'black_region'),\n",
    "    (df_rm,'non_black_bl', 'non_black_region', 'black_bl', 'black_region') \n",
    "]\n",
    "\n",
    "for pop in segregation:\n",
    "    print (dissimilarity(*pop))"
   ]
  },
  {
   "cell_type": "markdown",
   "metadata": {},
   "source": [
    "## Asian Pop "
   ]
  },
  {
   "cell_type": "code",
   "execution_count": 18,
   "metadata": {},
   "outputs": [
    {
     "name": "stdout",
     "output_type": "stream",
     "text": [
      "0.4782179821752573\n",
      "0.5484724123671096\n"
     ]
    }
   ],
   "source": [
    "segregation = [\n",
    "    (df, 'non_asian_bl', 'non_asian_region', 'asian_bl', 'asian_region'),\n",
    "    (df_rm,'non_asian_bl', 'non_asian_region', 'asian_bl', 'asian_region') \n",
    "]\n",
    "\n",
    "for pop in segregation:\n",
    "    print (dissimilarity(*pop))"
   ]
  },
  {
   "cell_type": "markdown",
   "metadata": {
    "collapsed": true
   },
   "source": [
    "## White Pop"
   ]
  },
  {
   "cell_type": "code",
   "execution_count": 19,
   "metadata": {
    "scrolled": true
   },
   "outputs": [
    {
     "name": "stdout",
     "output_type": "stream",
     "text": [
      "0.4335258866309274\n",
      "0.4783362761684912\n"
     ]
    }
   ],
   "source": [
    "segregation = [\n",
    "    (df, 'non_white_bl', 'non_white_region', 'white_bl', 'white_region'),\n",
    "    (df_rm,'non_white_bl', 'non_white_region', 'white_bl', 'white_region') \n",
    "]\n",
    "\n",
    "for pop in segregation:\n",
    "    print (dissimilarity(*pop))"
   ]
  },
  {
   "cell_type": "markdown",
   "metadata": {},
   "source": [
    "## Interpretation"
   ]
  },
  {
   "cell_type": "markdown",
   "metadata": {},
   "source": [
    "Value of D represents the proportion of a group that would need to move in order to create a\n",
    "uniform distribution of population. In our case, for instance, 64% of Black households  would need to\n",
    "move in order to achieve a uniform distribution of population by race.\n",
    "• The value of D is a maximum when each block contains only one group; it is minimized (0)\n",
    "when the proportion of each group in each block is the same as the proportion in the\n",
    "population as a whole."
   ]
  },
  {
   "cell_type": "markdown",
   "metadata": {},
   "source": [
    "# 2. Entropy "
   ]
  },
  {
   "cell_type": "markdown",
   "metadata": {},
   "source": [
    "A Multi-groups index\n"
   ]
  },
  {
   "cell_type": "code",
   "execution_count": 20,
   "metadata": {},
   "outputs": [],
   "source": [
    "def entropy(df, pbi, pwi, pai):\n",
    "    df['entropy'] = abs(\n",
    "        (df[pbi]*np.log1p(df[pbi]))\n",
    "            +(df[pwi]*np.log1p(df[pwi]))\n",
    "            +(df[pai]*np.log1p(df[pai]))\n",
    "             )\n",
    "    return df['entropy']"
   ]
  },
  {
   "cell_type": "code",
   "execution_count": 21,
   "metadata": {},
   "outputs": [
    {
     "name": "stdout",
     "output_type": "stream",
     "text": [
      "block_id\n",
      "060014001001007    0.432210\n",
      "060014001001008    0.693147\n",
      "060014001001011    0.693147\n",
      "060014001001013    0.693147\n",
      "060014001001014    0.489291\n",
      "060014001001015    0.530805\n",
      "060014001001017    0.456802\n",
      "060014001001024    0.452274\n",
      "060014001001026    0.500043\n",
      "060014001001027    0.434522\n",
      "060014001001028    0.693147\n",
      "060014001001029    0.693147\n",
      "060014001001032    0.436444\n",
      "060014001001033    0.475407\n",
      "060014001001034    0.603042\n",
      "060014001001036    0.479208\n",
      "060014001001037    0.492099\n",
      "060014001001038    0.497177\n",
      "060014001001039    0.517165\n",
      "060014001001040    0.549681\n",
      "Name: entropy, dtype: float64\n"
     ]
    }
   ],
   "source": [
    "print (entropy(df,'prop_black_bl','prop_white_bl','prop_asian_bl').head(20))"
   ]
  },
  {
   "cell_type": "code",
   "execution_count": 22,
   "metadata": {},
   "outputs": [],
   "source": [
    "def test(series):\n",
    "    result = math.log(series)\n",
    "    result.fillna(0)\n",
    "    return result"
   ]
  },
  {
   "cell_type": "code",
   "execution_count": 23,
   "metadata": {},
   "outputs": [
    {
     "data": {
      "text/plain": [
       "block_id\n",
       "060014001001007    0.039142\n",
       "060014001001008    0.000000\n",
       "060014001001011    0.000000\n",
       "060014001001013    0.693147\n",
       "060014001001014    0.009531\n",
       "Name: prop_black_bl, dtype: float64"
      ]
     },
     "execution_count": 23,
     "metadata": {},
     "output_type": "execute_result"
    }
   ],
   "source": [
    "(\n",
    "    np.log1p(df['prop_black_bl']).head().replace([-np.inf, np.inf],0)\n",
    " * df['prop_black_bl'].head()\n",
    ")"
   ]
  },
  {
   "cell_type": "code",
   "execution_count": 24,
   "metadata": {},
   "outputs": [],
   "source": [
    "def entropy(df, pbi, pwi, pai):\n",
    "    df['entropy'] = abs(\n",
    "        (df[pbi]*np.log1p(df[pbi]).replace(-np.inf,0))\n",
    "            +(df[pwi]*np.log1p(df[pwi]).replace(-np.inf,0))\n",
    "            +(df[pai]*np.log1p(df[pai]).replace(-np.inf,0))\n",
    "             )\n",
    "    return df['entropy']"
   ]
  },
  {
   "cell_type": "code",
   "execution_count": 25,
   "metadata": {
    "scrolled": true
   },
   "outputs": [
    {
     "name": "stdout",
     "output_type": "stream",
     "text": [
      "block_id\n",
      "060014001001007    0.432210\n",
      "060014001001008    0.693147\n",
      "060014001001011    0.693147\n",
      "060014001001013    0.693147\n",
      "060014001001014    0.489291\n",
      "060014001001015    0.530805\n",
      "060014001001017    0.456802\n",
      "060014001001024    0.452274\n",
      "060014001001026    0.500043\n",
      "060014001001027    0.434522\n",
      "Name: entropy, dtype: float64\n"
     ]
    }
   ],
   "source": [
    "print (entropy(df,'prop_black_bl','prop_white_bl','prop_asian_bl').head(10))"
   ]
  },
  {
   "cell_type": "code",
   "execution_count": 26,
   "metadata": {
    "scrolled": true
   },
   "outputs": [
    {
     "name": "stdout",
     "output_type": "stream",
     "text": [
      "block_id\n",
      "060014001001007    0.693147\n",
      "060014001001011    0.693147\n",
      "060014001001015    0.693147\n",
      "060014001001017    0.693147\n",
      "060014001001024    0.693147\n",
      "060014001001026    0.506694\n",
      "060014001001027    0.416591\n",
      "060014001001032    0.693147\n",
      "060014001001033    0.436444\n",
      "060014001001036    0.530805\n",
      "Name: entropy, dtype: float64\n"
     ]
    }
   ],
   "source": [
    "print (entropy(df_rm,'prop_black_bl','prop_white_bl','prop_asian_bl').head(10))"
   ]
  },
  {
   "cell_type": "markdown",
   "metadata": {},
   "source": [
    "## Interpretation"
   ]
  },
  {
   "cell_type": "markdown",
   "metadata": {},
   "source": [
    "Blocks with higher values of Entropy are more diverse.\n",
    "\n",
    "• A Block with Entropy =1.10 would have equal proportions of all groups (33.3 % each).\n",
    "• A Block with E = 0 contains only a single group.\n",
    "Or \n",
    "• Blocks with higher values of E have less uniform ethnic distributions. Blocks with lower\n",
    "values of E have more uniform ethnic distributions."
   ]
  },
  {
   "cell_type": "markdown",
   "metadata": {
    "collapsed": true
   },
   "source": [
    "# 3. Location quotient "
   ]
  },
  {
   "cell_type": "code",
   "execution_count": 27,
   "metadata": {},
   "outputs": [],
   "source": [
    "def LQ(df, bi,Ti,B,T):\n",
    "    df['LQ'] = (\n",
    "        (df[bi]/df[Ti])\n",
    "         / (df[B]/df[T])\n",
    "             )\n",
    "    return df['LQ']"
   ]
  },
  {
   "cell_type": "markdown",
   "metadata": {},
   "source": [
    "## Interpretation:\n",
    "    \n",
    "    Blocks with LQ>1 the block has a higher than average concentration of Black households."
   ]
  },
  {
   "cell_type": "markdown",
   "metadata": {},
   "source": [
    "## Black"
   ]
  },
  {
   "cell_type": "code",
   "execution_count": 28,
   "metadata": {},
   "outputs": [
    {
     "name": "stdout",
     "output_type": "stream",
     "text": [
      "0.05    0.000000\n",
      "0.50    0.000000\n",
      "0.75    0.832967\n",
      "0.85    1.936471\n",
      "0.90    3.146765\n",
      "0.95    5.244608\n",
      "0.97    7.138892\n",
      "Name: LQ, dtype: float64\n"
     ]
    }
   ],
   "source": [
    "df_black= df.copy()\n",
    "print (LQ(df_black,'black_bl','total_hh_bl','black_region','total_hh_region').quantile([0.05,0.5,0.75,.85,.9,.95,.97]))"
   ]
  },
  {
   "cell_type": "code",
   "execution_count": 29,
   "metadata": {
    "scrolled": true
   },
   "outputs": [
    {
     "data": {
      "text/html": [
       "<div>\n",
       "<style>\n",
       "    .dataframe thead tr:only-child th {\n",
       "        text-align: right;\n",
       "    }\n",
       "\n",
       "    .dataframe thead th {\n",
       "        text-align: left;\n",
       "    }\n",
       "\n",
       "    .dataframe tbody tr th {\n",
       "        vertical-align: top;\n",
       "    }\n",
       "</style>\n",
       "<table border=\"1\" class=\"dataframe\">\n",
       "  <thead>\n",
       "    <tr style=\"text-align: right;\">\n",
       "      <th></th>\n",
       "      <th>serialno</th>\n",
       "      <th>persons</th>\n",
       "      <th>cars</th>\n",
       "      <th>income</th>\n",
       "      <th>race_of_head</th>\n",
       "      <th>age_of_head</th>\n",
       "      <th>workers</th>\n",
       "      <th>children</th>\n",
       "      <th>tenure</th>\n",
       "      <th>recent_mover</th>\n",
       "      <th>...</th>\n",
       "      <th>black_region</th>\n",
       "      <th>asian_region</th>\n",
       "      <th>white_region</th>\n",
       "      <th>total_hh_region</th>\n",
       "      <th>non_black_region</th>\n",
       "      <th>non_asian_region</th>\n",
       "      <th>non_white_region</th>\n",
       "      <th>dissimilarity</th>\n",
       "      <th>entropy</th>\n",
       "      <th>LQ</th>\n",
       "    </tr>\n",
       "    <tr>\n",
       "      <th>b'household_id'</th>\n",
       "      <th></th>\n",
       "      <th></th>\n",
       "      <th></th>\n",
       "      <th></th>\n",
       "      <th></th>\n",
       "      <th></th>\n",
       "      <th></th>\n",
       "      <th></th>\n",
       "      <th></th>\n",
       "      <th></th>\n",
       "      <th></th>\n",
       "      <th></th>\n",
       "      <th></th>\n",
       "      <th></th>\n",
       "      <th></th>\n",
       "      <th></th>\n",
       "      <th></th>\n",
       "      <th></th>\n",
       "      <th></th>\n",
       "      <th></th>\n",
       "      <th></th>\n",
       "    </tr>\n",
       "  </thead>\n",
       "  <tbody>\n",
       "    <tr>\n",
       "      <th>1</th>\n",
       "      <td>2.011001e+12</td>\n",
       "      <td>1</td>\n",
       "      <td>1</td>\n",
       "      <td>131000</td>\n",
       "      <td>1</td>\n",
       "      <td>64</td>\n",
       "      <td>0</td>\n",
       "      <td>0</td>\n",
       "      <td>1</td>\n",
       "      <td>0</td>\n",
       "      <td>...</td>\n",
       "      <td>165759</td>\n",
       "      <td>539943</td>\n",
       "      <td>1675113</td>\n",
       "      <td>2608023</td>\n",
       "      <td>2442264</td>\n",
       "      <td>2068080</td>\n",
       "      <td>932910</td>\n",
       "      <td>0.000008</td>\n",
       "      <td>0.476201</td>\n",
       "      <td>2.622304</td>\n",
       "    </tr>\n",
       "    <tr>\n",
       "      <th>2</th>\n",
       "      <td>2.013001e+12</td>\n",
       "      <td>1</td>\n",
       "      <td>2</td>\n",
       "      <td>142000</td>\n",
       "      <td>2</td>\n",
       "      <td>61</td>\n",
       "      <td>0</td>\n",
       "      <td>0</td>\n",
       "      <td>1</td>\n",
       "      <td>0</td>\n",
       "      <td>...</td>\n",
       "      <td>165759</td>\n",
       "      <td>539943</td>\n",
       "      <td>1675113</td>\n",
       "      <td>2608023</td>\n",
       "      <td>2442264</td>\n",
       "      <td>2068080</td>\n",
       "      <td>932910</td>\n",
       "      <td>0.000008</td>\n",
       "      <td>0.476201</td>\n",
       "      <td>2.622304</td>\n",
       "    </tr>\n",
       "    <tr>\n",
       "      <th>3</th>\n",
       "      <td>2.011001e+12</td>\n",
       "      <td>1</td>\n",
       "      <td>2</td>\n",
       "      <td>135990</td>\n",
       "      <td>1</td>\n",
       "      <td>62</td>\n",
       "      <td>0</td>\n",
       "      <td>0</td>\n",
       "      <td>1</td>\n",
       "      <td>0</td>\n",
       "      <td>...</td>\n",
       "      <td>165759</td>\n",
       "      <td>539943</td>\n",
       "      <td>1675113</td>\n",
       "      <td>2608023</td>\n",
       "      <td>2442264</td>\n",
       "      <td>2068080</td>\n",
       "      <td>932910</td>\n",
       "      <td>0.000006</td>\n",
       "      <td>0.537598</td>\n",
       "      <td>0.000000</td>\n",
       "    </tr>\n",
       "    <tr>\n",
       "      <th>4</th>\n",
       "      <td>2.010001e+12</td>\n",
       "      <td>2</td>\n",
       "      <td>1</td>\n",
       "      <td>109500</td>\n",
       "      <td>1</td>\n",
       "      <td>53</td>\n",
       "      <td>0</td>\n",
       "      <td>1</td>\n",
       "      <td>1</td>\n",
       "      <td>0</td>\n",
       "      <td>...</td>\n",
       "      <td>165759</td>\n",
       "      <td>539943</td>\n",
       "      <td>1675113</td>\n",
       "      <td>2608023</td>\n",
       "      <td>2442264</td>\n",
       "      <td>2068080</td>\n",
       "      <td>932910</td>\n",
       "      <td>0.000024</td>\n",
       "      <td>0.479208</td>\n",
       "      <td>1.589275</td>\n",
       "    </tr>\n",
       "    <tr>\n",
       "      <th>5</th>\n",
       "      <td>2.012001e+12</td>\n",
       "      <td>2</td>\n",
       "      <td>2</td>\n",
       "      <td>112000</td>\n",
       "      <td>1</td>\n",
       "      <td>61</td>\n",
       "      <td>0</td>\n",
       "      <td>0</td>\n",
       "      <td>1</td>\n",
       "      <td>0</td>\n",
       "      <td>...</td>\n",
       "      <td>165759</td>\n",
       "      <td>539943</td>\n",
       "      <td>1675113</td>\n",
       "      <td>2608023</td>\n",
       "      <td>2442264</td>\n",
       "      <td>2068080</td>\n",
       "      <td>932910</td>\n",
       "      <td>0.000012</td>\n",
       "      <td>0.553690</td>\n",
       "      <td>1.015085</td>\n",
       "    </tr>\n",
       "  </tbody>\n",
       "</table>\n",
       "<p>5 rows × 34 columns</p>\n",
       "</div>"
      ],
      "text/plain": [
       "                     serialno  persons  cars  income  race_of_head  \\\n",
       "b'household_id'                                                      \n",
       "1                2.011001e+12        1     1  131000             1   \n",
       "2                2.013001e+12        1     2  142000             2   \n",
       "3                2.011001e+12        1     2  135990             1   \n",
       "4                2.010001e+12        2     1  109500             1   \n",
       "5                2.012001e+12        2     2  112000             1   \n",
       "\n",
       "                 age_of_head  workers  children  tenure  recent_mover  \\\n",
       "b'household_id'                                                         \n",
       "1                         64        0         0       1             0   \n",
       "2                         61        0         0       1             0   \n",
       "3                         62        0         0       1             0   \n",
       "4                         53        0         1       1             0   \n",
       "5                         61        0         0       1             0   \n",
       "\n",
       "                   ...    black_region  asian_region  white_region  \\\n",
       "b'household_id'    ...                                               \n",
       "1                  ...          165759        539943       1675113   \n",
       "2                  ...          165759        539943       1675113   \n",
       "3                  ...          165759        539943       1675113   \n",
       "4                  ...          165759        539943       1675113   \n",
       "5                  ...          165759        539943       1675113   \n",
       "\n",
       "                 total_hh_region  non_black_region  non_asian_region  \\\n",
       "b'household_id'                                                        \n",
       "1                        2608023           2442264           2068080   \n",
       "2                        2608023           2442264           2068080   \n",
       "3                        2608023           2442264           2068080   \n",
       "4                        2608023           2442264           2068080   \n",
       "5                        2608023           2442264           2068080   \n",
       "\n",
       "                 non_white_region  dissimilarity   entropy        LQ  \n",
       "b'household_id'                                                       \n",
       "1                          932910       0.000008  0.476201  2.622304  \n",
       "2                          932910       0.000008  0.476201  2.622304  \n",
       "3                          932910       0.000006  0.537598  0.000000  \n",
       "4                          932910       0.000024  0.479208  1.589275  \n",
       "5                          932910       0.000012  0.553690  1.015085  \n",
       "\n",
       "[5 rows x 34 columns]"
      ]
     },
     "execution_count": 29,
     "metadata": {},
     "output_type": "execute_result"
    }
   ],
   "source": [
    "merged_b= pd.merge(households_syn, df_black, left_on='block_id',right_index=True,how='left', sort=False)\n",
    "merged_b.head()"
   ]
  },
  {
   "cell_type": "code",
   "execution_count": 30,
   "metadata": {},
   "outputs": [
    {
     "name": "stdout",
     "output_type": "stream",
     "text": [
      "165759\n",
      "0.05     0.491682\n",
      "0.10     0.756434\n",
      "0.20     1.385881\n",
      "0.50     3.933456\n",
      "0.70     6.021587\n",
      "0.80     7.575545\n",
      "0.90     9.930365\n",
      "0.95    11.723242\n",
      "0.99    13.615810\n",
      "1.00    15.733824\n",
      "Name: LQ, dtype: float64\n",
      "4.643189190413165\n"
     ]
    }
   ],
   "source": [
    "# Total Black households\n",
    "\n",
    "merged_black= merged_b[merged_b['race_of_head']==2]\n",
    "print (len(merged_black))\n",
    "\n",
    "\n",
    "print (merged_black['LQ'].quantile([.05,.1,.2,.5,.7,.8,.9,.95,.99,1]))\n",
    "print (merged_black['LQ'].mean())"
   ]
  },
  {
   "cell_type": "code",
   "execution_count": 31,
   "metadata": {},
   "outputs": [
    {
     "name": "stdout",
     "output_type": "stream",
     "text": [
      "33054\n",
      "0.05     0.542546\n",
      "0.10     0.828096\n",
      "0.20     1.543973\n",
      "0.50     4.043329\n",
      "0.70     6.036247\n",
      "0.80     7.502703\n",
      "0.90     9.937152\n",
      "0.95    11.800368\n",
      "0.99    13.882786\n",
      "1.00    15.733824\n",
      "Name: LQ, dtype: float64\n",
      "4.738562782987601\n"
     ]
    }
   ],
   "source": [
    "# Black Recent-movers\n",
    "\n",
    "merged_black_rm = merged_black[merged_black['recent_mover']==1]\n",
    "print (len(merged_black_rm))\n",
    "\n",
    "print (merged_black_rm['LQ'].quantile([.05,.1,.2,.5,.7,.8,.9,.95,.99,1]))\n",
    "print (merged_black_rm['LQ'].mean())"
   ]
  },
  {
   "cell_type": "code",
   "execution_count": 32,
   "metadata": {},
   "outputs": [
    {
     "data": {
      "text/plain": [
       "count    165759.000000\n",
       "mean          4.643189\n",
       "std           3.495231\n",
       "min           0.020675\n",
       "25%           1.748203\n",
       "50%           3.933456\n",
       "75%           6.743068\n",
       "max          15.733824\n",
       "Name: LQ, dtype: float64"
      ]
     },
     "execution_count": 32,
     "metadata": {},
     "output_type": "execute_result"
    }
   ],
   "source": [
    "merged_black['LQ'].describe()"
   ]
  },
  {
   "cell_type": "markdown",
   "metadata": {},
   "source": [
    "Draft interpretation: blacks appear to be located in\n",
    "blocks that have much higher proportions of blacks than the region proportion black"
   ]
  },
  {
   "cell_type": "markdown",
   "metadata": {},
   "source": [
    "Draft interpretation: blacks appear to be moving into blocks that have much higher proportions of recent mover blacks compared to total recent movers into the block than the region proportion of recent mover \n",
    "blacks as a proportion of recent movers"
   ]
  },
  {
   "cell_type": "markdown",
   "metadata": {},
   "source": [
    "## White"
   ]
  },
  {
   "cell_type": "code",
   "execution_count": 33,
   "metadata": {},
   "outputs": [
    {
     "name": "stdout",
     "output_type": "stream",
     "text": [
      "0.05    0.270769\n",
      "0.10    0.454103\n",
      "0.20    0.684362\n",
      "0.50    1.138861\n",
      "0.70    1.349334\n",
      "0.80    1.450770\n",
      "0.90    1.556924\n",
      "0.95    1.556924\n",
      "0.97    1.556924\n",
      "Name: LQ, dtype: float64\n"
     ]
    }
   ],
   "source": [
    "df_white= df\n",
    "\n",
    "print (LQ(df_white,'white_bl','total_hh_bl','white_region','total_hh_region').quantile([.05,.1,.2,.5,.7,.8,.9,.95,.97]))"
   ]
  },
  {
   "cell_type": "code",
   "execution_count": 34,
   "metadata": {
    "scrolled": true
   },
   "outputs": [
    {
     "data": {
      "text/html": [
       "<div>\n",
       "<style>\n",
       "    .dataframe thead tr:only-child th {\n",
       "        text-align: right;\n",
       "    }\n",
       "\n",
       "    .dataframe thead th {\n",
       "        text-align: left;\n",
       "    }\n",
       "\n",
       "    .dataframe tbody tr th {\n",
       "        vertical-align: top;\n",
       "    }\n",
       "</style>\n",
       "<table border=\"1\" class=\"dataframe\">\n",
       "  <thead>\n",
       "    <tr style=\"text-align: right;\">\n",
       "      <th></th>\n",
       "      <th>serialno</th>\n",
       "      <th>persons</th>\n",
       "      <th>cars</th>\n",
       "      <th>income</th>\n",
       "      <th>race_of_head</th>\n",
       "      <th>age_of_head</th>\n",
       "      <th>workers</th>\n",
       "      <th>children</th>\n",
       "      <th>tenure</th>\n",
       "      <th>recent_mover</th>\n",
       "      <th>...</th>\n",
       "      <th>black_region</th>\n",
       "      <th>asian_region</th>\n",
       "      <th>white_region</th>\n",
       "      <th>total_hh_region</th>\n",
       "      <th>non_black_region</th>\n",
       "      <th>non_asian_region</th>\n",
       "      <th>non_white_region</th>\n",
       "      <th>dissimilarity</th>\n",
       "      <th>entropy</th>\n",
       "      <th>LQ</th>\n",
       "    </tr>\n",
       "    <tr>\n",
       "      <th>b'household_id'</th>\n",
       "      <th></th>\n",
       "      <th></th>\n",
       "      <th></th>\n",
       "      <th></th>\n",
       "      <th></th>\n",
       "      <th></th>\n",
       "      <th></th>\n",
       "      <th></th>\n",
       "      <th></th>\n",
       "      <th></th>\n",
       "      <th></th>\n",
       "      <th></th>\n",
       "      <th></th>\n",
       "      <th></th>\n",
       "      <th></th>\n",
       "      <th></th>\n",
       "      <th></th>\n",
       "      <th></th>\n",
       "      <th></th>\n",
       "      <th></th>\n",
       "      <th></th>\n",
       "    </tr>\n",
       "  </thead>\n",
       "  <tbody>\n",
       "    <tr>\n",
       "      <th>1</th>\n",
       "      <td>2.011001e+12</td>\n",
       "      <td>1</td>\n",
       "      <td>1</td>\n",
       "      <td>131000</td>\n",
       "      <td>1</td>\n",
       "      <td>64</td>\n",
       "      <td>0</td>\n",
       "      <td>0</td>\n",
       "      <td>1</td>\n",
       "      <td>0</td>\n",
       "      <td>...</td>\n",
       "      <td>165759</td>\n",
       "      <td>539943</td>\n",
       "      <td>1675113</td>\n",
       "      <td>2608023</td>\n",
       "      <td>2442264</td>\n",
       "      <td>2068080</td>\n",
       "      <td>932910</td>\n",
       "      <td>0.000008</td>\n",
       "      <td>0.476201</td>\n",
       "      <td>1.210941</td>\n",
       "    </tr>\n",
       "    <tr>\n",
       "      <th>2</th>\n",
       "      <td>2.013001e+12</td>\n",
       "      <td>1</td>\n",
       "      <td>2</td>\n",
       "      <td>142000</td>\n",
       "      <td>2</td>\n",
       "      <td>61</td>\n",
       "      <td>0</td>\n",
       "      <td>0</td>\n",
       "      <td>1</td>\n",
       "      <td>0</td>\n",
       "      <td>...</td>\n",
       "      <td>165759</td>\n",
       "      <td>539943</td>\n",
       "      <td>1675113</td>\n",
       "      <td>2608023</td>\n",
       "      <td>2442264</td>\n",
       "      <td>2068080</td>\n",
       "      <td>932910</td>\n",
       "      <td>0.000008</td>\n",
       "      <td>0.476201</td>\n",
       "      <td>1.210941</td>\n",
       "    </tr>\n",
       "    <tr>\n",
       "      <th>3</th>\n",
       "      <td>2.011001e+12</td>\n",
       "      <td>1</td>\n",
       "      <td>2</td>\n",
       "      <td>135990</td>\n",
       "      <td>1</td>\n",
       "      <td>62</td>\n",
       "      <td>0</td>\n",
       "      <td>0</td>\n",
       "      <td>1</td>\n",
       "      <td>0</td>\n",
       "      <td>...</td>\n",
       "      <td>165759</td>\n",
       "      <td>539943</td>\n",
       "      <td>1675113</td>\n",
       "      <td>2608023</td>\n",
       "      <td>2442264</td>\n",
       "      <td>2068080</td>\n",
       "      <td>932910</td>\n",
       "      <td>0.000006</td>\n",
       "      <td>0.537598</td>\n",
       "      <td>1.311094</td>\n",
       "    </tr>\n",
       "    <tr>\n",
       "      <th>4</th>\n",
       "      <td>2.010001e+12</td>\n",
       "      <td>2</td>\n",
       "      <td>1</td>\n",
       "      <td>109500</td>\n",
       "      <td>1</td>\n",
       "      <td>53</td>\n",
       "      <td>0</td>\n",
       "      <td>1</td>\n",
       "      <td>1</td>\n",
       "      <td>0</td>\n",
       "      <td>...</td>\n",
       "      <td>165759</td>\n",
       "      <td>539943</td>\n",
       "      <td>1675113</td>\n",
       "      <td>2608023</td>\n",
       "      <td>2442264</td>\n",
       "      <td>2068080</td>\n",
       "      <td>932910</td>\n",
       "      <td>0.000024</td>\n",
       "      <td>0.479208</td>\n",
       "      <td>1.226667</td>\n",
       "    </tr>\n",
       "    <tr>\n",
       "      <th>5</th>\n",
       "      <td>2.012001e+12</td>\n",
       "      <td>2</td>\n",
       "      <td>2</td>\n",
       "      <td>112000</td>\n",
       "      <td>1</td>\n",
       "      <td>61</td>\n",
       "      <td>0</td>\n",
       "      <td>0</td>\n",
       "      <td>1</td>\n",
       "      <td>0</td>\n",
       "      <td>...</td>\n",
       "      <td>165759</td>\n",
       "      <td>539943</td>\n",
       "      <td>1675113</td>\n",
       "      <td>2608023</td>\n",
       "      <td>2442264</td>\n",
       "      <td>2068080</td>\n",
       "      <td>932910</td>\n",
       "      <td>0.000012</td>\n",
       "      <td>0.553690</td>\n",
       "      <td>1.356030</td>\n",
       "    </tr>\n",
       "  </tbody>\n",
       "</table>\n",
       "<p>5 rows × 34 columns</p>\n",
       "</div>"
      ],
      "text/plain": [
       "                     serialno  persons  cars  income  race_of_head  \\\n",
       "b'household_id'                                                      \n",
       "1                2.011001e+12        1     1  131000             1   \n",
       "2                2.013001e+12        1     2  142000             2   \n",
       "3                2.011001e+12        1     2  135990             1   \n",
       "4                2.010001e+12        2     1  109500             1   \n",
       "5                2.012001e+12        2     2  112000             1   \n",
       "\n",
       "                 age_of_head  workers  children  tenure  recent_mover  \\\n",
       "b'household_id'                                                         \n",
       "1                         64        0         0       1             0   \n",
       "2                         61        0         0       1             0   \n",
       "3                         62        0         0       1             0   \n",
       "4                         53        0         1       1             0   \n",
       "5                         61        0         0       1             0   \n",
       "\n",
       "                   ...    black_region  asian_region  white_region  \\\n",
       "b'household_id'    ...                                               \n",
       "1                  ...          165759        539943       1675113   \n",
       "2                  ...          165759        539943       1675113   \n",
       "3                  ...          165759        539943       1675113   \n",
       "4                  ...          165759        539943       1675113   \n",
       "5                  ...          165759        539943       1675113   \n",
       "\n",
       "                 total_hh_region  non_black_region  non_asian_region  \\\n",
       "b'household_id'                                                        \n",
       "1                        2608023           2442264           2068080   \n",
       "2                        2608023           2442264           2068080   \n",
       "3                        2608023           2442264           2068080   \n",
       "4                        2608023           2442264           2068080   \n",
       "5                        2608023           2442264           2068080   \n",
       "\n",
       "                 non_white_region  dissimilarity   entropy        LQ  \n",
       "b'household_id'                                                       \n",
       "1                          932910       0.000008  0.476201  1.210941  \n",
       "2                          932910       0.000008  0.476201  1.210941  \n",
       "3                          932910       0.000006  0.537598  1.311094  \n",
       "4                          932910       0.000024  0.479208  1.226667  \n",
       "5                          932910       0.000012  0.553690  1.356030  \n",
       "\n",
       "[5 rows x 34 columns]"
      ]
     },
     "execution_count": 34,
     "metadata": {},
     "output_type": "execute_result"
    }
   ],
   "source": [
    "merged_w= pd.merge(households_syn, df_white, left_on='block_id',right_index=True,how='left', sort=False)\n",
    "merged_w.head()"
   ]
  },
  {
   "cell_type": "code",
   "execution_count": 35,
   "metadata": {
    "scrolled": true
   },
   "outputs": [
    {
     "name": "stdout",
     "output_type": "stream",
     "text": [
      "1675113\n",
      "0.05    0.544923\n",
      "0.10    0.681154\n",
      "0.20    0.868128\n",
      "0.50    1.197634\n",
      "0.70    1.349334\n",
      "0.80    1.417337\n",
      "0.90    1.494647\n",
      "0.95    1.556924\n",
      "0.97    1.556924\n",
      "0.99    1.556924\n",
      "1.00    1.556924\n",
      "Name: LQ, dtype: float64\n",
      "1.1365751760254639\n"
     ]
    }
   ],
   "source": [
    "# Total White households\n",
    "\n",
    "\n",
    "merged_white= merged_w[merged_w['race_of_head']==1]\n",
    "print (len(merged_white))\n",
    "\n",
    "print (merged_white['LQ'].quantile([.05,.1,.2,.5,.7,.8,.9,.95,.97,.99,1]))\n",
    "print (merged_white['LQ'].mean())"
   ]
  },
  {
   "cell_type": "code",
   "execution_count": 36,
   "metadata": {},
   "outputs": [
    {
     "name": "stdout",
     "output_type": "stream",
     "text": [
      "263999\n",
      "0.05    0.544167\n",
      "0.10    0.667253\n",
      "0.20    0.833283\n",
      "0.50    1.150770\n",
      "0.70    1.309992\n",
      "0.80    1.385662\n",
      "0.90    1.470959\n",
      "0.95    1.528616\n",
      "0.99    1.556924\n",
      "1.00    1.556924\n",
      "Name: LQ, dtype: float64\n",
      "1.1042927153932263\n"
     ]
    }
   ],
   "source": [
    "# White Recent-movers\n",
    "\n",
    "\n",
    "merged_white_rm = merged_white[merged_white['recent_mover']==1]\n",
    "print (len(merged_white_rm))\n",
    "\n",
    "print (merged_white_rm['LQ'].quantile([.05,.1,.2,.5,.7,.8,.9,.95,.99,1]))\n",
    "print (merged_white_rm['LQ'].mean())\n"
   ]
  },
  {
   "cell_type": "markdown",
   "metadata": {},
   "source": [
    "## Asian"
   ]
  },
  {
   "cell_type": "code",
   "execution_count": 37,
   "metadata": {},
   "outputs": [
    {
     "name": "stdout",
     "output_type": "stream",
     "text": [
      "0.05    0.000000\n",
      "0.50    0.502741\n",
      "0.75    1.271101\n",
      "0.85    1.872928\n",
      "0.90    2.415091\n",
      "0.95    2.990113\n",
      "Name: LQ, dtype: float64\n"
     ]
    }
   ],
   "source": [
    "df_asian= df\n",
    "\n",
    "print (LQ(df_asian,'asian_bl','total_hh_bl','asian_region','total_hh_region').quantile([0.05,0.5,0.75,.85,.9,.95]))"
   ]
  },
  {
   "cell_type": "code",
   "execution_count": 38,
   "metadata": {
    "scrolled": true
   },
   "outputs": [
    {
     "data": {
      "text/html": [
       "<div>\n",
       "<style>\n",
       "    .dataframe thead tr:only-child th {\n",
       "        text-align: right;\n",
       "    }\n",
       "\n",
       "    .dataframe thead th {\n",
       "        text-align: left;\n",
       "    }\n",
       "\n",
       "    .dataframe tbody tr th {\n",
       "        vertical-align: top;\n",
       "    }\n",
       "</style>\n",
       "<table border=\"1\" class=\"dataframe\">\n",
       "  <thead>\n",
       "    <tr style=\"text-align: right;\">\n",
       "      <th></th>\n",
       "      <th>serialno</th>\n",
       "      <th>persons</th>\n",
       "      <th>cars</th>\n",
       "      <th>income</th>\n",
       "      <th>race_of_head</th>\n",
       "      <th>age_of_head</th>\n",
       "      <th>workers</th>\n",
       "      <th>children</th>\n",
       "      <th>tenure</th>\n",
       "      <th>recent_mover</th>\n",
       "      <th>...</th>\n",
       "      <th>black_region</th>\n",
       "      <th>asian_region</th>\n",
       "      <th>white_region</th>\n",
       "      <th>total_hh_region</th>\n",
       "      <th>non_black_region</th>\n",
       "      <th>non_asian_region</th>\n",
       "      <th>non_white_region</th>\n",
       "      <th>dissimilarity</th>\n",
       "      <th>entropy</th>\n",
       "      <th>LQ</th>\n",
       "    </tr>\n",
       "    <tr>\n",
       "      <th>b'household_id'</th>\n",
       "      <th></th>\n",
       "      <th></th>\n",
       "      <th></th>\n",
       "      <th></th>\n",
       "      <th></th>\n",
       "      <th></th>\n",
       "      <th></th>\n",
       "      <th></th>\n",
       "      <th></th>\n",
       "      <th></th>\n",
       "      <th></th>\n",
       "      <th></th>\n",
       "      <th></th>\n",
       "      <th></th>\n",
       "      <th></th>\n",
       "      <th></th>\n",
       "      <th></th>\n",
       "      <th></th>\n",
       "      <th></th>\n",
       "      <th></th>\n",
       "      <th></th>\n",
       "    </tr>\n",
       "  </thead>\n",
       "  <tbody>\n",
       "    <tr>\n",
       "      <th>1</th>\n",
       "      <td>2.011001e+12</td>\n",
       "      <td>1</td>\n",
       "      <td>1</td>\n",
       "      <td>131000</td>\n",
       "      <td>1</td>\n",
       "      <td>64</td>\n",
       "      <td>0</td>\n",
       "      <td>0</td>\n",
       "      <td>1</td>\n",
       "      <td>0</td>\n",
       "      <td>...</td>\n",
       "      <td>165759</td>\n",
       "      <td>539943</td>\n",
       "      <td>1675113</td>\n",
       "      <td>2608023</td>\n",
       "      <td>2442264</td>\n",
       "      <td>2068080</td>\n",
       "      <td>932910</td>\n",
       "      <td>0.000008</td>\n",
       "      <td>0.476201</td>\n",
       "      <td>0.268343</td>\n",
       "    </tr>\n",
       "    <tr>\n",
       "      <th>2</th>\n",
       "      <td>2.013001e+12</td>\n",
       "      <td>1</td>\n",
       "      <td>2</td>\n",
       "      <td>142000</td>\n",
       "      <td>2</td>\n",
       "      <td>61</td>\n",
       "      <td>0</td>\n",
       "      <td>0</td>\n",
       "      <td>1</td>\n",
       "      <td>0</td>\n",
       "      <td>...</td>\n",
       "      <td>165759</td>\n",
       "      <td>539943</td>\n",
       "      <td>1675113</td>\n",
       "      <td>2608023</td>\n",
       "      <td>2442264</td>\n",
       "      <td>2068080</td>\n",
       "      <td>932910</td>\n",
       "      <td>0.000008</td>\n",
       "      <td>0.476201</td>\n",
       "      <td>0.268343</td>\n",
       "    </tr>\n",
       "    <tr>\n",
       "      <th>3</th>\n",
       "      <td>2.011001e+12</td>\n",
       "      <td>1</td>\n",
       "      <td>2</td>\n",
       "      <td>135990</td>\n",
       "      <td>1</td>\n",
       "      <td>62</td>\n",
       "      <td>0</td>\n",
       "      <td>0</td>\n",
       "      <td>1</td>\n",
       "      <td>0</td>\n",
       "      <td>...</td>\n",
       "      <td>165759</td>\n",
       "      <td>539943</td>\n",
       "      <td>1675113</td>\n",
       "      <td>2608023</td>\n",
       "      <td>2442264</td>\n",
       "      <td>2068080</td>\n",
       "      <td>932910</td>\n",
       "      <td>0.000006</td>\n",
       "      <td>0.537598</td>\n",
       "      <td>0.762660</td>\n",
       "    </tr>\n",
       "    <tr>\n",
       "      <th>4</th>\n",
       "      <td>2.010001e+12</td>\n",
       "      <td>2</td>\n",
       "      <td>1</td>\n",
       "      <td>109500</td>\n",
       "      <td>1</td>\n",
       "      <td>53</td>\n",
       "      <td>0</td>\n",
       "      <td>1</td>\n",
       "      <td>1</td>\n",
       "      <td>0</td>\n",
       "      <td>...</td>\n",
       "      <td>165759</td>\n",
       "      <td>539943</td>\n",
       "      <td>1675113</td>\n",
       "      <td>2608023</td>\n",
       "      <td>2442264</td>\n",
       "      <td>2068080</td>\n",
       "      <td>932910</td>\n",
       "      <td>0.000024</td>\n",
       "      <td>0.479208</td>\n",
       "      <td>0.536687</td>\n",
       "    </tr>\n",
       "    <tr>\n",
       "      <th>5</th>\n",
       "      <td>2.012001e+12</td>\n",
       "      <td>2</td>\n",
       "      <td>2</td>\n",
       "      <td>112000</td>\n",
       "      <td>1</td>\n",
       "      <td>61</td>\n",
       "      <td>0</td>\n",
       "      <td>0</td>\n",
       "      <td>1</td>\n",
       "      <td>0</td>\n",
       "      <td>...</td>\n",
       "      <td>165759</td>\n",
       "      <td>539943</td>\n",
       "      <td>1675113</td>\n",
       "      <td>2608023</td>\n",
       "      <td>2442264</td>\n",
       "      <td>2068080</td>\n",
       "      <td>932910</td>\n",
       "      <td>0.000012</td>\n",
       "      <td>0.553690</td>\n",
       "      <td>0.311625</td>\n",
       "    </tr>\n",
       "  </tbody>\n",
       "</table>\n",
       "<p>5 rows × 34 columns</p>\n",
       "</div>"
      ],
      "text/plain": [
       "                     serialno  persons  cars  income  race_of_head  \\\n",
       "b'household_id'                                                      \n",
       "1                2.011001e+12        1     1  131000             1   \n",
       "2                2.013001e+12        1     2  142000             2   \n",
       "3                2.011001e+12        1     2  135990             1   \n",
       "4                2.010001e+12        2     1  109500             1   \n",
       "5                2.012001e+12        2     2  112000             1   \n",
       "\n",
       "                 age_of_head  workers  children  tenure  recent_mover  \\\n",
       "b'household_id'                                                         \n",
       "1                         64        0         0       1             0   \n",
       "2                         61        0         0       1             0   \n",
       "3                         62        0         0       1             0   \n",
       "4                         53        0         1       1             0   \n",
       "5                         61        0         0       1             0   \n",
       "\n",
       "                   ...    black_region  asian_region  white_region  \\\n",
       "b'household_id'    ...                                               \n",
       "1                  ...          165759        539943       1675113   \n",
       "2                  ...          165759        539943       1675113   \n",
       "3                  ...          165759        539943       1675113   \n",
       "4                  ...          165759        539943       1675113   \n",
       "5                  ...          165759        539943       1675113   \n",
       "\n",
       "                 total_hh_region  non_black_region  non_asian_region  \\\n",
       "b'household_id'                                                        \n",
       "1                        2608023           2442264           2068080   \n",
       "2                        2608023           2442264           2068080   \n",
       "3                        2608023           2442264           2068080   \n",
       "4                        2608023           2442264           2068080   \n",
       "5                        2608023           2442264           2068080   \n",
       "\n",
       "                 non_white_region  dissimilarity   entropy        LQ  \n",
       "b'household_id'                                                       \n",
       "1                          932910       0.000008  0.476201  0.268343  \n",
       "2                          932910       0.000008  0.476201  0.268343  \n",
       "3                          932910       0.000006  0.537598  0.762660  \n",
       "4                          932910       0.000024  0.479208  0.536687  \n",
       "5                          932910       0.000012  0.553690  0.311625  \n",
       "\n",
       "[5 rows x 34 columns]"
      ]
     },
     "execution_count": 38,
     "metadata": {},
     "output_type": "execute_result"
    }
   ],
   "source": [
    "merged_a= pd.merge(households_syn, df_asian, left_on='block_id',right_index=True,how='left', sort=False)\n",
    "merged_a.head()"
   ]
  },
  {
   "cell_type": "code",
   "execution_count": 39,
   "metadata": {},
   "outputs": [
    {
     "name": "stdout",
     "output_type": "stream",
     "text": [
      "539943\n"
     ]
    }
   ],
   "source": [
    "merged_asian= merged_a[merged_a['race_of_head']==6]\n",
    "print (len(merged_asian))"
   ]
  },
  {
   "cell_type": "code",
   "execution_count": 40,
   "metadata": {
    "scrolled": true
   },
   "outputs": [
    {
     "name": "stdout",
     "output_type": "stream",
     "text": [
      "0.05    0.408708\n",
      "0.10    0.603773\n",
      "0.20    0.915397\n",
      "0.50    1.779541\n",
      "0.70    2.488276\n",
      "0.80    2.898109\n",
      "0.90    3.399017\n",
      "0.95    3.795143\n",
      "0.99    4.347164\n",
      "1.00    4.830182\n",
      "Name: LQ, dtype: float64\n",
      "1.910939683493512\n"
     ]
    }
   ],
   "source": [
    "print (merged_asian['LQ'].quantile([.05,.1,.2,.5,.7,.8,.9,.95,.99,1]))\n",
    "print (merged_asian['LQ'].mean())"
   ]
  },
  {
   "cell_type": "code",
   "execution_count": 41,
   "metadata": {
    "scrolled": true
   },
   "outputs": [
    {
     "name": "stdout",
     "output_type": "stream",
     "text": [
      "109501\n",
      "0.05    0.443588\n",
      "0.10    0.643507\n",
      "0.20    0.957986\n",
      "0.50    1.743479\n",
      "0.70    2.415091\n",
      "0.80    2.820461\n",
      "0.90    3.269991\n",
      "0.95    3.655273\n",
      "0.97    3.918362\n",
      "0.99    4.286787\n",
      "1.00    4.830182\n",
      "Name: LQ, dtype: float64\n",
      "1.8805270400590068\n"
     ]
    }
   ],
   "source": [
    "# Asian Recent-movers\n",
    "\n",
    "\n",
    "merged_asian_rm = merged_asian[merged_asian['recent_mover']==1]\n",
    "print (len(merged_asian_rm))\n",
    "\n",
    "print (merged_asian_rm['LQ'].quantile([.05,.1,.2,.5,.7,.8,.9,.95,.97,.99,1]))\n",
    "print (merged_asian_rm['LQ'].mean())\n"
   ]
  },
  {
   "cell_type": "markdown",
   "metadata": {},
   "source": [
    "# Visualizing Location Quotients\n"
   ]
  },
  {
   "cell_type": "code",
   "execution_count": 42,
   "metadata": {},
   "outputs": [],
   "source": [
    "%matplotlib inline\n",
    "import pandas as pd, numpy as np, matplotlib.pyplot as plt\n",
    "import geopandas as gpd\n",
    "from geopandas import GeoDataFrame\n",
    "from shapely.geometry import Point\n",
    "from scipy import ndimage\n",
    "import matplotlib.pylab as pylab\n",
    "import matplotlib.pyplot as plt\n",
    "\n",
    "pylab.rcParams['figure.figsize'] = 10, 8\n",
    "\n",
    "import warnings \n",
    "warnings.filterwarnings('ignore')"
   ]
  },
  {
   "cell_type": "code",
   "execution_count": 44,
   "metadata": {},
   "outputs": [],
   "source": [
    "blocks = gpd.read_file('data/bayarea_blocks.shp')\n"
   ]
  },
  {
   "cell_type": "code",
   "execution_count": 46,
   "metadata": {},
   "outputs": [
    {
     "data": {
      "text/html": [
       "<div>\n",
       "<style>\n",
       "    .dataframe thead tr:only-child th {\n",
       "        text-align: right;\n",
       "    }\n",
       "\n",
       "    .dataframe thead th {\n",
       "        text-align: left;\n",
       "    }\n",
       "\n",
       "    .dataframe tbody tr th {\n",
       "        vertical-align: top;\n",
       "    }\n",
       "</style>\n",
       "<table border=\"1\" class=\"dataframe\">\n",
       "  <thead>\n",
       "    <tr style=\"text-align: right;\">\n",
       "      <th></th>\n",
       "      <th>state_id</th>\n",
       "      <th>county_id</th>\n",
       "      <th>tract_id</th>\n",
       "      <th>block_id</th>\n",
       "      <th>blockid10</th>\n",
       "      <th>partflg</th>\n",
       "      <th>housing10</th>\n",
       "      <th>pop10</th>\n",
       "      <th>centroid</th>\n",
       "      <th>area</th>\n",
       "      <th>block_num</th>\n",
       "      <th>geometry</th>\n",
       "    </tr>\n",
       "  </thead>\n",
       "  <tbody>\n",
       "    <tr>\n",
       "      <th>0</th>\n",
       "      <td>6</td>\n",
       "      <td>1</td>\n",
       "      <td>437101</td>\n",
       "      <td>1118</td>\n",
       "      <td>060014371011118</td>\n",
       "      <td>N</td>\n",
       "      <td>0</td>\n",
       "      <td>0</td>\n",
       "      <td>SRID=4269;POINT(-122.116104819205 37.583533655...</td>\n",
       "      <td>1.871939e-03</td>\n",
       "      <td>1</td>\n",
       "      <td>POLYGON ((-122.083627 37.574918, -122.085379 3...</td>\n",
       "    </tr>\n",
       "    <tr>\n",
       "      <th>1</th>\n",
       "      <td>6</td>\n",
       "      <td>1</td>\n",
       "      <td>437200</td>\n",
       "      <td>1003</td>\n",
       "      <td>060014372001003</td>\n",
       "      <td>N</td>\n",
       "      <td>0</td>\n",
       "      <td>0</td>\n",
       "      <td>SRID=4269;POINT(-122.118193535176 37.653127290...</td>\n",
       "      <td>1.315680e-07</td>\n",
       "      <td>2</td>\n",
       "      <td>POLYGON ((-122.117622 37.653063, -122.118715 3...</td>\n",
       "    </tr>\n",
       "    <tr>\n",
       "      <th>2</th>\n",
       "      <td>6</td>\n",
       "      <td>1</td>\n",
       "      <td>450701</td>\n",
       "      <td>3149</td>\n",
       "      <td>060014507013149</td>\n",
       "      <td>N</td>\n",
       "      <td>0</td>\n",
       "      <td>0</td>\n",
       "      <td>SRID=4269;POINT(-121.73743840365 37.4993035938...</td>\n",
       "      <td>1.308217e-03</td>\n",
       "      <td>3</td>\n",
       "      <td>POLYGON ((-121.713193 37.511219, -121.713135 3...</td>\n",
       "    </tr>\n",
       "    <tr>\n",
       "      <th>3</th>\n",
       "      <td>6</td>\n",
       "      <td>1</td>\n",
       "      <td>450701</td>\n",
       "      <td>3150</td>\n",
       "      <td>060014507013150</td>\n",
       "      <td>N</td>\n",
       "      <td>0</td>\n",
       "      <td>0</td>\n",
       "      <td>SRID=4269;POINT(-121.766161706801 37.511724292...</td>\n",
       "      <td>9.207148e-05</td>\n",
       "      <td>4</td>\n",
       "      <td>POLYGON ((-121.756827 37.511787, -121.756837 3...</td>\n",
       "    </tr>\n",
       "    <tr>\n",
       "      <th>4</th>\n",
       "      <td>6</td>\n",
       "      <td>1</td>\n",
       "      <td>433000</td>\n",
       "      <td>2013</td>\n",
       "      <td>060014330002013</td>\n",
       "      <td>N</td>\n",
       "      <td>18</td>\n",
       "      <td>53</td>\n",
       "      <td>SRID=4269;POINT(-122.136351685065 37.715744957...</td>\n",
       "      <td>1.336772e-06</td>\n",
       "      <td>5</td>\n",
       "      <td>POLYGON ((-122.135396 37.71608, -122.135647 37...</td>\n",
       "    </tr>\n",
       "  </tbody>\n",
       "</table>\n",
       "</div>"
      ],
      "text/plain": [
       "   state_id  county_id  tract_id  block_id        blockid10 partflg  \\\n",
       "0         6          1    437101      1118  060014371011118       N   \n",
       "1         6          1    437200      1003  060014372001003       N   \n",
       "2         6          1    450701      3149  060014507013149       N   \n",
       "3         6          1    450701      3150  060014507013150       N   \n",
       "4         6          1    433000      2013  060014330002013       N   \n",
       "\n",
       "   housing10  pop10                                           centroid  \\\n",
       "0          0      0  SRID=4269;POINT(-122.116104819205 37.583533655...   \n",
       "1          0      0  SRID=4269;POINT(-122.118193535176 37.653127290...   \n",
       "2          0      0  SRID=4269;POINT(-121.73743840365 37.4993035938...   \n",
       "3          0      0  SRID=4269;POINT(-121.766161706801 37.511724292...   \n",
       "4         18     53  SRID=4269;POINT(-122.136351685065 37.715744957...   \n",
       "\n",
       "           area  block_num                                           geometry  \n",
       "0  1.871939e-03          1  POLYGON ((-122.083627 37.574918, -122.085379 3...  \n",
       "1  1.315680e-07          2  POLYGON ((-122.117622 37.653063, -122.118715 3...  \n",
       "2  1.308217e-03          3  POLYGON ((-121.713193 37.511219, -121.713135 3...  \n",
       "3  9.207148e-05          4  POLYGON ((-121.756827 37.511787, -121.756837 3...  \n",
       "4  1.336772e-06          5  POLYGON ((-122.135396 37.71608, -122.135647 37...  "
      ]
     },
     "execution_count": 46,
     "metadata": {},
     "output_type": "execute_result"
    }
   ],
   "source": [
    "blocks.head()"
   ]
  },
  {
   "cell_type": "code",
   "execution_count": 49,
   "metadata": {},
   "outputs": [],
   "source": [
    "tracts = blocks.dissolve('tract_id')"
   ]
  },
  {
   "cell_type": "code",
   "execution_count": 50,
   "metadata": {},
   "outputs": [
    {
     "data": {
      "text/plain": [
       "<matplotlib.axes._subplots.AxesSubplot at 0x158869470>"
      ]
     },
     "execution_count": 50,
     "metadata": {},
     "output_type": "execute_result"
    },
    {
     "data": {
      "image/png": "[encoded data removed]",
      "text/plain": [
       "<matplotlib.figure.Figure at 0x158a3d5f8>"
      ]
     },
     "metadata": {},
     "output_type": "display_data"
    }
   ],
   "source": [
    "tracts.plot()"
   ]
  },
  {
   "cell_type": "code",
   "execution_count": 52,
   "metadata": {},
   "outputs": [
    {
     "data": {
      "text/plain": [
       "<matplotlib.axes._subplots.AxesSubplot at 0x158b46f28>"
      ]
     },
     "execution_count": 52,
     "metadata": {},
     "output_type": "execute_result"
    },
    {
     "data": {
      "image/png": "[encoded data removed]",
      "text/plain": [
       "<matplotlib.figure.Figure at 0x158b18978>"
      ]
     },
     "metadata": {},
     "output_type": "display_data"
    }
   ],
   "source": [
    "ocean = gpd.read_file('data/California_coast/California_coast.shp')\n",
    "ocean.plot()"
   ]
  },
  {
   "cell_type": "markdown",
   "metadata": {},
   "source": [
    "# 4. Gini coefficient "
   ]
  },
  {
   "cell_type": "markdown",
   "metadata": {},
   "source": [
    "Gini index is used mainly for income distribution. It's a number\n",
    "ranging from 0 to 1, where 0 indicates perfect income equality\n",
    "in the measured population and 1 indicates perfect inequality in\n",
    "the measured population. In order to compute a Gini index, we\n",
    "draw a graph that plots the bottom x percent of income earners\n",
    "in a population against the percent of the income (from all\n",
    "available income) that the group has earned.\n",
    "we could compute a Gini index in which we omit the\n",
    "top 5% of income earners in each population. As a result, our\n",
    "study would consider income distribution in the bulk of a population\n",
    "without the skewed effect of high-income outliers. "
   ]
  },
  {
   "cell_type": "markdown",
   "metadata": {
    "collapsed": true
   },
   "source": [
    "# Second Dimention| ISOLATION***************************************"
   ]
  },
  {
   "cell_type": "markdown",
   "metadata": {},
   "source": [
    "# 1. Isolation Index"
   ]
  },
  {
   "cell_type": "code",
   "execution_count": 45,
   "metadata": {},
   "outputs": [],
   "source": [
    "def isolation(df, bi,B, T):\n",
    "    df['isolation'] = (\n",
    "        ((df[bi]/df[B])*(df[bi]/df[T])))\n",
    "    return (df['isolation'].sum())\n",
    "\n",
    "# T is total number of households in region"
   ]
  },
  {
   "cell_type": "markdown",
   "metadata": {},
   "source": [
    "## Black"
   ]
  },
  {
   "cell_type": "code",
   "execution_count": 46,
   "metadata": {
    "scrolled": true
   },
   "outputs": [
    {
     "name": "stdout",
     "output_type": "stream",
     "text": [
      "0.4682213308702691\n",
      "0.463821636530858\n"
     ]
    }
   ],
   "source": [
    "isolation = [\n",
    "    (df, 'black_bl', 'black_region', 'black_bl', 'total_hh_region'),\n",
    "    (df_rm,'black_bl', 'black_region', 'black_bl', 'total_hh_region')\n",
    "]\n",
    "\n",
    "for pop in isolation:\n",
    "    print (dissimilarity(*pop))"
   ]
  },
  {
   "cell_type": "markdown",
   "metadata": {},
   "source": [
    "## Asian"
   ]
  },
  {
   "cell_type": "code",
   "execution_count": 47,
   "metadata": {
    "scrolled": true
   },
   "outputs": [
    {
     "name": "stdout",
     "output_type": "stream",
     "text": [
      "0.3964842334593825\n",
      "0.3801486362244488\n"
     ]
    }
   ],
   "source": [
    "isolation = [\n",
    "    (df, 'asian_bl', 'asian_region', 'asian_bl', 'total_hh_region'),\n",
    "    (df_rm,'asian_bl', 'asian_region', 'asian_bl', 'total_hh_region')\n",
    "]\n",
    "\n",
    "for pop in isolation:\n",
    "    print (dissimilarity(*pop))"
   ]
  },
  {
   "cell_type": "markdown",
   "metadata": {},
   "source": [
    "## White "
   ]
  },
  {
   "cell_type": "code",
   "execution_count": 48,
   "metadata": {},
   "outputs": [
    {
     "name": "stdout",
     "output_type": "stream",
     "text": [
      "0.17885386746973927\n",
      "0.21104702070841805\n"
     ]
    }
   ],
   "source": [
    "isolation = [\n",
    "    (df, 'white_bl', 'white_region', 'white_bl', 'total_hh_region'),\n",
    "    (df_rm,'white_bl', 'white_region', 'white_bl', 'total_hh_region')\n",
    "]\n",
    "\n",
    "for pop in isolation:\n",
    "    print (dissimilarity(*pop))"
   ]
  },
  {
   "cell_type": "markdown",
   "metadata": {},
   "source": [
    "# 2. Interaction or Exposure Index "
   ]
  },
  {
   "cell_type": "code",
   "execution_count": 49,
   "metadata": {},
   "outputs": [],
   "source": [
    "def interaction(df, bi,B,nbi, Ti):\n",
    "    df['interaction'] = (\n",
    "        ((df[bi]/df[B])*(df[nbi]/df[Ti])))\n",
    "    return (df['interaction'].sum())\n",
    "\n",
    "# Ti is total number of households in tract"
   ]
  },
  {
   "cell_type": "markdown",
   "metadata": {},
   "source": [
    "## Black"
   ]
  },
  {
   "cell_type": "code",
   "execution_count": 50,
   "metadata": {},
   "outputs": [
    {
     "name": "stdout",
     "output_type": "stream",
     "text": [
      "0.7048912540211176\n",
      "0.6318124804272013\n"
     ]
    }
   ],
   "source": [
    "print (interaction(df, 'black_bl', 'black_region', 'non_black_bl', 'total_hh_bl'))\n",
    "print (interaction(df_rm, 'black_bl', 'black_region', 'non_black_bl', 'total_hh_bl'))\n",
    "\n"
   ]
  },
  {
   "cell_type": "markdown",
   "metadata": {},
   "source": [
    "## Asian"
   ]
  },
  {
   "cell_type": "code",
   "execution_count": 51,
   "metadata": {},
   "outputs": [
    {
     "name": "stdout",
     "output_type": "stream",
     "text": [
      "0.604375227701388\n",
      "0.501370622470573\n"
     ]
    }
   ],
   "source": [
    "print (interaction(df, 'asian_bl', 'asian_region', 'non_asian_bl', 'total_hh_bl'))\n",
    "print (interaction(df_rm, 'asian_bl', 'asian_region', 'non_asian_bl', 'total_hh_bl'))\n"
   ]
  },
  {
   "cell_type": "markdown",
   "metadata": {},
   "source": [
    "## White"
   ]
  },
  {
   "cell_type": "code",
   "execution_count": 52,
   "metadata": {},
   "outputs": [
    {
     "name": "stdout",
     "output_type": "stream",
     "text": [
      "0.26998655578125536\n",
      "0.2867707142743789\n"
     ]
    }
   ],
   "source": [
    "print (interaction(df, 'white_bl', 'white_region', 'non_white_bl', 'total_hh_bl'))\n",
    "print (interaction(df_rm, 'white_bl', 'white_region', 'non_white_bl', 'total_hh_bl'))\n"
   ]
  },
  {
   "cell_type": "markdown",
   "metadata": {},
   "source": [
    "# Interpretation\n",
    "    "
   ]
  },
  {
   "cell_type": "markdown",
   "metadata": {},
   "source": [
    "\n",
    "• The probability of a Black person “interacting” with a non black person is about70%. We can also interpret this to mean that 70 of every 100 people a Black person meets will be non-black.\n",
    "• Most interaction indexes are not “symmetrical” - the probability of a “typical” Black person meeting a White person is NOT the same as the probability of a “typical” White person meeting a Black one.\n",
    "• The maximum value of B depends both on the distribution of ethnic groups AND on the proportion of minorities in the city.\n",
    "• Generally speaking, the value of this index will be highest when the two groups have equal numbers and are spread evenly among tracts."
   ]
  },
  {
   "cell_type": "code",
   "execution_count": null,
   "metadata": {
    "collapsed": true
   },
   "outputs": [],
   "source": []
  },
  {
   "cell_type": "markdown",
   "metadata": {},
   "source": [
    "### Get the csv output for mapping LQ in other notebook"
   ]
  },
  {
   "cell_type": "code",
   "execution_count": 53,
   "metadata": {},
   "outputs": [],
   "source": [
    "df_black.to_csv('lq_black_1.csv',encoding='utf-8')"
   ]
  },
  {
   "cell_type": "code",
   "execution_count": null,
   "metadata": {
    "collapsed": true
   },
   "outputs": [],
   "source": []
  }
 ],
 "metadata": {
  "kernelspec": {
   "display_name": "Python 3",
   "language": "python",
   "name": "python3"
  },
  "language_info": {
   "codemirror_mode": {
    "name": "ipython",
    "version": 3
   },
   "file_extension": ".py",
   "mimetype": "text/x-python",
   "name": "python",
   "nbconvert_exporter": "python",
   "pygments_lexer": "ipython3",
   "version": "3.6.3"
  }
 },
 "nbformat": 4,
 "nbformat_minor": 2
}
