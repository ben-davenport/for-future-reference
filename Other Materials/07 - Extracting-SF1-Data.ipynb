{
 "metadata": {
  "name": ""
 },
 "nbformat": 3,
 "nbformat_minor": 0,
 "worksheets": [
  {
   "cells": [
    {
     "cell_type": "heading",
     "level": 1,
     "metadata": {},
     "source": [
      "Extracting 2010 Summary File 1 Data from the Census FTP Site"
     ]
    },
    {
     "cell_type": "markdown",
     "metadata": {},
     "source": [
      "This session processes the 2010 SF1 data at the census block level for the Bay Area.\n",
      "\n",
      "The data is downloaded as a large zip file for CA from here: \n",
      "http://www2.census.gov/census_2010/04-Summary_File_1/California/\n",
      "\n",
      "This zip file contains a packing list, a geography file, and 46 files containing SF1 tables.\n",
      "The purpose of this script is to create an HDF5 file in which we store one pandas DataFrame per SF1 table.\n",
      "\n",
      "The first processing step is to read the geographic file from a fixed-format ascii file in the zip file.\n",
      "The field names and positions are obtained from the documentation for SF1\n"
     ]
    },
    {
     "cell_type": "code",
     "collapsed": false,
     "input": [
      "import pandas as pd\n",
      "import numpy as np\n",
      "import os\n",
      "\n",
      "#We have to get the column names and the positions of each field from the documentation, and use read_fwf to parse this file\n",
      "names = ['fileid','stusab','sumlev','geocomp','chariter','cifsn','logrecno','region','division','state','county','countycc','countysc','cousub','cousubcc','cousubsc','place','placecc','placesc','tract','blkgrp','block','arealand','puma']\n",
      "colspecs =[(0,6),(6,8),(8,11),(11,13),(13,16),(16,18),(18,25),(25,26),(26,27),(27,29),(29,32),(32,34),(34,36),(36,41),(41,43),(43,45),(45,50),(50,52),(52,54),(54,60),(60,61),(61,66),(198,212),(477,482)]\n",
      "#In order to create a fipsblock field, we should keep the component fields as string values -- they would be set to int by default\n",
      "converters = {'state': lambda x: str(x),'county': lambda x: str(x),'tract': lambda x: str(x),'block': lambda x: str(x)}\n",
      "\n",
      "#Now read the geography file with the options set in the preceding lines\n",
      "df = pd.read_fwf('data/sf1/cageo2010.sf1',colspecs=colspecs,header=None,names=names, converters=converters)\n",
      "\n",
      "#keep the rows that are for the summary level for census block level of detail by skipping rows with an empty block value\n",
      "df_block = df[df.block>'']\n",
      "\n",
      "#keep only records that are for the Bay Area Counties\n",
      "df_bay = df_block[df_block.county.isin(['001','013','041','055','075','081','085','095','097'])]\n",
      "\n",
      "#recreate the fipsblock for merging later\n",
      "df_bay['blockfips'] = df_bay['state']+df_bay['county']+df_bay['tract']+df_bay['block']\n",
      "\n",
      "#drop extraneous fields\n",
      "columns_to_drop = ['fileid','stusab','sumlev','geocomp','chariter','cifsn','region','division','countycc','countysc','cousub','cousubcc','cousubsc','placecc','placesc','puma']\n",
      "df_bay = df_bay.drop(columns_to_drop,axis=1)\n",
      "df_bay"
     ],
     "language": "python",
     "metadata": {},
     "outputs": [
      {
       "html": [
        "<pre>\n",
        "&lt;class 'pandas.core.frame.DataFrame'&gt;\n",
        "Int64Index: 109228 entries, 24 to 721989\n",
        "Data columns (total 9 columns):\n",
        "logrecno     109228  non-null values\n",
        "state        109228  non-null values\n",
        "county       109228  non-null values\n",
        "place        109228  non-null values\n",
        "tract        109228  non-null values\n",
        "blkgrp       109228  non-null values\n",
        "block        109228  non-null values\n",
        "arealand     109228  non-null values\n",
        "blockfips    109228  non-null values\n",
        "dtypes: float64(2), int64(2), object(5)\n",
        "</pre>"
       ],
       "metadata": {},
       "output_type": "pyout",
       "prompt_number": 1,
       "text": [
        "<class 'pandas.core.frame.DataFrame'>\n",
        "Int64Index: 109228 entries, 24 to 721989\n",
        "Data columns (total 9 columns):\n",
        "logrecno     109228  non-null values\n",
        "state        109228  non-null values\n",
        "county       109228  non-null values\n",
        "place        109228  non-null values\n",
        "tract        109228  non-null values\n",
        "blkgrp       109228  non-null values\n",
        "block        109228  non-null values\n",
        "arealand     109228  non-null values\n",
        "blockfips    109228  non-null values\n",
        "dtypes: float64(2), int64(2), object(5)"
       ]
      }
     ],
     "prompt_number": 1
    },
    {
     "cell_type": "code",
     "collapsed": false,
     "input": [
      "print df_bay.groupby('county').count()"
     ],
     "language": "python",
     "metadata": {},
     "outputs": [
      {
       "output_type": "stream",
       "stream": "stdout",
       "text": [
        "        logrecno  state  county  place  tract  blkgrp  block  arealand  \\\n",
        "county                                                                   \n",
        "001        23956  23956   23956  23956  23956   23956  23956     23956   \n",
        "013        18309  18309   18309  18309  18309   18309  18309     18309   \n",
        "041         4506   4506    4506   4506   4506    4506   4506      4506   \n",
        "055         2771   2771    2771   2771   2771    2771   2771      2771   \n",
        "075         7386   7386    7386   7386   7386    7386   7386      7386   \n",
        "081         9262   9262    9262   9262   9262    9262   9262      9262   \n",
        "085        22367  22367   22367  22367  22367   22367  22367     22367   \n",
        "095        10282  10282   10282  10282  10282   10282  10282     10282   \n",
        "097        10389  10389   10389  10389  10389   10389  10389     10389   \n",
        "\n",
        "        blockfips  \n",
        "county             \n",
        "001         23956  \n",
        "013         18309  \n",
        "041          4506  \n",
        "055          2771  \n",
        "075          7386  \n",
        "081          9262  \n",
        "085         22367  \n",
        "095         10282  \n",
        "097         10389  \n"
       ]
      }
     ],
     "prompt_number": 5
    },
    {
     "cell_type": "code",
     "collapsed": false,
     "input": [
      "print df_bay[:20]"
     ],
     "language": "python",
     "metadata": {},
     "outputs": [
      {
       "output_type": "stream",
       "stream": "stdout",
       "text": [
        "    logrecno state county  place   tract  blkgrp block  arealand  \\\n",
        "24        25    06    001    562  427100       1  1000         0   \n",
        "25        26    06    001    562  427100       1  1001     79696   \n",
        "26        27    06    001    562  427100       1  1002       739   \n",
        "27        28    06    001    562  427100       1  1003     19546   \n",
        "28        29    06    001    562  427100       1  1004     14364   \n",
        "29        30    06    001    562  427100       1  1005      4501   \n",
        "30        31    06    001    562  427100       1  1006      1281   \n",
        "31        32    06    001    562  427100       1  1007     19020   \n",
        "32        33    06    001    562  427100       1  1008      2666   \n",
        "33        34    06    001    562  427100       1  1009         0   \n",
        "34        35    06    001    562  427100       1  1010     17285   \n",
        "35        36    06    001    562  427100       1  1011      1344   \n",
        "36        37    06    001    562  427100       1  1012       515   \n",
        "37        38    06    001    562  427100       1  1013     12109   \n",
        "38        39    06    001    562  427100       1  1014       372   \n",
        "39        40    06    001    562  427100       1  1015       281   \n",
        "40        41    06    001    562  427100       1  1016     10556   \n",
        "41        42    06    001    562  427100       1  1017      1105   \n",
        "42        43    06    001    562  427100       1  1018     23910   \n",
        "43        44    06    001    562  427100       1  1019      2071   \n",
        "\n",
        "          fipsblock  \n",
        "24  060014271001000  \n",
        "25  060014271001001  \n",
        "26  060014271001002  \n",
        "27  060014271001003  \n",
        "28  060014271001004  \n",
        "29  060014271001005  \n",
        "30  060014271001006  \n",
        "31  060014271001007  \n",
        "32  060014271001008  \n",
        "33  060014271001009  \n",
        "34  060014271001010  \n",
        "35  060014271001011  \n",
        "36  060014271001012  \n",
        "37  060014271001013  \n",
        "38  060014271001014  \n",
        "39  060014271001015  \n",
        "40  060014271001016  \n",
        "41  060014271001017  \n",
        "42  060014271001018  \n",
        "43  060014271001019  \n"
       ]
      }
     ],
     "prompt_number": 2
    },
    {
     "cell_type": "markdown",
     "metadata": {},
     "source": [
      "Now we need to get all the variable names associated with each table. This is embedded in an XML file\n",
      "http://www.census.gov/developers/data/sf1.xml. Use the xml package to import needed methods to parse and inspect this xml file."
     ]
    },
    {
     "cell_type": "code",
     "collapsed": false,
     "input": [
      "import xml.etree.ElementTree as ET\n",
      "dir = 'data/sf1/'\n",
      "path = dir+'sf1.xml'\n",
      "tree = ET.parse(path)\n",
      "root = tree.getroot()\n",
      "root.tag\n",
      "\n",
      "#Now step through each child of the parent node, which is the table/concept level, and get the variable names\n",
      "#that are children of these table nodes\n",
      "tables = {}\n",
      "for child in root:\n",
      "    #the child node contains a table name followed by a period, and then a longer description.  Split off the table name\n",
      "    table = child.attrib['name'].split('.')[0]\n",
      "    #Now accumulate all the variable names associated with this table\n",
      "    varlist = []\n",
      "    for gc in child:\n",
      "        varlist.append(gc.attrib['name'])\n",
      "    #convert the table names to lower case since we have lower case in other files like the packing list.\n",
      "    tables[str.lower(table)] = varlist\n",
      "print tables['p1']\n"
     ],
     "language": "python",
     "metadata": {},
     "outputs": [
      {
       "output_type": "stream",
       "stream": "stdout",
       "text": [
        "['P0010001']\n"
       ]
      }
     ],
     "prompt_number": 3
    },
    {
     "cell_type": "markdown",
     "metadata": {},
     "source": [
      "The SF1 zip file contained a geographic file that we parsed first, a packing list we will parse now, \n",
      "and 46 data tables, coming next. The packing list is in a strange ascii format, but tells us which tables are embedded in each of the 46 data tables."
     ]
    },
    {
     "cell_type": "code",
     "collapsed": false,
     "input": [
      "import re\n",
      "\n",
      "#open the packing list\n",
      "f = open(dir+'ca2010.sf1.prd.packinglist.txt', 'r')\n",
      "\n",
      "#initialize some counters and other variables we will use\n",
      "prevnum = 0\n",
      "tablelist = {}\n",
      "tabs = []\n",
      "linenum = 0\n",
      "\n",
      "#Now loop through the file, line by line, and focus on the lines that have information about our tables\n",
      "#which are lines 21 - 351\n",
      "for line in f:\n",
      "    linenum = linenum+1\n",
      "    if linenum in range(21,352):\n",
      "        \n",
      "        #since the lines in this file are not fixed format, we need to split the lines up based on separation characters\n",
      "        linelist = re.split('\\||\\:',line)\n",
      "        table=linelist[0]\n",
      "        filenum = linelist[1]\n",
      "        elements = linelist[2]\n",
      "        \n",
      "        #every time we get to a new file number, save the tables that are associated with the file number we just finished\n",
      "        #and reinitialize the table list (tabs)\n",
      "        if filenum != prevnum:\n",
      "            #now put all these into a tabs list\n",
      "            tablelist[prevnum] = tabs\n",
      "            prevnum = filenum\n",
      "            tabs = []\n",
      "        #the previous condition would not catch the very last file, so we add a special condition for that: last line of tables\n",
      "        if linenum == 351:\n",
      "            tablelist[filenum] = tabs\n",
      "        tabs.append(table)\n",
      "print tablelist['47']"
     ],
     "language": "python",
     "metadata": {},
     "outputs": [
      {
       "output_type": "stream",
       "stream": "stdout",
       "text": [
        "['hct1', 'hct2', 'hct3', 'hct4']\n"
       ]
      }
     ],
     "prompt_number": 4
    },
    {
     "cell_type": "markdown",
     "metadata": {},
     "source": [
      "The last step is to create an hdf5 database with one dataframe per sf1 table. We will compress the data, and skip tables that appear to be empty.\n"
     ]
    },
    {
     "cell_type": "code",
     "collapsed": false,
     "input": [
      "#initialize file numbers\n",
      "file_nums = []\n",
      "\n",
      "#initialize the HDF5 file we will write our results into, and set compression on so the file will be smaller\n",
      "dir='data/sf1/'\n",
      "store = pd.HDFStore(dir+'sf1.h5', complevel=9, complib='blosc')\n",
      "\n",
      "#Store first field names in each file\n",
      "firstnames = ['fileid', 'stusab', 'chariter', 'cifsn', 'logrecno']\n",
      "\n",
      "#begin loop to find all 46 files containing data.  Assign the correct variable names to the columns (there is no header row)\n",
      "\n",
      "for file in os.listdir(dir):\n",
      "    if file.endswith('.sf1'):\n",
      "        #get only the data tables, and skip the geo file we already processed\n",
      "        if not 'geo' in file:\n",
      "            #get the string version of the file number, since this needs to match the one in the packing list\n",
      "            file_n = str(int(file[5:7]))\n",
      "            \n",
      "            #keep the names of the initial columns\n",
      "            namelist = firstnames\n",
      "            \n",
      "            #add the names of the additional columns in the current table\n",
      "            for tablename in tablelist[file_n]:\n",
      "                namelist=namelist+tables[tablename]\n",
      "            \n",
      "            #read the file and assign its column names from the xml file, based on the table names in each file\n",
      "            df_seq = pd.read_csv(dir+file,header=None,names=namelist)\n",
      "            \n",
      "            #drop some extraneous columns\n",
      "            df_seq = df_seq.drop(['fileid', 'stusab', 'chariter', 'cifsn'],axis=1)\n",
      "            \n",
      "            #merge the bay_area geography dataframe with the table, keeping only Bay Area blocks\n",
      "            df_merge = pd.merge(df_bay,df_seq,left_on='logrecno',right_on='logrecno')\n",
      "            \n",
      "            #sweep through the columns and convert float64 to int to save space\n",
      "            for column in df_merge.columns:\n",
      "                if df_merge['%s' % (column)].dtype == 'float64':\n",
      "                    df_merge['%s' % (column)] = df_merge['%s' % (column)].astype('int')\n",
      "                    \n",
      "            #Generate a list of column names we need to write to each HDF5 node as a DataFrame, with one per SF1 table\n",
      "            for tablename in tablelist[file_n]:\n",
      "                columnlist = ['logrecno', 'blockfips', 'state', 'county', 'tract', 'blkgrp', 'block','arealand']+tables[tablename]\n",
      "                df_new = df_merge[columnlist]\n",
      "                \n",
      "                if df_new.shape[0]>0:\n",
      "                    store[tablename] = df_new\n",
      "                    print tablename, 'has ', df_new.shape[0], 'rows and is being saved'\n",
      "                #Skip tables that have no data\n",
      "                else:\n",
      "                    print tablename, 'is empty and will be skipped'\n",
      "\n",
      "\n",
      "print store['p1'][:5]\n",
      "print store\n",
      "store.close()"
     ],
     "language": "python",
     "metadata": {},
     "outputs": [
      {
       "output_type": "stream",
       "stream": "stdout",
       "text": [
        "p1 has  109228 rows and is being saved\n",
        "p2"
       ]
      },
      {
       "output_type": "stream",
       "stream": "stdout",
       "text": [
        " has  109228 rows and is being saved\n",
        "p3"
       ]
      },
      {
       "output_type": "stream",
       "stream": "stdout",
       "text": [
        " has  109228 rows and is being saved\n",
        "p4"
       ]
      },
      {
       "output_type": "stream",
       "stream": "stdout",
       "text": [
        " has  109228 rows and is being saved\n",
        "p5"
       ]
      },
      {
       "output_type": "stream",
       "stream": "stdout",
       "text": [
        " has  109228 rows and is being saved\n",
        "p6"
       ]
      },
      {
       "output_type": "stream",
       "stream": "stdout",
       "text": [
        " has  109228 rows and is being saved\n",
        "p7"
       ]
      },
      {
       "output_type": "stream",
       "stream": "stdout",
       "text": [
        " has  109228 rows and is being saved\n",
        "p8"
       ]
      },
      {
       "output_type": "stream",
       "stream": "stdout",
       "text": [
        " has  109228 rows and is being saved\n",
        "p9"
       ]
      },
      {
       "output_type": "stream",
       "stream": "stdout",
       "text": [
        " has  109228 rows and is being saved\n",
        "p10"
       ]
      },
      {
       "output_type": "stream",
       "stream": "stdout",
       "text": [
        " has  109228 rows and is being saved\n",
        "p11"
       ]
      },
      {
       "output_type": "stream",
       "stream": "stdout",
       "text": [
        " has  109228 rows and is being saved\n",
        "p12"
       ]
      },
      {
       "output_type": "stream",
       "stream": "stdout",
       "text": [
        " has  109228 rows and is being saved\n",
        "p13"
       ]
      },
      {
       "output_type": "stream",
       "stream": "stdout",
       "text": [
        " has  109228 rows and is being saved\n",
        "p14"
       ]
      },
      {
       "output_type": "stream",
       "stream": "stdout",
       "text": [
        " has  109228 rows and is being saved\n",
        "p15"
       ]
      },
      {
       "output_type": "stream",
       "stream": "stdout",
       "text": [
        " has  109228 rows and is being saved\n",
        "p16"
       ]
      },
      {
       "output_type": "stream",
       "stream": "stdout",
       "text": [
        " has  109228 rows and is being saved\n",
        "p17"
       ]
      },
      {
       "output_type": "stream",
       "stream": "stdout",
       "text": [
        " has  109228 rows and is being saved\n",
        "p18"
       ]
      },
      {
       "output_type": "stream",
       "stream": "stdout",
       "text": [
        " has  109228 rows and is being saved\n",
        "p19"
       ]
      },
      {
       "output_type": "stream",
       "stream": "stdout",
       "text": [
        " has  109228 rows and is being saved\n",
        "p20"
       ]
      },
      {
       "output_type": "stream",
       "stream": "stdout",
       "text": [
        " has  109228 rows and is being saved\n",
        "p21"
       ]
      },
      {
       "output_type": "stream",
       "stream": "stdout",
       "text": [
        " has  109228 rows and is being saved\n",
        "p22"
       ]
      },
      {
       "output_type": "stream",
       "stream": "stdout",
       "text": [
        " has  109228 rows and is being saved\n",
        "p23"
       ]
      },
      {
       "output_type": "stream",
       "stream": "stdout",
       "text": [
        " has  109228 rows and is being saved\n",
        "p24"
       ]
      },
      {
       "output_type": "stream",
       "stream": "stdout",
       "text": [
        " has  109228 rows and is being saved\n",
        "p25"
       ]
      },
      {
       "output_type": "stream",
       "stream": "stdout",
       "text": [
        " has  109228 rows and is being saved\n",
        "p26"
       ]
      },
      {
       "output_type": "stream",
       "stream": "stdout",
       "text": [
        " has  109228 rows and is being saved\n",
        "p27"
       ]
      },
      {
       "output_type": "stream",
       "stream": "stdout",
       "text": [
        " has  109228 rows and is being saved\n",
        "p28"
       ]
      },
      {
       "output_type": "stream",
       "stream": "stdout",
       "text": [
        " has  109228 rows and is being saved\n",
        "p29"
       ]
      },
      {
       "output_type": "stream",
       "stream": "stdout",
       "text": [
        " has  109228 rows and is being saved\n",
        "p30"
       ]
      },
      {
       "output_type": "stream",
       "stream": "stdout",
       "text": [
        " has  109228 rows and is being saved\n",
        "p31"
       ]
      },
      {
       "output_type": "stream",
       "stream": "stdout",
       "text": [
        " has  109228 rows and is being saved\n",
        "p32"
       ]
      },
      {
       "output_type": "stream",
       "stream": "stdout",
       "text": [
        " has  109228 rows and is being saved\n",
        "p33"
       ]
      },
      {
       "output_type": "stream",
       "stream": "stdout",
       "text": [
        " has  109228 rows and is being saved\n",
        "p34"
       ]
      },
      {
       "output_type": "stream",
       "stream": "stdout",
       "text": [
        " has  109228 rows and is being saved\n",
        "p35"
       ]
      },
      {
       "output_type": "stream",
       "stream": "stdout",
       "text": [
        " has  109228 rows and is being saved\n",
        "p36"
       ]
      },
      {
       "output_type": "stream",
       "stream": "stdout",
       "text": [
        " has  109228 rows and is being saved\n",
        "p37"
       ]
      },
      {
       "output_type": "stream",
       "stream": "stdout",
       "text": [
        " has  109228 rows and is being saved\n",
        "p38"
       ]
      },
      {
       "output_type": "stream",
       "stream": "stdout",
       "text": [
        " has  109228 rows and is being saved\n",
        "p39"
       ]
      },
      {
       "output_type": "stream",
       "stream": "stdout",
       "text": [
        " has  109228 rows and is being saved\n",
        "p40"
       ]
      },
      {
       "output_type": "stream",
       "stream": "stdout",
       "text": [
        " has  109228 rows and is being saved\n",
        "p41"
       ]
      },
      {
       "output_type": "stream",
       "stream": "stdout",
       "text": [
        " has  109228 rows and is being saved\n",
        "p42"
       ]
      },
      {
       "output_type": "stream",
       "stream": "stdout",
       "text": [
        " has  109228 rows and is being saved\n",
        "p43"
       ]
      },
      {
       "output_type": "stream",
       "stream": "stdout",
       "text": [
        " has  109228 rows and is being saved\n",
        "p44"
       ]
      },
      {
       "output_type": "stream",
       "stream": "stdout",
       "text": [
        " has  109228 rows and is being saved\n",
        "p45"
       ]
      },
      {
       "output_type": "stream",
       "stream": "stdout",
       "text": [
        " has  109228 rows and is being saved\n",
        "p46"
       ]
      },
      {
       "output_type": "stream",
       "stream": "stdout",
       "text": [
        " has  109228 rows and is being saved\n",
        "p47"
       ]
      },
      {
       "output_type": "stream",
       "stream": "stdout",
       "text": [
        " has  109228 rows and is being saved\n",
        "p48"
       ]
      },
      {
       "output_type": "stream",
       "stream": "stdout",
       "text": [
        " has  109228 rows and is being saved\n",
        "p49"
       ]
      },
      {
       "output_type": "stream",
       "stream": "stdout",
       "text": [
        " has  109228 rows and is being saved\n",
        "p50"
       ]
      },
      {
       "output_type": "stream",
       "stream": "stdout",
       "text": [
        " has  109228 rows and is being saved\n",
        "p51"
       ]
      },
      {
       "output_type": "stream",
       "stream": "stdout",
       "text": [
        " has  109228 rows and is being saved\n",
        "p12a"
       ]
      },
      {
       "output_type": "stream",
       "stream": "stdout",
       "text": [
        " has  109228 rows and is being saved\n",
        "p12b"
       ]
      },
      {
       "output_type": "stream",
       "stream": "stdout",
       "text": [
        " has  109228 rows and is being saved\n",
        "p12c"
       ]
      },
      {
       "output_type": "stream",
       "stream": "stdout",
       "text": [
        " has  109228 rows and is being saved\n",
        "p12d"
       ]
      },
      {
       "output_type": "stream",
       "stream": "stdout",
       "text": [
        " has  109228 rows and is being saved\n",
        "p12e"
       ]
      },
      {
       "output_type": "stream",
       "stream": "stdout",
       "text": [
        " has  109228 rows and is being saved\n",
        "p12f"
       ]
      },
      {
       "output_type": "stream",
       "stream": "stdout",
       "text": [
        " has  109228 rows and is being saved\n",
        "p12g"
       ]
      },
      {
       "output_type": "stream",
       "stream": "stdout",
       "text": [
        " has  109228 rows and is being saved\n",
        "p12h"
       ]
      },
      {
       "output_type": "stream",
       "stream": "stdout",
       "text": [
        " has  109228 rows and is being saved\n",
        "p12i"
       ]
      },
      {
       "output_type": "stream",
       "stream": "stdout",
       "text": [
        " has  109228 rows and is being saved\n",
        "p13a"
       ]
      },
      {
       "output_type": "stream",
       "stream": "stdout",
       "text": [
        " has  109228 rows and is being saved\n",
        "p13b"
       ]
      },
      {
       "output_type": "stream",
       "stream": "stdout",
       "text": [
        " has  109228 rows and is being saved\n",
        "p13c"
       ]
      },
      {
       "output_type": "stream",
       "stream": "stdout",
       "text": [
        " has  109228 rows and is being saved\n",
        "p13d"
       ]
      },
      {
       "output_type": "stream",
       "stream": "stdout",
       "text": [
        " has  109228 rows and is being saved\n",
        "p13e"
       ]
      },
      {
       "output_type": "stream",
       "stream": "stdout",
       "text": [
        " has  109228 rows and is being saved\n",
        "p13f"
       ]
      },
      {
       "output_type": "stream",
       "stream": "stdout",
       "text": [
        " has  109228 rows and is being saved\n",
        "p13g"
       ]
      },
      {
       "output_type": "stream",
       "stream": "stdout",
       "text": [
        " has  109228 rows and is being saved\n",
        "p13h"
       ]
      },
      {
       "output_type": "stream",
       "stream": "stdout",
       "text": [
        " has  109228 rows and is being saved\n",
        "p13i"
       ]
      },
      {
       "output_type": "stream",
       "stream": "stdout",
       "text": [
        " has  109228 rows and is being saved\n",
        "p16a"
       ]
      },
      {
       "output_type": "stream",
       "stream": "stdout",
       "text": [
        " has  109228 rows and is being saved\n",
        "p16b"
       ]
      },
      {
       "output_type": "stream",
       "stream": "stdout",
       "text": [
        " has  109228 rows and is being saved\n",
        "p16c"
       ]
      },
      {
       "output_type": "stream",
       "stream": "stdout",
       "text": [
        " has  109228 rows and is being saved\n",
        "p16d"
       ]
      },
      {
       "output_type": "stream",
       "stream": "stdout",
       "text": [
        " has  109228 rows and is being saved\n",
        "p16e"
       ]
      },
      {
       "output_type": "stream",
       "stream": "stdout",
       "text": [
        " has  109228 rows and is being saved\n",
        "p16f"
       ]
      },
      {
       "output_type": "stream",
       "stream": "stdout",
       "text": [
        " has  109228 rows and is being saved\n",
        "p16g"
       ]
      },
      {
       "output_type": "stream",
       "stream": "stdout",
       "text": [
        " has  109228 rows and is being saved\n",
        "p16h"
       ]
      },
      {
       "output_type": "stream",
       "stream": "stdout",
       "text": [
        " has  109228 rows and is being saved\n",
        "p16i"
       ]
      },
      {
       "output_type": "stream",
       "stream": "stdout",
       "text": [
        " has  109228 rows and is being saved\n",
        "p17a"
       ]
      },
      {
       "output_type": "stream",
       "stream": "stdout",
       "text": [
        " has  109228 rows and is being saved\n",
        "p17b"
       ]
      },
      {
       "output_type": "stream",
       "stream": "stdout",
       "text": [
        " has  109228 rows and is being saved\n",
        "p17c"
       ]
      },
      {
       "output_type": "stream",
       "stream": "stdout",
       "text": [
        " has  109228 rows and is being saved\n",
        "p17d"
       ]
      },
      {
       "output_type": "stream",
       "stream": "stdout",
       "text": [
        " has  109228 rows and is being saved\n",
        "p17e"
       ]
      },
      {
       "output_type": "stream",
       "stream": "stdout",
       "text": [
        " has  109228 rows and is being saved\n",
        "p17f"
       ]
      },
      {
       "output_type": "stream",
       "stream": "stdout",
       "text": [
        " has  109228 rows and is being saved\n",
        "p17g"
       ]
      },
      {
       "output_type": "stream",
       "stream": "stdout",
       "text": [
        " has  109228 rows and is being saved\n",
        "p17h"
       ]
      },
      {
       "output_type": "stream",
       "stream": "stdout",
       "text": [
        " has  109228 rows and is being saved\n",
        "p17i"
       ]
      },
      {
       "output_type": "stream",
       "stream": "stdout",
       "text": [
        " has  109228 rows and is being saved\n",
        "p18a"
       ]
      },
      {
       "output_type": "stream",
       "stream": "stdout",
       "text": [
        " has  109228 rows and is being saved\n",
        "p18b"
       ]
      },
      {
       "output_type": "stream",
       "stream": "stdout",
       "text": [
        " has  109228 rows and is being saved\n",
        "p18c"
       ]
      },
      {
       "output_type": "stream",
       "stream": "stdout",
       "text": [
        " has  109228 rows and is being saved\n",
        "p18d"
       ]
      },
      {
       "output_type": "stream",
       "stream": "stdout",
       "text": [
        " has  109228 rows and is being saved\n",
        "p18e"
       ]
      },
      {
       "output_type": "stream",
       "stream": "stdout",
       "text": [
        " has  109228 rows and is being saved\n",
        "p18f"
       ]
      },
      {
       "output_type": "stream",
       "stream": "stdout",
       "text": [
        " has  109228 rows and is being saved\n",
        "p18g"
       ]
      },
      {
       "output_type": "stream",
       "stream": "stdout",
       "text": [
        " has  109228 rows and is being saved\n",
        "p18h"
       ]
      },
      {
       "output_type": "stream",
       "stream": "stdout",
       "text": [
        " has  109228 rows and is being saved\n",
        "p18i"
       ]
      },
      {
       "output_type": "stream",
       "stream": "stdout",
       "text": [
        " has  109228 rows and is being saved\n",
        "p28a"
       ]
      },
      {
       "output_type": "stream",
       "stream": "stdout",
       "text": [
        " has  109228 rows and is being saved\n",
        "p28b"
       ]
      },
      {
       "output_type": "stream",
       "stream": "stdout",
       "text": [
        " has  109228 rows and is being saved\n",
        "p28c"
       ]
      },
      {
       "output_type": "stream",
       "stream": "stdout",
       "text": [
        " has  109228 rows and is being saved\n",
        "p28d"
       ]
      },
      {
       "output_type": "stream",
       "stream": "stdout",
       "text": [
        " has  109228 rows and is being saved\n",
        "p28e"
       ]
      },
      {
       "output_type": "stream",
       "stream": "stdout",
       "text": [
        " has  109228 rows and is being saved\n",
        "p28f"
       ]
      },
      {
       "output_type": "stream",
       "stream": "stdout",
       "text": [
        " has  109228 rows and is being saved\n",
        "p28g"
       ]
      },
      {
       "output_type": "stream",
       "stream": "stdout",
       "text": [
        " has  109228 rows and is being saved\n",
        "p28h"
       ]
      },
      {
       "output_type": "stream",
       "stream": "stdout",
       "text": [
        " has  109228 rows and is being saved\n",
        "p28i"
       ]
      },
      {
       "output_type": "stream",
       "stream": "stdout",
       "text": [
        " has  109228 rows and is being saved\n",
        "p29a"
       ]
      },
      {
       "output_type": "stream",
       "stream": "stdout",
       "text": [
        " has  109228 rows and is being saved\n",
        "p29b"
       ]
      },
      {
       "output_type": "stream",
       "stream": "stdout",
       "text": [
        " has  109228 rows and is being saved\n",
        "p29c"
       ]
      },
      {
       "output_type": "stream",
       "stream": "stdout",
       "text": [
        " has  109228 rows and is being saved\n",
        "p29d"
       ]
      },
      {
       "output_type": "stream",
       "stream": "stdout",
       "text": [
        " has  109228 rows and is being saved\n",
        "p29e"
       ]
      },
      {
       "output_type": "stream",
       "stream": "stdout",
       "text": [
        " has  109228 rows and is being saved\n",
        "p29f"
       ]
      },
      {
       "output_type": "stream",
       "stream": "stdout",
       "text": [
        " has  109228 rows and is being saved\n",
        "p29g"
       ]
      },
      {
       "output_type": "stream",
       "stream": "stdout",
       "text": [
        " has  109228 rows and is being saved\n",
        "p29h"
       ]
      },
      {
       "output_type": "stream",
       "stream": "stdout",
       "text": [
        " has  109228 rows and is being saved\n",
        "p29i"
       ]
      },
      {
       "output_type": "stream",
       "stream": "stdout",
       "text": [
        " has  109228 rows and is being saved\n",
        "p31a"
       ]
      },
      {
       "output_type": "stream",
       "stream": "stdout",
       "text": [
        " has  109228 rows and is being saved\n",
        "p31b"
       ]
      },
      {
       "output_type": "stream",
       "stream": "stdout",
       "text": [
        " has  109228 rows and is being saved\n",
        "p31c"
       ]
      },
      {
       "output_type": "stream",
       "stream": "stdout",
       "text": [
        " has  109228 rows and is being saved\n",
        "p31d"
       ]
      },
      {
       "output_type": "stream",
       "stream": "stdout",
       "text": [
        " has  109228 rows and is being saved\n",
        "p31e"
       ]
      },
      {
       "output_type": "stream",
       "stream": "stdout",
       "text": [
        " has  109228 rows and is being saved\n",
        "p31f"
       ]
      },
      {
       "output_type": "stream",
       "stream": "stdout",
       "text": [
        " has  109228 rows and is being saved\n",
        "p31g"
       ]
      },
      {
       "output_type": "stream",
       "stream": "stdout",
       "text": [
        " has  109228 rows and is being saved\n",
        "p31h"
       ]
      },
      {
       "output_type": "stream",
       "stream": "stdout",
       "text": [
        " has  109228 rows and is being saved\n",
        "p31i"
       ]
      },
      {
       "output_type": "stream",
       "stream": "stdout",
       "text": [
        " has  109228 rows and is being saved\n",
        "p34a"
       ]
      },
      {
       "output_type": "stream",
       "stream": "stdout",
       "text": [
        " has  109228 rows and is being saved\n",
        "p34b"
       ]
      },
      {
       "output_type": "stream",
       "stream": "stdout",
       "text": [
        " has  109228 rows and is being saved\n",
        "p34c"
       ]
      },
      {
       "output_type": "stream",
       "stream": "stdout",
       "text": [
        " has  109228 rows and is being saved\n",
        "p34d"
       ]
      },
      {
       "output_type": "stream",
       "stream": "stdout",
       "text": [
        " has  109228 rows and is being saved\n",
        "p34e"
       ]
      },
      {
       "output_type": "stream",
       "stream": "stdout",
       "text": [
        " has  109228 rows and is being saved\n",
        "p34f"
       ]
      },
      {
       "output_type": "stream",
       "stream": "stdout",
       "text": [
        " has  109228 rows and is being saved\n",
        "p34g"
       ]
      },
      {
       "output_type": "stream",
       "stream": "stdout",
       "text": [
        " has  109228 rows and is being saved\n",
        "p34h"
       ]
      },
      {
       "output_type": "stream",
       "stream": "stdout",
       "text": [
        " has  109228 rows and is being saved\n",
        "p34i"
       ]
      },
      {
       "output_type": "stream",
       "stream": "stdout",
       "text": [
        " has  109228 rows and is being saved\n",
        "p35a"
       ]
      },
      {
       "output_type": "stream",
       "stream": "stdout",
       "text": [
        " has  109228 rows and is being saved\n",
        "p35b"
       ]
      },
      {
       "output_type": "stream",
       "stream": "stdout",
       "text": [
        " has  109228 rows and is being saved\n",
        "p35c"
       ]
      },
      {
       "output_type": "stream",
       "stream": "stdout",
       "text": [
        " has  109228 rows and is being saved\n",
        "p35d"
       ]
      },
      {
       "output_type": "stream",
       "stream": "stdout",
       "text": [
        " has  109228 rows and is being saved\n",
        "p35e"
       ]
      },
      {
       "output_type": "stream",
       "stream": "stdout",
       "text": [
        " has  109228 rows and is being saved\n",
        "p35f"
       ]
      },
      {
       "output_type": "stream",
       "stream": "stdout",
       "text": [
        " has  109228 rows and is being saved\n",
        "p35g"
       ]
      },
      {
       "output_type": "stream",
       "stream": "stdout",
       "text": [
        " has  109228 rows and is being saved\n",
        "p35h"
       ]
      },
      {
       "output_type": "stream",
       "stream": "stdout",
       "text": [
        " has  109228 rows and is being saved\n",
        "p35i"
       ]
      },
      {
       "output_type": "stream",
       "stream": "stdout",
       "text": [
        " has  109228 rows and is being saved\n",
        "p36a"
       ]
      },
      {
       "output_type": "stream",
       "stream": "stdout",
       "text": [
        " has  109228 rows and is being saved\n",
        "p36b"
       ]
      },
      {
       "output_type": "stream",
       "stream": "stdout",
       "text": [
        " has  109228 rows and is being saved\n",
        "p36c"
       ]
      },
      {
       "output_type": "stream",
       "stream": "stdout",
       "text": [
        " has  109228 rows and is being saved\n",
        "p36d"
       ]
      },
      {
       "output_type": "stream",
       "stream": "stdout",
       "text": [
        " has  109228 rows and is being saved\n",
        "p36e"
       ]
      },
      {
       "output_type": "stream",
       "stream": "stdout",
       "text": [
        " has  109228 rows and is being saved\n",
        "p36f"
       ]
      },
      {
       "output_type": "stream",
       "stream": "stdout",
       "text": [
        " has  109228 rows and is being saved\n",
        "p36g"
       ]
      },
      {
       "output_type": "stream",
       "stream": "stdout",
       "text": [
        " has  109228 rows and is being saved\n",
        "p36h"
       ]
      },
      {
       "output_type": "stream",
       "stream": "stdout",
       "text": [
        " has  109228 rows and is being saved\n",
        "p36i"
       ]
      },
      {
       "output_type": "stream",
       "stream": "stdout",
       "text": [
        " has  109228 rows and is being saved\n",
        "p37a"
       ]
      },
      {
       "output_type": "stream",
       "stream": "stdout",
       "text": [
        " has  109228 rows and is being saved\n",
        "p37b"
       ]
      },
      {
       "output_type": "stream",
       "stream": "stdout",
       "text": [
        " has  109228 rows and is being saved\n",
        "p37c"
       ]
      },
      {
       "output_type": "stream",
       "stream": "stdout",
       "text": [
        " has  109228 rows and is being saved\n",
        "p37d"
       ]
      },
      {
       "output_type": "stream",
       "stream": "stdout",
       "text": [
        " has  109228 rows and is being saved\n",
        "p37e"
       ]
      },
      {
       "output_type": "stream",
       "stream": "stdout",
       "text": [
        " has  109228 rows and is being saved\n",
        "p37f"
       ]
      },
      {
       "output_type": "stream",
       "stream": "stdout",
       "text": [
        " has  109228 rows and is being saved\n",
        "p37g"
       ]
      },
      {
       "output_type": "stream",
       "stream": "stdout",
       "text": [
        " has  109228 rows and is being saved\n",
        "p37h"
       ]
      },
      {
       "output_type": "stream",
       "stream": "stdout",
       "text": [
        " has  109228 rows and is being saved\n",
        "p37i"
       ]
      },
      {
       "output_type": "stream",
       "stream": "stdout",
       "text": [
        " has  109228 rows and is being saved\n",
        "p38a"
       ]
      },
      {
       "output_type": "stream",
       "stream": "stdout",
       "text": [
        " has  109228 rows and is being saved\n",
        "p38b"
       ]
      },
      {
       "output_type": "stream",
       "stream": "stdout",
       "text": [
        " has  109228 rows and is being saved\n",
        "p38c"
       ]
      },
      {
       "output_type": "stream",
       "stream": "stdout",
       "text": [
        " has  109228 rows and is being saved\n",
        "p38d"
       ]
      },
      {
       "output_type": "stream",
       "stream": "stdout",
       "text": [
        " has  109228 rows and is being saved\n",
        "p38e"
       ]
      },
      {
       "output_type": "stream",
       "stream": "stdout",
       "text": [
        " has  109228 rows and is being saved\n",
        "p38f"
       ]
      },
      {
       "output_type": "stream",
       "stream": "stdout",
       "text": [
        " has  109228 rows and is being saved\n",
        "p38g"
       ]
      },
      {
       "output_type": "stream",
       "stream": "stdout",
       "text": [
        " has  109228 rows and is being saved\n",
        "p38h"
       ]
      },
      {
       "output_type": "stream",
       "stream": "stdout",
       "text": [
        " has  109228 rows and is being saved\n",
        "p38i"
       ]
      },
      {
       "output_type": "stream",
       "stream": "stdout",
       "text": [
        " has  109228 rows and is being saved\n",
        "p39a"
       ]
      },
      {
       "output_type": "stream",
       "stream": "stdout",
       "text": [
        " has  109228 rows and is being saved\n",
        "p39b"
       ]
      },
      {
       "output_type": "stream",
       "stream": "stdout",
       "text": [
        " has  109228 rows and is being saved\n",
        "p39c"
       ]
      },
      {
       "output_type": "stream",
       "stream": "stdout",
       "text": [
        " has  109228 rows and is being saved\n",
        "p39d"
       ]
      },
      {
       "output_type": "stream",
       "stream": "stdout",
       "text": [
        " has  109228 rows and is being saved\n",
        "p39e"
       ]
      },
      {
       "output_type": "stream",
       "stream": "stdout",
       "text": [
        " has  109228 rows and is being saved\n",
        "p39f"
       ]
      },
      {
       "output_type": "stream",
       "stream": "stdout",
       "text": [
        " has  109228 rows and is being saved\n",
        "p39g"
       ]
      },
      {
       "output_type": "stream",
       "stream": "stdout",
       "text": [
        " has  109228 rows and is being saved\n",
        "p39h"
       ]
      },
      {
       "output_type": "stream",
       "stream": "stdout",
       "text": [
        " has  109228 rows and is being saved\n",
        "p39i"
       ]
      },
      {
       "output_type": "stream",
       "stream": "stdout",
       "text": [
        " has  109228 rows and is being saved\n",
        "pct1"
       ]
      },
      {
       "output_type": "stream",
       "stream": "stdout",
       "text": [
        " is empty and will be skipped\n",
        "pct2 is empty and will be skipped\n",
        "pct3 is empty and will be skipped\n",
        "pct4 is empty and will be skipped\n",
        "pct5 is empty and will be skipped\n",
        "pct6 is empty and will be skipped\n",
        "pct7 is empty and will be skipped\n",
        "pct8 is empty and will be skipped\n",
        "pct9"
       ]
      },
      {
       "output_type": "stream",
       "stream": "stdout",
       "text": [
        " is empty and will be skipped\n",
        "pct10 is empty and will be skipped\n",
        "pct11 is empty and will be skipped\n",
        "pct12"
       ]
      },
      {
       "output_type": "stream",
       "stream": "stdout",
       "text": [
        " is empty and will be skipped\n",
        "pct13"
       ]
      },
      {
       "output_type": "stream",
       "stream": "stdout",
       "text": [
        " is empty and will be skipped\n",
        "pct14 is empty and will be skipped\n",
        "pct15 is empty and will be skipped\n",
        "pct16 is empty and will be skipped\n",
        "pct17 is empty and will be skipped\n",
        "pct18 is empty and will be skipped\n",
        "pct19 is empty and will be skipped\n",
        "pct20 is empty and will be skipped\n",
        "pct21"
       ]
      },
      {
       "output_type": "stream",
       "stream": "stdout",
       "text": [
        " is empty and will be skipped\n",
        "pct22 is empty and will be skipped\n",
        "pct12a"
       ]
      },
      {
       "output_type": "stream",
       "stream": "stdout",
       "text": [
        " is empty and will be skipped\n",
        "pct12b"
       ]
      },
      {
       "output_type": "stream",
       "stream": "stdout",
       "text": [
        " is empty and will be skipped\n",
        "pct12c"
       ]
      },
      {
       "output_type": "stream",
       "stream": "stdout",
       "text": [
        " is empty and will be skipped\n",
        "pct12d"
       ]
      },
      {
       "output_type": "stream",
       "stream": "stdout",
       "text": [
        " is empty and will be skipped\n",
        "pct12e"
       ]
      },
      {
       "output_type": "stream",
       "stream": "stdout",
       "text": [
        " is empty and will be skipped\n",
        "pct12f"
       ]
      },
      {
       "output_type": "stream",
       "stream": "stdout",
       "text": [
        " is empty and will be skipped\n",
        "pct12g"
       ]
      },
      {
       "output_type": "stream",
       "stream": "stdout",
       "text": [
        " is empty and will be skipped\n",
        "pct12h"
       ]
      },
      {
       "output_type": "stream",
       "stream": "stdout",
       "text": [
        " is empty and will be skipped\n",
        "pct12i"
       ]
      },
      {
       "output_type": "stream",
       "stream": "stdout",
       "text": [
        " is empty and will be skipped\n",
        "pct12j"
       ]
      },
      {
       "output_type": "stream",
       "stream": "stdout",
       "text": [
        " is empty and will be skipped\n",
        "pct12k"
       ]
      },
      {
       "output_type": "stream",
       "stream": "stdout",
       "text": [
        " is empty and will be skipped\n",
        "pct12l"
       ]
      },
      {
       "output_type": "stream",
       "stream": "stdout",
       "text": [
        " is empty and will be skipped\n",
        "pct12m"
       ]
      },
      {
       "output_type": "stream",
       "stream": "stdout",
       "text": [
        " is empty and will be skipped\n",
        "pct12n"
       ]
      },
      {
       "output_type": "stream",
       "stream": "stdout",
       "text": [
        " is empty and will be skipped\n",
        "pct12o"
       ]
      },
      {
       "output_type": "stream",
       "stream": "stdout",
       "text": [
        " is empty and will be skipped\n",
        "pct13a"
       ]
      },
      {
       "output_type": "stream",
       "stream": "stdout",
       "text": [
        " is empty and will be skipped\n",
        "pct13b is empty and will be skipped\n",
        "pct13c is empty and will be skipped\n",
        "pct13d is empty and will be skipped\n",
        "pct13e is empty and will be skipped\n",
        "pct13f"
       ]
      },
      {
       "output_type": "stream",
       "stream": "stdout",
       "text": [
        " is empty and will be skipped\n",
        "pct13g is empty and will be skipped\n",
        "pct13h is empty and will be skipped\n",
        "pct13i is empty and will be skipped\n",
        "pct14a is empty and will be skipped\n",
        "pct14b is empty and will be skipped\n",
        "pct14c is empty and will be skipped\n",
        "pct14d is empty and will be skipped\n",
        "pct14e is empty and will be skipped\n",
        "pct14f is empty and will be skipped\n",
        "pct14g is empty and will be skipped\n",
        "pct14h is empty and will be skipped\n",
        "pct14i is empty and will be skipped\n",
        "pct19a is empty and will be skipped\n",
        "pct19b is empty and will be skipped\n",
        "pct19c"
       ]
      },
      {
       "output_type": "stream",
       "stream": "stdout",
       "text": [
        " is empty and will be skipped\n",
        "pct19d is empty and will be skipped\n",
        "pct19e is empty and will be skipped\n",
        "pct19f is empty and will be skipped\n",
        "pct19g is empty and will be skipped\n",
        "pct19h is empty and will be skipped\n",
        "pct19i is empty and will be skipped\n",
        "pct20a is empty and will be skipped\n",
        "pct20b is empty and will be skipped\n",
        "pct20c is empty and will be skipped\n",
        "pct20d is empty and will be skipped\n",
        "pct20e is empty and will be skipped\n",
        "pct20f"
       ]
      },
      {
       "output_type": "stream",
       "stream": "stdout",
       "text": [
        " is empty and will be skipped\n",
        "pct20g is empty and will be skipped\n",
        "pct20h is empty and will be skipped\n",
        "pct20i is empty and will be skipped\n",
        "pct22a is empty and will be skipped\n",
        "pct22b is empty and will be skipped\n",
        "pct22c is empty and will be skipped\n",
        "pct22d is empty and will be skipped\n",
        "pct22e is empty and will be skipped\n",
        "pct22f is empty and will be skipped\n",
        "pct22g"
       ]
      },
      {
       "output_type": "stream",
       "stream": "stdout",
       "text": [
        " is empty and will be skipped\n",
        "pct22h is empty and will be skipped\n",
        "pct22i is empty and will be skipped\n",
        "pco1"
       ]
      },
      {
       "output_type": "stream",
       "stream": "stdout",
       "text": [
        " is empty and will be skipped\n",
        "pco2 is empty and will be skipped\n",
        "pco3 is empty and will be skipped\n",
        "pco4 is empty and will be skipped\n",
        "pco5 is empty and will be skipped\n",
        "pco6 is empty and will be skipped\n",
        "pco7"
       ]
      },
      {
       "output_type": "stream",
       "stream": "stdout",
       "text": [
        " is empty and will be skipped\n",
        "pco8 is empty and will be skipped\n",
        "pco9 is empty and will be skipped\n",
        "pco10 is empty and will be skipped\n",
        "h1"
       ]
      },
      {
       "output_type": "stream",
       "stream": "stdout",
       "text": [
        " has  109228 rows and is being saved\n",
        "h2"
       ]
      },
      {
       "output_type": "stream",
       "stream": "stdout",
       "text": [
        " has  109228 rows and is being saved\n",
        "h3"
       ]
      },
      {
       "output_type": "stream",
       "stream": "stdout",
       "text": [
        " has  109228 rows and is being saved\n",
        "h4"
       ]
      },
      {
       "output_type": "stream",
       "stream": "stdout",
       "text": [
        " has  109228 rows and is being saved\n",
        "h5"
       ]
      },
      {
       "output_type": "stream",
       "stream": "stdout",
       "text": [
        " has  109228 rows and is being saved\n",
        "h6"
       ]
      },
      {
       "output_type": "stream",
       "stream": "stdout",
       "text": [
        " has  109228 rows and is being saved\n",
        "h7"
       ]
      },
      {
       "output_type": "stream",
       "stream": "stdout",
       "text": [
        " has  109228 rows and is being saved\n",
        "h8"
       ]
      },
      {
       "output_type": "stream",
       "stream": "stdout",
       "text": [
        " has  109228 rows and is being saved\n",
        "h9"
       ]
      },
      {
       "output_type": "stream",
       "stream": "stdout",
       "text": [
        " has  109228 rows and is being saved\n",
        "h10"
       ]
      },
      {
       "output_type": "stream",
       "stream": "stdout",
       "text": [
        " has  109228 rows and is being saved\n",
        "h11"
       ]
      },
      {
       "output_type": "stream",
       "stream": "stdout",
       "text": [
        " has  109228 rows and is being saved\n",
        "h12"
       ]
      },
      {
       "output_type": "stream",
       "stream": "stdout",
       "text": [
        " has  109228 rows and is being saved\n",
        "h13"
       ]
      },
      {
       "output_type": "stream",
       "stream": "stdout",
       "text": [
        " has  109228 rows and is being saved\n",
        "h14"
       ]
      },
      {
       "output_type": "stream",
       "stream": "stdout",
       "text": [
        " has  109228 rows and is being saved\n",
        "h15"
       ]
      },
      {
       "output_type": "stream",
       "stream": "stdout",
       "text": [
        " has  109228 rows and is being saved\n",
        "h16"
       ]
      },
      {
       "output_type": "stream",
       "stream": "stdout",
       "text": [
        " has  109228 rows and is being saved\n",
        "h17"
       ]
      },
      {
       "output_type": "stream",
       "stream": "stdout",
       "text": [
        " has  109228 rows and is being saved\n",
        "h18"
       ]
      },
      {
       "output_type": "stream",
       "stream": "stdout",
       "text": [
        " has  109228 rows and is being saved\n",
        "h19"
       ]
      },
      {
       "output_type": "stream",
       "stream": "stdout",
       "text": [
        " has  109228 rows and is being saved\n",
        "h20"
       ]
      },
      {
       "output_type": "stream",
       "stream": "stdout",
       "text": [
        " has  109228 rows and is being saved\n",
        "h21"
       ]
      },
      {
       "output_type": "stream",
       "stream": "stdout",
       "text": [
        " has  109228 rows and is being saved\n",
        "h22"
       ]
      },
      {
       "output_type": "stream",
       "stream": "stdout",
       "text": [
        " has  109228 rows and is being saved\n",
        "h11a"
       ]
      },
      {
       "output_type": "stream",
       "stream": "stdout",
       "text": [
        " has  109228 rows and is being saved\n",
        "h11b"
       ]
      },
      {
       "output_type": "stream",
       "stream": "stdout",
       "text": [
        " has  109228 rows and is being saved\n",
        "h11c"
       ]
      },
      {
       "output_type": "stream",
       "stream": "stdout",
       "text": [
        " has  109228 rows and is being saved\n",
        "h11d"
       ]
      },
      {
       "output_type": "stream",
       "stream": "stdout",
       "text": [
        " has  109228 rows and is being saved\n",
        "h11e"
       ]
      },
      {
       "output_type": "stream",
       "stream": "stdout",
       "text": [
        " has  109228 rows and is being saved\n",
        "h11f"
       ]
      },
      {
       "output_type": "stream",
       "stream": "stdout",
       "text": [
        " has  109228 rows and is being saved\n",
        "h11g"
       ]
      },
      {
       "output_type": "stream",
       "stream": "stdout",
       "text": [
        " has  109228 rows and is being saved\n",
        "h11h"
       ]
      },
      {
       "output_type": "stream",
       "stream": "stdout",
       "text": [
        " has  109228 rows and is being saved\n",
        "h11i"
       ]
      },
      {
       "output_type": "stream",
       "stream": "stdout",
       "text": [
        " has  109228 rows and is being saved\n",
        "h12a"
       ]
      },
      {
       "output_type": "stream",
       "stream": "stdout",
       "text": [
        " has  109228 rows and is being saved\n",
        "h12b"
       ]
      },
      {
       "output_type": "stream",
       "stream": "stdout",
       "text": [
        " has  109228 rows and is being saved\n",
        "h12c"
       ]
      },
      {
       "output_type": "stream",
       "stream": "stdout",
       "text": [
        " has  109228 rows and is being saved\n",
        "h12d"
       ]
      },
      {
       "output_type": "stream",
       "stream": "stdout",
       "text": [
        " has  109228 rows and is being saved\n",
        "h12e"
       ]
      },
      {
       "output_type": "stream",
       "stream": "stdout",
       "text": [
        " has  109228 rows and is being saved\n",
        "h12f"
       ]
      },
      {
       "output_type": "stream",
       "stream": "stdout",
       "text": [
        " has  109228 rows and is being saved\n",
        "h12g"
       ]
      },
      {
       "output_type": "stream",
       "stream": "stdout",
       "text": [
        " has  109228 rows and is being saved\n",
        "h12h"
       ]
      },
      {
       "output_type": "stream",
       "stream": "stdout",
       "text": [
        " has  109228 rows and is being saved\n",
        "h12i"
       ]
      },
      {
       "output_type": "stream",
       "stream": "stdout",
       "text": [
        " has  109228 rows and is being saved\n",
        "h16a"
       ]
      },
      {
       "output_type": "stream",
       "stream": "stdout",
       "text": [
        " has  109228 rows and is being saved\n",
        "h16b"
       ]
      },
      {
       "output_type": "stream",
       "stream": "stdout",
       "text": [
        " has  109228 rows and is being saved\n",
        "h16c"
       ]
      },
      {
       "output_type": "stream",
       "stream": "stdout",
       "text": [
        " has  109228 rows and is being saved\n",
        "h16d"
       ]
      },
      {
       "output_type": "stream",
       "stream": "stdout",
       "text": [
        " has  109228 rows and is being saved\n",
        "h16e"
       ]
      },
      {
       "output_type": "stream",
       "stream": "stdout",
       "text": [
        " has  109228 rows and is being saved\n",
        "h16f"
       ]
      },
      {
       "output_type": "stream",
       "stream": "stdout",
       "text": [
        " has  109228 rows and is being saved\n",
        "h16g"
       ]
      },
      {
       "output_type": "stream",
       "stream": "stdout",
       "text": [
        " has  109228 rows and is being saved\n",
        "h16h"
       ]
      },
      {
       "output_type": "stream",
       "stream": "stdout",
       "text": [
        " has  109228 rows and is being saved\n",
        "h16i"
       ]
      },
      {
       "output_type": "stream",
       "stream": "stdout",
       "text": [
        " has  109228 rows and is being saved\n",
        "h17a"
       ]
      },
      {
       "output_type": "stream",
       "stream": "stdout",
       "text": [
        " has  109228 rows and is being saved\n",
        "h17b"
       ]
      },
      {
       "output_type": "stream",
       "stream": "stdout",
       "text": [
        " has  109228 rows and is being saved\n",
        "h17c"
       ]
      },
      {
       "output_type": "stream",
       "stream": "stdout",
       "text": [
        " has  109228 rows and is being saved\n",
        "h17d"
       ]
      },
      {
       "output_type": "stream",
       "stream": "stdout",
       "text": [
        " has  109228 rows and is being saved\n",
        "h17e"
       ]
      },
      {
       "output_type": "stream",
       "stream": "stdout",
       "text": [
        " has  109228 rows and is being saved\n",
        "h17f"
       ]
      },
      {
       "output_type": "stream",
       "stream": "stdout",
       "text": [
        " has  109228 rows and is being saved\n",
        "h17g"
       ]
      },
      {
       "output_type": "stream",
       "stream": "stdout",
       "text": [
        " has  109228 rows and is being saved\n",
        "h17h"
       ]
      },
      {
       "output_type": "stream",
       "stream": "stdout",
       "text": [
        " has  109228 rows and is being saved\n",
        "h17i"
       ]
      },
      {
       "output_type": "stream",
       "stream": "stdout",
       "text": [
        " has  109228 rows and is being saved\n",
        "hct1"
       ]
      },
      {
       "output_type": "stream",
       "stream": "stdout",
       "text": [
        " is empty and will be skipped\n",
        "hct2 is empty and will be skipped\n",
        "hct3 is empty and will be skipped\n",
        "hct4 is empty and will be skipped\n",
        "   logrecno        fipsblock state county   tract  blkgrp block  arealand  \\\n",
        "0        25  060014271001000    06    001  427100       1  1000         0   \n",
        "1        26  060014271001001    06    001  427100       1  1001     79696   \n",
        "2        27  060014271001002    06    001  427100       1  1002       739   \n",
        "3        28  060014271001003    06    001  427100       1  1003     19546   \n",
        "4        29  060014271001004    06    001  427100       1  1004     14364   \n",
        "\n",
        "   P0010001  \n",
        "0         0  \n",
        "1       113  \n",
        "2         0  \n",
        "3        29  \n",
        "4        26  "
       ]
      },
      {
       "output_type": "stream",
       "stream": "stdout",
       "text": [
        "\n",
        "<class 'pandas.io.pytables.HDFStore'>\n",
        "File path: data/sf1/sf1.h5\n",
        "/h1              frame        (shape->[109228,9]) \n",
        "/h10             frame        (shape->[109228,9]) \n",
        "/h11             frame        (shape->[109228,12])\n",
        "/h11a            frame        (shape->[109228,12])\n",
        "/h11b            frame        (shape->[109228,12])\n",
        "/h11c            frame        (shape->[109228,12])\n",
        "/h11d            frame        (shape->[109228,12])\n",
        "/h11e            frame        (shape->[109228,12])\n",
        "/h11f            frame        (shape->[109228,12])\n",
        "/h11g            frame        (shape->[109228,12])\n",
        "/h11h            frame        (shape->[109228,12])\n",
        "/h11i            frame        (shape->[109228,12])\n",
        "/h12             frame        (shape->[109228,11])\n",
        "/h12a            frame        (shape->[109228,11])\n",
        "/h12b            frame        (shape->[109228,11])\n",
        "/h12c            frame        (shape->[109228,11])\n",
        "/h12d            frame        (shape->[109228,11])\n",
        "/h12e            frame        (shape->[109228,11])\n",
        "/h12f            frame        (shape->[109228,11])\n",
        "/h12g            frame        (shape->[109228,11])\n",
        "/h12h            frame        (shape->[109228,11])\n",
        "/h12i            frame        (shape->[109228,11])\n",
        "/h13             frame        (shape->[109228,16])\n",
        "/h14             frame        (shape->[109228,25])\n",
        "/h15             frame        (shape->[109228,15])\n",
        "/h16             frame        (shape->[109228,25])\n",
        "/h16a            frame        (shape->[109228,25])\n",
        "/h16b            frame        (shape->[109228,25])\n",
        "/h16c            frame        (shape->[109228,25])\n",
        "/h16d            frame        (shape->[109228,25])\n",
        "/h16e            frame        (shape->[109228,25])\n",
        "/h16f            frame        (shape->[109228,25])\n",
        "/h16g            frame        (shape->[109228,25])\n",
        "/h16h            frame        (shape->[109228,25])\n",
        "/h16i            frame        (shape->[109228,25])\n",
        "/h17             frame        (shape->[109228,29])\n",
        "/h17a            frame        (shape->[109228,29])\n",
        "/h17b            frame        (shape->[109228,29])\n",
        "/h17c            frame        (shape->[109228,29])\n",
        "/h17d            frame        (shape->[109228,29])\n",
        "/h17e            frame        (shape->[109228,29])\n",
        "/h17f            frame        (shape->[109228,29])\n",
        "/h17g            frame        (shape->[109228,29])\n",
        "/h17h            frame        (shape->[109228,29])\n",
        "/h17i            frame        (shape->[109228,29])\n",
        "/h18             frame        (shape->[109228,77])\n",
        "/h19             frame        (shape->[109228,15])\n",
        "/h2              frame        (shape->[109228,14])\n",
        "/h20             frame        (shape->[109228,11])\n",
        "/h21             frame        (shape->[109228,11])\n",
        "/h22             frame        (shape->[109228,11])\n",
        "/h3              frame        (shape->[109228,11])\n",
        "/h4              frame        (shape->[109228,12])\n",
        "/h5              frame        (shape->[109228,16])\n",
        "/h6              frame        (shape->[109228,16])\n",
        "/h7              frame        (shape->[109228,25])\n",
        "/h8              frame        (shape->[109228,15])\n",
        "/h9              frame        (shape->[109228,23])\n",
        "/p1              frame        (shape->[109228,9]) \n",
        "/p10             frame        (shape->[109228,79])\n",
        "/p11             frame        (shape->[109228,81])\n",
        "/p12             frame        (shape->[109228,57])\n",
        "/p12a            frame        (shape->[109228,57])\n",
        "/p12b            frame        (shape->[109228,57])\n",
        "/p12c            frame        (shape->[109228,57])\n",
        "/p12d            frame        (shape->[109228,57])\n",
        "/p12e            frame        (shape->[109228,57])\n",
        "/p12f            frame        (shape->[109228,57])\n",
        "/p12g            frame        (shape->[109228,57])\n",
        "/p12h            frame        (shape->[109228,57])\n",
        "/p12i            frame        (shape->[109228,57])\n",
        "/p13             frame        (shape->[109228,11])\n",
        "/p13a            frame        (shape->[109228,11])\n",
        "/p13b            frame        (shape->[109228,11])\n",
        "/p13c            frame        (shape->[109228,11])\n",
        "/p13d            frame        (shape->[109228,11])\n",
        "/p13e            frame        (shape->[109228,11])\n",
        "/p13f            frame        (shape->[109228,11])\n",
        "/p13g            frame        (shape->[109228,11])\n",
        "/p13h            frame        (shape->[109228,11])\n",
        "/p13i            frame        (shape->[109228,11])\n",
        "/p14             frame        (shape->[109228,51])\n",
        "/p15             frame        (shape->[109228,25])\n",
        "/p16             frame        (shape->[109228,11])\n",
        "/p16a            frame        (shape->[109228,11])\n",
        "/p16b            frame        (shape->[109228,11])\n",
        "/p16c            frame        (shape->[109228,11])\n",
        "/p16d            frame        (shape->[109228,11])\n",
        "/p16e            frame        (shape->[109228,11])\n",
        "/p16f            frame        (shape->[109228,11])\n",
        "/p16g            frame        (shape->[109228,11])\n",
        "/p16h            frame        (shape->[109228,11])\n",
        "/p16i            frame        (shape->[109228,11])\n",
        "/p17             frame        (shape->[109228,11])\n",
        "/p17a            frame        (shape->[109228,11])\n",
        "/p17b            frame        (shape->[109228,11])\n",
        "/p17c            frame        (shape->[109228,11])\n",
        "/p17d            frame        (shape->[109228,11])\n",
        "/p17e            frame        (shape->[109228,11])\n",
        "/p17f            frame        (shape->[109228,11])\n",
        "/p17g            frame        (shape->[109228,11])\n",
        "/p17h            frame        (shape->[109228,11])\n",
        "/p17i            frame        (shape->[109228,11])\n",
        "/p18             frame        (shape->[109228,17])\n",
        "/p18a            frame        (shape->[109228,17])\n",
        "/p18b            frame        (shape->[109228,17])\n",
        "/p18c            frame        (shape->[109228,17])\n",
        "/p18d            frame        (shape->[109228,17])\n",
        "/p18e            frame        (shape->[109228,17])\n",
        "/p18f            frame        (shape->[109228,17])\n",
        "/p18g            frame        (shape->[109228,17])\n",
        "/p18h            frame        (shape->[109228,17])\n",
        "/p18i            frame        (shape->[109228,17])\n",
        "/p19             frame        (shape->[109228,27])\n",
        "/p2              frame        (shape->[109228,14])\n",
        "/p20             frame        (shape->[109228,42])\n",
        "/p21             frame        (shape->[109228,39])\n",
        "/p22             frame        (shape->[109228,29])\n",
        "/p23             frame        (shape->[109228,23])\n",
        "/p24             frame        (shape->[109228,19])\n",
        "/p25             frame        (shape->[109228,19])\n",
        "/p26             frame        (shape->[109228,19])\n",
        "/p27             frame        (shape->[109228,11])\n",
        "/p28             frame        (shape->[109228,24])\n",
        "/p28a            frame        (shape->[109228,24])\n",
        "/p28b            frame        (shape->[109228,24])\n",
        "/p28c            frame        (shape->[109228,24])\n",
        "/p28d            frame        (shape->[109228,24])\n",
        "/p28e            frame        (shape->[109228,24])\n",
        "/p28f            frame        (shape->[109228,24])\n",
        "/p28g            frame        (shape->[109228,24])\n",
        "/p28h            frame        (shape->[109228,24])\n",
        "/p28i            frame        (shape->[109228,24])\n",
        "/p29             frame        (shape->[109228,36])\n",
        "/p29a            frame        (shape->[109228,36])\n",
        "/p29b            frame        (shape->[109228,36])\n",
        "/p29c            frame        (shape->[109228,36])\n",
        "/p29d            frame        (shape->[109228,36])\n",
        "/p29e            frame        (shape->[109228,36])\n",
        "/p29f            frame        (shape->[109228,36])\n",
        "/p29g            frame        (shape->[109228,36])\n",
        "/p29h            frame        (shape->[109228,36])\n",
        "/p29i            frame        (shape->[109228,36])\n",
        "/p3              frame        (shape->[109228,16])\n",
        "/p30             frame        (shape->[109228,21])\n",
        "/p31             frame        (shape->[109228,24])\n",
        "/p31a            frame        (shape->[109228,24])\n",
        "/p31b            frame        (shape->[109228,24])\n",
        "/p31c            frame        (shape->[109228,24])\n",
        "/p31d            frame        (shape->[109228,24])\n",
        "/p31e            frame        (shape->[109228,24])\n",
        "/p31f            frame        (shape->[109228,24])\n",
        "/p31g            frame        (shape->[109228,24])\n",
        "/p31h            frame        (shape->[109228,24])\n",
        "/p31i            frame        (shape->[109228,24])\n",
        "/p32             frame        (shape->[109228,53])\n",
        "/p33             frame        (shape->[109228,15])\n",
        "/p34             frame        (shape->[109228,30])\n",
        "/p34a            frame        (shape->[109228,30])\n",
        "/p34b            frame        (shape->[109228,30])\n",
        "/p34c            frame        (shape->[109228,30])\n",
        "/p34d            frame        (shape->[109228,30])\n",
        "/p34e            frame        (shape->[109228,30])\n",
        "/p34f            frame        (shape->[109228,30])\n",
        "/p34g            frame        (shape->[109228,30])\n",
        "/p34h            frame        (shape->[109228,30])\n",
        "/p34i            frame        (shape->[109228,30])\n",
        "/p35             frame        (shape->[109228,9]) \n",
        "/p35a            frame        (shape->[109228,9]) \n",
        "/p35b            frame        (shape->[109228,9]) \n",
        "/p35c            frame        (shape->[109228,9]) \n",
        "/p35d            frame        (shape->[109228,9]) \n",
        "/p35e            frame        (shape->[109228,9]) \n",
        "/p35f            frame        (shape->[109228,9]) \n",
        "/p35g            frame        (shape->[109228,9]) \n",
        "/p35h            frame        (shape->[109228,9]) \n",
        "/p35i            frame        (shape->[109228,9]) \n",
        "/p36             frame        (shape->[109228,11])\n",
        "/p36a            frame        (shape->[109228,11])\n",
        "/p36b            frame        (shape->[109228,11])\n",
        "/p36c            frame        (shape->[109228,11])\n",
        "/p36d            frame        (shape->[109228,11])\n",
        "/p36e            frame        (shape->[109228,11])\n",
        "/p36f            frame        (shape->[109228,11])\n",
        "/p36g            frame        (shape->[109228,11])\n",
        "/p36h            frame        (shape->[109228,11])\n",
        "/p36i            frame        (shape->[109228,11])\n",
        "/p37             frame        (shape->[109228,11])\n",
        "/p37a            frame        (shape->[109228,11])\n",
        "/p37b            frame        (shape->[109228,11])\n",
        "/p37c            frame        (shape->[109228,11])\n",
        "/p37d            frame        (shape->[109228,11])\n",
        "/p37e            frame        (shape->[109228,11])\n",
        "/p37f            frame        (shape->[109228,11])\n",
        "/p37g            frame        (shape->[109228,11])\n",
        "/p37h            frame        (shape->[109228,11])\n",
        "/p37i            frame        (shape->[109228,11])\n",
        "/p38             frame        (shape->[109228,28])\n",
        "/p38a            frame        (shape->[109228,28])\n",
        "/p38b            frame        (shape->[109228,28])\n",
        "/p38c            frame        (shape->[109228,28])\n",
        "/p38d            frame        (shape->[109228,28])\n",
        "/p38e            frame        (shape->[109228,28])\n",
        "/p38f            frame        (shape->[109228,28])\n",
        "/p38g            frame        (shape->[109228,28])\n",
        "/p38h            frame        (shape->[109228,28])\n",
        "/p38i            frame        (shape->[109228,28])\n",
        "/p39             frame        (shape->[109228,28])\n",
        "/p39a            frame        (shape->[109228,28])\n",
        "/p39b            frame        (shape->[109228,28])\n",
        "/p39c            frame        (shape->[109228,28])\n",
        "/p39d            frame        (shape->[109228,28])\n",
        "/p39e            frame        (shape->[109228,28])\n",
        "/p39f            frame        (shape->[109228,28])\n",
        "/p39g            frame        (shape->[109228,28])\n",
        "/p39h            frame        (shape->[109228,28])\n",
        "/p39i            frame        (shape->[109228,28])\n",
        "/p4              frame        (shape->[109228,11])\n",
        "/p40             frame        (shape->[109228,28])\n",
        "/p41             frame        (shape->[109228,14])\n",
        "/p42             frame        (shape->[109228,18])\n",
        "/p43             frame        (shape->[109228,71])\n",
        "/p44             frame        (shape->[109228,11])\n",
        "/p45             frame        (shape->[109228,11])\n",
        "/p46             frame        (shape->[109228,11])\n",
        "/p47             frame        (shape->[109228,11])\n",
        "/p48             frame        (shape->[109228,11])\n",
        "/p49             frame        (shape->[109228,11])\n",
        "/p5              frame        (shape->[109228,25])\n",
        "/p50             frame        (shape->[109228,11])\n",
        "/p51             frame        (shape->[109228,11])\n",
        "/p6              frame        (shape->[109228,15])\n",
        "/p7              frame        (shape->[109228,23])\n",
        "/p8              frame        (shape->[109228,79])\n",
        "/p9              frame        (shape->[109228,81])"
       ]
      },
      {
       "output_type": "stream",
       "stream": "stdout",
       "text": [
        "\n"
       ]
      }
     ],
     "prompt_number": 5
    }
   ],
   "metadata": {}
  }
 ]
}