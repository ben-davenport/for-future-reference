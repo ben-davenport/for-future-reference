{
 "metadata": {
  "name": "",
  "signature": "sha256:ad3feab76a7fe4534bee1f9154288c48ef087687c6bd7401eef4de948beae1a3"
 },
 "nbformat": 3,
 "nbformat_minor": 0,
 "worksheets": [
  {
   "cells": [
    {
     "cell_type": "markdown",
     "metadata": {},
     "source": [
      "# Working with Census Bureau American Community Survey microdata\n",
      "Today we will introduce a different data source from the US Census Bureau--the public use microdata files. \n",
      "\n",
      "CP 255, October 16, 2014\n",
      "\n",
      "- Aksel Olsen,  aksel@berkeley.edu\n",
      "\n",
      "After today's session, you should be able to answer the questions below.\n",
      "1. What is microdata?\n",
      "\n",
      "1. When do we (not) need them?\n",
      "\n",
      "1. How do I prepare estimates of x, y, z [using Pandas]?\n",
      "\n",
      "1. Which are the common pitfalls I should watch out for?"
     ]
    },
    {
     "cell_type": "markdown",
     "metadata": {},
     "source": [
      "## What is microdata?\n",
      "\n",
      "The Census Bureau releases annual PUMS files pursuant to its [American Community Survey program](http://www.census.gov/acs/www/data_documentation/2013_release_schedule/). The latest release is for the year 2012, which was released late 2013. The 2013 data will be released October 23, 2014.\n",
      "\n",
      "The microdata is not a different survey, but a different unit of analysis and data structure. Whereas the Census Bureau publishes thousands of different tables different\n",
      "\n",
      "Data source: Census ACS 1-year PUMS data, 2012 release\n",
      "\n",
      "Download the person file (CA) [census ftp](http://www2.census.gov/acs2012_1yr/pums/csv_pca.zip)\n",
      "\n",
      "Download the household file (CA) [census ftp](http://www2.census.gov/acs2012_1yr/pums/csv_hca.zip)\n",
      "\n",
      "Aksel Olsen, 9/29/2014"
     ]
    },
    {
     "cell_type": "code",
     "collapsed": false,
     "input": [
      "%pylab inline\n",
      "import pandas as pd\n",
      "import pylab as P\n",
      "pd.options.display.mpl_style = 'default'\n",
      "#pd.options.display.float_format = '${:,.2f}'.format\n",
      "#rcParams['figure.figsize'] = 12, 7\n",
      "import numpy as np\n",
      "import seaborn as sns\n",
      "import matplotlib.pyplot as plt\n",
      "import matplotlib.cm as cm, matplotlib.font_manager as fm\n",
      "sns.set(style=\"darkgrid\")"
     ],
     "language": "python",
     "metadata": {},
     "outputs": [
      {
       "output_type": "stream",
       "stream": "stdout",
       "text": [
        "Populating the interactive namespace from numpy and matplotlib\n"
       ]
      }
     ],
     "prompt_number": 1
    },
    {
     "cell_type": "code",
     "collapsed": false,
     "input": [
      "## settings here courtesy of Geoff \n",
      "title_font = fm.FontProperties(family='Bitstream Vera Sans', style='normal', size=15, weight='normal', stretch='normal')\n",
      "label_font = fm.FontProperties(family='Bitstream Vera Sans', style='normal', size=12, weight='normal', stretch='normal')\n",
      "ticks_font = fm.FontProperties(family='Bitstream Vera Sans', style='normal', size=10, weight='normal', stretch='normal')\n",
      "annotation_font = fm.FontProperties(family='Bitstream Vera Sans', style='normal', size=10, weight='normal', stretch='normal')\n",
      " \n",
      "#axis_bgcolor = '#f0f0f0'"
     ],
     "language": "python",
     "metadata": {},
     "outputs": [],
     "prompt_number": 2
    },
    {
     "cell_type": "markdown",
     "metadata": {},
     "source": [
      "## Load the data\n",
      "The PUMS data is segemented into a `PERSON` file and a `HOUSING` file, linked on `SERIALNO`."
     ]
    },
    {
     "cell_type": "code",
     "collapsed": false,
     "input": [
      "## plan A\n",
      "#pums_h = pd.read_csv('/home/aksel/Documents/Data/Census/ACS/2012_1YR/ss12hca.csv')\n",
      "pums_h=pd.read_csv('data/pums_h_sf_2012.csv')\n",
      "pums_h.index=pums_h.SERIALNO\n",
      "pums_h.head()"
     ],
     "language": "python",
     "metadata": {},
     "outputs": [
      {
       "html": [
        "<div style=\"max-height:1000px;max-width:1500px;overflow:auto;\">\n",
        "<table border=\"1\" class=\"dataframe\">\n",
        "  <thead>\n",
        "    <tr style=\"text-align: right;\">\n",
        "      <th></th>\n",
        "      <th>RT</th>\n",
        "      <th>SERIALNO</th>\n",
        "      <th>DIVISION</th>\n",
        "      <th>PUMA</th>\n",
        "      <th>REGION</th>\n",
        "      <th>ST</th>\n",
        "      <th>ADJHSG</th>\n",
        "      <th>ADJINC</th>\n",
        "      <th>WGTP</th>\n",
        "      <th>NP</th>\n",
        "      <th>...</th>\n",
        "      <th>wgtp71</th>\n",
        "      <th>wgtp72</th>\n",
        "      <th>wgtp73</th>\n",
        "      <th>wgtp74</th>\n",
        "      <th>wgtp75</th>\n",
        "      <th>wgtp76</th>\n",
        "      <th>wgtp77</th>\n",
        "      <th>wgtp78</th>\n",
        "      <th>wgtp79</th>\n",
        "      <th>wgtp80</th>\n",
        "    </tr>\n",
        "    <tr>\n",
        "      <th>SERIALNO</th>\n",
        "      <th></th>\n",
        "      <th></th>\n",
        "      <th></th>\n",
        "      <th></th>\n",
        "      <th></th>\n",
        "      <th></th>\n",
        "      <th></th>\n",
        "      <th></th>\n",
        "      <th></th>\n",
        "      <th></th>\n",
        "      <th></th>\n",
        "      <th></th>\n",
        "      <th></th>\n",
        "      <th></th>\n",
        "      <th></th>\n",
        "      <th></th>\n",
        "      <th></th>\n",
        "      <th></th>\n",
        "      <th></th>\n",
        "      <th></th>\n",
        "      <th></th>\n",
        "    </tr>\n",
        "  </thead>\n",
        "  <tbody>\n",
        "    <tr>\n",
        "      <th>11</th>\n",
        "      <td> H</td>\n",
        "      <td> 11</td>\n",
        "      <td> 9</td>\n",
        "      <td> 8508</td>\n",
        "      <td> 4</td>\n",
        "      <td> 6</td>\n",
        "      <td> 1000000</td>\n",
        "      <td> 1010207</td>\n",
        "      <td> 110</td>\n",
        "      <td> 2</td>\n",
        "      <td>...</td>\n",
        "      <td> 176</td>\n",
        "      <td> 178</td>\n",
        "      <td> 120</td>\n",
        "      <td>  99</td>\n",
        "      <td> 173</td>\n",
        "      <td>  33</td>\n",
        "      <td> 129</td>\n",
        "      <td>  35</td>\n",
        "      <td>  34</td>\n",
        "      <td> 130</td>\n",
        "    </tr>\n",
        "    <tr>\n",
        "      <th>19</th>\n",
        "      <td> H</td>\n",
        "      <td> 19</td>\n",
        "      <td> 9</td>\n",
        "      <td> 7502</td>\n",
        "      <td> 4</td>\n",
        "      <td> 6</td>\n",
        "      <td> 1000000</td>\n",
        "      <td> 1010207</td>\n",
        "      <td> 180</td>\n",
        "      <td> 0</td>\n",
        "      <td>...</td>\n",
        "      <td> 308</td>\n",
        "      <td> 184</td>\n",
        "      <td> 288</td>\n",
        "      <td>  52</td>\n",
        "      <td> 185</td>\n",
        "      <td> 337</td>\n",
        "      <td> 288</td>\n",
        "      <td> 188</td>\n",
        "      <td> 190</td>\n",
        "      <td> 197</td>\n",
        "    </tr>\n",
        "    <tr>\n",
        "      <th>22</th>\n",
        "      <td> H</td>\n",
        "      <td> 22</td>\n",
        "      <td> 9</td>\n",
        "      <td> 8105</td>\n",
        "      <td> 4</td>\n",
        "      <td> 6</td>\n",
        "      <td> 1000000</td>\n",
        "      <td> 1010207</td>\n",
        "      <td>  75</td>\n",
        "      <td> 1</td>\n",
        "      <td>...</td>\n",
        "      <td>  78</td>\n",
        "      <td> 127</td>\n",
        "      <td> 125</td>\n",
        "      <td> 110</td>\n",
        "      <td>  72</td>\n",
        "      <td>  20</td>\n",
        "      <td>  73</td>\n",
        "      <td> 135</td>\n",
        "      <td>  83</td>\n",
        "      <td> 143</td>\n",
        "    </tr>\n",
        "    <tr>\n",
        "      <th>31</th>\n",
        "      <td> H</td>\n",
        "      <td> 31</td>\n",
        "      <td> 9</td>\n",
        "      <td> 1305</td>\n",
        "      <td> 4</td>\n",
        "      <td> 6</td>\n",
        "      <td> 1000000</td>\n",
        "      <td> 1010207</td>\n",
        "      <td>  76</td>\n",
        "      <td> 2</td>\n",
        "      <td>...</td>\n",
        "      <td>  88</td>\n",
        "      <td>  24</td>\n",
        "      <td>  75</td>\n",
        "      <td>  76</td>\n",
        "      <td> 131</td>\n",
        "      <td> 140</td>\n",
        "      <td>  20</td>\n",
        "      <td>  29</td>\n",
        "      <td> 130</td>\n",
        "      <td> 141</td>\n",
        "    </tr>\n",
        "    <tr>\n",
        "      <th>40</th>\n",
        "      <td> H</td>\n",
        "      <td> 40</td>\n",
        "      <td> 9</td>\n",
        "      <td> 2901</td>\n",
        "      <td> 4</td>\n",
        "      <td> 6</td>\n",
        "      <td> 1000000</td>\n",
        "      <td> 1010207</td>\n",
        "      <td>  12</td>\n",
        "      <td> 2</td>\n",
        "      <td>...</td>\n",
        "      <td>  12</td>\n",
        "      <td>  24</td>\n",
        "      <td>  20</td>\n",
        "      <td>  21</td>\n",
        "      <td>  12</td>\n",
        "      <td>  10</td>\n",
        "      <td>  12</td>\n",
        "      <td>  13</td>\n",
        "      <td>  12</td>\n",
        "      <td>   3</td>\n",
        "    </tr>\n",
        "  </tbody>\n",
        "</table>\n",
        "<p>5 rows \u00d7 206 columns</p>\n",
        "</div>"
       ],
       "metadata": {},
       "output_type": "pyout",
       "prompt_number": 3,
       "text": [
        "         RT  SERIALNO  DIVISION  PUMA  REGION  ST   ADJHSG   ADJINC  WGTP  NP  \\\n",
        "SERIALNO                                                                        \n",
        "11        H        11         9  8508       4   6  1000000  1010207   110   2   \n",
        "19        H        19         9  7502       4   6  1000000  1010207   180   0   \n",
        "22        H        22         9  8105       4   6  1000000  1010207    75   1   \n",
        "31        H        31         9  1305       4   6  1000000  1010207    76   2   \n",
        "40        H        40         9  2901       4   6  1000000  1010207    12   2   \n",
        "\n",
        "         ...  wgtp71  wgtp72  wgtp73  wgtp74  wgtp75  wgtp76  wgtp77  wgtp78  \\\n",
        "SERIALNO ...                                                                   \n",
        "11       ...     176     178     120      99     173      33     129      35   \n",
        "19       ...     308     184     288      52     185     337     288     188   \n",
        "22       ...      78     127     125     110      72      20      73     135   \n",
        "31       ...      88      24      75      76     131     140      20      29   \n",
        "40       ...      12      24      20      21      12      10      12      13   \n",
        "\n",
        "          wgtp79  wgtp80  \n",
        "SERIALNO                  \n",
        "11            34     130  \n",
        "19           190     197  \n",
        "22            83     143  \n",
        "31           130     141  \n",
        "40            12       3  \n",
        "\n",
        "[5 rows x 206 columns]"
       ]
      }
     ],
     "prompt_number": 3
    },
    {
     "cell_type": "code",
     "collapsed": false,
     "input": [
      "## plan A\n",
      "pums_p=pd.read_csv('data/pums_p_sf_2012.csv')\n",
      "#pums_p = pd.read_csv('/home/aksel/Documents/Data/Census/ACS/2012_1YR/ss12pca.csv')\n",
      "pums_p.head()"
     ],
     "language": "python",
     "metadata": {},
     "outputs": [
      {
       "html": [
        "<div style=\"max-height:1000px;max-width:1500px;overflow:auto;\">\n",
        "<table border=\"1\" class=\"dataframe\">\n",
        "  <thead>\n",
        "    <tr style=\"text-align: right;\">\n",
        "      <th></th>\n",
        "      <th>RT</th>\n",
        "      <th>SERIALNO</th>\n",
        "      <th>SPORDER</th>\n",
        "      <th>PUMA</th>\n",
        "      <th>ST</th>\n",
        "      <th>ADJINC</th>\n",
        "      <th>PWGTP</th>\n",
        "      <th>AGEP</th>\n",
        "      <th>CIT</th>\n",
        "      <th>CITWP</th>\n",
        "      <th>...</th>\n",
        "      <th>pwgtp71</th>\n",
        "      <th>pwgtp72</th>\n",
        "      <th>pwgtp73</th>\n",
        "      <th>pwgtp74</th>\n",
        "      <th>pwgtp75</th>\n",
        "      <th>pwgtp76</th>\n",
        "      <th>pwgtp77</th>\n",
        "      <th>pwgtp78</th>\n",
        "      <th>pwgtp79</th>\n",
        "      <th>pwgtp80</th>\n",
        "    </tr>\n",
        "  </thead>\n",
        "  <tbody>\n",
        "    <tr>\n",
        "      <th>0</th>\n",
        "      <td> P</td>\n",
        "      <td> 11</td>\n",
        "      <td> 1</td>\n",
        "      <td> 8508</td>\n",
        "      <td> 6</td>\n",
        "      <td> 1010207</td>\n",
        "      <td> 109</td>\n",
        "      <td> 63</td>\n",
        "      <td> 1</td>\n",
        "      <td>NaN</td>\n",
        "      <td>...</td>\n",
        "      <td> 176</td>\n",
        "      <td> 178</td>\n",
        "      <td> 120</td>\n",
        "      <td> 100</td>\n",
        "      <td> 173</td>\n",
        "      <td>  32</td>\n",
        "      <td> 129</td>\n",
        "      <td>  35</td>\n",
        "      <td>  34</td>\n",
        "      <td> 129</td>\n",
        "    </tr>\n",
        "    <tr>\n",
        "      <th>1</th>\n",
        "      <td> P</td>\n",
        "      <td> 11</td>\n",
        "      <td> 2</td>\n",
        "      <td> 8508</td>\n",
        "      <td> 6</td>\n",
        "      <td> 1010207</td>\n",
        "      <td> 117</td>\n",
        "      <td> 60</td>\n",
        "      <td> 1</td>\n",
        "      <td>NaN</td>\n",
        "      <td>...</td>\n",
        "      <td> 224</td>\n",
        "      <td> 192</td>\n",
        "      <td> 124</td>\n",
        "      <td> 106</td>\n",
        "      <td> 161</td>\n",
        "      <td>  36</td>\n",
        "      <td> 132</td>\n",
        "      <td>  30</td>\n",
        "      <td>  35</td>\n",
        "      <td> 137</td>\n",
        "    </tr>\n",
        "    <tr>\n",
        "      <th>2</th>\n",
        "      <td> P</td>\n",
        "      <td> 22</td>\n",
        "      <td> 1</td>\n",
        "      <td> 8105</td>\n",
        "      <td> 6</td>\n",
        "      <td> 1010207</td>\n",
        "      <td>  75</td>\n",
        "      <td> 79</td>\n",
        "      <td> 1</td>\n",
        "      <td>NaN</td>\n",
        "      <td>...</td>\n",
        "      <td>  79</td>\n",
        "      <td> 127</td>\n",
        "      <td> 125</td>\n",
        "      <td> 110</td>\n",
        "      <td>  72</td>\n",
        "      <td>  20</td>\n",
        "      <td>  72</td>\n",
        "      <td> 134</td>\n",
        "      <td>  83</td>\n",
        "      <td> 143</td>\n",
        "    </tr>\n",
        "    <tr>\n",
        "      <th>3</th>\n",
        "      <td> P</td>\n",
        "      <td> 31</td>\n",
        "      <td> 1</td>\n",
        "      <td> 1305</td>\n",
        "      <td> 6</td>\n",
        "      <td> 1010207</td>\n",
        "      <td>  76</td>\n",
        "      <td> 49</td>\n",
        "      <td> 1</td>\n",
        "      <td>NaN</td>\n",
        "      <td>...</td>\n",
        "      <td>  88</td>\n",
        "      <td>  24</td>\n",
        "      <td>  75</td>\n",
        "      <td>  75</td>\n",
        "      <td> 131</td>\n",
        "      <td> 139</td>\n",
        "      <td>  19</td>\n",
        "      <td>  28</td>\n",
        "      <td> 131</td>\n",
        "      <td> 141</td>\n",
        "    </tr>\n",
        "    <tr>\n",
        "      <th>4</th>\n",
        "      <td> P</td>\n",
        "      <td> 31</td>\n",
        "      <td> 2</td>\n",
        "      <td> 1305</td>\n",
        "      <td> 6</td>\n",
        "      <td> 1010207</td>\n",
        "      <td>  98</td>\n",
        "      <td> 48</td>\n",
        "      <td> 1</td>\n",
        "      <td>NaN</td>\n",
        "      <td>...</td>\n",
        "      <td> 129</td>\n",
        "      <td>  26</td>\n",
        "      <td>  81</td>\n",
        "      <td>  93</td>\n",
        "      <td> 179</td>\n",
        "      <td> 173</td>\n",
        "      <td>  25</td>\n",
        "      <td>  41</td>\n",
        "      <td> 164</td>\n",
        "      <td> 198</td>\n",
        "    </tr>\n",
        "  </tbody>\n",
        "</table>\n",
        "<p>5 rows \u00d7 286 columns</p>\n",
        "</div>"
       ],
       "metadata": {},
       "output_type": "pyout",
       "prompt_number": 4,
       "text": [
        "  RT  SERIALNO  SPORDER  PUMA  ST   ADJINC  PWGTP  AGEP  CIT  CITWP  ...    \\\n",
        "0  P        11        1  8508   6  1010207    109    63    1    NaN  ...     \n",
        "1  P        11        2  8508   6  1010207    117    60    1    NaN  ...     \n",
        "2  P        22        1  8105   6  1010207     75    79    1    NaN  ...     \n",
        "3  P        31        1  1305   6  1010207     76    49    1    NaN  ...     \n",
        "4  P        31        2  1305   6  1010207     98    48    1    NaN  ...     \n",
        "\n",
        "   pwgtp71  pwgtp72  pwgtp73  pwgtp74  pwgtp75  pwgtp76  pwgtp77  pwgtp78  \\\n",
        "0      176      178      120      100      173       32      129       35   \n",
        "1      224      192      124      106      161       36      132       30   \n",
        "2       79      127      125      110       72       20       72      134   \n",
        "3       88       24       75       75      131      139       19       28   \n",
        "4      129       26       81       93      179      173       25       41   \n",
        "\n",
        "   pwgtp79  pwgtp80  \n",
        "0       34      129  \n",
        "1       35      137  \n",
        "2       83      143  \n",
        "3      131      141  \n",
        "4      164      198  \n",
        "\n",
        "[5 rows x 286 columns]"
       ]
      }
     ],
     "prompt_number": 4
    },
    {
     "cell_type": "markdown",
     "metadata": {},
     "source": [
      "### Basic inspection"
     ]
    },
    {
     "cell_type": "code",
     "collapsed": false,
     "input": [
      "print \"there are %s observations of %s variables in the housing table \" %(pums_h.shape[0],pums_h.shape[1])\n",
      "print \"there are %s observations of %s variables in the population table \" %(pums_p.shape[0],pums_p.shape[1])"
     ],
     "language": "python",
     "metadata": {},
     "outputs": [
      {
       "output_type": "stream",
       "stream": "stdout",
       "text": [
        "there are 153115 observations of 206 variables in the housing table \n",
        "there are 368047 observations of 286 variables in the population table \n"
       ]
      }
     ],
     "prompt_number": 5
    },
    {
     "cell_type": "markdown",
     "metadata": {},
     "source": [
      "Per the [Census Bureau's quick facts sheet](http://quickfacts.census.gov/qfd/states/06000.html), there are about 38 million people and  13.8 million housing units.\n",
      "\n",
      "Thus, we have:\n",
      "* Sample size for housing: $\\frac{153,000}{13,800,000}=1.1\\%$\n",
      "* Sample size for population: $\\frac{368,000}{38,300,000}=.94\\%$\n",
      "\n",
      "Let's do a few statistics--how many men and women in the Golden State? To answer this, we first need the [code book](http://www.census.gov/acs/www/Downloads/data_documentation/pums/DataDict/PUMSDataDict12.pdf), which we will need regularly for these types of exercises. Which table do we need?\n",
      "\n",
      "We need the population table. As ever, refer to the data dictionary. Search for gender, male, female, or sex and see what appears."
     ]
    },
    {
     "cell_type": "code",
     "collapsed": false,
     "input": [
      "pums_p.SEX"
     ],
     "language": "python",
     "metadata": {},
     "outputs": [
      {
       "metadata": {},
       "output_type": "pyout",
       "prompt_number": 6,
       "text": [
        "0     1\n",
        "1     2\n",
        "2     2\n",
        "3     1\n",
        "4     2\n",
        "5     2\n",
        "6     2\n",
        "7     2\n",
        "8     1\n",
        "9     1\n",
        "10    1\n",
        "11    1\n",
        "12    2\n",
        "13    1\n",
        "14    1\n",
        "...\n",
        "368032    2\n",
        "368033    1\n",
        "368034    1\n",
        "368035    2\n",
        "368036    1\n",
        "368037    2\n",
        "368038    1\n",
        "368039    2\n",
        "368040    1\n",
        "368041    1\n",
        "368042    2\n",
        "368043    1\n",
        "368044    2\n",
        "368045    1\n",
        "368046    2\n",
        "Name: SEX, Length: 368047, dtype: int64"
       ]
      }
     ],
     "prompt_number": 6
    },
    {
     "cell_type": "code",
     "collapsed": false,
     "input": [
      "pums_p.SEX.value_counts() #.map({'1':\"Male\",'2':\"Female\"})"
     ],
     "language": "python",
     "metadata": {},
     "outputs": [
      {
       "metadata": {},
       "output_type": "pyout",
       "prompt_number": 7,
       "text": [
        "2    186615\n",
        "1    181432\n",
        "dtype: int64"
       ]
      }
     ],
     "prompt_number": 7
    },
    {
     "cell_type": "markdown",
     "metadata": {},
     "source": [
      "So, there are 181,000 1's and 186,000 2's. Done? \n",
      "\n",
      "No, we need to remember that these records have sample weights associated with them, allowing us to make *population estimates*. Think of the weights as roughly inversely proportional to the sampling probability. They should hover around 100, given the sample rate is around 1%. But some groups are much more likely to respond to surveys than others. The Census Bureau employs such information when designing the survey and sample rates for specific sub-groups. \n",
      "\n",
      "To get population estimates, we typically need to sum the weights."
     ]
    },
    {
     "cell_type": "code",
     "collapsed": false,
     "input": [
      "pums_p.ix[:,:10].T"
     ],
     "language": "python",
     "metadata": {},
     "outputs": [
      {
       "html": [
        "<div style=\"max-height:1000px;max-width:1500px;overflow:auto;\">\n",
        "<table border=\"1\" class=\"dataframe\">\n",
        "  <thead>\n",
        "    <tr style=\"text-align: right;\">\n",
        "      <th></th>\n",
        "      <th>0</th>\n",
        "      <th>1</th>\n",
        "      <th>2</th>\n",
        "      <th>3</th>\n",
        "      <th>4</th>\n",
        "      <th>5</th>\n",
        "      <th>6</th>\n",
        "      <th>7</th>\n",
        "      <th>8</th>\n",
        "      <th>9</th>\n",
        "      <th>...</th>\n",
        "      <th>368037</th>\n",
        "      <th>368038</th>\n",
        "      <th>368039</th>\n",
        "      <th>368040</th>\n",
        "      <th>368041</th>\n",
        "      <th>368042</th>\n",
        "      <th>368043</th>\n",
        "      <th>368044</th>\n",
        "      <th>368045</th>\n",
        "      <th>368046</th>\n",
        "    </tr>\n",
        "  </thead>\n",
        "  <tbody>\n",
        "    <tr>\n",
        "      <th>RT</th>\n",
        "      <td>       P</td>\n",
        "      <td>       P</td>\n",
        "      <td>       P</td>\n",
        "      <td>       P</td>\n",
        "      <td>       P</td>\n",
        "      <td>       P</td>\n",
        "      <td>       P</td>\n",
        "      <td>       P</td>\n",
        "      <td>       P</td>\n",
        "      <td>       P</td>\n",
        "      <td>...</td>\n",
        "      <td>       P</td>\n",
        "      <td>       P</td>\n",
        "      <td>       P</td>\n",
        "      <td>       P</td>\n",
        "      <td>       P</td>\n",
        "      <td>       P</td>\n",
        "      <td>       P</td>\n",
        "      <td>       P</td>\n",
        "      <td>       P</td>\n",
        "      <td>       P</td>\n",
        "    </tr>\n",
        "    <tr>\n",
        "      <th>SERIALNO</th>\n",
        "      <td>      11</td>\n",
        "      <td>      11</td>\n",
        "      <td>      22</td>\n",
        "      <td>      31</td>\n",
        "      <td>      31</td>\n",
        "      <td>      40</td>\n",
        "      <td>      40</td>\n",
        "      <td>      67</td>\n",
        "      <td>      71</td>\n",
        "      <td>      71</td>\n",
        "      <td>...</td>\n",
        "      <td> 1493808</td>\n",
        "      <td> 1493810</td>\n",
        "      <td> 1493810</td>\n",
        "      <td> 1493816</td>\n",
        "      <td> 1493819</td>\n",
        "      <td> 1493819</td>\n",
        "      <td> 1493840</td>\n",
        "      <td> 1493840</td>\n",
        "      <td> 1493844</td>\n",
        "      <td> 1493844</td>\n",
        "    </tr>\n",
        "    <tr>\n",
        "      <th>SPORDER</th>\n",
        "      <td>       1</td>\n",
        "      <td>       2</td>\n",
        "      <td>       1</td>\n",
        "      <td>       1</td>\n",
        "      <td>       2</td>\n",
        "      <td>       1</td>\n",
        "      <td>       2</td>\n",
        "      <td>       1</td>\n",
        "      <td>       1</td>\n",
        "      <td>       2</td>\n",
        "      <td>...</td>\n",
        "      <td>       4</td>\n",
        "      <td>       1</td>\n",
        "      <td>       2</td>\n",
        "      <td>       1</td>\n",
        "      <td>       1</td>\n",
        "      <td>       2</td>\n",
        "      <td>       1</td>\n",
        "      <td>       2</td>\n",
        "      <td>       1</td>\n",
        "      <td>       2</td>\n",
        "    </tr>\n",
        "    <tr>\n",
        "      <th>PUMA</th>\n",
        "      <td>    8508</td>\n",
        "      <td>    8508</td>\n",
        "      <td>    8105</td>\n",
        "      <td>    1305</td>\n",
        "      <td>    1305</td>\n",
        "      <td>    2901</td>\n",
        "      <td>    2901</td>\n",
        "      <td>    8511</td>\n",
        "      <td>    7311</td>\n",
        "      <td>    7311</td>\n",
        "      <td>...</td>\n",
        "      <td>    5914</td>\n",
        "      <td>    8900</td>\n",
        "      <td>    8900</td>\n",
        "      <td>    2901</td>\n",
        "      <td>    5500</td>\n",
        "      <td>    5500</td>\n",
        "      <td>    5907</td>\n",
        "      <td>    5907</td>\n",
        "      <td>    7104</td>\n",
        "      <td>    7104</td>\n",
        "    </tr>\n",
        "    <tr>\n",
        "      <th>ST</th>\n",
        "      <td>       6</td>\n",
        "      <td>       6</td>\n",
        "      <td>       6</td>\n",
        "      <td>       6</td>\n",
        "      <td>       6</td>\n",
        "      <td>       6</td>\n",
        "      <td>       6</td>\n",
        "      <td>       6</td>\n",
        "      <td>       6</td>\n",
        "      <td>       6</td>\n",
        "      <td>...</td>\n",
        "      <td>       6</td>\n",
        "      <td>       6</td>\n",
        "      <td>       6</td>\n",
        "      <td>       6</td>\n",
        "      <td>       6</td>\n",
        "      <td>       6</td>\n",
        "      <td>       6</td>\n",
        "      <td>       6</td>\n",
        "      <td>       6</td>\n",
        "      <td>       6</td>\n",
        "    </tr>\n",
        "    <tr>\n",
        "      <th>ADJINC</th>\n",
        "      <td> 1010207</td>\n",
        "      <td> 1010207</td>\n",
        "      <td> 1010207</td>\n",
        "      <td> 1010207</td>\n",
        "      <td> 1010207</td>\n",
        "      <td> 1010207</td>\n",
        "      <td> 1010207</td>\n",
        "      <td> 1010207</td>\n",
        "      <td> 1010207</td>\n",
        "      <td> 1010207</td>\n",
        "      <td>...</td>\n",
        "      <td> 1010207</td>\n",
        "      <td> 1010207</td>\n",
        "      <td> 1010207</td>\n",
        "      <td> 1010207</td>\n",
        "      <td> 1010207</td>\n",
        "      <td> 1010207</td>\n",
        "      <td> 1010207</td>\n",
        "      <td> 1010207</td>\n",
        "      <td> 1010207</td>\n",
        "      <td> 1010207</td>\n",
        "    </tr>\n",
        "    <tr>\n",
        "      <th>PWGTP</th>\n",
        "      <td>     109</td>\n",
        "      <td>     117</td>\n",
        "      <td>      75</td>\n",
        "      <td>      76</td>\n",
        "      <td>      98</td>\n",
        "      <td>      12</td>\n",
        "      <td>      18</td>\n",
        "      <td>      72</td>\n",
        "      <td>      51</td>\n",
        "      <td>      96</td>\n",
        "      <td>...</td>\n",
        "      <td>      57</td>\n",
        "      <td>     162</td>\n",
        "      <td>     180</td>\n",
        "      <td>      71</td>\n",
        "      <td>      34</td>\n",
        "      <td>      33</td>\n",
        "      <td>     134</td>\n",
        "      <td>     141</td>\n",
        "      <td>      57</td>\n",
        "      <td>      60</td>\n",
        "    </tr>\n",
        "    <tr>\n",
        "      <th>AGEP</th>\n",
        "      <td>      63</td>\n",
        "      <td>      60</td>\n",
        "      <td>      79</td>\n",
        "      <td>      49</td>\n",
        "      <td>      48</td>\n",
        "      <td>      60</td>\n",
        "      <td>      30</td>\n",
        "      <td>      50</td>\n",
        "      <td>      93</td>\n",
        "      <td>      36</td>\n",
        "      <td>...</td>\n",
        "      <td>       0</td>\n",
        "      <td>      65</td>\n",
        "      <td>      54</td>\n",
        "      <td>      27</td>\n",
        "      <td>      77</td>\n",
        "      <td>      77</td>\n",
        "      <td>      44</td>\n",
        "      <td>      45</td>\n",
        "      <td>      63</td>\n",
        "      <td>      60</td>\n",
        "    </tr>\n",
        "    <tr>\n",
        "      <th>CIT</th>\n",
        "      <td>       1</td>\n",
        "      <td>       1</td>\n",
        "      <td>       1</td>\n",
        "      <td>       1</td>\n",
        "      <td>       1</td>\n",
        "      <td>       1</td>\n",
        "      <td>       1</td>\n",
        "      <td>       1</td>\n",
        "      <td>       1</td>\n",
        "      <td>       1</td>\n",
        "      <td>...</td>\n",
        "      <td>       1</td>\n",
        "      <td>       1</td>\n",
        "      <td>       1</td>\n",
        "      <td>       1</td>\n",
        "      <td>       1</td>\n",
        "      <td>       1</td>\n",
        "      <td>       1</td>\n",
        "      <td>       1</td>\n",
        "      <td>       5</td>\n",
        "      <td>       5</td>\n",
        "    </tr>\n",
        "    <tr>\n",
        "      <th>CITWP</th>\n",
        "      <td>     NaN</td>\n",
        "      <td>     NaN</td>\n",
        "      <td>     NaN</td>\n",
        "      <td>     NaN</td>\n",
        "      <td>     NaN</td>\n",
        "      <td>     NaN</td>\n",
        "      <td>     NaN</td>\n",
        "      <td>     NaN</td>\n",
        "      <td>     NaN</td>\n",
        "      <td>     NaN</td>\n",
        "      <td>...</td>\n",
        "      <td>     NaN</td>\n",
        "      <td>     NaN</td>\n",
        "      <td>     NaN</td>\n",
        "      <td>     NaN</td>\n",
        "      <td>     NaN</td>\n",
        "      <td>     NaN</td>\n",
        "      <td>     NaN</td>\n",
        "      <td>     NaN</td>\n",
        "      <td>     NaN</td>\n",
        "      <td>     NaN</td>\n",
        "    </tr>\n",
        "  </tbody>\n",
        "</table>\n",
        "<p>10 rows \u00d7 368047 columns</p>\n",
        "</div>"
       ],
       "metadata": {},
       "output_type": "pyout",
       "prompt_number": 8,
       "text": [
        "           0        1        2        3        4        5        6       \\\n",
        "RT              P        P        P        P        P        P        P   \n",
        "SERIALNO       11       11       22       31       31       40       40   \n",
        "SPORDER         1        2        1        1        2        1        2   \n",
        "PUMA         8508     8508     8105     1305     1305     2901     2901   \n",
        "ST              6        6        6        6        6        6        6   \n",
        "ADJINC    1010207  1010207  1010207  1010207  1010207  1010207  1010207   \n",
        "PWGTP         109      117       75       76       98       12       18   \n",
        "AGEP           63       60       79       49       48       60       30   \n",
        "CIT             1        1        1        1        1        1        1   \n",
        "CITWP         NaN      NaN      NaN      NaN      NaN      NaN      NaN   \n",
        "\n",
        "           7        8        9        ...      368037   368038   368039  \\\n",
        "RT              P        P        P   ...           P        P        P   \n",
        "SERIALNO       67       71       71   ...     1493808  1493810  1493810   \n",
        "SPORDER         1        1        2   ...           4        1        2   \n",
        "PUMA         8511     7311     7311   ...        5914     8900     8900   \n",
        "ST              6        6        6   ...           6        6        6   \n",
        "ADJINC    1010207  1010207  1010207   ...     1010207  1010207  1010207   \n",
        "PWGTP          72       51       96   ...          57      162      180   \n",
        "AGEP           50       93       36   ...           0       65       54   \n",
        "CIT             1        1        1   ...           1        1        1   \n",
        "CITWP         NaN      NaN      NaN   ...         NaN      NaN      NaN   \n",
        "\n",
        "           368040   368041   368042   368043   368044   368045   368046  \n",
        "RT              P        P        P        P        P        P        P  \n",
        "SERIALNO  1493816  1493819  1493819  1493840  1493840  1493844  1493844  \n",
        "SPORDER         1        1        2        1        2        1        2  \n",
        "PUMA         2901     5500     5500     5907     5907     7104     7104  \n",
        "ST              6        6        6        6        6        6        6  \n",
        "ADJINC    1010207  1010207  1010207  1010207  1010207  1010207  1010207  \n",
        "PWGTP          71       34       33      134      141       57       60  \n",
        "AGEP           27       77       77       44       45       63       60  \n",
        "CIT             1        1        1        1        1        5        5  \n",
        "CITWP         NaN      NaN      NaN      NaN      NaN      NaN      NaN  \n",
        "\n",
        "[10 rows x 368047 columns]"
       ]
      }
     ],
     "prompt_number": 8
    },
    {
     "cell_type": "code",
     "collapsed": false,
     "input": [
      "pop_by_gender =  pums_p.groupby(['SEX'])['PWGTP'].agg(['sum'])\n",
      "pop_by_gender"
     ],
     "language": "python",
     "metadata": {},
     "outputs": [
      {
       "html": [
        "<div style=\"max-height:1000px;max-width:1500px;overflow:auto;\">\n",
        "<table border=\"1\" class=\"dataframe\">\n",
        "  <thead>\n",
        "    <tr style=\"text-align: right;\">\n",
        "      <th></th>\n",
        "      <th>sum</th>\n",
        "    </tr>\n",
        "    <tr>\n",
        "      <th>SEX</th>\n",
        "      <th></th>\n",
        "    </tr>\n",
        "  </thead>\n",
        "  <tbody>\n",
        "    <tr>\n",
        "      <th>1</th>\n",
        "      <td> 18910864</td>\n",
        "    </tr>\n",
        "    <tr>\n",
        "      <th>2</th>\n",
        "      <td> 19130566</td>\n",
        "    </tr>\n",
        "  </tbody>\n",
        "</table>\n",
        "</div>"
       ],
       "metadata": {},
       "output_type": "pyout",
       "prompt_number": 9,
       "text": [
        "          sum\n",
        "SEX          \n",
        "1    18910864\n",
        "2    19130566"
       ]
      }
     ],
     "prompt_number": 9
    },
    {
     "cell_type": "code",
     "collapsed": false,
     "input": [
      "pop_by_gender.plot(kind='barh')"
     ],
     "language": "python",
     "metadata": {},
     "outputs": [
      {
       "metadata": {},
       "output_type": "pyout",
       "prompt_number": 10,
       "text": [
        "<matplotlib.axes._subplots.AxesSubplot at 0x37fba080>"
       ]
      },
      {
       "metadata": {},
       "output_type": "display_data",
       "png": "[encoded data removed]",
       "text": [
        "<matplotlib.figure.Figure at 0x29c7a0b8>"
       ]
      }
     ],
     "prompt_number": 10
    },
    {
     "cell_type": "markdown",
     "metadata": {},
     "source": [
      "Truly fascinating. Two even-sized bars."
     ]
    },
    {
     "cell_type": "markdown",
     "metadata": {},
     "source": [
      "## Let's do a little filtering\n",
      "We want to keep just the Bay Area records for now. So what geographic identifiers do we have in the PUMS files?"
     ]
    },
    {
     "cell_type": "code",
     "collapsed": false,
     "input": [
      "bayareafips ={'001':'Alameda', '013':'Contra Costa', '041':'Marin', '055':'Napa', '075':'San Francisco', '081':'San Mateo', '085':'Santa Clara', '095':'Sonoma', '097':'Solano'}\n",
      "bayareafips.keys()"
     ],
     "language": "python",
     "metadata": {},
     "outputs": [
      {
       "metadata": {},
       "output_type": "pyout",
       "prompt_number": 11,
       "text": [
        "['001', '013', '085', '055', '081', '075', '095', '041', '097']"
       ]
      }
     ],
     "prompt_number": 11
    },
    {
     "cell_type": "code",
     "collapsed": false,
     "input": [
      "pums_p.columns"
     ],
     "language": "python",
     "metadata": {},
     "outputs": [
      {
       "metadata": {},
       "output_type": "pyout",
       "prompt_number": 12,
       "text": [
        "Index([u'RT', u'SERIALNO', u'SPORDER', u'PUMA', u'ST', u'ADJINC', u'PWGTP', u'AGEP', u'CIT', u'CITWP', u'COW', u'DDRS', u'DEAR', u'DEYE', u'DOUT', u'DPHY', u'DRAT', u'DRATX', u'DREM', u'ENG', u'FER', u'GCL', u'GCM', u'GCR', u'HINS1', u'HINS2', u'HINS3', u'HINS4', u'HINS5', u'HINS6', u'HINS7', u'INTP', u'JWMNP', u'JWRIP', u'JWTR', u'LANX', u'MAR', u'MARHD', u'MARHM', u'MARHT', u'MARHW', u'MARHYP', u'MIG', u'MIL', u'MLPA', u'MLPB', u'MLPC', u'MLPD', u'MLPE', u'MLPF', u'MLPG', u'MLPH', u'MLPI', u'MLPJ', u'MLPK', u'NWAB', u'NWAV', u'NWLA', u'NWLK', u'NWRE', u'OIP', u'PAP', u'RELP', u'RETP', u'SCH', u'SCHG', u'SCHL', u'SEMP', u'SEX', u'SSIP', u'SSP', u'WAGP', u'WKHP', u'WKL', u'WKW', u'WRK', u'YOEP', u'ANC', u'ANC1P', u'ANC2P', u'DECADE', u'DIS', u'DRIVESP', u'ESP', u'ESR', u'FOD1P', u'FOD2P', u'HICOV', u'HISP', u'INDP', u'JWAP', u'JWDP', u'LANP', u'MIGPUMA', u'MIGSP', u'MSP', u'NAICSP', u'NATIVITY', u'NOP', u'OC', ...], dtype='object')"
       ]
      }
     ],
     "prompt_number": 12
    },
    {
     "cell_type": "markdown",
     "metadata": {},
     "source": [
      "They are quite sparse with identifiers out of the box. Turns out the only geographic identifiers are PUMA and ST(ate). "
     ]
    },
    {
     "cell_type": "code",
     "collapsed": false,
     "input": [
      "pums_p.PUMA.unique().shape"
     ],
     "language": "python",
     "metadata": {},
     "outputs": [
      {
       "metadata": {},
       "output_type": "pyout",
       "prompt_number": 13,
       "text": [
        "(265L,)"
       ]
      }
     ],
     "prompt_number": 13
    },
    {
     "cell_type": "markdown",
     "metadata": {},
     "source": [
      "(Incidentally, 265 means they easily satisfy the 100,000 population per PUMA area). \n",
      "To know which PUMAS are in which counties, we need to get a [correspondence](http://www2.census.gov/geo/tiger/GENZ2013/cb_2013_06_puma10_500k.zip). Or we can cheat--SF PUMAS provided below."
     ]
    },
    {
     "cell_type": "code",
     "collapsed": false,
     "input": [
      "sfPUMAS = [k for k in range(7501,7508)]\n",
      "sfPUMAS"
     ],
     "language": "python",
     "metadata": {},
     "outputs": [
      {
       "metadata": {},
       "output_type": "pyout",
       "prompt_number": 14,
       "text": [
        "[7501, 7502, 7503, 7504, 7505, 7506, 7507]"
       ]
      }
     ],
     "prompt_number": 14
    },
    {
     "cell_type": "markdown",
     "metadata": {},
     "source": [
      "Now we can subset the dataframes as appropriate"
     ]
    },
    {
     "cell_type": "code",
     "collapsed": false,
     "input": [
      "pums_p=pums_p.ix[pums_p.PUMA.isin(sfPUMAS)]\n",
      "pums_p.shape"
     ],
     "language": "python",
     "metadata": {},
     "outputs": [
      {
       "metadata": {},
       "output_type": "pyout",
       "prompt_number": 15,
       "text": [
        "(7311, 286)"
       ]
      }
     ],
     "prompt_number": 15
    },
    {
     "cell_type": "code",
     "collapsed": false,
     "input": [
      "pums_h=pums_h.ix[pums_h.PUMA.isin(sfPUMAS)]\n",
      "pums_h.shape"
     ],
     "language": "python",
     "metadata": {},
     "outputs": [
      {
       "metadata": {},
       "output_type": "pyout",
       "prompt_number": 16,
       "text": [
        "(3586, 206)"
       ]
      }
     ],
     "prompt_number": 16
    },
    {
     "cell_type": "markdown",
     "metadata": {},
     "source": [
      "Down to several thousand records now. How many records in each?"
     ]
    },
    {
     "cell_type": "code",
     "collapsed": false,
     "input": [
      "## records per puma\n",
      "pums_p.groupby(['PUMA'])['PWGTP'].agg(['size'])"
     ],
     "language": "python",
     "metadata": {},
     "outputs": [
      {
       "html": [
        "<div style=\"max-height:1000px;max-width:1500px;overflow:auto;\">\n",
        "<table border=\"1\" class=\"dataframe\">\n",
        "  <thead>\n",
        "    <tr style=\"text-align: right;\">\n",
        "      <th></th>\n",
        "      <th>size</th>\n",
        "    </tr>\n",
        "    <tr>\n",
        "      <th>PUMA</th>\n",
        "      <th></th>\n",
        "    </tr>\n",
        "  </thead>\n",
        "  <tbody>\n",
        "    <tr>\n",
        "      <th>7501</th>\n",
        "      <td> 1231</td>\n",
        "    </tr>\n",
        "    <tr>\n",
        "      <th>7502</th>\n",
        "      <td>  896</td>\n",
        "    </tr>\n",
        "    <tr>\n",
        "      <th>7503</th>\n",
        "      <td>  971</td>\n",
        "    </tr>\n",
        "    <tr>\n",
        "      <th>7504</th>\n",
        "      <td>  955</td>\n",
        "    </tr>\n",
        "    <tr>\n",
        "      <th>7505</th>\n",
        "      <td>  969</td>\n",
        "    </tr>\n",
        "    <tr>\n",
        "      <th>7506</th>\n",
        "      <td> 1063</td>\n",
        "    </tr>\n",
        "    <tr>\n",
        "      <th>7507</th>\n",
        "      <td> 1226</td>\n",
        "    </tr>\n",
        "  </tbody>\n",
        "</table>\n",
        "</div>"
       ],
       "metadata": {},
       "output_type": "pyout",
       "prompt_number": 17,
       "text": [
        "      size\n",
        "PUMA      \n",
        "7501  1231\n",
        "7502   896\n",
        "7503   971\n",
        "7504   955\n",
        "7505   969\n",
        "7506  1063\n",
        "7507  1226"
       ]
      }
     ],
     "prompt_number": 17
    },
    {
     "cell_type": "code",
     "collapsed": false,
     "input": [
      "sf_pop = pums_p.PWGTP.sum()\n",
      "sf_pop"
     ],
     "language": "python",
     "metadata": {},
     "outputs": [
      {
       "metadata": {},
       "output_type": "pyout",
       "prompt_number": 18,
       "text": [
        "824855"
       ]
      }
     ],
     "prompt_number": 18
    },
    {
     "cell_type": "markdown",
     "metadata": {},
     "source": [
      "Exercise: What is the population of San Francisco?"
     ]
    },
    {
     "cell_type": "markdown",
     "metadata": {},
     "source": [
      "# Processing and recoding stuff\n",
      "Data comes with numeric codes. Let's assign labels to a few as well as create some dummies."
     ]
    },
    {
     "cell_type": "markdown",
     "metadata": {},
     "source": [
      "### make convenience wrapper for assigning labels from dictionary to codes in data files\n",
      "PUMS variables are not exposed in the census API (yet, at least). Instead, grab variable labels--pasted directly from PDF [data dictionary](http://www.census.gov/acs/www/Downloads/data_documentation/pums/DataDict/PUMSDataDict12.pdf).\n",
      "\n",
      "Wrapper here reads the pasted strings, cleans them a bit and tries to stuff into a dictionary."
     ]
    },
    {
     "cell_type": "code",
     "collapsed": false,
     "input": [
      "import re, io, numpy as np\n",
      "from cStringIO import StringIO \n",
      "    \n",
      "def map_value_labels(codes_pasted,var):\n",
      "    \"\"\"\n",
      "    Reads pasted id:value correspondence and prepares a \n",
      "    id:value dictionary to be used for mapping\n",
      "    \"\"\"\n",
      "    \n",
      "    ## substitute out dots and leading space\n",
      "    codes_pasted = re.sub(r' \\.','\\t', codes_pasted)\n",
      "    \n",
      "    ## read code string as if it were a file object, store in dataframe\n",
      "    df_codes = pd.read_csv(StringIO(codes_pasted), \n",
      "                           encoding='utf8', sep=\"\\t\",\n",
      "                           header=0,names=['id','value'],\n",
      "                           dtype={'id': object, 'value': object})\n",
      "    \n",
      "    ## set index=id--then it is simple to go from series \n",
      "    ## to dictionary we can use for mapping value labels\n",
      "    df_codes.index=df_codes.id.astype(np.int64)\n",
      "    df_codes=df_codes['value'].to_dict()\n",
      "\n",
      "    return df_codes\n",
      "\n",
      "def assign_value_labels(df,value_map):\n",
      "    \"\"\"\n",
      "    performs actual assignment. Takes dataframe and dict from map_value_labels\n",
      "    \"\"\"\n",
      "    ##prepare to write encoding back to data--store in separate variable\n",
      "    target = \"%s_l\"%var\n",
      "    df[target] = df[var].map(value_map)\n",
      "    #pums_p['RAC1P'].astype(object).map(df_codes.to_json)\n",
      "    print df[target].head()"
     ],
     "language": "python",
     "metadata": {},
     "outputs": [],
     "prompt_number": 19
    },
    {
     "cell_type": "markdown",
     "metadata": {},
     "source": [
      "### Applying the value label wrappers / mappers\n",
      "1. paste the code, store in a variable as a string."
     ]
    },
    {
     "cell_type": "code",
     "collapsed": false,
     "input": [
      "## we ship the blank category here--Ideally fix, but currently most vars are loaded as integers, so 'bb' won't work here\n",
      "## RACE\n",
      "## note that these are not actually verbatim categories from the code book. Instead, this collapses categories.\n",
      "codesrace =\"\"\"\n",
      "1 .White\n",
      "2 .Black\n",
      "3 .Other\n",
      "4 .Other\n",
      "5 .Other\n",
      "6 .Asian\n",
      "7 .Other\n",
      "8 .Other\n",
      "9 .Two + Races\n",
      "\"\"\""
     ],
     "language": "python",
     "metadata": {},
     "outputs": [],
     "prompt_number": 20
    },
    {
     "cell_type": "code",
     "collapsed": false,
     "input": [
      "## TENURE\n",
      "codesten=\"\"\"\n",
      "1 .Owned with mortgage or loan (include home equity loans)\n",
      "2 .Owned free and clear\n",
      "3 .Rented\n",
      "4 .Occupied without payment of rent\n",
      "\"\"\""
     ],
     "language": "python",
     "metadata": {},
     "outputs": [],
     "prompt_number": 21
    },
    {
     "cell_type": "code",
     "collapsed": false,
     "input": [
      "## YEAR BUILT\n",
      "codeybl=\"\"\"\n",
      "01 .1939 or earlier\n",
      "02 .1940 to 1959\n",
      "03 .1940 to 1959\n",
      "04 .1960 to 1979\n",
      "05 .1960 to 1979\n",
      "06 .1980 to 1999\n",
      "07 .1980 to 1999\n",
      "08 .2000 to 2011\n",
      "09 .2000 to 2011\n",
      "10 .2000 to 2011\n",
      "11 .2000 to 2011\n",
      "12 .2000 to 2011\n",
      "13 .2000 to 2011\n",
      "14 .2000 to 2011\n",
      "15 .2000 to 2011\n",
      "\"\"\""
     ],
     "language": "python",
     "metadata": {},
     "outputs": [],
     "prompt_number": 22
    },
    {
     "cell_type": "code",
     "collapsed": false,
     "input": [
      "## YEAR MOVED INTO UNIT\n",
      "codemovein=\"\"\"\n",
      "1 .12 months or less\n",
      "2 .13 to 23 months\n",
      "3 .2 to 4 years\n",
      "4 .5 to 9 years\n",
      "5 .10 to 19 years\n",
      "6 .20 to 29 years\n",
      "7 .30 years or more\n",
      "\"\"\""
     ],
     "language": "python",
     "metadata": {},
     "outputs": [],
     "prompt_number": 23
    },
    {
     "cell_type": "markdown",
     "metadata": {},
     "source": [
      "2. Then, grab those strings, and call the two wrapper functions\n",
      " 2. `race_value_map` in the example below stores the mapping dictionary\n",
      " 3. `assign_value_labels` applies those value labels to the passed dataframe in the source variable name, with an `_l` (for label) appended."
     ]
    },
    {
     "cell_type": "code",
     "collapsed": false,
     "input": [
      "var = 'RAC1P'\n",
      "race_value_map = map_value_labels(codesrace,var)\n",
      "## actual assignment for race\n",
      "assign_value_labels(pums_p,race_value_map) "
     ],
     "language": "python",
     "metadata": {},
     "outputs": [
      {
       "output_type": "stream",
       "stream": "stdout",
       "text": [
        "39    Asian\n",
        "95    Asian\n",
        "96    Asian\n",
        "97    Asian\n",
        "98    Asian\n",
        "Name: RAC1P_l, dtype: object\n"
       ]
      }
     ],
     "prompt_number": 24
    },
    {
     "cell_type": "code",
     "collapsed": false,
     "input": [
      "var = 'MV'\n",
      "value_map = map_value_labels(codemovein,var)\n",
      "## actual assignment for move in year\n",
      "assign_value_labels(pums_h,value_map) "
     ],
     "language": "python",
     "metadata": {},
     "outputs": [
      {
       "output_type": "stream",
       "stream": "stdout",
       "text": [
        "SERIALNO\n",
        "19                       NaN\n",
        "217         30 years or more\n",
        "476           10 to 19 years\n",
        "519           10 to 19 years\n",
        "853           10 to 19 years\n",
        "Name: MV_l, dtype: object\n"
       ]
      }
     ],
     "prompt_number": 25
    },
    {
     "cell_type": "code",
     "collapsed": false,
     "input": [
      "var = 'TEN'\n",
      "value_map = map_value_labels(codesten,var)\n",
      "## actual assignment for tenure\n",
      "assign_value_labels(pums_h,value_map)  "
     ],
     "language": "python",
     "metadata": {},
     "outputs": [
      {
       "output_type": "stream",
       "stream": "stdout",
       "text": [
        "SERIALNO\n",
        "19                                                        NaN\n",
        "217                                      Owned free and clear\n",
        "476         Owned with mortgage or loan (include home equi...\n",
        "519         Owned with mortgage or loan (include home equi...\n",
        "853                                                    Rented\n",
        "Name: TEN_l, dtype: object\n"
       ]
      }
     ],
     "prompt_number": 26
    },
    {
     "cell_type": "code",
     "collapsed": false,
     "input": [
      "var = 'YBL'\n",
      "value_map = map_value_labels(codeybl,var)\n",
      "\n",
      "## actual assignment for year built\n",
      "assign_value_labels(pums_h,value_map)  "
     ],
     "language": "python",
     "metadata": {},
     "outputs": [
      {
       "output_type": "stream",
       "stream": "stdout",
       "text": [
        "SERIALNO\n",
        "19             1980 to 1999\n",
        "217            1940 to 1959\n",
        "476            1940 to 1959\n",
        "519         1939 or earlier\n",
        "853            1960 to 1979\n",
        "Name: YBL_l, dtype: object\n"
       ]
      }
     ],
     "prompt_number": 27
    },
    {
     "cell_type": "markdown",
     "metadata": {},
     "source": [
      "### Other recoding can be done using ranges, with varying degrees of flexibility"
     ]
    },
    {
     "cell_type": "code",
     "collapsed": false,
     "input": [
      "## Bedrooms\n",
      "def brclassifier(val):\n",
      "    if val < 1: return \"Studio\"\n",
      "    elif val <=1: return \"1 bedroom\"\n",
      "    elif val <=2: return \"2 bedrooms\"\n",
      "    #elif val <=3: return \"3 bedrooms\"\n",
      "    #elif val <=4: return \"4 bedrooms\"\n",
      "    elif val >=3: return \"3 or more bedrooms\"\n",
      "pums_h['BDSP_l']=pums_h.BDSP.apply(lambda x: brclassifier(x))\n",
      "pums_h.BDSP_l.head()"
     ],
     "language": "python",
     "metadata": {},
     "outputs": [
      {
       "metadata": {},
       "output_type": "pyout",
       "prompt_number": 28,
       "text": [
        "SERIALNO\n",
        "19                   1 bedroom\n",
        "217         3 or more bedrooms\n",
        "476         3 or more bedrooms\n",
        "519         3 or more bedrooms\n",
        "853                  1 bedroom\n",
        "Name: BDSP_l, dtype: object"
       ]
      }
     ],
     "prompt_number": 28
    },
    {
     "cell_type": "code",
     "collapsed": false,
     "input": [
      "def occmapping(x):\n",
      "    y = None\n",
      "    if x >=1 and x <= 3590: y= 'management'\n",
      "    elif x >= 3600 and x <= 4690: y= 'service'\n",
      "    elif x >= 4700 and x <= 5990: y= 'sales'\n",
      "    elif x >= 6000 and x <= 7690: y= 'natl recs/constr/maint'\n",
      "    elif x >= 7700 and x <= 9790: y= 'product/transp'\n",
      "    elif x >= 9800 and x <= 9830: y= 'milit'\n",
      "    return y\n",
      "\n",
      "pums_p['occupation']=pums_p.loc[~pums_p.OCCP.isnull(),['OCCP']].OCCP.map(occmapping)\n",
      "pums_p.occupation.head()"
     ],
     "language": "python",
     "metadata": {},
     "outputs": [
      {
       "metadata": {},
       "output_type": "pyout",
       "prompt_number": 29,
       "text": [
        "39           NaN\n",
        "95           NaN\n",
        "96           NaN\n",
        "97    management\n",
        "98           NaN\n",
        "Name: occupation, dtype: object"
       ]
      }
     ],
     "prompt_number": 29
    },
    {
     "cell_type": "code",
     "collapsed": false,
     "input": [
      "def age_mapping_dyn(x):\n",
      "    ## ordinal var\n",
      "    breaks = [0,18,34,59,79,99]\n",
      "\n",
      "    ## given the breaks above, what is the interval between each?\n",
      "    diff=[breaks[i+1]-breaks[i] for i in range(len(breaks)-1)]\n",
      "    \n",
      "    ## make tuples of breaks and distance--we need this to generate a list of age ranges\n",
      "    joint = zip(breaks,diff)\n",
      "    l=['%s-%s'%(yr[0],yr[0]+yr[1]-1) for yr in joint]\n",
      "    \n",
      "    # Which bin in breaks does the age fall in?\n",
      "    cnt=0\n",
      "    for k in breaks:\n",
      "        #print k\n",
      "        if x<k:\n",
      "            break\n",
      "        else:\n",
      "            cnt+=1\n",
      "    index = 0 if cnt==0 else cnt-1\n",
      "    \n",
      "    ## the bin id is then used to select the appropriate age range\n",
      "    return l[index]\n",
      "\n",
      "age_mapping_dyn(67)"
     ],
     "language": "python",
     "metadata": {},
     "outputs": [
      {
       "metadata": {},
       "output_type": "pyout",
       "prompt_number": 30,
       "text": [
        "'59-78'"
       ]
      }
     ],
     "prompt_number": 30
    },
    {
     "cell_type": "code",
     "collapsed": false,
     "input": [
      "pums_p['AGEP_l']=pums_p.AGEP.map(age_mapping_dyn)\n",
      "pums_p.AGEP_l.head()"
     ],
     "language": "python",
     "metadata": {},
     "outputs": [
      {
       "metadata": {},
       "output_type": "pyout",
       "prompt_number": 31,
       "text": [
        "39    79-98\n",
        "95    79-98\n",
        "96    79-98\n",
        "97    34-58\n",
        "98     0-17\n",
        "Name: AGEP_l, dtype: object"
       ]
      }
     ],
     "prompt_number": 31
    },
    {
     "cell_type": "markdown",
     "metadata": {},
     "source": [
      "## Let's create a new dummy for movers\n",
      "First, we create a new variable, called newcomer, referring to folks who moved to SF during the past year. The relevant variable is `MIGPUMA`. How does it work? There are lots of missing values--most folks do not move during a given year.\n",
      "\n",
      "(Codes differ from PUMA designations, as it happens. Refer to [code list](http://www.census.gov/acs/www/Downloads/data_documentation/pums/CodeLists/ACSPUMS2012CodeLists.pdf) here:)"
     ]
    },
    {
     "cell_type": "code",
     "collapsed": false,
     "input": [
      "pums_p.MIGPUMA.value_counts().head(8)"
     ],
     "language": "python",
     "metadata": {},
     "outputs": [
      {
       "metadata": {},
       "output_type": "pyout",
       "prompt_number": 32,
       "text": [
        "7500    493\n",
        "1        87\n",
        "8100     57\n",
        "100      54\n",
        "8500     40\n",
        "3700     25\n",
        "4100     14\n",
        "7300     13\n",
        "dtype: int64"
       ]
      }
     ],
     "prompt_number": 32
    },
    {
     "cell_type": "markdown",
     "metadata": {},
     "source": [
      "Newcomers are not any mover. A lot moved within the city (all the `MIGPUMA=7500` records). We need to, then, filter for values of MIGPUMA that are not blank, and are NOT 7500."
     ]
    },
    {
     "cell_type": "code",
     "collapsed": false,
     "input": [
      "pums_p['newcomer'], pums_h['newcomer']=0,0\n",
      "pums_p.ix[(pums_p.MIGPUMA!=7500)&(pums_p.MIGPUMA>0),['newcomer']]=1\n",
      "pums_p['newcomer']=pums_p['newcomer'].map({0:'existing resident',1:'new resident'})\n",
      "pums_p['newcomer'].head()"
     ],
     "language": "python",
     "metadata": {},
     "outputs": [
      {
       "metadata": {},
       "output_type": "pyout",
       "prompt_number": 33,
       "text": [
        "39    existing resident\n",
        "95    existing resident\n",
        "96    existing resident\n",
        "97    existing resident\n",
        "98    existing resident\n",
        "Name: newcomer, dtype: object"
       ]
      }
     ],
     "prompt_number": 33
    },
    {
     "cell_type": "markdown",
     "metadata": {},
     "source": [
      "## Now we can study our population with respect to other characteristics"
     ]
    },
    {
     "cell_type": "code",
     "collapsed": false,
     "input": [
      "pums_p.ix[:,['newcomer','SEX','PWGTP']].groupby(['newcomer','SEX']).sum().unstack().plot(kind='barh')"
     ],
     "language": "python",
     "metadata": {},
     "outputs": [
      {
       "metadata": {},
       "output_type": "pyout",
       "prompt_number": 34,
       "text": [
        "<matplotlib.axes._subplots.AxesSubplot at 0x54ce3f28>"
       ]
      },
      {
       "metadata": {},
       "output_type": "display_data",
       "png": "[encoded data removed]",
       "text": [
        "<matplotlib.figure.Figure at 0x54356908>"
       ]
      }
     ],
     "prompt_number": 34
    },
    {
     "cell_type": "markdown",
     "metadata": {},
     "source": [
      "Let's add some age information to movers, picking arbitrary age breaks for categorization."
     ]
    },
    {
     "cell_type": "code",
     "collapsed": false,
     "input": [
      "pums_p.ix[:,['newcomer','AGEP_l','PWGTP']].groupby(['newcomer','AGEP_l']).sum().unstack().plot(kind='barh')"
     ],
     "language": "python",
     "metadata": {},
     "outputs": [
      {
       "metadata": {},
       "output_type": "pyout",
       "prompt_number": 35,
       "text": [
        "<matplotlib.axes._subplots.AxesSubplot at 0x5727b470>"
       ]
      },
      {
       "metadata": {},
       "output_type": "display_data",
       "png": "[encoded data removed]",
       "text": [
        "<matplotlib.figure.Figure at 0x3a4e8d0>"
       ]
      }
     ],
     "prompt_number": 35
    },
    {
     "cell_type": "markdown",
     "metadata": {},
     "source": [
      "It appears that newcomers are disproportionately younger. "
     ]
    },
    {
     "cell_type": "code",
     "collapsed": false,
     "input": [
      "new_by_race = pums_p.ix[:,['newcomer','RAC1P_l','PWGTP']].groupby(['newcomer','RAC1P_l']).sum()\n",
      "new_by_race.unstack().plot(kind='barh')\n",
      "new_by_race"
     ],
     "language": "python",
     "metadata": {},
     "outputs": [
      {
       "html": [
        "<div style=\"max-height:1000px;max-width:1500px;overflow:auto;\">\n",
        "<table border=\"1\" class=\"dataframe\">\n",
        "  <thead>\n",
        "    <tr style=\"text-align: right;\">\n",
        "      <th></th>\n",
        "      <th></th>\n",
        "      <th>PWGTP</th>\n",
        "    </tr>\n",
        "    <tr>\n",
        "      <th>newcomer</th>\n",
        "      <th>RAC1P_l</th>\n",
        "      <th></th>\n",
        "    </tr>\n",
        "  </thead>\n",
        "  <tbody>\n",
        "    <tr>\n",
        "      <th rowspan=\"5\" valign=\"top\">existing resident</th>\n",
        "      <th>Asian</th>\n",
        "      <td> 253254</td>\n",
        "    </tr>\n",
        "    <tr>\n",
        "      <th>Black</th>\n",
        "      <td>  44020</td>\n",
        "    </tr>\n",
        "    <tr>\n",
        "      <th>Other</th>\n",
        "      <td>  52756</td>\n",
        "    </tr>\n",
        "    <tr>\n",
        "      <th>Two + Races</th>\n",
        "      <td>  39038</td>\n",
        "    </tr>\n",
        "    <tr>\n",
        "      <th>White</th>\n",
        "      <td> 368502</td>\n",
        "    </tr>\n",
        "    <tr>\n",
        "      <th rowspan=\"5\" valign=\"top\">new resident</th>\n",
        "      <th>Asian</th>\n",
        "      <td>  16684</td>\n",
        "    </tr>\n",
        "    <tr>\n",
        "      <th>Black</th>\n",
        "      <td>   2138</td>\n",
        "    </tr>\n",
        "    <tr>\n",
        "      <th>Other</th>\n",
        "      <td>   5551</td>\n",
        "    </tr>\n",
        "    <tr>\n",
        "      <th>Two + Races</th>\n",
        "      <td>   2744</td>\n",
        "    </tr>\n",
        "    <tr>\n",
        "      <th>White</th>\n",
        "      <td>  40168</td>\n",
        "    </tr>\n",
        "  </tbody>\n",
        "</table>\n",
        "</div>"
       ],
       "metadata": {},
       "output_type": "pyout",
       "prompt_number": 36,
       "text": [
        "                                PWGTP\n",
        "newcomer          RAC1P_l            \n",
        "existing resident Asian        253254\n",
        "                  Black         44020\n",
        "                  Other         52756\n",
        "                  Two + Races   39038\n",
        "                  White        368502\n",
        "new resident      Asian         16684\n",
        "                  Black          2138\n",
        "                  Other          5551\n",
        "                  Two + Races    2744\n",
        "                  White         40168"
       ]
      },
      {
       "metadata": {},
       "output_type": "display_data",
       "png": "[encoded data removed]",
       "text": [
        "<matplotlib.figure.Figure at 0x5d1c90b8>"
       ]
      }
     ],
     "prompt_number": 36
    },
    {
     "cell_type": "markdown",
     "metadata": {},
     "source": [
      "## Bridge housing, person universes"
     ]
    },
    {
     "cell_type": "markdown",
     "metadata": {},
     "source": [
      "Now we use `MIGPUMA` on the *person* table to determine a newcomer *household* (filtering on selected pums_p.SERIALNO values). All handshakes make use of this variable. \n",
      "\n",
      "Notice the nesting of `pums_p` criteria inside a `pums_h` call."
     ]
    },
    {
     "cell_type": "code",
     "collapsed": false,
     "input": [
      "pums_h.ix[pums_p.ix[(pums_p.MIGPUMA!=7500)&(pums_p.MIGPUMA>0),'SERIALNO'].tolist(),'newcomer']=1\n",
      "pums_h['newcomer']=pums_h['newcomer'].map({0:'existing resident',1:'new resident'})"
     ],
     "language": "python",
     "metadata": {},
     "outputs": [],
     "prompt_number": 37
    },
    {
     "cell_type": "code",
     "collapsed": false,
     "input": [
      "hsg_by_bltyr = pums_h.ix[:,['newcomer','YBL_l','WGTP']].groupby(['newcomer','YBL_l']).sum()\n",
      "hsg_by_bltyr.unstack().plot(kind='barh')\n",
      "hsg_by_bltyr"
     ],
     "language": "python",
     "metadata": {},
     "outputs": [
      {
       "html": [
        "<div style=\"max-height:1000px;max-width:1500px;overflow:auto;\">\n",
        "<table border=\"1\" class=\"dataframe\">\n",
        "  <thead>\n",
        "    <tr style=\"text-align: right;\">\n",
        "      <th></th>\n",
        "      <th></th>\n",
        "      <th>WGTP</th>\n",
        "    </tr>\n",
        "    <tr>\n",
        "      <th>newcomer</th>\n",
        "      <th>YBL_l</th>\n",
        "      <th></th>\n",
        "    </tr>\n",
        "  </thead>\n",
        "  <tbody>\n",
        "    <tr>\n",
        "      <th rowspan=\"5\" valign=\"top\">existing resident</th>\n",
        "      <th>1939 or earlier</th>\n",
        "      <td> 171517</td>\n",
        "    </tr>\n",
        "    <tr>\n",
        "      <th>1940 to 1959</th>\n",
        "      <td>  69667</td>\n",
        "    </tr>\n",
        "    <tr>\n",
        "      <th>1960 to 1979</th>\n",
        "      <td>  48606</td>\n",
        "    </tr>\n",
        "    <tr>\n",
        "      <th>1980 to 1999</th>\n",
        "      <td>  27923</td>\n",
        "    </tr>\n",
        "    <tr>\n",
        "      <th>2000 to 2011</th>\n",
        "      <td>  23135</td>\n",
        "    </tr>\n",
        "    <tr>\n",
        "      <th rowspan=\"5\" valign=\"top\">new resident</th>\n",
        "      <th>1939 or earlier</th>\n",
        "      <td>  15752</td>\n",
        "    </tr>\n",
        "    <tr>\n",
        "      <th>1940 to 1959</th>\n",
        "      <td>   6207</td>\n",
        "    </tr>\n",
        "    <tr>\n",
        "      <th>1960 to 1979</th>\n",
        "      <td>   5221</td>\n",
        "    </tr>\n",
        "    <tr>\n",
        "      <th>1980 to 1999</th>\n",
        "      <td>   2406</td>\n",
        "    </tr>\n",
        "    <tr>\n",
        "      <th>2000 to 2011</th>\n",
        "      <td>   6344</td>\n",
        "    </tr>\n",
        "  </tbody>\n",
        "</table>\n",
        "</div>"
       ],
       "metadata": {},
       "output_type": "pyout",
       "prompt_number": 38,
       "text": [
        "                                     WGTP\n",
        "newcomer          YBL_l                  \n",
        "existing resident 1939 or earlier  171517\n",
        "                  1940 to 1959      69667\n",
        "                  1960 to 1979      48606\n",
        "                  1980 to 1999      27923\n",
        "                  2000 to 2011      23135\n",
        "new resident      1939 or earlier   15752\n",
        "                  1940 to 1959       6207\n",
        "                  1960 to 1979       5221\n",
        "                  1980 to 1999       2406\n",
        "                  2000 to 2011       6344"
       ]
      },
      {
       "metadata": {},
       "output_type": "display_data",
       "png": "[encoded data removed]",
       "text": [
        "<matplotlib.figure.Figure at 0x5d1d5be0>"
       ]
      }
     ],
     "prompt_number": 38
    },
    {
     "cell_type": "markdown",
     "metadata": {},
     "source": [
      "Let's now return just the householder for each unit (SERIALNO). Each unit may be associated with several person records--we just want **one per unit**. Let's grab an attribute from the _householder_, and associate with SERIALNO so we can assign to the housing table."
     ]
    },
    {
     "cell_type": "code",
     "collapsed": false,
     "input": [
      "pums_p_hsg = pums_p.ix[:,['PWGTP','SERIALNO','RAC1P_l','AGEP','occupation']].groupby(['SERIALNO']).agg(['first','size'])\n",
      "\n",
      "## collapse multi-index to just one level\n",
      "pums_p_hsg.columns = [' '.join(col).replace(' ','_') for col in pums_p_hsg.columns.values]\n",
      "pums_p_hsg.head() "
     ],
     "language": "python",
     "metadata": {},
     "outputs": [
      {
       "html": [
        "<div style=\"max-height:1000px;max-width:1500px;overflow:auto;\">\n",
        "<table border=\"1\" class=\"dataframe\">\n",
        "  <thead>\n",
        "    <tr style=\"text-align: right;\">\n",
        "      <th></th>\n",
        "      <th>PWGTP_first</th>\n",
        "      <th>PWGTP_size</th>\n",
        "      <th>RAC1P_l_first</th>\n",
        "      <th>RAC1P_l_size</th>\n",
        "      <th>AGEP_first</th>\n",
        "      <th>AGEP_size</th>\n",
        "      <th>occupation_first</th>\n",
        "      <th>occupation_size</th>\n",
        "    </tr>\n",
        "    <tr>\n",
        "      <th>SERIALNO</th>\n",
        "      <th></th>\n",
        "      <th></th>\n",
        "      <th></th>\n",
        "      <th></th>\n",
        "      <th></th>\n",
        "      <th></th>\n",
        "      <th></th>\n",
        "      <th></th>\n",
        "    </tr>\n",
        "  </thead>\n",
        "  <tbody>\n",
        "    <tr>\n",
        "      <th>217</th>\n",
        "      <td> 75</td>\n",
        "      <td> 1</td>\n",
        "      <td> Asian</td>\n",
        "      <td> 1</td>\n",
        "      <td> 87</td>\n",
        "      <td> 1</td>\n",
        "      <td>            NaN</td>\n",
        "      <td> 1</td>\n",
        "    </tr>\n",
        "    <tr>\n",
        "      <th>476</th>\n",
        "      <td> 34</td>\n",
        "      <td> 5</td>\n",
        "      <td> Asian</td>\n",
        "      <td> 5</td>\n",
        "      <td> 93</td>\n",
        "      <td> 5</td>\n",
        "      <td>     management</td>\n",
        "      <td> 5</td>\n",
        "    </tr>\n",
        "    <tr>\n",
        "      <th>519</th>\n",
        "      <td> 90</td>\n",
        "      <td> 2</td>\n",
        "      <td> White</td>\n",
        "      <td> 2</td>\n",
        "      <td> 68</td>\n",
        "      <td> 2</td>\n",
        "      <td>     management</td>\n",
        "      <td> 2</td>\n",
        "    </tr>\n",
        "    <tr>\n",
        "      <th>853</th>\n",
        "      <td> 72</td>\n",
        "      <td> 2</td>\n",
        "      <td> White</td>\n",
        "      <td> 2</td>\n",
        "      <td> 81</td>\n",
        "      <td> 2</td>\n",
        "      <td>     management</td>\n",
        "      <td> 2</td>\n",
        "    </tr>\n",
        "    <tr>\n",
        "      <th>884</th>\n",
        "      <td> 54</td>\n",
        "      <td> 5</td>\n",
        "      <td> White</td>\n",
        "      <td> 5</td>\n",
        "      <td> 46</td>\n",
        "      <td> 5</td>\n",
        "      <td> product/transp</td>\n",
        "      <td> 5</td>\n",
        "    </tr>\n",
        "  </tbody>\n",
        "</table>\n",
        "</div>"
       ],
       "metadata": {},
       "output_type": "pyout",
       "prompt_number": 39,
       "text": [
        "          PWGTP_first  PWGTP_size RAC1P_l_first  RAC1P_l_size  AGEP_first  \\\n",
        "SERIALNO                                                                    \n",
        "217                75           1         Asian             1          87   \n",
        "476                34           5         Asian             5          93   \n",
        "519                90           2         White             2          68   \n",
        "853                72           2         White             2          81   \n",
        "884                54           5         White             5          46   \n",
        "\n",
        "          AGEP_size occupation_first  occupation_size  \n",
        "SERIALNO                                               \n",
        "217               1              NaN                1  \n",
        "476               5       management                5  \n",
        "519               2       management                2  \n",
        "853               2       management                2  \n",
        "884               5   product/transp                5  "
       ]
      }
     ],
     "prompt_number": 39
    },
    {
     "cell_type": "code",
     "collapsed": false,
     "input": [
      "## Merge back to housing table--we now have race of householder at the housing level\n",
      "pums_h= pums_h.merge(pums_p_hsg,left_on='SERIALNO',right_index=True,how='left')\n",
      "pums_h.head()"
     ],
     "language": "python",
     "metadata": {},
     "outputs": [
      {
       "html": [
        "<div style=\"max-height:1000px;max-width:1500px;overflow:auto;\">\n",
        "<table border=\"1\" class=\"dataframe\">\n",
        "  <thead>\n",
        "    <tr style=\"text-align: right;\">\n",
        "      <th></th>\n",
        "      <th>RT</th>\n",
        "      <th>SERIALNO</th>\n",
        "      <th>DIVISION</th>\n",
        "      <th>PUMA</th>\n",
        "      <th>REGION</th>\n",
        "      <th>ST</th>\n",
        "      <th>ADJHSG</th>\n",
        "      <th>ADJINC</th>\n",
        "      <th>WGTP</th>\n",
        "      <th>NP</th>\n",
        "      <th>...</th>\n",
        "      <th>BDSP_l</th>\n",
        "      <th>newcomer</th>\n",
        "      <th>PWGTP_first</th>\n",
        "      <th>PWGTP_size</th>\n",
        "      <th>RAC1P_l_first</th>\n",
        "      <th>RAC1P_l_size</th>\n",
        "      <th>AGEP_first</th>\n",
        "      <th>AGEP_size</th>\n",
        "      <th>occupation_first</th>\n",
        "      <th>occupation_size</th>\n",
        "    </tr>\n",
        "    <tr>\n",
        "      <th>SERIALNO</th>\n",
        "      <th></th>\n",
        "      <th></th>\n",
        "      <th></th>\n",
        "      <th></th>\n",
        "      <th></th>\n",
        "      <th></th>\n",
        "      <th></th>\n",
        "      <th></th>\n",
        "      <th></th>\n",
        "      <th></th>\n",
        "      <th></th>\n",
        "      <th></th>\n",
        "      <th></th>\n",
        "      <th></th>\n",
        "      <th></th>\n",
        "      <th></th>\n",
        "      <th></th>\n",
        "      <th></th>\n",
        "      <th></th>\n",
        "      <th></th>\n",
        "      <th></th>\n",
        "    </tr>\n",
        "  </thead>\n",
        "  <tbody>\n",
        "    <tr>\n",
        "      <th>19 </th>\n",
        "      <td> H</td>\n",
        "      <td>  19</td>\n",
        "      <td> 9</td>\n",
        "      <td> 7502</td>\n",
        "      <td> 4</td>\n",
        "      <td> 6</td>\n",
        "      <td> 1000000</td>\n",
        "      <td> 1010207</td>\n",
        "      <td> 180</td>\n",
        "      <td> 0</td>\n",
        "      <td>...</td>\n",
        "      <td>          1 bedroom</td>\n",
        "      <td> existing resident</td>\n",
        "      <td>NaN</td>\n",
        "      <td>NaN</td>\n",
        "      <td>   NaN</td>\n",
        "      <td>NaN</td>\n",
        "      <td>NaN</td>\n",
        "      <td>NaN</td>\n",
        "      <td>        NaN</td>\n",
        "      <td>NaN</td>\n",
        "    </tr>\n",
        "    <tr>\n",
        "      <th>217</th>\n",
        "      <td> H</td>\n",
        "      <td> 217</td>\n",
        "      <td> 9</td>\n",
        "      <td> 7505</td>\n",
        "      <td> 4</td>\n",
        "      <td> 6</td>\n",
        "      <td> 1000000</td>\n",
        "      <td> 1010207</td>\n",
        "      <td>  75</td>\n",
        "      <td> 1</td>\n",
        "      <td>...</td>\n",
        "      <td> 3 or more bedrooms</td>\n",
        "      <td> existing resident</td>\n",
        "      <td> 75</td>\n",
        "      <td>  1</td>\n",
        "      <td> Asian</td>\n",
        "      <td>  1</td>\n",
        "      <td> 87</td>\n",
        "      <td>  1</td>\n",
        "      <td>        NaN</td>\n",
        "      <td>  1</td>\n",
        "    </tr>\n",
        "    <tr>\n",
        "      <th>476</th>\n",
        "      <td> H</td>\n",
        "      <td> 476</td>\n",
        "      <td> 9</td>\n",
        "      <td> 7507</td>\n",
        "      <td> 4</td>\n",
        "      <td> 6</td>\n",
        "      <td> 1000000</td>\n",
        "      <td> 1010207</td>\n",
        "      <td>  34</td>\n",
        "      <td> 5</td>\n",
        "      <td>...</td>\n",
        "      <td> 3 or more bedrooms</td>\n",
        "      <td> existing resident</td>\n",
        "      <td> 34</td>\n",
        "      <td>  5</td>\n",
        "      <td> Asian</td>\n",
        "      <td>  5</td>\n",
        "      <td> 93</td>\n",
        "      <td>  5</td>\n",
        "      <td> management</td>\n",
        "      <td>  5</td>\n",
        "    </tr>\n",
        "    <tr>\n",
        "      <th>519</th>\n",
        "      <td> H</td>\n",
        "      <td> 519</td>\n",
        "      <td> 9</td>\n",
        "      <td> 7501</td>\n",
        "      <td> 4</td>\n",
        "      <td> 6</td>\n",
        "      <td> 1000000</td>\n",
        "      <td> 1010207</td>\n",
        "      <td>  90</td>\n",
        "      <td> 2</td>\n",
        "      <td>...</td>\n",
        "      <td> 3 or more bedrooms</td>\n",
        "      <td> existing resident</td>\n",
        "      <td> 90</td>\n",
        "      <td>  2</td>\n",
        "      <td> White</td>\n",
        "      <td>  2</td>\n",
        "      <td> 68</td>\n",
        "      <td>  2</td>\n",
        "      <td> management</td>\n",
        "      <td>  2</td>\n",
        "    </tr>\n",
        "    <tr>\n",
        "      <th>853</th>\n",
        "      <td> H</td>\n",
        "      <td> 853</td>\n",
        "      <td> 9</td>\n",
        "      <td> 7502</td>\n",
        "      <td> 4</td>\n",
        "      <td> 6</td>\n",
        "      <td> 1000000</td>\n",
        "      <td> 1010207</td>\n",
        "      <td>  71</td>\n",
        "      <td> 2</td>\n",
        "      <td>...</td>\n",
        "      <td>          1 bedroom</td>\n",
        "      <td> existing resident</td>\n",
        "      <td> 72</td>\n",
        "      <td>  2</td>\n",
        "      <td> White</td>\n",
        "      <td>  2</td>\n",
        "      <td> 81</td>\n",
        "      <td>  2</td>\n",
        "      <td> management</td>\n",
        "      <td>  2</td>\n",
        "    </tr>\n",
        "  </tbody>\n",
        "</table>\n",
        "<p>5 rows \u00d7 219 columns</p>\n",
        "</div>"
       ],
       "metadata": {},
       "output_type": "pyout",
       "prompt_number": 40,
       "text": [
        "         RT  SERIALNO  DIVISION  PUMA  REGION  ST   ADJHSG   ADJINC  WGTP  NP  \\\n",
        "SERIALNO                                                                        \n",
        "19        H        19         9  7502       4   6  1000000  1010207   180   0   \n",
        "217       H       217         9  7505       4   6  1000000  1010207    75   1   \n",
        "476       H       476         9  7507       4   6  1000000  1010207    34   5   \n",
        "519       H       519         9  7501       4   6  1000000  1010207    90   2   \n",
        "853       H       853         9  7502       4   6  1000000  1010207    71   2   \n",
        "\n",
        "         ...              BDSP_l           newcomer  PWGTP_first  PWGTP_size  \\\n",
        "SERIALNO ...                                                                   \n",
        "19       ...           1 bedroom  existing resident          NaN         NaN   \n",
        "217      ...  3 or more bedrooms  existing resident           75           1   \n",
        "476      ...  3 or more bedrooms  existing resident           34           5   \n",
        "519      ...  3 or more bedrooms  existing resident           90           2   \n",
        "853      ...           1 bedroom  existing resident           72           2   \n",
        "\n",
        "          RAC1P_l_first  RAC1P_l_size  AGEP_first  AGEP_size  \\\n",
        "SERIALNO                                                       \n",
        "19                  NaN           NaN         NaN        NaN   \n",
        "217               Asian             1          87          1   \n",
        "476               Asian             5          93          5   \n",
        "519               White             2          68          2   \n",
        "853               White             2          81          2   \n",
        "\n",
        "          occupation_first  occupation_size  \n",
        "SERIALNO                                     \n",
        "19                     NaN              NaN  \n",
        "217                    NaN                1  \n",
        "476             management                5  \n",
        "519             management                2  \n",
        "853             management                2  \n",
        "\n",
        "[5 rows x 219 columns]"
       ]
      }
     ],
     "prompt_number": 40
    },
    {
     "cell_type": "markdown",
     "metadata": {},
     "source": [
      "Now we have an appropriately labeled race variable at the HOUSEHOLD level (taking the race of the first person record for each household. This is typically (but not exclusively) the oldest person for the household. I assume the census bureau assigns some meaning to that; perhaps it is what they used to call 'householder'."
     ]
    },
    {
     "cell_type": "markdown",
     "metadata": {},
     "source": [
      "## Different usage of weights--weighing another variable\n",
      "\n",
      "Let's say we are interested in housing costs (for newcomers or otherwise). We would need to count not just people and/or households, but weighting those incomes.\n",
      "\n",
      "Some of the key variables of interest we could explore are reprinted below:\n",
      "\n",
      "**RNTP**: Monthly rent\n",
      "\n",
      "**GRPIP**: Gross rent as a percentage of household income past 12 months\n",
      "\n",
      "**HINCP**: Household income (past 12 months)\n",
      "\n",
      "**WGTP**: Housing Weight\n",
      "\n",
      "**MRGP**: First mortgage\n",
      "\n",
      "**SMOCP**: Selected monthly ownership costs\n",
      "\n",
      "With PUMS data, observations have **weights** with them. We have to weigh whatever relevant variable (individuals, households, income, rent, etc). Counting persons is simple as we have seen--just sum the weights. \n",
      "\n",
      "With other numeric variables such as income, we need to apply the weights (multiplying the observatins with the weight, divided by the number of persons in that group. This will be relevant for split-apply-combine, or group by operations, for which we can design a custom function to handle this for us. Such calculations are typically done by segments; i.e. income by race, rent paid for families with children, etc. To deal with this, we make wrapper functions that can be passed to a `pandas` `groupby` call."
     ]
    },
    {
     "cell_type": "code",
     "collapsed": false,
     "input": [
      "def i_am_custom(x):\n",
      "    ## avg weight in group\n",
      "    return float(x.sum())/x.count()\n",
      "pums_p.ix[:,['PUMA','AGEP']].groupby(['PUMA']).agg(['mean',i_am_custom])"
     ],
     "language": "python",
     "metadata": {},
     "outputs": [
      {
       "html": [
        "<div style=\"max-height:1000px;max-width:1500px;overflow:auto;\">\n",
        "<table border=\"1\" class=\"dataframe\">\n",
        "  <thead>\n",
        "    <tr>\n",
        "      <th></th>\n",
        "      <th colspan=\"2\" halign=\"left\">AGEP</th>\n",
        "    </tr>\n",
        "    <tr>\n",
        "      <th></th>\n",
        "      <th>mean</th>\n",
        "      <th>i_am_custom</th>\n",
        "    </tr>\n",
        "    <tr>\n",
        "      <th>PUMA</th>\n",
        "      <th></th>\n",
        "      <th></th>\n",
        "    </tr>\n",
        "  </thead>\n",
        "  <tbody>\n",
        "    <tr>\n",
        "      <th>7501</th>\n",
        "      <td> 42.190902</td>\n",
        "      <td> 42.190902</td>\n",
        "    </tr>\n",
        "    <tr>\n",
        "      <th>7502</th>\n",
        "      <td> 41.756696</td>\n",
        "      <td> 41.756696</td>\n",
        "    </tr>\n",
        "    <tr>\n",
        "      <th>7503</th>\n",
        "      <td> 39.962925</td>\n",
        "      <td> 39.962925</td>\n",
        "    </tr>\n",
        "    <tr>\n",
        "      <th>7504</th>\n",
        "      <td> 40.730890</td>\n",
        "      <td> 40.730890</td>\n",
        "    </tr>\n",
        "    <tr>\n",
        "      <th>7505</th>\n",
        "      <td> 43.346749</td>\n",
        "      <td> 43.346749</td>\n",
        "    </tr>\n",
        "    <tr>\n",
        "      <th>7506</th>\n",
        "      <td> 42.010348</td>\n",
        "      <td> 42.010348</td>\n",
        "    </tr>\n",
        "    <tr>\n",
        "      <th>7507</th>\n",
        "      <td> 41.230016</td>\n",
        "      <td> 41.230016</td>\n",
        "    </tr>\n",
        "  </tbody>\n",
        "</table>\n",
        "</div>"
       ],
       "metadata": {},
       "output_type": "pyout",
       "prompt_number": 41,
       "text": [
        "           AGEP             \n",
        "           mean  i_am_custom\n",
        "PUMA                        \n",
        "7501  42.190902    42.190902\n",
        "7502  41.756696    41.756696\n",
        "7503  39.962925    39.962925\n",
        "7504  40.730890    40.730890\n",
        "7505  43.346749    43.346749\n",
        "7506  42.010348    42.010348\n",
        "7507  41.230016    41.230016"
       ]
      }
     ],
     "prompt_number": 41
    },
    {
     "cell_type": "markdown",
     "metadata": {},
     "source": [
      "We can similarly design a custom grouping function which:\n",
      "* Weight times income at the level of each record\n",
      "* Sums this--this will be the total weighted income, say\n",
      "* Divide by the weighted population count--that is our mean."
     ]
    },
    {
     "cell_type": "code",
     "collapsed": false,
     "input": [
      "## function to be passed by groupby.apply to returned weighted estimate--no standard errors provided\n",
      "def weighted_var(frame,var,group,weight):\n",
      "    \"\"\"\n",
      "    Takes ungrouped observations, splits into groups, applies the logic below, and combines groups into one table. \n",
      "    Needs the numeric variable (var) as well as the group by varible (group, as a list) to be passed.\n",
      "    \"\"\"\n",
      "    \n",
      "    ## A: calculates the weigted value of var x at the level of each observation\n",
      "    weighted_x = frame.ix[:,weight].mul(frame[var],axis=0)\n",
      "    weighted_x = frame[weight]*frame[var]  \n",
      "\n",
      "    try:\n",
      "        ## sums A for the group and divides by weighted sum of records. Returns one value for each group.\n",
      "        estimate=weighted_x.sum()/frame[weight].sum()\n",
      "    \n",
      "    except ZeroDivisionError:\n",
      "        #raise\n",
      "        print \"bummer, zero division error in %s\" %len(weighted_x)\n",
      "        ## this seems like a hack job--but it appears kosher--we only go here if np.sum(frame.WGTP) is 0.\n",
      "        ## If np.sum(frame.WGTP) is 0, the numerator is also 0 anyway. \n",
      "        \n",
      "        ## if there are no records in a particular group\n",
      "        estimate =0 \n",
      "    return pd.DataFrame(data={var:[estimate]})"
     ],
     "language": "python",
     "metadata": {},
     "outputs": [],
     "prompt_number": 42
    },
    {
     "cell_type": "markdown",
     "metadata": {},
     "source": [
      "In addition, the microdata is a sample, so estimates have margins of error. The way the Census Bureau suggests that be calculated is using 80 provided *replicate weights*, alternative weights for each record, which can be used to gauge variance for a particular estimate. I create one summary function `weighted_var` that just provides the estimate when called in a `groupby` call, and another, `weighted_var_SE` that also provides the standard error when called in a `groupby` call."
     ]
    },
    {
     "cell_type": "markdown",
     "metadata": {},
     "source": [
      "##Now we can apply these summary functions to a grouped object--as estimates are calculated, they are weighted, too.\n",
      "Let's try household income for newcomers, to stay with the example."
     ]
    },
    {
     "cell_type": "code",
     "collapsed": false,
     "input": [
      "wgt='WGTP'\n",
      "grp=['newcomer','YBL_l']\n",
      "value = 'HINCP'\n",
      "inc_by_newcmr_by_bltyr = pums_h.ix[:,[wgt]+[value]+grp].groupby(grp).apply(weighted_var,value,grp,wgt)\n",
      "inc_by_newcmr_by_bltyr.unstack(level=0).plot(kind='barh')\n",
      "inc_by_newcmr_by_bltyr"
     ],
     "language": "python",
     "metadata": {},
     "outputs": [
      {
       "html": [
        "<div style=\"max-height:1000px;max-width:1500px;overflow:auto;\">\n",
        "<table border=\"1\" class=\"dataframe\">\n",
        "  <thead>\n",
        "    <tr style=\"text-align: right;\">\n",
        "      <th></th>\n",
        "      <th></th>\n",
        "      <th></th>\n",
        "      <th>HINCP</th>\n",
        "    </tr>\n",
        "    <tr>\n",
        "      <th>newcomer</th>\n",
        "      <th>YBL_l</th>\n",
        "      <th></th>\n",
        "      <th></th>\n",
        "    </tr>\n",
        "  </thead>\n",
        "  <tbody>\n",
        "    <tr>\n",
        "      <th rowspan=\"5\" valign=\"top\">existing resident</th>\n",
        "      <th>1939 or earlier</th>\n",
        "      <th>0</th>\n",
        "      <td> 100641.151093</td>\n",
        "    </tr>\n",
        "    <tr>\n",
        "      <th>1940 to 1959</th>\n",
        "      <th>0</th>\n",
        "      <td>  76880.069473</td>\n",
        "    </tr>\n",
        "    <tr>\n",
        "      <th>1960 to 1979</th>\n",
        "      <th>0</th>\n",
        "      <td>  76665.795787</td>\n",
        "    </tr>\n",
        "    <tr>\n",
        "      <th>1980 to 1999</th>\n",
        "      <th>0</th>\n",
        "      <td> 101830.057157</td>\n",
        "    </tr>\n",
        "    <tr>\n",
        "      <th>2000 to 2011</th>\n",
        "      <th>0</th>\n",
        "      <td> 125392.559326</td>\n",
        "    </tr>\n",
        "    <tr>\n",
        "      <th rowspan=\"5\" valign=\"top\">new resident</th>\n",
        "      <th>1939 or earlier</th>\n",
        "      <th>0</th>\n",
        "      <td> 136393.099670</td>\n",
        "    </tr>\n",
        "    <tr>\n",
        "      <th>1940 to 1959</th>\n",
        "      <th>0</th>\n",
        "      <td>  81658.185919</td>\n",
        "    </tr>\n",
        "    <tr>\n",
        "      <th>1960 to 1979</th>\n",
        "      <th>0</th>\n",
        "      <td> 135410.850412</td>\n",
        "    </tr>\n",
        "    <tr>\n",
        "      <th>1980 to 1999</th>\n",
        "      <th>0</th>\n",
        "      <td>  79387.198670</td>\n",
        "    </tr>\n",
        "    <tr>\n",
        "      <th>2000 to 2011</th>\n",
        "      <th>0</th>\n",
        "      <td> 126372.703342</td>\n",
        "    </tr>\n",
        "  </tbody>\n",
        "</table>\n",
        "</div>"
       ],
       "metadata": {},
       "output_type": "pyout",
       "prompt_number": 47,
       "text": [
        "                                             HINCP\n",
        "newcomer          YBL_l                           \n",
        "existing resident 1939 or earlier 0  100641.151093\n",
        "                  1940 to 1959    0   76880.069473\n",
        "                  1960 to 1979    0   76665.795787\n",
        "                  1980 to 1999    0  101830.057157\n",
        "                  2000 to 2011    0  125392.559326\n",
        "new resident      1939 or earlier 0  136393.099670\n",
        "                  1940 to 1959    0   81658.185919\n",
        "                  1960 to 1979    0  135410.850412\n",
        "                  1980 to 1999    0   79387.198670\n",
        "                  2000 to 2011    0  126372.703342"
       ]
      },
      {
       "metadata": {},
       "output_type": "display_data",
       "png": "[encoded data removed]",
       "text": [
        "<matplotlib.figure.Figure at 0x2b0f5d30>"
       ]
      }
     ],
     "prompt_number": 47
    },
    {
     "cell_type": "markdown",
     "metadata": {},
     "source": [
      "### Exercise: How big a share of their income do newcomers vs old timers pay in rent? Hint--the rent variable is RNTP."
     ]
    },
    {
     "cell_type": "code",
     "collapsed": false,
     "input": [
      "## your turn\n"
     ],
     "language": "python",
     "metadata": {},
     "outputs": [],
     "prompt_number": 48
    },
    {
     "cell_type": "markdown",
     "metadata": {},
     "source": [
      "## Rent control and household income\n",
      "Rent control limits the allowable increases on a yearly basis on leases. Few people like to see their rents jump by 10% or more during a boom year.\n",
      "\n",
      "Critics argue that it distorts housing markets and increase costs to newcomers and keeps units off the market. That is a bigger question, but here we can do a quick check, looking at household income of folks in rent controlled units versus non-rent controlled units. At the very least, we would assume that those who get the benefit of rent control would be lower income than those without it."
     ]
    },
    {
     "cell_type": "code",
     "collapsed": false,
     "input": [
      "pums_h['rent_control_proxy']=pums_h.YBL<=5 ## value dictionary has older housing coded 1 through 5.\n",
      "pums_h['rent_control_proxy'].value_counts()"
     ],
     "language": "python",
     "metadata": {},
     "outputs": [
      {
       "metadata": {},
       "output_type": "pyout",
       "prompt_number": 49,
       "text": [
        "True     2841\n",
        "False     745\n",
        "dtype: int64"
       ]
      }
     ],
     "prompt_number": 49
    },
    {
     "cell_type": "code",
     "collapsed": false,
     "input": [
      "wgt='WGTP'\n",
      "grp=['rent_control_proxy']\n",
      "value = 'HINCP'\n",
      "inc_by_rentcontrol = pums_h.ix[:,[wgt]+[value]+grp].groupby(grp).apply(weighted_var,value,grp,wgt)\n",
      "inc_by_rentcontrol.unstack(level=0).plot(kind='barh')\n",
      "inc_by_rentcontrol"
     ],
     "language": "python",
     "metadata": {},
     "outputs": [
      {
       "html": [
        "<div style=\"max-height:1000px;max-width:1500px;overflow:auto;\">\n",
        "<table border=\"1\" class=\"dataframe\">\n",
        "  <thead>\n",
        "    <tr style=\"text-align: right;\">\n",
        "      <th></th>\n",
        "      <th></th>\n",
        "      <th>HINCP</th>\n",
        "    </tr>\n",
        "    <tr>\n",
        "      <th>rent_control_proxy</th>\n",
        "      <th></th>\n",
        "      <th></th>\n",
        "    </tr>\n",
        "  </thead>\n",
        "  <tbody>\n",
        "    <tr>\n",
        "      <th>False</th>\n",
        "      <th>0</th>\n",
        "      <td> 112942.508235</td>\n",
        "    </tr>\n",
        "    <tr>\n",
        "      <th>True </th>\n",
        "      <th>0</th>\n",
        "      <td>  93719.867174</td>\n",
        "    </tr>\n",
        "  </tbody>\n",
        "</table>\n",
        "</div>"
       ],
       "metadata": {},
       "output_type": "pyout",
       "prompt_number": 50,
       "text": [
        "                              HINCP\n",
        "rent_control_proxy                 \n",
        "False              0  112942.508235\n",
        "True               0   93719.867174"
       ]
      },
      {
       "metadata": {},
       "output_type": "display_data",
       "png": "[encoded data removed]",
       "text": [
        "<matplotlib.figure.Figure at 0x2b849320>"
       ]
      }
     ],
     "prompt_number": 50
    },
    {
     "cell_type": "markdown",
     "metadata": {},
     "source": [
      "What do we see? Household income is indeed lower for people in rent controlled units."
     ]
    },
    {
     "cell_type": "code",
     "collapsed": false,
     "input": [
      "wgt='WGTP'\n",
      "grp=['rent_control_proxy','MV_l']\n",
      "value = 'HINCP'\n",
      "inc_by_rentcontrol = pums_h.ix[:,[wgt]+[value]+grp].groupby(grp).apply(weighted_var,value,grp,wgt)\n",
      "inc_by_rentcontrol.unstack(level=0).plot(kind='barh')\n",
      "inc_by_rentcontrol"
     ],
     "language": "python",
     "metadata": {},
     "outputs": [
      {
       "html": [
        "<div style=\"max-height:1000px;max-width:1500px;overflow:auto;\">\n",
        "<table border=\"1\" class=\"dataframe\">\n",
        "  <thead>\n",
        "    <tr style=\"text-align: right;\">\n",
        "      <th></th>\n",
        "      <th></th>\n",
        "      <th></th>\n",
        "      <th>HINCP</th>\n",
        "    </tr>\n",
        "    <tr>\n",
        "      <th>rent_control_proxy</th>\n",
        "      <th>MV_l</th>\n",
        "      <th></th>\n",
        "      <th></th>\n",
        "    </tr>\n",
        "  </thead>\n",
        "  <tbody>\n",
        "    <tr>\n",
        "      <th rowspan=\"7\" valign=\"top\">False</th>\n",
        "      <th>10 to 19 years</th>\n",
        "      <th>0</th>\n",
        "      <td>  92055.692643</td>\n",
        "    </tr>\n",
        "    <tr>\n",
        "      <th>12 months or less</th>\n",
        "      <th>0</th>\n",
        "      <td> 117525.876476</td>\n",
        "    </tr>\n",
        "    <tr>\n",
        "      <th>13 to 23 months</th>\n",
        "      <th>0</th>\n",
        "      <td> 111793.458195</td>\n",
        "    </tr>\n",
        "    <tr>\n",
        "      <th>2 to 4 years</th>\n",
        "      <th>0</th>\n",
        "      <td> 133453.166078</td>\n",
        "    </tr>\n",
        "    <tr>\n",
        "      <th>20 to 29 years</th>\n",
        "      <th>0</th>\n",
        "      <td>  89289.229972</td>\n",
        "    </tr>\n",
        "    <tr>\n",
        "      <th>30 years or more</th>\n",
        "      <th>0</th>\n",
        "      <td> 126482.429501</td>\n",
        "    </tr>\n",
        "    <tr>\n",
        "      <th>5 to 9 years</th>\n",
        "      <th>0</th>\n",
        "      <td> 152699.375554</td>\n",
        "    </tr>\n",
        "    <tr>\n",
        "      <th rowspan=\"7\" valign=\"top\">True </th>\n",
        "      <th>10 to 19 years</th>\n",
        "      <th>0</th>\n",
        "      <td> 101372.716544</td>\n",
        "    </tr>\n",
        "    <tr>\n",
        "      <th>12 months or less</th>\n",
        "      <th>0</th>\n",
        "      <td> 111651.329070</td>\n",
        "    </tr>\n",
        "    <tr>\n",
        "      <th>13 to 23 months</th>\n",
        "      <th>0</th>\n",
        "      <td> 110668.055801</td>\n",
        "    </tr>\n",
        "    <tr>\n",
        "      <th>2 to 4 years</th>\n",
        "      <th>0</th>\n",
        "      <td> 113164.694522</td>\n",
        "    </tr>\n",
        "    <tr>\n",
        "      <th>20 to 29 years</th>\n",
        "      <th>0</th>\n",
        "      <td>  92942.627871</td>\n",
        "    </tr>\n",
        "    <tr>\n",
        "      <th>30 years or more</th>\n",
        "      <th>0</th>\n",
        "      <td>  69032.515731</td>\n",
        "    </tr>\n",
        "    <tr>\n",
        "      <th>5 to 9 years</th>\n",
        "      <th>0</th>\n",
        "      <td> 108413.681774</td>\n",
        "    </tr>\n",
        "  </tbody>\n",
        "</table>\n",
        "</div>"
       ],
       "metadata": {},
       "output_type": "pyout",
       "prompt_number": 51,
       "text": [
        "                                                HINCP\n",
        "rent_control_proxy MV_l                              \n",
        "False              10 to 19 years    0   92055.692643\n",
        "                   12 months or less 0  117525.876476\n",
        "                   13 to 23 months   0  111793.458195\n",
        "                   2 to 4 years      0  133453.166078\n",
        "                   20 to 29 years    0   89289.229972\n",
        "                   30 years or more  0  126482.429501\n",
        "                   5 to 9 years      0  152699.375554\n",
        "True               10 to 19 years    0  101372.716544\n",
        "                   12 months or less 0  111651.329070\n",
        "                   13 to 23 months   0  110668.055801\n",
        "                   2 to 4 years      0  113164.694522\n",
        "                   20 to 29 years    0   92942.627871\n",
        "                   30 years or more  0   69032.515731\n",
        "                   5 to 9 years      0  108413.681774"
       ]
      },
      {
       "metadata": {},
       "output_type": "display_data",
       "png": "[encoded data removed]",
       "text": [
        "<matplotlib.figure.Figure at 0x4edab710>"
       ]
      }
     ],
     "prompt_number": 51
    },
    {
     "cell_type": "markdown",
     "metadata": {},
     "source": [
      "## Plotting\n",
      "Much of working with PUMS (as most other) data is fairly repetitive--do a summary of sorts and plot it. For convenience/ efficiency, we can make functions that do the work every time. Then we can quickly run through a bunch of variables to look for patterns while minimizing redundancy.\n",
      "\n",
      "There are several plotting wrappers defined below. They all do two things:\n",
      "1. Summarize the PUMS housing dataframe, with respect to `value` (like `HINCP`, which is income), weighting by the provided weight, `WGTP`.\n",
      "2. The summary is then plotted along provided groupby dimensions\n",
      "The functions all return a plot as well as the summarized dataframe.\n",
      "\n",
      "### The convenience wrappers include: \n",
      "* barplotter -> produces bar plot, arbitrary dimensions, but unreadable plots\n",
      "* barplotter_1dim  -> produces histogram, 1 dimension\n",
      "* barplotter_2dims -> produces bar plot, 2 dimensions\n",
      "* barplotter_3dims -> produces bar plot, 2 dimensions"
     ]
    },
    {
     "cell_type": "code",
     "collapsed": false,
     "input": [
      "## more or less not in use in this notebook. It quickly produces unreadable charts.\n",
      "def barplotter(wgt,value,grp,title,retval):\n",
      "    \"\"\"\n",
      "    pass the weight (PWGTP, WGTP), value var, grouping vars (list), plot title and whether to return a grouped by object.\n",
      "    \"\"\"\n",
      "    \n",
      "    overallgrp = pums_h.ix[:,[wgt]+[value]+grp].groupby(grp).apply(weighted_var,value,grp,wgt)\n",
      "    \n",
      "    ## don't reset index. It will trip up the plotting call\n",
      "    #levels=range(0,grp.__len__())\n",
      "    #overallgrp.reset_index(level=levels, inplace=True)\n",
      "    ax = overallgrp.plot(kind='bar',stacked=True,figsize=(14,4))\n",
      "    \n",
      "    ax.set_xticks(map(lambda x: x, range(0, len(overallgrp))))\n",
      "    \n",
      "    if len(grp)>1:\n",
      "        lix=[k for k in overallgrp.index]\n",
      "        lixnodupe = [\"%s--%s\"%(list(set(k))[0],list(set(k))[1]) for k in lix]\n",
      "    else:\n",
      "        lixnodupe=overallgrp.index\n",
      "    ax.set_xticklabels(lixnodupe, rotation=45, rotation_mode='anchor', ha='right', fontproperties=ticks_font)\n",
      "    ax.yaxis.grid(True)\n",
      "    for label in ax.get_yticklabels():\n",
      "        label.set_fontproperties(ticks_font)\n",
      "\n",
      "    # ax.set_axis_bgcolor(axis_bgcolor)\n",
      "    ax.set_title(title, fontproperties=title_font)\n",
      "    ax.set_xlabel('', fontproperties=label_font)\n",
      "    ax.set_ylabel(value, fontproperties=label_font)\n",
      "    ax.legend(prop={'size': 10})\n",
      "    plt.show()\n",
      "    if retval: return overallgrp "
     ],
     "language": "python",
     "metadata": {},
     "outputs": [],
     "prompt_number": 52
    },
    {
     "cell_type": "code",
     "collapsed": false,
     "input": [
      "def barplotter_2dims(wgt,value,grp,title,retval):\n",
      "    overallgrp = pums_h.ix[:,[wgt]+[value]+grp].groupby(grp).apply(weighted_var,value,grp,wgt)\n",
      "    levels=range(0,grp.__len__())\n",
      "    overallgrp.reset_index(level=[0,1], inplace=True)\n",
      "    #ax = overallgrp.plot(kind='bar',stacked=True,figsize=(14,4))\n",
      "    \n",
      "    g = sns.FacetGrid(overallgrp, col=grp[1], margin_titles=True)\n",
      "    ax = g.map(sns.barplot, grp[0],value, color=\"darkred\",ci=False)\n",
      "    #for ax, title in zip(g.axes.flat, titles):\n",
      "    #ax.set_legend\n",
      "    \n",
      "    #if len(grp)>1:\n",
      "    #    lix=[k for k in overallgrp.index]\n",
      "    #    lixnodupe = [\"%s--%s\"%(list(set(k))[0],list(set(k))[1]) for k in lix]\n",
      "    #else:\n",
      "    #ax.set_xticklabels(rotation=45, rotation_mode='anchor', ha='right', fontproperties=ticks_font)\n",
      "    if retval: return overallgrp "
     ],
     "language": "python",
     "metadata": {},
     "outputs": [],
     "prompt_number": 53
    },
    {
     "cell_type": "code",
     "collapsed": false,
     "input": [
      "def barplotter_3dims(wgt,value,grp,title,retval):\n",
      "    overallgrp = pums_h.ix[:,[wgt]+[value]+grp].groupby(grp).apply(weighted_var,value,grp,wgt)\n",
      "    levels=range(0,grp.__len__())\n",
      "    overallgrp.reset_index(level=levels, inplace=True)\n",
      "    #ax = overallgrp.plot(kind='bar',stacked=True,figsize=(14,4))\n",
      "    try: \n",
      "        overallgrp.reset_index(inplace=True)\n",
      "    except:\n",
      "        pass\n",
      "    g = sns.FacetGrid(overallgrp, col=grp[2], row=grp[1], margin_titles=True)\n",
      "    ax = g.map(sns.barplot, grp[0],value, color=\"darkred\",ci=False)\n",
      "    #ax.set_xticklabels(rotation=45, rotation_mode='anchor', ha='right', fontproperties=ticks_font)\n",
      "    if retval: return overallgrp "
     ],
     "language": "python",
     "metadata": {},
     "outputs": [],
     "prompt_number": 54
    },
    {
     "cell_type": "code",
     "collapsed": false,
     "input": [
      "## not in use\n",
      "\n",
      "def mapplotter_2dims(wgt,value,grp,title,retval):\n",
      "    overallgrp = pums_h.ix[:,[wgt]+[value]+grp].groupby(grp).apply(weighted_var,value,grp,wgt)\n",
      "    levels=range(0,grp.__len__())\n",
      "    overallgrp.reset_index(level=levels, inplace=True)\n",
      "    #ax = overallgrp.plot(kind='bar',stacked=True,figsize=(14,4))\n",
      "    try: \n",
      "        overallgrp.reset_index(inplace=True)\n",
      "    except:\n",
      "        pass\n",
      "    g = sns.FacetGrid(overallgrp, col=grp[1], margin_titles=True)\n",
      "    ax = g.map(plt.scatter, puma2.longitude,puma2.latitude,color='blue',s=5,edgecolor='none')\n",
      "    #    ax=puma2.plot(column='test', scheme='QUANTILES', k=2, colormap='OrRd')\n",
      "\n",
      "    #ax.set_xticklabels(rotation=45, rotation_mode='anchor', ha='right', fontproperties=ticks_font)\n",
      "    if retval: return overallgrp "
     ],
     "language": "python",
     "metadata": {},
     "outputs": [],
     "prompt_number": 55
    },
    {
     "cell_type": "code",
     "collapsed": false,
     "input": [
      "## Stitch together histogram using numpy's hist.\n",
      "\n",
      "def barplotter_1dim(var,bins):\n",
      "    ## weighted histogram of percent of income paid in rent\n",
      "    mpl.rc(\"figure\", figsize=(12, 5))\n",
      "    \n",
      "    temp=pums_h[pums_h[var]>0]\n",
      "    bins=bins\n",
      "    frequency = np.histogram(a=temp.ix[:,var],bins=bins,weights=temp.WGTP)[0]\n",
      "    \n",
      "    ## np.histogram returns frequency and breaks. We slice [index 1] to grab the breakpoints, \n",
      "    ## omitting the first one and store as index\n",
      "    indx = [(\"up to {0:,.0f}%\".format(k)) for k in np.histogram(a=temp.ix[:,var],bins=bins,weights=temp.WGTP)[1][1:]]\n",
      "\n",
      "    ## store in data frame\n",
      "    freqdist = pd.DataFrame(\n",
      "    data={\n",
      "      'freq':frequency},\n",
      "      index=indx\n",
      "      )\n",
      "    \n",
      "    ## plotting\n",
      "    ax=sns.barplot(freqdist.index,freqdist.freq, color=\"darkred\",ci=False,x_order=indx)\n",
      "    ax.set_xticklabels(indx,rotation=45, rotation_mode='anchor', ha='right', fontproperties=ticks_font)\n",
      "    ax.yaxis.grid(True)\n",
      "    #sns.kdeplot(temp.ix[:,var], shade=True,bw=40,clip=[0,100])\n",
      "    #pal = sns.blend_palette([sns.desaturate(\"royalblue\", 0), \"royalblue\"], 5)\n",
      "    #bws = [.5, 1, 2]\n",
      "    #for bw, c in zip(bws, pal):\n",
      "    #    sns.kdeplot(temp.ix[:,var], bw=bw, color=c, lw=1.8, label=bw)\n",
      "    plt.show()\n",
      "#RNTP"
     ],
     "language": "python",
     "metadata": {},
     "outputs": [],
     "prompt_number": 56
    },
    {
     "cell_type": "markdown",
     "metadata": {},
     "source": [
      "## We can now call the plotter wrappers on the original data frame\n",
      "This is currently set up to just summarize housing data since that is the focus for the budget constraint work.\n",
      "\n",
      "The summary / plot calls are all similar. Three variables should be provided:\n",
      "\n",
      "* `wgt` : str; the estimate weight for each housing record\n",
      "* `value` : str; the variable of interest (such as income or housing cost)\n",
      "* `grp` :  list; a list of dimensions along which to summarize the data (by race, age, move status, etc)"
     ]
    },
    {
     "cell_type": "markdown",
     "metadata": {},
     "source": [
      "### Variations in income "
     ]
    },
    {
     "cell_type": "code",
     "collapsed": false,
     "input": [
      "wgt = 'WGTP'\n",
      "value = 'HINCP'\n",
      "grp = ['newcomer']\n",
      "k = barplotter(wgt,value,grp,'HH Income, by PUMA, income grp',True)\n",
      "k\n"
     ],
     "language": "python",
     "metadata": {},
     "outputs": [
      {
       "metadata": {},
       "output_type": "display_data",
       "png": "[encoded data removed]",
       "text": [
        "<matplotlib.figure.Figure at 0x5ab7f240>"
       ]
      },
      {
       "html": [
        "<div style=\"max-height:1000px;max-width:1500px;overflow:auto;\">\n",
        "<table border=\"1\" class=\"dataframe\">\n",
        "  <thead>\n",
        "    <tr style=\"text-align: right;\">\n",
        "      <th></th>\n",
        "      <th></th>\n",
        "      <th>HINCP</th>\n",
        "    </tr>\n",
        "    <tr>\n",
        "      <th>newcomer</th>\n",
        "      <th></th>\n",
        "      <th></th>\n",
        "    </tr>\n",
        "  </thead>\n",
        "  <tbody>\n",
        "    <tr>\n",
        "      <th>existing resident</th>\n",
        "      <th>0</th>\n",
        "      <td>  94201.840425</td>\n",
        "    </tr>\n",
        "    <tr>\n",
        "      <th>new resident</th>\n",
        "      <th>0</th>\n",
        "      <td> 121208.197773</td>\n",
        "    </tr>\n",
        "  </tbody>\n",
        "</table>\n",
        "</div>"
       ],
       "metadata": {},
       "output_type": "pyout",
       "prompt_number": 57,
       "text": [
        "                             HINCP\n",
        "newcomer                          \n",
        "existing resident 0   94201.840425\n",
        "new resident      0  121208.197773"
       ]
      }
     ],
     "prompt_number": 57
    },
    {
     "cell_type": "markdown",
     "metadata": {},
     "source": [
      "#### by race AND newcomer status (moved last year)"
     ]
    },
    {
     "cell_type": "code",
     "collapsed": false,
     "input": [
      "wgt = 'WGTP'\n",
      "value = 'HINCP'\n",
      "grp = ['newcomer','RAC1P_l_first']\n",
      "k = barplotter_2dims(wgt,value,grp,'HH Income, by PUMA, Recent move',True)\n",
      "k"
     ],
     "language": "python",
     "metadata": {},
     "outputs": [
      {
       "html": [
        "<div style=\"max-height:1000px;max-width:1500px;overflow:auto;\">\n",
        "<table border=\"1\" class=\"dataframe\">\n",
        "  <thead>\n",
        "    <tr style=\"text-align: right;\">\n",
        "      <th></th>\n",
        "      <th>newcomer</th>\n",
        "      <th>RAC1P_l_first</th>\n",
        "      <th>HINCP</th>\n",
        "    </tr>\n",
        "  </thead>\n",
        "  <tbody>\n",
        "    <tr>\n",
        "      <th>0</th>\n",
        "      <td> existing resident</td>\n",
        "      <td>       Asian</td>\n",
        "      <td>  88605.079909</td>\n",
        "    </tr>\n",
        "    <tr>\n",
        "      <th>0</th>\n",
        "      <td> existing resident</td>\n",
        "      <td>       Black</td>\n",
        "      <td>  38512.248612</td>\n",
        "    </tr>\n",
        "    <tr>\n",
        "      <th>0</th>\n",
        "      <td> existing resident</td>\n",
        "      <td>       Other</td>\n",
        "      <td>  51567.659471</td>\n",
        "    </tr>\n",
        "    <tr>\n",
        "      <th>0</th>\n",
        "      <td> existing resident</td>\n",
        "      <td> Two + Races</td>\n",
        "      <td>  77521.479232</td>\n",
        "    </tr>\n",
        "    <tr>\n",
        "      <th>0</th>\n",
        "      <td> existing resident</td>\n",
        "      <td>       White</td>\n",
        "      <td> 123462.437382</td>\n",
        "    </tr>\n",
        "    <tr>\n",
        "      <th>0</th>\n",
        "      <td>      new resident</td>\n",
        "      <td>       Asian</td>\n",
        "      <td> 109365.569184</td>\n",
        "    </tr>\n",
        "    <tr>\n",
        "      <th>0</th>\n",
        "      <td>      new resident</td>\n",
        "      <td>       Black</td>\n",
        "      <td>  50842.706767</td>\n",
        "    </tr>\n",
        "    <tr>\n",
        "      <th>0</th>\n",
        "      <td>      new resident</td>\n",
        "      <td>       Other</td>\n",
        "      <td>  85753.133690</td>\n",
        "    </tr>\n",
        "    <tr>\n",
        "      <th>0</th>\n",
        "      <td>      new resident</td>\n",
        "      <td> Two + Races</td>\n",
        "      <td>  64855.726629</td>\n",
        "    </tr>\n",
        "    <tr>\n",
        "      <th>0</th>\n",
        "      <td>      new resident</td>\n",
        "      <td>       White</td>\n",
        "      <td> 134924.508419</td>\n",
        "    </tr>\n",
        "  </tbody>\n",
        "</table>\n",
        "</div>"
       ],
       "metadata": {},
       "output_type": "pyout",
       "prompt_number": 58,
       "text": [
        "            newcomer RAC1P_l_first          HINCP\n",
        "0  existing resident         Asian   88605.079909\n",
        "0  existing resident         Black   38512.248612\n",
        "0  existing resident         Other   51567.659471\n",
        "0  existing resident   Two + Races   77521.479232\n",
        "0  existing resident         White  123462.437382\n",
        "0       new resident         Asian  109365.569184\n",
        "0       new resident         Black   50842.706767\n",
        "0       new resident         Other   85753.133690\n",
        "0       new resident   Two + Races   64855.726629\n",
        "0       new resident         White  134924.508419"
       ]
      },
      {
       "metadata": {},
       "output_type": "display_data",
       "png": "[encoded data removed]",
       "text": [
        "<matplotlib.figure.Figure at 0x19e81d68>"
       ]
      }
     ],
     "prompt_number": 58
    },
    {
     "cell_type": "markdown",
     "metadata": {},
     "source": [
      "### Mapping detour--PUMA areas--what are they?"
     ]
    },
    {
     "cell_type": "code",
     "collapsed": false,
     "input": [
      "# we use PySAL for loading a test shapefile\n",
      "# replace this cell if you have a local shapefile and want to use GeoPandas readers\n",
      "import geopandas as gp\n",
      "from descartes import PolygonPatch\n",
      "import matplotlib as mpl\n",
      "import matplotlib.pyplot as plt\n",
      "import pysal as ps \n",
      "pth = ps.examples.get_path(\"/home/aksel/env/ual/miscellaneous/data/sfpuma10_shore.shp\")\n",
      "puma = gp.GeoDataFrame.from_file(pth)\n",
      "puma.columns"
     ],
     "language": "python",
     "metadata": {},
     "outputs": [
      {
       "ename": "ImportError",
       "evalue": "No module named pysal",
       "output_type": "pyerr",
       "traceback": [
        "\u001b[1;31m---------------------------------------------------------------------------\u001b[0m\n\u001b[1;31mImportError\u001b[0m                               Traceback (most recent call last)",
        "\u001b[1;32m<ipython-input-59-3a72152f0b90>\u001b[0m in \u001b[0;36m<module>\u001b[1;34m()\u001b[0m\n\u001b[0;32m      5\u001b[0m \u001b[1;32mimport\u001b[0m \u001b[0mmatplotlib\u001b[0m \u001b[1;32mas\u001b[0m \u001b[0mmpl\u001b[0m\u001b[1;33m\u001b[0m\u001b[0m\n\u001b[0;32m      6\u001b[0m \u001b[1;32mimport\u001b[0m \u001b[0mmatplotlib\u001b[0m\u001b[1;33m.\u001b[0m\u001b[0mpyplot\u001b[0m \u001b[1;32mas\u001b[0m \u001b[0mplt\u001b[0m\u001b[1;33m\u001b[0m\u001b[0m\n\u001b[1;32m----> 7\u001b[1;33m \u001b[1;32mimport\u001b[0m \u001b[0mpysal\u001b[0m \u001b[1;32mas\u001b[0m \u001b[0mps\u001b[0m\u001b[1;33m\u001b[0m\u001b[0m\n\u001b[0m\u001b[0;32m      8\u001b[0m \u001b[0mpth\u001b[0m \u001b[1;33m=\u001b[0m \u001b[0mps\u001b[0m\u001b[1;33m.\u001b[0m\u001b[0mexamples\u001b[0m\u001b[1;33m.\u001b[0m\u001b[0mget_path\u001b[0m\u001b[1;33m(\u001b[0m\u001b[1;34m\"/home/aksel/env/ual/miscellaneous/data/sfpuma10_shore.shp\"\u001b[0m\u001b[1;33m)\u001b[0m\u001b[1;33m\u001b[0m\u001b[0m\n\u001b[0;32m      9\u001b[0m \u001b[0mpuma\u001b[0m \u001b[1;33m=\u001b[0m \u001b[0mgp\u001b[0m\u001b[1;33m.\u001b[0m\u001b[0mGeoDataFrame\u001b[0m\u001b[1;33m.\u001b[0m\u001b[0mfrom_file\u001b[0m\u001b[1;33m(\u001b[0m\u001b[0mpth\u001b[0m\u001b[1;33m)\u001b[0m\u001b[1;33m\u001b[0m\u001b[0m\n",
        "\u001b[1;31mImportError\u001b[0m: No module named pysal"
       ]
      }
     ],
     "prompt_number": 59
    },
    {
     "cell_type": "code",
     "collapsed": false,
     "input": [
      "puma['latitude']=puma.INTPTLAT10.apply(lambda x: float(x))\n",
      "puma['longitude']=puma.INTPTLON10.apply(lambda x: float(x))"
     ],
     "language": "python",
     "metadata": {},
     "outputs": []
    },
    {
     "cell_type": "markdown",
     "metadata": {},
     "source": [
      "## We are generating new lat/longs for centroid purposes.\n",
      "This is because the ones that shipped with the PUMS file are from the silly non-clipped boundary files, leading to centroids in the ocean."
     ]
    },
    {
     "cell_type": "code",
     "collapsed": false,
     "input": [
      "puma['x']=puma.geometry.centroid.bounds.minx\n",
      "puma['y']=puma.geometry.centroid.bounds.miny\n",
      "puma.index=puma['PUMACE10']#.apply(lambda x: '0'+str(x))"
     ],
     "language": "python",
     "metadata": {},
     "outputs": []
    },
    {
     "cell_type": "code",
     "collapsed": false,
     "input": [
      "#ax = puma[puma.PUMACE10.isin([\"0750%s\"%i for i in range(1,8)])].plot()\n",
      "fig = plt.figure()\n",
      "fig.set_size_inches(8, 8)\n",
      "ax=puma.plot()\n",
      "for label in ax.get_xticklabels():\n",
      "  label.set_fontproperties(ticks_font)\n",
      "for label in ax.get_yticklabels():\n",
      "  label.set_fontproperties(ticks_font)\n",
      "ax.set_label(range(1,8))\n",
      "ax.set_title('Rent, by PUMA, Recent move')\n",
      "for i, row in puma.iterrows():\n",
      "   plt.annotate(row['PUMACE10'],\n",
      "                xy=(row.x, row.y),\n",
      "                xytext=(row.x , row.y ),\n",
      "                bbox=dict(boxstyle='round', color='b', fc='w', alpha=0.9),\n",
      "                xycoords='data')\n",
      "plt.show()"
     ],
     "language": "python",
     "metadata": {},
     "outputs": []
    },
    {
     "cell_type": "code",
     "collapsed": false,
     "input": [
      "#ax = puma[puma.PUMACE10.isin([\"0750%s\"%i for i in range(1,8)])].plot()\n",
      "def mapplot(data,val):\n",
      "    fig = plt.figure()\n",
      "    fig.set_size_inches((10,10))\n",
      "    #data.reset_index(drop=True)\n",
      "\n",
      "    ## add value to dataframe\n",
      "    data['pumastr']=data['PUMA'].apply(lambda x: '0'+str(x))\n",
      "    data.index=data.pumastr\n",
      "    puma[val]=data.ix[:,val]\n",
      "    print puma[val]\n",
      "    ## plotting\n",
      "    ax=puma.plot(column=val, scheme='QUANTILES', k=2, colormap='OrRd')\n",
      "    for label in ax.get_xticklabels():\n",
      "      label.set_fontproperties(ticks_font)\n",
      "    for label in ax.get_yticklabels():\n",
      "      label.set_fontproperties(ticks_font)\n",
      "    ax.set_label(range(1,8))\n",
      "    ax.set_title('Rent, by PUMA, Recent move')\n",
      "    for i, row in puma.iterrows():\n",
      "       labstr = \"PUMA \"+row['PUMACE10'] +'\\n'+ \"{0:,.0f}%\".format(row[val])\n",
      "       plt.annotate(labstr,\n",
      "                    xy=(row.x, row.y),\n",
      "                    xytext=(row.x , row.y ),size=15,\n",
      "                    bbox=dict(boxstyle='round', color='b', fc='w', alpha=0.9),\n",
      "                    xycoords='data')\n",
      "    plt.show()"
     ],
     "language": "python",
     "metadata": {},
     "outputs": []
    },
    {
     "cell_type": "markdown",
     "metadata": {},
     "source": [
      "### beware that the dataframe needs to have explicit column names, not just an index for this to work\n",
      "`k.reset_index(level=0, inplace=True)` will do the trick.\n",
      "Check out what the last generated k was, and that it has the variable passed to mapplot."
     ]
    },
    {
     "cell_type": "code",
     "collapsed": false,
     "input": [
      "wgt = 'WGTP' ## string\n",
      "value = 'GRPIP' ## string\n",
      "grp = ['PUMA'] ## needs to be a list\n",
      "k = barplotter(wgt,value,grp,'Rent, by PUMA, Recent move',True)"
     ],
     "language": "python",
     "metadata": {},
     "outputs": []
    },
    {
     "cell_type": "code",
     "collapsed": false,
     "input": [
      "k.reset_index(level=0, inplace=True)\n",
      "mapplot(k,'GRPIP')"
     ],
     "language": "python",
     "metadata": {},
     "outputs": []
    },
    {
     "cell_type": "markdown",
     "metadata": {},
     "source": [
      "So, the share of income ranges from 16 in PUMA 7507 to 25 in PUMA 7501."
     ]
    },
    {
     "cell_type": "markdown",
     "metadata": {},
     "source": [
      "## Housing costs, total, and as a share of income\n",
      "Now we looked at income by race which has substantial variation. How do housing costs, in turn, vary?"
     ]
    },
    {
     "cell_type": "code",
     "collapsed": false,
     "input": [
      "wgt = 'WGTP'\n",
      "value = 'RNTP'\n",
      "grp = ['PUMA','YBL_l']\n",
      "k=barplotter_2dims(wgt,value,grp,'Rent as pct of income, by PUMA, Income Class',True)"
     ],
     "language": "python",
     "metadata": {},
     "outputs": []
    },
    {
     "cell_type": "markdown",
     "metadata": {},
     "source": [
      "##How about the max payment in each PUMA?"
     ]
    },
    {
     "cell_type": "code",
     "collapsed": false,
     "input": [
      "## Group by PUMA area\n",
      "#'GRPIP'\n",
      "overallgrp = pums_h.ix[:,['PUMA','GRPIP']].groupby(['PUMA']).max()\n",
      "overallgrp.sort(['GRPIP'],ascending=False).unstack().plot(kind='bar',stacked=True,figsize=(15,4))"
     ],
     "language": "python",
     "metadata": {},
     "outputs": []
    },
    {
     "cell_type": "markdown",
     "metadata": {},
     "source": [
      "## ok, so that doesn't tell us much; 100 across the board. \n",
      "Each PUMA has folks who pay their entire income in rent. Let's look at the weighted distribution instead."
     ]
    },
    {
     "cell_type": "code",
     "collapsed": false,
     "input": [
      "## percent spent on housing--change the 10 to another integer to change number of bins\n",
      "barplotter_1dim('GRPIP',10)"
     ],
     "language": "python",
     "metadata": {},
     "outputs": []
    },
    {
     "cell_type": "code",
     "collapsed": false,
     "input": [
      "wgt = 'WGTP'\n",
      "value = 'GRPIP'\n",
      "grp = ['newcomer','PUMA']\n",
      "k =barplotter_2dims(wgt,value,grp,'Rent as pct of income, by PUMA, Recent move',True)"
     ],
     "language": "python",
     "metadata": {},
     "outputs": []
    },
    {
     "cell_type": "markdown",
     "metadata": {},
     "source": [
      "## What about recent movers?\n",
      "Also, housing costs for **newcomers** may be quite different. How do costs vary depending on whether the household is a recent mover?\n",
      "We use the persontable and MIGPUMA, making sure they come from a non-sf origin at last move."
     ]
    },
    {
     "cell_type": "code",
     "collapsed": false,
     "input": [
      "wgt = 'WGTP'\n",
      "value = 'GRPIP'\n",
      "grp = ['RAC1P_l_first','newcomer','occupation_first'] ## 1-year sample getting thin here\n",
      "k =barplotter_3dims(wgt,value,grp,'Rent as pct of income, by PUMA, Recent move',True)"
     ],
     "language": "python",
     "metadata": {},
     "outputs": []
    },
    {
     "cell_type": "markdown",
     "metadata": {},
     "source": [
      "Maybe newcomers just pay more because they live in a larger housing stock?"
     ]
    },
    {
     "cell_type": "code",
     "collapsed": false,
     "input": [
      "wgt = 'WGTP'\n",
      "value = 'GRPIP'\n",
      "grp = ['PUMA','newcomer','BDSP_l']\n",
      "k =barplotter_3dims(wgt,value,grp,'Rent as pct of income, by PUMA, Recent move',True)"
     ],
     "language": "python",
     "metadata": {},
     "outputs": []
    },
    {
     "cell_type": "markdown",
     "metadata": {},
     "source": [
      "Nope--they seem to be concentrated in *smaller* units if anything, although the picture is mixed."
     ]
    },
    {
     "cell_type": "code",
     "collapsed": false,
     "input": [
      "wgt = 'WGTP'\n",
      "value = 'GRPIP'\n",
      "grp = ['RAC1P_l_first','occupation_first']\n",
      "k =barplotter_2dims(wgt,value,grp,'Rent as pct of income, by PUMA, Recent move',True)"
     ],
     "language": "python",
     "metadata": {},
     "outputs": []
    },
    {
     "cell_type": "code",
     "collapsed": false,
     "input": [
      "wgt = 'WGTP'\n",
      "value = 'RNTP'\n",
      "grp = ['RAC1P_l_first','newcomer','occupation_first']\n",
      "k =barplotter_3dims(wgt,value,grp,'Rent as pct of income, by PUMA, Recent move',True)"
     ],
     "language": "python",
     "metadata": {},
     "outputs": []
    },
    {
     "cell_type": "markdown",
     "metadata": {},
     "source": [
      "Here, the data is getting thin across the dimensions. Should use a multi-year release, or wider geographies than just San Francisco."
     ]
    },
    {
     "cell_type": "markdown",
     "metadata": {},
     "source": [
      "##Upshot\n",
      "Substantial variation. HLCM can be liberal in setting the actual budget constraint."
     ]
    },
    {
     "cell_type": "markdown",
     "metadata": {},
     "source": [
      "#Sandbox"
     ]
    },
    {
     "cell_type": "markdown",
     "metadata": {},
     "source": [
      "This function can conveniently be passed to each group with apply and return the weighted estimate.\n",
      "This seems reasonable. However, don't invoke because the plotting functions will require adaptation if more than one numerical argument is in passed dataframe.\n",
      "\n",
      "### Test the standard error /replicate weight calculation"
     ]
    },
    {
     "cell_type": "code",
     "collapsed": false,
     "input": [
      "## function to be passed by groupby.apply to returned weighted estimate--no standard errors provided\n",
      "def weighted_var_SE(frame,var,group,weights):\n",
      "\n",
      "    ## A: calculates the weigted value of var x at the level of each observation\n",
      "    wcol = [] # weight collection\n",
      "    primary=[] # holder of the main estimate\n",
      "    \n",
      "    ## calculate 81 estimates (the last 80 being replicates)\n",
      "    for w in weights:\n",
      "        weighted_x = frame[w]*frame[var]  \n",
      "        repl_estimate=weighted_x.sum()/frame[w].sum()\n",
      "        wcol.append(repl_estimate)\n",
      "    #val= pd.DataFrame(data={var:rep_estimate},ignore_index=True)\n",
      "    \n",
      "    primary.append(wcol[0])\n",
      "    wcol=wcol[1:]        \n",
      "    squared_difference=0\n",
      "\n",
      "    primaryWeightSum = pd.Series(primary).sum()\n",
      "    replicateWeightsSum =pd.Series(wcol).sum() \n",
      "    \n",
      "    ## loop through each rep weight column, calculate sq difference with main weight     \n",
      "    \n",
      "    for col in wcol:\n",
      "        squared_difference = squared_difference + (col - primary[0])**2\n",
      "    \n",
      "    #    print squared_difference\n",
      "    variance =(4/80.)*squared_difference\n",
      "    standard_error = (variance)**.5\n",
      "    coefficient_of_variation = standard_error/primaryWeightSum\n",
      "    \n",
      "    return pd.DataFrame(data={var:[primaryWeightSum],'se':standard_error})"
     ],
     "language": "python",
     "metadata": {},
     "outputs": []
    },
    {
     "cell_type": "code",
     "collapsed": false,
     "input": [
      "## replicate weights for standard error calculations are stored in 80 columns \n",
      "pums_h.filter(like='wgtp', axis=1).head()#'PWGTP']"
     ],
     "language": "python",
     "metadata": {},
     "outputs": []
    },
    {
     "cell_type": "code",
     "collapsed": false,
     "input": [
      "wgt=pums_h.filter(like='wgtp', axis=1).columns.tolist()\n",
      "group=['newcomer','PUMA']\n",
      "value='HINCP'\n",
      "wgt = pums_h.filter(like='wgtp', axis=1).columns.tolist()\n",
      "\n",
      "j= pums_h.ix[:,['WGTP']+wgt+[value]+group].groupby(group).apply(weighted_var_SE,value,group,wgt)\n",
      "j\n",
      "## slight difference to the non-SE producing `weighted_var` function. why?"
     ],
     "language": "python",
     "metadata": {},
     "outputs": []
    }
   ],
   "metadata": {}
  }
 ]
}