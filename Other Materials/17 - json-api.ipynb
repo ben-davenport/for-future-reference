{
 "metadata": {
  "name": "",
  "signature": "sha256:2613bec6de94bc98f80c07c9847065aecdea9b048967019d3479e7379885b957"
 },
 "nbformat": 3,
 "nbformat_minor": 0,
 "worksheets": [
  {
   "cells": [
    {
     "cell_type": "code",
     "collapsed": false,
     "input": [
      "import requests, json, pandas as pd"
     ],
     "language": "python",
     "metadata": {},
     "outputs": [],
     "prompt_number": 7
    },
    {
     "cell_type": "code",
     "collapsed": false,
     "input": [
      "url = 'http://data.cityofberkeley.info/resource/{0}.json?{1}'\n",
      "endpoint = 'kw74-4a6x'\n",
      "query = '$where=base_pay>200000'\n",
      "url = url.format(endpoint, query)\n",
      "\n",
      "response = requests.get(url)\n",
      "data = json.loads(response.text)\n",
      "data"
     ],
     "language": "python",
     "metadata": {},
     "outputs": []
    },
    {
     "cell_type": "code",
     "collapsed": false,
     "input": [
      "y = json.loads(requests.get('http://data.cityofberkeley.info/resource/kw74-4a6x.json?$where=base_pay%3E200000').text)"
     ],
     "language": "python",
     "metadata": {},
     "outputs": [],
     "prompt_number": 21
    },
    {
     "cell_type": "code",
     "collapsed": false,
     "input": [
      "import requests, json, pandas as pd\n",
      "url = 'http://data.sfgov.org/resource/4vvz-yypg.json?$where=regcap>2500'\n",
      "response = requests.get(url)\n",
      "data = json.loads(response.text)\n",
      "df = pd.DataFrame(data)\n",
      "df['address']"
     ],
     "language": "python",
     "metadata": {},
     "outputs": [
      {
       "metadata": {},
       "output_type": "pyout",
       "prompt_number": 2,
       "text": [
        "0          1099 03rd St\n",
        "1     600 Jamestown Ave\n",
        "2    833 Mission Street\n",
        "3      3251 20th Avenue\n",
        "Name: address, dtype: object"
       ]
      }
     ],
     "prompt_number": 2
    },
    {
     "cell_type": "code",
     "collapsed": false,
     "input": [],
     "language": "python",
     "metadata": {},
     "outputs": [],
     "prompt_number": 8
    },
    {
     "cell_type": "code",
     "collapsed": false,
     "input": [
      "import requests, json, pandas as pd\n",
      "url = 'http://data.sfgov.org/resource/w969-5mn4.json'\n",
      "response = requests.get(url)\n",
      "data = json.loads(response.text)\n",
      "df = pd.DataFrame(data)\n",
      "df['street_name'].value_counts()"
     ],
     "language": "python",
     "metadata": {},
     "outputs": [
      {
       "metadata": {},
       "output_type": "pyout",
       "prompt_number": 25,
       "text": [
        "24TH ST       52\n",
        "MARKET        51\n",
        "MISSION       43\n",
        "VALENCIA      37\n",
        "HAIGHT        36\n",
        "POLK          30\n",
        "03RD ST       25\n",
        "DIVISADERO    22\n",
        "02ND ST       19\n",
        "CLEMENT       19\n",
        "IRVING        19\n",
        "FILLMORE      18\n",
        "18TH ST       18\n",
        "16TH ST       17\n",
        "09TH AVE      17\n",
        "...\n",
        "OTIS        1\n",
        "15TH ST     1\n",
        "STEUART     1\n",
        "LARKIN      1\n",
        "TERESITA    1\n",
        "VALLEJO     1\n",
        "MUNICH      1\n",
        "EDDY        1\n",
        "DRUMM       1\n",
        "JESSIE      1\n",
        "SHRADER     1\n",
        "ALEMANY     1\n",
        "CLAYTON     1\n",
        "25TH ST     1\n",
        "WILLIAMS    1\n",
        "Length: 193, dtype: int64"
       ]
      }
     ],
     "prompt_number": 25
    },
    {
     "cell_type": "code",
     "collapsed": false,
     "input": [],
     "language": "python",
     "metadata": {},
     "outputs": []
    }
   ],
   "metadata": {}
  }
 ]
}