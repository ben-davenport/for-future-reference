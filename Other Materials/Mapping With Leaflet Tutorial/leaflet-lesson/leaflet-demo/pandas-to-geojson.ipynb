{
 "cells": [
  {
   "cell_type": "markdown",
   "metadata": {},
   "source": [
    "# Convert a pandas dataframe to geojson for web-mapping"
   ]
  },
  {
   "cell_type": "code",
   "execution_count": 1,
   "metadata": {
    "collapsed": false
   },
   "outputs": [],
   "source": [
    "import pandas as pd, requests, json"
   ]
  },
  {
   "cell_type": "markdown",
   "metadata": {},
   "source": [
    "First download data from the city of Berkeley's API. You can use Socrata's $limit parameter to specify how many rows to grab (otherwise the default is 1,000 rows of data): https://dev.socrata.com/docs/paging.html\n",
    "\n",
    "Example request: https://data.cityofberkeley.info/resource/k489-uv4i.json?$limit=5"
   ]
  },
  {
   "cell_type": "code",
   "execution_count": 2,
   "metadata": {
    "collapsed": true
   },
   "outputs": [],
   "source": [
    "# API endpoint for city of Berkeley's 311 calls\n",
    "endpoint_url = 'https://data.cityofberkeley.info/resource/k489-uv4i.json?$limit=2000'"
   ]
  },
  {
   "cell_type": "code",
   "execution_count": 3,
   "metadata": {
    "collapsed": true
   },
   "outputs": [],
   "source": [
    "# fetch the URL and load the data\n",
    "response = requests.get(endpoint_url)\n",
    "data = response.json()"
   ]
  },
  {
   "cell_type": "markdown",
   "metadata": {},
   "source": [
    "Next, turn the json data into a dataframe and clean it up a bit: drop unnecessary columns and any rows that lack lat-long data. We want to make our json file as small as possible (prefer under 5 mb) so that it can be loaded over the Internet to anyone viewing your map, without taking forever to download a huge file."
   ]
  },
  {
   "cell_type": "code",
   "execution_count": 4,
   "metadata": {
    "collapsed": false
   },
   "outputs": [
    {
     "name": "stdout",
     "output_type": "stream",
     "text": [
      "We have 2000 rows\n"
     ]
    },
    {
     "data": {
      "text/plain": [
       "\"['apn', 'city', 'indbdate', 'issue_description', 'issue_type', 'latitude', 'location', 'longitude', 'neighborhood_district', 'object_type', 'secondary_issue_type', 'state', 'street_address', 'ticket_closed_date_time', 'ticket_created_date_time', 'ticket_id', 'ticket_status']\""
      ]
     },
     "execution_count": 4,
     "metadata": {},
     "output_type": "execute_result"
    }
   ],
   "source": [
    "# turn the json data into a dataframe and see how many rows and what columns we have\n",
    "df = pd.DataFrame(data)\n",
    "\n",
    "print('We have {} rows'.format(len(df)))\n",
    "str(df.columns.tolist())"
   ]
  },
  {
   "cell_type": "code",
   "execution_count": 5,
   "metadata": {
    "collapsed": false
   },
   "outputs": [
    {
     "data": {
      "text/html": [
       "<div>\n",
       "<table border=\"1\" class=\"dataframe\">\n",
       "  <thead>\n",
       "    <tr style=\"text-align: right;\">\n",
       "      <th></th>\n",
       "      <th>apn</th>\n",
       "      <th>city</th>\n",
       "      <th>indbdate</th>\n",
       "      <th>issue_description</th>\n",
       "      <th>issue_type</th>\n",
       "      <th>latitude</th>\n",
       "      <th>location</th>\n",
       "      <th>longitude</th>\n",
       "      <th>neighborhood_district</th>\n",
       "      <th>object_type</th>\n",
       "      <th>secondary_issue_type</th>\n",
       "      <th>state</th>\n",
       "      <th>street_address</th>\n",
       "      <th>ticket_closed_date_time</th>\n",
       "      <th>ticket_created_date_time</th>\n",
       "      <th>ticket_id</th>\n",
       "      <th>ticket_status</th>\n",
       "    </tr>\n",
       "  </thead>\n",
       "  <tbody>\n",
       "    <tr>\n",
       "      <th>0</th>\n",
       "      <td>NaN</td>\n",
       "      <td>Berkeley</td>\n",
       "      <td>2016-10-11T04:25:05</td>\n",
       "      <td>Illegal Dumping - City Property</td>\n",
       "      <td>Streets, Utilities, and Transportation</td>\n",
       "      <td>NaN</td>\n",
       "      <td>NaN</td>\n",
       "      <td>NaN</td>\n",
       "      <td>Berkeley</td>\n",
       "      <td>Property</td>\n",
       "      <td>Clean City Program</td>\n",
       "      <td>CA</td>\n",
       "      <td>Intersection of Atherton and Channing, BERKELE...</td>\n",
       "      <td>2015-05-01T15:23:52</td>\n",
       "      <td>2015-05-01T10:45:57</td>\n",
       "      <td>121000244201</td>\n",
       "      <td>Closed</td>\n",
       "    </tr>\n",
       "    <tr>\n",
       "      <th>1</th>\n",
       "      <td>NaN</td>\n",
       "      <td>Berkeley</td>\n",
       "      <td>2016-10-11T04:18:42</td>\n",
       "      <td>Graffiti Abatement - Internet Request</td>\n",
       "      <td>Graffiti and Vandalism</td>\n",
       "      <td>NaN</td>\n",
       "      <td>NaN</td>\n",
       "      <td>NaN</td>\n",
       "      <td>Berkeley</td>\n",
       "      <td>Individual</td>\n",
       "      <td>Graffiti</td>\n",
       "      <td>CA</td>\n",
       "      <td>NaN</td>\n",
       "      <td>2014-09-12T09:01:04</td>\n",
       "      <td>2014-09-10T23:47:32</td>\n",
       "      <td>121000212325</td>\n",
       "      <td>Closed</td>\n",
       "    </tr>\n",
       "    <tr>\n",
       "      <th>2</th>\n",
       "      <td>054 172400400</td>\n",
       "      <td>Berkeley</td>\n",
       "      <td>2016-10-11T04:16:30</td>\n",
       "      <td>Illegal Dumping - City Property</td>\n",
       "      <td>Streets, Utilities, and Transportation</td>\n",
       "      <td>37.8591591</td>\n",
       "      <td>{'longitude': '-122.27074806', 'latitude': '37...</td>\n",
       "      <td>-122.27074806</td>\n",
       "      <td>Berkeley</td>\n",
       "      <td>Property</td>\n",
       "      <td>Clean City Program</td>\n",
       "      <td>CA</td>\n",
       "      <td>1923 WARD ST</td>\n",
       "      <td>2014-06-20T11:05:01</td>\n",
       "      <td>2014-06-19T10:30:41</td>\n",
       "      <td>121000199692</td>\n",
       "      <td>Closed</td>\n",
       "    </tr>\n",
       "    <tr>\n",
       "      <th>3</th>\n",
       "      <td>060 244500103</td>\n",
       "      <td>Berkeley</td>\n",
       "      <td>2016-10-11T04:26:21</td>\n",
       "      <td>Commercial Service Day Change</td>\n",
       "      <td>Refuse and Recycling</td>\n",
       "      <td>37.88254238</td>\n",
       "      <td>{'longitude': '-122.27747688', 'latitude': '37...</td>\n",
       "      <td>-122.27747688</td>\n",
       "      <td>Berkeley</td>\n",
       "      <td>Property</td>\n",
       "      <td>Commercial</td>\n",
       "      <td>CA</td>\n",
       "      <td>1781 ROSE ST</td>\n",
       "      <td>2013-07-02T13:45:38</td>\n",
       "      <td>2013-06-27T08:27:36</td>\n",
       "      <td>121000148588</td>\n",
       "      <td>Closed</td>\n",
       "    </tr>\n",
       "    <tr>\n",
       "      <th>4</th>\n",
       "      <td>054 174502400</td>\n",
       "      <td>Berkeley</td>\n",
       "      <td>2016-10-11T04:21:01</td>\n",
       "      <td>Residential Reminder</td>\n",
       "      <td>Refuse and Recycling</td>\n",
       "      <td>37.85657833</td>\n",
       "      <td>{'longitude': '-122.28993974', 'latitude': '37...</td>\n",
       "      <td>-122.28993974</td>\n",
       "      <td>Berkeley</td>\n",
       "      <td>Property</td>\n",
       "      <td>Residential</td>\n",
       "      <td>CA</td>\n",
       "      <td>1012 PARDEE ST</td>\n",
       "      <td>2016-01-20T12:06:58</td>\n",
       "      <td>2016-01-19T09:32:01</td>\n",
       "      <td>121000280304</td>\n",
       "      <td>Closed</td>\n",
       "    </tr>\n",
       "  </tbody>\n",
       "</table>\n",
       "</div>"
      ],
      "text/plain": [
       "             apn      city             indbdate  \\\n",
       "0            NaN  Berkeley  2016-10-11T04:25:05   \n",
       "1            NaN  Berkeley  2016-10-11T04:18:42   \n",
       "2  054 172400400  Berkeley  2016-10-11T04:16:30   \n",
       "3  060 244500103  Berkeley  2016-10-11T04:26:21   \n",
       "4  054 174502400  Berkeley  2016-10-11T04:21:01   \n",
       "\n",
       "                       issue_description  \\\n",
       "0        Illegal Dumping - City Property   \n",
       "1  Graffiti Abatement - Internet Request   \n",
       "2        Illegal Dumping - City Property   \n",
       "3          Commercial Service Day Change   \n",
       "4                   Residential Reminder   \n",
       "\n",
       "                               issue_type     latitude  \\\n",
       "0  Streets, Utilities, and Transportation          NaN   \n",
       "1                  Graffiti and Vandalism          NaN   \n",
       "2  Streets, Utilities, and Transportation   37.8591591   \n",
       "3                    Refuse and Recycling  37.88254238   \n",
       "4                    Refuse and Recycling  37.85657833   \n",
       "\n",
       "                                            location      longitude  \\\n",
       "0                                                NaN            NaN   \n",
       "1                                                NaN            NaN   \n",
       "2  {'longitude': '-122.27074806', 'latitude': '37...  -122.27074806   \n",
       "3  {'longitude': '-122.27747688', 'latitude': '37...  -122.27747688   \n",
       "4  {'longitude': '-122.28993974', 'latitude': '37...  -122.28993974   \n",
       "\n",
       "  neighborhood_district object_type secondary_issue_type state  \\\n",
       "0              Berkeley    Property   Clean City Program    CA   \n",
       "1              Berkeley  Individual             Graffiti    CA   \n",
       "2              Berkeley    Property   Clean City Program    CA   \n",
       "3              Berkeley    Property           Commercial    CA   \n",
       "4              Berkeley    Property          Residential    CA   \n",
       "\n",
       "                                      street_address ticket_closed_date_time  \\\n",
       "0  Intersection of Atherton and Channing, BERKELE...     2015-05-01T15:23:52   \n",
       "1                                                NaN     2014-09-12T09:01:04   \n",
       "2                                       1923 WARD ST     2014-06-20T11:05:01   \n",
       "3                                       1781 ROSE ST     2013-07-02T13:45:38   \n",
       "4                                     1012 PARDEE ST     2016-01-20T12:06:58   \n",
       "\n",
       "  ticket_created_date_time     ticket_id ticket_status  \n",
       "0      2015-05-01T10:45:57  121000244201        Closed  \n",
       "1      2014-09-10T23:47:32  121000212325        Closed  \n",
       "2      2014-06-19T10:30:41  121000199692        Closed  \n",
       "3      2013-06-27T08:27:36  121000148588        Closed  \n",
       "4      2016-01-19T09:32:01  121000280304        Closed  "
      ]
     },
     "execution_count": 5,
     "metadata": {},
     "output_type": "execute_result"
    }
   ],
   "source": [
    "df.head()"
   ]
  },
  {
   "cell_type": "code",
   "execution_count": 6,
   "metadata": {
    "collapsed": true
   },
   "outputs": [],
   "source": [
    "# convert lat-long to floats and change address from ALL CAPS to Regular Capitalization\n",
    "df['latitude'] = df['latitude'].astype(float)\n",
    "df['longitude'] = df['longitude'].astype(float)\n",
    "df['street_address'] = df['street_address'].str.title()"
   ]
  },
  {
   "cell_type": "code",
   "execution_count": 7,
   "metadata": {
    "collapsed": false
   },
   "outputs": [],
   "source": [
    "# we don't need all those columns - only keep useful ones\n",
    "useful_cols = ['issue_description', 'issue_type', 'latitude', 'longitude', 'street_address', 'ticket_status']\n",
    "df_subset = df[useful_cols]"
   ]
  },
  {
   "cell_type": "code",
   "execution_count": 8,
   "metadata": {
    "collapsed": false
   },
   "outputs": [
    {
     "name": "stdout",
     "output_type": "stream",
     "text": [
      "We have 940 geotagged rows\n"
     ]
    },
    {
     "data": {
      "text/html": [
       "<div>\n",
       "<table border=\"1\" class=\"dataframe\">\n",
       "  <thead>\n",
       "    <tr style=\"text-align: right;\">\n",
       "      <th></th>\n",
       "      <th>issue_description</th>\n",
       "      <th>issue_type</th>\n",
       "      <th>latitude</th>\n",
       "      <th>longitude</th>\n",
       "      <th>street_address</th>\n",
       "      <th>ticket_status</th>\n",
       "    </tr>\n",
       "  </thead>\n",
       "  <tbody>\n",
       "    <tr>\n",
       "      <th>1985</th>\n",
       "      <td>Residential Service Start</td>\n",
       "      <td>Refuse and Recycling</td>\n",
       "      <td>37.859774</td>\n",
       "      <td>-122.266100</td>\n",
       "      <td>2133 Ward St</td>\n",
       "      <td>Closed</td>\n",
       "    </tr>\n",
       "    <tr>\n",
       "      <th>1987</th>\n",
       "      <td>Commercial Missed Pickup</td>\n",
       "      <td>Refuse and Recycling</td>\n",
       "      <td>37.866958</td>\n",
       "      <td>-122.274268</td>\n",
       "      <td>1801 Bancroft Way</td>\n",
       "      <td>Closed</td>\n",
       "    </tr>\n",
       "    <tr>\n",
       "      <th>1990</th>\n",
       "      <td>Miscellaneous Service Request</td>\n",
       "      <td>General Questions/information</td>\n",
       "      <td>37.873483</td>\n",
       "      <td>-122.275793</td>\n",
       "      <td>1808 Grant St</td>\n",
       "      <td>Closed</td>\n",
       "    </tr>\n",
       "    <tr>\n",
       "      <th>1994</th>\n",
       "      <td>Residential Missed Pickup Integration</td>\n",
       "      <td>Refuse and Recycling</td>\n",
       "      <td>37.882808</td>\n",
       "      <td>-122.254349</td>\n",
       "      <td>21 Parnassus Rd</td>\n",
       "      <td>Closed</td>\n",
       "    </tr>\n",
       "    <tr>\n",
       "      <th>1998</th>\n",
       "      <td>Residential Cart Size Decrease</td>\n",
       "      <td>Refuse and Recycling</td>\n",
       "      <td>37.863861</td>\n",
       "      <td>-122.252064</td>\n",
       "      <td>2734 Parker St</td>\n",
       "      <td>Closed</td>\n",
       "    </tr>\n",
       "  </tbody>\n",
       "</table>\n",
       "</div>"
      ],
      "text/plain": [
       "                          issue_description                     issue_type  \\\n",
       "1985              Residential Service Start           Refuse and Recycling   \n",
       "1987               Commercial Missed Pickup           Refuse and Recycling   \n",
       "1990          Miscellaneous Service Request  General Questions/information   \n",
       "1994  Residential Missed Pickup Integration           Refuse and Recycling   \n",
       "1998         Residential Cart Size Decrease           Refuse and Recycling   \n",
       "\n",
       "       latitude   longitude     street_address ticket_status  \n",
       "1985  37.859774 -122.266100       2133 Ward St        Closed  \n",
       "1987  37.866958 -122.274268  1801 Bancroft Way        Closed  \n",
       "1990  37.873483 -122.275793      1808 Grant St        Closed  \n",
       "1994  37.882808 -122.254349    21 Parnassus Rd        Closed  \n",
       "1998  37.863861 -122.252064     2734 Parker St        Closed  "
      ]
     },
     "execution_count": 8,
     "metadata": {},
     "output_type": "execute_result"
    }
   ],
   "source": [
    "# drop any rows that lack lat/long data\n",
    "df_geo = df_subset.dropna(subset=['latitude', 'longitude'], axis=0, inplace=False)\n",
    "\n",
    "print('We have {} geotagged rows'.format(len(df_geo)))\n",
    "df_geo.tail()"
   ]
  },
  {
   "cell_type": "code",
   "execution_count": 9,
   "metadata": {
    "collapsed": false
   },
   "outputs": [
    {
     "data": {
      "text/plain": [
       "Refuse and Recycling                      685\n",
       "General Questions/information             107\n",
       "Streets, Utilities, and Transportation     97\n",
       "Parks, Trees and Vegetation                26\n",
       "Environmental Services and Programs         9\n",
       "Business License                            6\n",
       "Graffiti and Vandalism                      5\n",
       "Traffic and Transportation                  3\n",
       "Other Account Services and Billing          1\n",
       "Equipment Maintenance                       1\n",
       "Name: issue_type, dtype: int64"
      ]
     },
     "execution_count": 9,
     "metadata": {},
     "output_type": "execute_result"
    }
   ],
   "source": [
    "# what is the distribution of issue types?\n",
    "df_geo['issue_type'].value_counts()"
   ]
  },
  {
   "cell_type": "markdown",
   "metadata": {},
   "source": [
    "Finally, convert each row in the dataframe to a geojson-formatted feature and save the result as a file. The format is pretty simple and you can see it here: http://geojson.org/"
   ]
  },
  {
   "cell_type": "code",
   "execution_count": 10,
   "metadata": {
    "collapsed": false
   },
   "outputs": [],
   "source": [
    "def df_to_geojson(df, properties, lat='latitude', lon='longitude'):\n",
    "    # create a new python dict to contain our geojson data, using geojson format\n",
    "    geojson = {'type':'FeatureCollection', 'features':[]}\n",
    "\n",
    "    # loop through each row in the dataframe and convert each row to geojson format\n",
    "    for _, row in df.iterrows():\n",
    "        # create a feature template to fill in\n",
    "        feature = {'type':'Feature',\n",
    "                   'properties':{},\n",
    "                   'geometry':{'type':'Point',\n",
    "                               'coordinates':[]}}\n",
    "\n",
    "        # fill in the coordinates\n",
    "        feature['geometry']['coordinates'] = [row[lon],row[lat]]\n",
    "\n",
    "        # for each column, get the value and add it as a new feature property\n",
    "        for prop in properties:\n",
    "            feature['properties'][prop] = row[prop]\n",
    "        \n",
    "        # add this feature (aka, converted dataframe row) to the list of features inside our dict\n",
    "        geojson['features'].append(feature)\n",
    "    \n",
    "    return geojson"
   ]
  },
  {
   "cell_type": "code",
   "execution_count": 11,
   "metadata": {
    "collapsed": true
   },
   "outputs": [],
   "source": [
    "cols = ['street_address', 'issue_description', 'issue_type', 'ticket_status']\n",
    "geojson = df_to_geojson(df_geo, cols)"
   ]
  },
  {
   "cell_type": "code",
   "execution_count": 12,
   "metadata": {
    "collapsed": false
   },
   "outputs": [
    {
     "name": "stdout",
     "output_type": "stream",
     "text": [
      "940 geotagged features saved to file\n"
     ]
    }
   ],
   "source": [
    "# save the geojson result to a file\n",
    "output_filename = 'dataset.js'\n",
    "with open(output_filename, 'w') as output_file:\n",
    "    output_file.write('var dataset = {};'.format(json.dumps(geojson)))\n",
    "    \n",
    "# how many features did we save to the geojson file?\n",
    "print('{} geotagged features saved to file'.format(len(geojson['features'])))"
   ]
  }
 ],
 "metadata": {
  "anaconda-cloud": {},
  "kernelspec": {
   "display_name": "Python [default]",
   "language": "python",
   "name": "python3"
  },
  "language_info": {
   "codemirror_mode": {
    "name": "ipython",
    "version": 3
   },
   "file_extension": ".py",
   "mimetype": "text/x-python",
   "name": "python",
   "nbconvert_exporter": "python",
   "pygments_lexer": "ipython3",
   "version": "3.5.2"
  }
 },
 "nbformat": 4,
 "nbformat_minor": 0
}
