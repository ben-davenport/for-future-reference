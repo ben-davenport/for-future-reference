{
 "metadata": {
  "name": "",
  "signature": "sha256:a4923696eb53ca085776f24f916ca9257de742862af15358b234c89a91a3a4fd"
 },
 "nbformat": 3,
 "nbformat_minor": 0,
 "worksheets": [
  {
   "cells": [
    {
     "cell_type": "heading",
     "level": 1,
     "metadata": {},
     "source": [
      "Session 11: Basic Operations - Reading and Writing Files with Pandas"
     ]
    },
    {
     "cell_type": "markdown",
     "metadata": {},
     "source": [
      "Chapter 6 in Python for Data Analysis covers reading and writing data in different formats.  Today's session reviews this material and sets up a simple exercise.\n",
      "\n",
      "There have been significant updates to the pandas library for reading and writing files since Wes McKinney's book was written, and these are all in the online documentation. So in addition to reading Chapter 6, also read through the docs at this location, to get the most current way of doing things, which are generally more flexible and often easier:\n",
      "http://pandas.pydata.org/pandas-docs/stable/io.html"
     ]
    },
    {
     "cell_type": "heading",
     "level": 2,
     "metadata": {},
     "source": [
      "Working with CSV Files"
     ]
    },
    {
     "cell_type": "markdown",
     "metadata": {},
     "source": [
      "Below are the tables from Chapter 6, for ease of reference in reading / writing CSV and other text formatted files."
     ]
    },
    {
     "cell_type": "markdown",
     "metadata": {},
     "source": [
      "#### Table Table 6-1. Parsing functions in pandas ####\n",
      "| Function | Description |\n",
      "|---|--------------------------|\n",
      "| read_csv | Load delimited data from a file, URL, or file-like object. Use comma as default delimiter\n",
      "| read_table | Load delimited data from a file, URL, or file-like object. Use tab ('\\t') as default delimiter\n",
      "| read_fwf | Read data in fixed-width column format (that is, no delimiters)\n",
      "| read_clipboard | Version of read_table that reads data from the clipboard. Useful for converting tables from web pages"
     ]
    },
    {
     "cell_type": "markdown",
     "metadata": {},
     "source": [
      "#### Table 6-2. read_csv /read_table function arguments ####\n",
      "| Argument | Description |\n",
      "|---|--------------------------|\n",
      "| path | String indicating filesystem location, URL, or file-like object\n",
      "| sep or delimiter header | Character sequence or regular expression to use to split fields in each row\n",
      "| index_col | Row number to use as column names. Defaults to 0 (first row), but should be None if there is no header row\n",
      "| names | Column numbers or names to use as the row index in the result. Can be a single name/number or a list of them for a hierarchical index\n",
      "| skiprows | List of column names for result, combine with header=None\n",
      "| na_values | Number of rows at beginning of file to ignore or list of row numbers (starting from 0) to skip Sequence of values to replace with NA\n",
      "| comment | Character or characters to split comments off the end of lines\n",
      "| parse_dates | Attempt to parse data to datetime; False by default. If True, will attempt to parse all columns. Otherwise can specify a list of column numbers or name to parse. If element of list is tuple or list, will combine multiple columns together and parse to date (for example if date/time split across two columns)\n",
      "| keep_date_col | If joining columns to parse date, keep the joined columns. Default False\n",
      "| converters | Dict containing column number of name mapping to functions. For example {'foo': f} would apply the function f to all values in the 'foo' column\n",
      "| dayfirst | When parsing potentially ambiguous dates, treat as international format (e.g. 7/6/2012 -> June 7, 2012). Default False\n",
      "| date_parser | Function to use to parse dates\n",
      "| nrows | Number of rows to read from beginning of file\n",
      "| iterator | Return a TextParser object for reading file piecemeal\n",
      "| chunksize | For iteration, size of file chunks\n",
      "| skip_footer | Number of lines to ignore at end of file\n",
      "| verbose | Print various parser output information, like the number of missing values placed in non-numeric columns\n",
      "| encoding | Text encoding for unicode. For example 'utf-8' for UTF-8 encoded text \n",
      "| squeeze | If the parsed data only contains one column return a Series\n",
      "| thousands | Separator for thousands, e.g. ',' or '.'"
     ]
    },
    {
     "cell_type": "markdown",
     "metadata": {},
     "source": [
      "#### Table 6-3. CSV dialect options ####\n",
      "| Argument | Description |\n",
      "|---|--------------------------|\n",
      "| delimiter | One-character string to separate fields. Defaults to ','.\n",
      "| lineterminator | Line terminator for writing, defaults to '\\r\\n'. Reader ignores this and recognizes cross-platform line terminators.\n",
      "| quotechar | Quote character for fields with special characters (like a delimiter). Default is '\"'.\n",
      "| quoting | Quoting convention. Options include csv.QUOTE_ALL (quote all fields), csv.QUOTE_MINIMAL (only fields with special characters like the delimiter), csv.QUOTE_NONNUMERIC, and csv.QUOTE_NON (no quoting). See Python\u2019s documentation for full details. Defaults to QUOTE_MINIMAL.\n",
      "| skipinitialspace | Ignore whitespace after each delimiter. Default False.\n",
      "| doublequote | How to handle quoting character inside a field. If True, it is doubled. See online documentation for full detail and behavior.\n",
      "| escapechar | String to escape the delimiter if quoting is set to csv.QUOTE_NONE. Disabled by default"
     ]
    },
    {
     "cell_type": "markdown",
     "metadata": {},
     "source": [
      "We have already used the csv module to read through csv files by iterating over rows, and 'pd.from_csv' to load a csv file into a pandas DataFrame all at once.  Most csv files don't need any extra handling, and pandas defaults work just fine.  But sometimes raw csv files have odd formatting, and for these many of the options in tables 6.2 and 6.3 provide tools to work with these files.\n",
      "\n",
      "Let's begin by loadin a text file that has some formatting problems, 'sample.txt'."
     ]
    },
    {
     "cell_type": "raw",
     "metadata": {},
     "source": [
      "This is an extraneous comment\n",
      "and this is another extraneous comment\n",
      "1: 2: 3\n",
      "4:: 6\n",
      "7:8:\n",
      "And this is a footer"
     ]
    },
    {
     "cell_type": "code",
     "collapsed": false,
     "input": [
      "import pandas as pd\n",
      "df = pd.read_csv('data/sample.txt')"
     ],
     "language": "python",
     "metadata": {},
     "outputs": [],
     "prompt_number": 11
    },
    {
     "cell_type": "code",
     "collapsed": false,
     "input": [
      "df"
     ],
     "language": "python",
     "metadata": {},
     "outputs": [
      {
       "html": [
        "<div style=\"max-height:1000px;max-width:1500px;overflow:auto;\">\n",
        "<table border=\"1\" class=\"dataframe\">\n",
        "  <thead>\n",
        "    <tr style=\"text-align: right;\">\n",
        "      <th></th>\n",
        "      <th>This is an extraneous comment</th>\n",
        "    </tr>\n",
        "  </thead>\n",
        "  <tbody>\n",
        "    <tr>\n",
        "      <th>0</th>\n",
        "      <td> and this is another extraneous comment</td>\n",
        "    </tr>\n",
        "    <tr>\n",
        "      <th>1</th>\n",
        "      <td>                                1: 2: 3</td>\n",
        "    </tr>\n",
        "    <tr>\n",
        "      <th>2</th>\n",
        "      <td>                                  4:: 6</td>\n",
        "    </tr>\n",
        "    <tr>\n",
        "      <th>3</th>\n",
        "      <td>                                   7:8:</td>\n",
        "    </tr>\n",
        "    <tr>\n",
        "      <th>4</th>\n",
        "      <td>                   And this is a footer</td>\n",
        "    </tr>\n",
        "  </tbody>\n",
        "</table>\n",
        "</div>"
       ],
       "metadata": {},
       "output_type": "pyout",
       "prompt_number": 12,
       "text": [
        "            This is an extraneous comment\n",
        "0  and this is another extraneous comment\n",
        "1                                 1: 2: 3\n",
        "2                                   4:: 6\n",
        "3                                    7:8:\n",
        "4                    And this is a footer"
       ]
      }
     ],
     "prompt_number": 12
    },
    {
     "cell_type": "markdown",
     "metadata": {},
     "source": [
      "What's wrong with this file?\n",
      "\n",
      "Need to skip the first two rows and the last.  Need to use ':' as the delimiter.  And it has missing values.\n",
      "\n",
      "How to fix these?"
     ]
    },
    {
     "cell_type": "code",
     "collapsed": false,
     "input": [
      "import pandas as pd\n",
      "df = pd.read_csv('data/sample.txt', skiprows=[0,1,5], sep=':', names=['col1', 'col2', 'col3'])"
     ],
     "language": "python",
     "metadata": {},
     "outputs": [],
     "prompt_number": 13
    },
    {
     "cell_type": "code",
     "collapsed": false,
     "input": [
      "df"
     ],
     "language": "python",
     "metadata": {},
     "outputs": [
      {
       "html": [
        "<div style=\"max-height:1000px;max-width:1500px;overflow:auto;\">\n",
        "<table border=\"1\" class=\"dataframe\">\n",
        "  <thead>\n",
        "    <tr style=\"text-align: right;\">\n",
        "      <th></th>\n",
        "      <th>col1</th>\n",
        "      <th>col2</th>\n",
        "      <th>col3</th>\n",
        "    </tr>\n",
        "  </thead>\n",
        "  <tbody>\n",
        "    <tr>\n",
        "      <th>0</th>\n",
        "      <td> 1</td>\n",
        "      <td>  2</td>\n",
        "      <td>  3</td>\n",
        "    </tr>\n",
        "    <tr>\n",
        "      <th>1</th>\n",
        "      <td> 4</td>\n",
        "      <td>NaN</td>\n",
        "      <td>  6</td>\n",
        "    </tr>\n",
        "    <tr>\n",
        "      <th>2</th>\n",
        "      <td> 7</td>\n",
        "      <td>  8</td>\n",
        "      <td>NaN</td>\n",
        "    </tr>\n",
        "  </tbody>\n",
        "</table>\n",
        "</div>"
       ],
       "metadata": {},
       "output_type": "pyout",
       "prompt_number": 14,
       "text": [
        "   col1  col2  col3\n",
        "0     1     2     3\n",
        "1     4   NaN     6\n",
        "2     7     8   NaN"
       ]
      }
     ],
     "prompt_number": 14
    },
    {
     "cell_type": "markdown",
     "metadata": {},
     "source": [
      "Now put the missing values into the table where they belong (in sequence, 5 and 9)."
     ]
    },
    {
     "cell_type": "code",
     "collapsed": false,
     "input": [
      "df.loc[1, 'col2'] = 5\n",
      "df.loc[2, 'col3'] = 9"
     ],
     "language": "python",
     "metadata": {},
     "outputs": [],
     "prompt_number": 15
    },
    {
     "cell_type": "code",
     "collapsed": false,
     "input": [
      "df"
     ],
     "language": "python",
     "metadata": {},
     "outputs": [
      {
       "html": [
        "<div style=\"max-height:1000px;max-width:1500px;overflow:auto;\">\n",
        "<table border=\"1\" class=\"dataframe\">\n",
        "  <thead>\n",
        "    <tr style=\"text-align: right;\">\n",
        "      <th></th>\n",
        "      <th>col1</th>\n",
        "      <th>col2</th>\n",
        "      <th>col3</th>\n",
        "    </tr>\n",
        "  </thead>\n",
        "  <tbody>\n",
        "    <tr>\n",
        "      <th>0</th>\n",
        "      <td> 1</td>\n",
        "      <td> 2</td>\n",
        "      <td> 3</td>\n",
        "    </tr>\n",
        "    <tr>\n",
        "      <th>1</th>\n",
        "      <td> 4</td>\n",
        "      <td> 5</td>\n",
        "      <td> 6</td>\n",
        "    </tr>\n",
        "    <tr>\n",
        "      <th>2</th>\n",
        "      <td> 7</td>\n",
        "      <td> 8</td>\n",
        "      <td> 9</td>\n",
        "    </tr>\n",
        "  </tbody>\n",
        "</table>\n",
        "</div>"
       ],
       "metadata": {},
       "output_type": "pyout",
       "prompt_number": 16,
       "text": [
        "   col1  col2  col3\n",
        "0     1     2     3\n",
        "1     4     5     6\n",
        "2     7     8     9"
       ]
      }
     ],
     "prompt_number": 16
    },
    {
     "cell_type": "markdown",
     "metadata": {},
     "source": [
      "Now write the cleaned table to a csv file, without the index column."
     ]
    },
    {
     "cell_type": "code",
     "collapsed": false,
     "input": [
      "df.to_csv('data/sample_cleaned.csv', index=False)"
     ],
     "language": "python",
     "metadata": {},
     "outputs": [],
     "prompt_number": 17
    },
    {
     "cell_type": "heading",
     "level": 2,
     "metadata": {},
     "source": [
      "Working with Fixed-width Text Files"
     ]
    },
    {
     "cell_type": "raw",
     "metadata": {},
     "source": [
      "Suppose you have a text file with fixed positions for each column, but no delimiters.  E.g. fixed_width.txt:\n",
      "\n",
      "id8141    360.242940   149.910199   11950.7\n",
      "id1594    444.953632   166.985655   11788.4\n",
      "id1849    364.136849   183.628767   11806.2\n",
      "id1230    413.836124   184.375703   11916.8\n",
      "id1948    502.953953   173.237159   12468.3"
     ]
    },
    {
     "cell_type": "code",
     "collapsed": false,
     "input": [
      "#Column specifications are a list of half-intervals\n",
      "colspecs = [(0, 6), (8, 20), (21, 33), (34, 43)]\n",
      "df = pd.read_fwf('data/fixed_width.txt', colspecs=colspecs, header=None)\n",
      "df"
     ],
     "language": "python",
     "metadata": {},
     "outputs": [
      {
       "html": [
        "<div style=\"max-height:1000px;max-width:1500px;overflow:auto;\">\n",
        "<table border=\"1\" class=\"dataframe\">\n",
        "  <thead>\n",
        "    <tr style=\"text-align: right;\">\n",
        "      <th></th>\n",
        "      <th>0</th>\n",
        "      <th>1</th>\n",
        "      <th>2</th>\n",
        "      <th>3</th>\n",
        "    </tr>\n",
        "  </thead>\n",
        "  <tbody>\n",
        "    <tr>\n",
        "      <th>0</th>\n",
        "      <td> id8141</td>\n",
        "      <td> 360.242940</td>\n",
        "      <td> 149.910199</td>\n",
        "      <td> 11950.7</td>\n",
        "    </tr>\n",
        "    <tr>\n",
        "      <th>1</th>\n",
        "      <td> id1594</td>\n",
        "      <td> 444.953632</td>\n",
        "      <td> 166.985655</td>\n",
        "      <td> 11788.4</td>\n",
        "    </tr>\n",
        "    <tr>\n",
        "      <th>2</th>\n",
        "      <td> id1849</td>\n",
        "      <td> 364.136849</td>\n",
        "      <td> 183.628767</td>\n",
        "      <td> 11806.2</td>\n",
        "    </tr>\n",
        "    <tr>\n",
        "      <th>3</th>\n",
        "      <td> id1230</td>\n",
        "      <td> 413.836124</td>\n",
        "      <td> 184.375703</td>\n",
        "      <td> 11916.8</td>\n",
        "    </tr>\n",
        "    <tr>\n",
        "      <th>4</th>\n",
        "      <td> id1948</td>\n",
        "      <td> 502.953953</td>\n",
        "      <td> 173.237159</td>\n",
        "      <td> 12468.3</td>\n",
        "    </tr>\n",
        "  </tbody>\n",
        "</table>\n",
        "</div>"
       ],
       "metadata": {},
       "output_type": "pyout",
       "prompt_number": 18,
       "text": [
        "        0           1           2        3\n",
        "0  id8141  360.242940  149.910199  11950.7\n",
        "1  id1594  444.953632  166.985655  11788.4\n",
        "2  id1849  364.136849  183.628767  11806.2\n",
        "3  id1230  413.836124  184.375703  11916.8\n",
        "4  id1948  502.953953  173.237159  12468.3"
       ]
      }
     ],
     "prompt_number": 18
    },
    {
     "cell_type": "code",
     "collapsed": false,
     "input": [
      "#A new, simpler variant of the colspecs is to provide just column widths\n",
      "widths = [6, 14, 13, 10]\n",
      "df = pd.read_fwf('data/fixed_width.txt', widths=widths, header=None)\n",
      "df"
     ],
     "language": "python",
     "metadata": {},
     "outputs": [
      {
       "html": [
        "<div style=\"max-height:1000px;max-width:1500px;overflow:auto;\">\n",
        "<table border=\"1\" class=\"dataframe\">\n",
        "  <thead>\n",
        "    <tr style=\"text-align: right;\">\n",
        "      <th></th>\n",
        "      <th>0</th>\n",
        "      <th>1</th>\n",
        "      <th>2</th>\n",
        "      <th>3</th>\n",
        "    </tr>\n",
        "  </thead>\n",
        "  <tbody>\n",
        "    <tr>\n",
        "      <th>0</th>\n",
        "      <td> id8141</td>\n",
        "      <td> 360.242940</td>\n",
        "      <td> 149.910199</td>\n",
        "      <td> 11950.7</td>\n",
        "    </tr>\n",
        "    <tr>\n",
        "      <th>1</th>\n",
        "      <td> id1594</td>\n",
        "      <td> 444.953632</td>\n",
        "      <td> 166.985655</td>\n",
        "      <td> 11788.4</td>\n",
        "    </tr>\n",
        "    <tr>\n",
        "      <th>2</th>\n",
        "      <td> id1849</td>\n",
        "      <td> 364.136849</td>\n",
        "      <td> 183.628767</td>\n",
        "      <td> 11806.2</td>\n",
        "    </tr>\n",
        "    <tr>\n",
        "      <th>3</th>\n",
        "      <td> id1230</td>\n",
        "      <td> 413.836124</td>\n",
        "      <td> 184.375703</td>\n",
        "      <td> 11916.8</td>\n",
        "    </tr>\n",
        "    <tr>\n",
        "      <th>4</th>\n",
        "      <td> id1948</td>\n",
        "      <td> 502.953953</td>\n",
        "      <td> 173.237159</td>\n",
        "      <td> 12468.3</td>\n",
        "    </tr>\n",
        "  </tbody>\n",
        "</table>\n",
        "</div>"
       ],
       "metadata": {},
       "output_type": "pyout",
       "prompt_number": 19,
       "text": [
        "        0           1           2        3\n",
        "0  id8141  360.242940  149.910199  11950.7\n",
        "1  id1594  444.953632  166.985655  11788.4\n",
        "2  id1849  364.136849  183.628767  11806.2\n",
        "3  id1230  413.836124  184.375703  11916.8\n",
        "4  id1948  502.953953  173.237159  12468.3"
       ]
      }
     ],
     "prompt_number": 19
    },
    {
     "cell_type": "code",
     "collapsed": false,
     "input": [
      "#You can also specify that a data column be used as the index\n",
      "widths = [6, 14, 13, 10]\n",
      "df = pd.read_fwf('data/fixed_width.txt', widths=widths, header=None, index_col=0)\n",
      "df"
     ],
     "language": "python",
     "metadata": {},
     "outputs": [
      {
       "html": [
        "<div style=\"max-height:1000px;max-width:1500px;overflow:auto;\">\n",
        "<table border=\"1\" class=\"dataframe\">\n",
        "  <thead>\n",
        "    <tr style=\"text-align: right;\">\n",
        "      <th></th>\n",
        "      <th>1</th>\n",
        "      <th>2</th>\n",
        "      <th>3</th>\n",
        "    </tr>\n",
        "    <tr>\n",
        "      <th>0</th>\n",
        "      <th></th>\n",
        "      <th></th>\n",
        "      <th></th>\n",
        "    </tr>\n",
        "  </thead>\n",
        "  <tbody>\n",
        "    <tr>\n",
        "      <th>id8141</th>\n",
        "      <td> 360.242940</td>\n",
        "      <td> 149.910199</td>\n",
        "      <td> 11950.7</td>\n",
        "    </tr>\n",
        "    <tr>\n",
        "      <th>id1594</th>\n",
        "      <td> 444.953632</td>\n",
        "      <td> 166.985655</td>\n",
        "      <td> 11788.4</td>\n",
        "    </tr>\n",
        "    <tr>\n",
        "      <th>id1849</th>\n",
        "      <td> 364.136849</td>\n",
        "      <td> 183.628767</td>\n",
        "      <td> 11806.2</td>\n",
        "    </tr>\n",
        "    <tr>\n",
        "      <th>id1230</th>\n",
        "      <td> 413.836124</td>\n",
        "      <td> 184.375703</td>\n",
        "      <td> 11916.8</td>\n",
        "    </tr>\n",
        "    <tr>\n",
        "      <th>id1948</th>\n",
        "      <td> 502.953953</td>\n",
        "      <td> 173.237159</td>\n",
        "      <td> 12468.3</td>\n",
        "    </tr>\n",
        "  </tbody>\n",
        "</table>\n",
        "</div>"
       ],
       "metadata": {},
       "output_type": "pyout",
       "prompt_number": 20,
       "text": [
        "                 1           2        3\n",
        "0                                      \n",
        "id8141  360.242940  149.910199  11950.7\n",
        "id1594  444.953632  166.985655  11788.4\n",
        "id1849  364.136849  183.628767  11806.2\n",
        "id1230  413.836124  184.375703  11916.8\n",
        "id1948  502.953953  173.237159  12468.3"
       ]
      }
     ],
     "prompt_number": 20
    },
    {
     "cell_type": "heading",
     "level": 2,
     "metadata": {},
     "source": [
      "Reading Files in Chunks"
     ]
    },
    {
     "cell_type": "raw",
     "metadata": {},
     "source": [
      "Suppose you have a file you want to read that is very large, and want to iterate through it in chunks.  Here is how to do that, on a small file example, using chunk.txt:\n",
      "\n",
      "|0|1|2|3\n",
      "0|0.4691122999071863|-0.2828633443286633|-1.5090585031735124|-1.1356323710171934\n",
      "1|1.2121120250208506|-0.1732146490533086|0.11920871129693428|-1.0442359662799567\n",
      "2|-0.8618489633477999|-2.1045692188948086|-0.4949292740687813|1.0718038070373377\n",
      "3|0.7215551622443669|-0.7067711336300845|-1.0395749851146963|0.27185988554282986\n",
      "4|-0.42497232978883753|0.567020349793672|0.27623201927771873|-1.0874006912859915\n",
      "5|-0.6736897080883703|0.11364840968888545|-1.4784265524372233|0.5249876671147046\n",
      "6|0.40470521868023657|0.5770459859204837|-1.7150020161146375|-1.0392684835147725\n",
      "7|-0.3706468582364464|-1.157892250641999|-1.344311812731667|0.8448851414248841\n",
      "8|1.0757697837155535|-0.10904997528022223|1.6435630703622062|-1.4693879595399115\n",
      "9|0.35702056413309086|-0.6746001037299882|-1.776903716971867|-0.9689138124473498"
     ]
    },
    {
     "cell_type": "code",
     "collapsed": false,
     "input": [
      "table = pd.read_table('data/chunk.txt', sep='|')\n",
      "table"
     ],
     "language": "python",
     "metadata": {},
     "outputs": [
      {
       "html": [
        "<div style=\"max-height:1000px;max-width:1500px;overflow:auto;\">\n",
        "<table border=\"1\" class=\"dataframe\">\n",
        "  <thead>\n",
        "    <tr style=\"text-align: right;\">\n",
        "      <th></th>\n",
        "      <th>Unnamed: 0</th>\n",
        "      <th>0</th>\n",
        "      <th>1</th>\n",
        "      <th>2</th>\n",
        "      <th>3</th>\n",
        "    </tr>\n",
        "  </thead>\n",
        "  <tbody>\n",
        "    <tr>\n",
        "      <th>0</th>\n",
        "      <td> 0</td>\n",
        "      <td> 0.469112</td>\n",
        "      <td>-0.282863</td>\n",
        "      <td>-1.509059</td>\n",
        "      <td>-1.135632</td>\n",
        "    </tr>\n",
        "    <tr>\n",
        "      <th>1</th>\n",
        "      <td> 1</td>\n",
        "      <td> 1.212112</td>\n",
        "      <td>-0.173215</td>\n",
        "      <td> 0.119209</td>\n",
        "      <td>-1.044236</td>\n",
        "    </tr>\n",
        "    <tr>\n",
        "      <th>2</th>\n",
        "      <td> 2</td>\n",
        "      <td>-0.861849</td>\n",
        "      <td>-2.104569</td>\n",
        "      <td>-0.494929</td>\n",
        "      <td> 1.071804</td>\n",
        "    </tr>\n",
        "    <tr>\n",
        "      <th>3</th>\n",
        "      <td> 3</td>\n",
        "      <td> 0.721555</td>\n",
        "      <td>-0.706771</td>\n",
        "      <td>-1.039575</td>\n",
        "      <td> 0.271860</td>\n",
        "    </tr>\n",
        "    <tr>\n",
        "      <th>4</th>\n",
        "      <td> 4</td>\n",
        "      <td>-0.424972</td>\n",
        "      <td> 0.567020</td>\n",
        "      <td> 0.276232</td>\n",
        "      <td>-1.087401</td>\n",
        "    </tr>\n",
        "    <tr>\n",
        "      <th>5</th>\n",
        "      <td> 5</td>\n",
        "      <td>-0.673690</td>\n",
        "      <td> 0.113648</td>\n",
        "      <td>-1.478427</td>\n",
        "      <td> 0.524988</td>\n",
        "    </tr>\n",
        "    <tr>\n",
        "      <th>6</th>\n",
        "      <td> 6</td>\n",
        "      <td> 0.404705</td>\n",
        "      <td> 0.577046</td>\n",
        "      <td>-1.715002</td>\n",
        "      <td>-1.039268</td>\n",
        "    </tr>\n",
        "    <tr>\n",
        "      <th>7</th>\n",
        "      <td> 7</td>\n",
        "      <td>-0.370647</td>\n",
        "      <td>-1.157892</td>\n",
        "      <td>-1.344312</td>\n",
        "      <td> 0.844885</td>\n",
        "    </tr>\n",
        "    <tr>\n",
        "      <th>8</th>\n",
        "      <td> 8</td>\n",
        "      <td> 1.075770</td>\n",
        "      <td>-0.109050</td>\n",
        "      <td> 1.643563</td>\n",
        "      <td>-1.469388</td>\n",
        "    </tr>\n",
        "    <tr>\n",
        "      <th>9</th>\n",
        "      <td> 9</td>\n",
        "      <td> 0.357021</td>\n",
        "      <td>-0.674600</td>\n",
        "      <td>-1.776904</td>\n",
        "      <td>-0.968914</td>\n",
        "    </tr>\n",
        "  </tbody>\n",
        "</table>\n",
        "</div>"
       ],
       "metadata": {},
       "output_type": "pyout",
       "prompt_number": 21,
       "text": [
        "   Unnamed: 0         0         1         2         3\n",
        "0           0  0.469112 -0.282863 -1.509059 -1.135632\n",
        "1           1  1.212112 -0.173215  0.119209 -1.044236\n",
        "2           2 -0.861849 -2.104569 -0.494929  1.071804\n",
        "3           3  0.721555 -0.706771 -1.039575  0.271860\n",
        "4           4 -0.424972  0.567020  0.276232 -1.087401\n",
        "5           5 -0.673690  0.113648 -1.478427  0.524988\n",
        "6           6  0.404705  0.577046 -1.715002 -1.039268\n",
        "7           7 -0.370647 -1.157892 -1.344312  0.844885\n",
        "8           8  1.075770 -0.109050  1.643563 -1.469388\n",
        "9           9  0.357021 -0.674600 -1.776904 -0.968914"
       ]
      }
     ],
     "prompt_number": 21
    },
    {
     "cell_type": "code",
     "collapsed": false,
     "input": [
      "reader = pd.read_table('data/chunk.txt', sep='|', chunksize=4)\n",
      "for chunk in reader:\n",
      "    print chunk"
     ],
     "language": "python",
     "metadata": {},
     "outputs": [
      {
       "output_type": "stream",
       "stream": "stdout",
       "text": [
        "   Unnamed: 0         0         1         2         3\n",
        "0           0  0.469112 -0.282863 -1.509059 -1.135632\n",
        "1           1  1.212112 -0.173215  0.119209 -1.044236\n",
        "2           2 -0.861849 -2.104569 -0.494929  1.071804\n",
        "3           3  0.721555 -0.706771 -1.039575  0.271860\n",
        "   Unnamed: 0         0         1         2         3\n",
        "0           4 -0.424972  0.567020  0.276232 -1.087401\n",
        "1           5 -0.673690  0.113648 -1.478427  0.524988\n",
        "2           6  0.404705  0.577046 -1.715002 -1.039268\n",
        "3           7 -0.370647 -1.157892 -1.344312  0.844885\n",
        "   Unnamed: 0         0        1         2         3\n",
        "0           8  1.075770 -0.10905  1.643563 -1.469388\n",
        "1           9  0.357021 -0.67460 -1.776904 -0.968914\n"
       ]
      }
     ],
     "prompt_number": 22
    },
    {
     "cell_type": "heading",
     "level": 2,
     "metadata": {},
     "source": [
      "Working with Excel Files"
     ]
    },
    {
     "cell_type": "code",
     "collapsed": false,
     "input": [
      "# Export to Excel\n",
      "df.to_excel('data/sample_cleaned.xlsx', sheet_name = 'testing', index = False)"
     ],
     "language": "python",
     "metadata": {},
     "outputs": [],
     "prompt_number": 23
    },
    {
     "cell_type": "code",
     "collapsed": false,
     "input": [
      "#Import from Excel\n",
      "dfnew = pd.read_excel('data/sample_cleaned.xlsx', 0)\n",
      "dfnew"
     ],
     "language": "python",
     "metadata": {},
     "outputs": [
      {
       "html": [
        "<div style=\"max-height:1000px;max-width:1500px;overflow:auto;\">\n",
        "<table border=\"1\" class=\"dataframe\">\n",
        "  <thead>\n",
        "    <tr style=\"text-align: right;\">\n",
        "      <th></th>\n",
        "      <th>1</th>\n",
        "      <th>2</th>\n",
        "      <th>3</th>\n",
        "    </tr>\n",
        "  </thead>\n",
        "  <tbody>\n",
        "    <tr>\n",
        "      <th>0</th>\n",
        "      <td> 360.242940</td>\n",
        "      <td> 149.910199</td>\n",
        "      <td> 11950.7</td>\n",
        "    </tr>\n",
        "    <tr>\n",
        "      <th>1</th>\n",
        "      <td> 444.953632</td>\n",
        "      <td> 166.985655</td>\n",
        "      <td> 11788.4</td>\n",
        "    </tr>\n",
        "    <tr>\n",
        "      <th>2</th>\n",
        "      <td> 364.136849</td>\n",
        "      <td> 183.628767</td>\n",
        "      <td> 11806.2</td>\n",
        "    </tr>\n",
        "    <tr>\n",
        "      <th>3</th>\n",
        "      <td> 413.836124</td>\n",
        "      <td> 184.375703</td>\n",
        "      <td> 11916.8</td>\n",
        "    </tr>\n",
        "    <tr>\n",
        "      <th>4</th>\n",
        "      <td> 502.953953</td>\n",
        "      <td> 173.237159</td>\n",
        "      <td> 12468.3</td>\n",
        "    </tr>\n",
        "  </tbody>\n",
        "</table>\n",
        "</div>"
       ],
       "metadata": {},
       "output_type": "pyout",
       "prompt_number": 24,
       "text": [
        "            1           2        3\n",
        "0  360.242940  149.910199  11950.7\n",
        "1  444.953632  166.985655  11788.4\n",
        "2  364.136849  183.628767  11806.2\n",
        "3  413.836124  184.375703  11916.8\n",
        "4  502.953953  173.237159  12468.3"
       ]
      }
     ],
     "prompt_number": 24
    },
    {
     "cell_type": "heading",
     "level": 2,
     "metadata": {},
     "source": [
      "Working with JSON files"
     ]
    },
    {
     "cell_type": "code",
     "collapsed": false,
     "input": [
      "#Export to JSON\n",
      "df.to_json('data/sample_cleaned.json')"
     ],
     "language": "python",
     "metadata": {},
     "outputs": [],
     "prompt_number": 25
    },
    {
     "cell_type": "markdown",
     "metadata": {},
     "source": [
      "The contents of 'sample_cleaned.json are shown below.  It looks similar to a list of Python dictionaries."
     ]
    },
    {
     "cell_type": "raw",
     "metadata": {},
     "source": [
      "{\"col1\":{\"0\":1.0,\"1\":4.0,\"2\":7.0},\"col2\":{\"0\":2.0,\"1\":5.0,\"2\":8.0},\"col3\":{\"0\":3.0,\"1\":6.0,\"2\":9.0}}"
     ]
    },
    {
     "cell_type": "code",
     "collapsed": false,
     "input": [
      "#Import from JSON\n",
      "df2 = pd.read_json('data/sample_cleaned.json')\n",
      "df2"
     ],
     "language": "python",
     "metadata": {},
     "outputs": [
      {
       "html": [
        "<div style=\"max-height:1000px;max-width:1500px;overflow:auto;\">\n",
        "<table border=\"1\" class=\"dataframe\">\n",
        "  <thead>\n",
        "    <tr style=\"text-align: right;\">\n",
        "      <th></th>\n",
        "      <th>1.0</th>\n",
        "      <th>2.0</th>\n",
        "      <th>3.0</th>\n",
        "    </tr>\n",
        "  </thead>\n",
        "  <tbody>\n",
        "    <tr>\n",
        "      <th>id1230</th>\n",
        "      <td> 413.836124</td>\n",
        "      <td> 184.375703</td>\n",
        "      <td> 11916.8</td>\n",
        "    </tr>\n",
        "    <tr>\n",
        "      <th>id1594</th>\n",
        "      <td> 444.953632</td>\n",
        "      <td> 166.985655</td>\n",
        "      <td> 11788.4</td>\n",
        "    </tr>\n",
        "    <tr>\n",
        "      <th>id1849</th>\n",
        "      <td> 364.136849</td>\n",
        "      <td> 183.628767</td>\n",
        "      <td> 11806.2</td>\n",
        "    </tr>\n",
        "    <tr>\n",
        "      <th>id1948</th>\n",
        "      <td> 502.953953</td>\n",
        "      <td> 173.237159</td>\n",
        "      <td> 12468.3</td>\n",
        "    </tr>\n",
        "    <tr>\n",
        "      <th>id8141</th>\n",
        "      <td> 360.242940</td>\n",
        "      <td> 149.910199</td>\n",
        "      <td> 11950.7</td>\n",
        "    </tr>\n",
        "  </tbody>\n",
        "</table>\n",
        "</div>"
       ],
       "metadata": {},
       "output_type": "pyout",
       "prompt_number": 26,
       "text": [
        "                 1           2        3\n",
        "id1230  413.836124  184.375703  11916.8\n",
        "id1594  444.953632  166.985655  11788.4\n",
        "id1849  364.136849  183.628767  11806.2\n",
        "id1948  502.953953  173.237159  12468.3\n",
        "id8141  360.242940  149.910199  11950.7"
       ]
      }
     ],
     "prompt_number": 26
    },
    {
     "cell_type": "heading",
     "level": 2,
     "metadata": {},
     "source": [
      "Working with HDF5 Files"
     ]
    },
    {
     "cell_type": "code",
     "collapsed": false,
     "input": [
      "#Export to HDF5\n",
      "store = pd.HDFStore('data/sample_cleaned.h5')\n",
      "store['sample'] = df"
     ],
     "language": "python",
     "metadata": {},
     "outputs": [],
     "prompt_number": 27
    },
    {
     "cell_type": "code",
     "collapsed": false,
     "input": [
      "#Import from HDF5\n",
      "df2 = store['sample']\n",
      "df2"
     ],
     "language": "python",
     "metadata": {},
     "outputs": [
      {
       "html": [
        "<div style=\"max-height:1000px;max-width:1500px;overflow:auto;\">\n",
        "<table border=\"1\" class=\"dataframe\">\n",
        "  <thead>\n",
        "    <tr style=\"text-align: right;\">\n",
        "      <th></th>\n",
        "      <th>1</th>\n",
        "      <th>2</th>\n",
        "      <th>3</th>\n",
        "    </tr>\n",
        "    <tr>\n",
        "      <th>0</th>\n",
        "      <th></th>\n",
        "      <th></th>\n",
        "      <th></th>\n",
        "    </tr>\n",
        "  </thead>\n",
        "  <tbody>\n",
        "    <tr>\n",
        "      <th>id8141</th>\n",
        "      <td> 360.242940</td>\n",
        "      <td> 149.910199</td>\n",
        "      <td> 11950.7</td>\n",
        "    </tr>\n",
        "    <tr>\n",
        "      <th>id1594</th>\n",
        "      <td> 444.953632</td>\n",
        "      <td> 166.985655</td>\n",
        "      <td> 11788.4</td>\n",
        "    </tr>\n",
        "    <tr>\n",
        "      <th>id1849</th>\n",
        "      <td> 364.136849</td>\n",
        "      <td> 183.628767</td>\n",
        "      <td> 11806.2</td>\n",
        "    </tr>\n",
        "    <tr>\n",
        "      <th>id1230</th>\n",
        "      <td> 413.836124</td>\n",
        "      <td> 184.375703</td>\n",
        "      <td> 11916.8</td>\n",
        "    </tr>\n",
        "    <tr>\n",
        "      <th>id1948</th>\n",
        "      <td> 502.953953</td>\n",
        "      <td> 173.237159</td>\n",
        "      <td> 12468.3</td>\n",
        "    </tr>\n",
        "  </tbody>\n",
        "</table>\n",
        "</div>"
       ],
       "metadata": {},
       "output_type": "pyout",
       "prompt_number": 28,
       "text": [
        "                 1           2        3\n",
        "0                                      \n",
        "id8141  360.242940  149.910199  11950.7\n",
        "id1594  444.953632  166.985655  11788.4\n",
        "id1849  364.136849  183.628767  11806.2\n",
        "id1230  413.836124  184.375703  11916.8\n",
        "id1948  502.953953  173.237159  12468.3"
       ]
      }
     ],
     "prompt_number": 28
    },
    {
     "cell_type": "code",
     "collapsed": false,
     "input": [],
     "language": "python",
     "metadata": {},
     "outputs": [],
     "prompt_number": 28
    }
   ],
   "metadata": {}
  }
 ]
}