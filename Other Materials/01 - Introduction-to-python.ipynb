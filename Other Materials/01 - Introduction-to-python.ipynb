{
 "metadata": {
  "name": "",
  "signature": "sha256:17f427e5e0ec4946a2a41e09d05b8dc916cdcda0bbeea24bc16b1cef119e5fbb"
 },
 "nbformat": 3,
 "nbformat_minor": 0,
 "worksheets": [
  {
   "cells": [
    {
     "cell_type": "heading",
     "level": 1,
     "metadata": {
      "slideshow": {
       "slide_type": "-"
      }
     },
     "source": [
      "Session 1: Introduction to Python"
     ]
    },
    {
     "cell_type": "markdown",
     "metadata": {},
     "source": [
      "This first session will cover the basics of Python, and introduce elements that will help you get familiar with Python as an interactive computational environment for exploring data.  The material is presented in an interactive environment that runs within your web browser, called an IPython Notebook.  It allows presentation of text and graphics to be combined with Python code that can be run interactively, with the results appearing inline.  We are looking at an IPython notebook now.\n",
      "\n",
      "Python is an interpreted programming language, also referred to as a *high-level language*, or as a scripting language.  What this means is that when you write some commands, or statements that are meaningful in the Python language, the Python 'interpreter' reads the command, figures out what the intended computation is, and then executes it.  This differs from *low-level* languages like C or C++, in which you generally have to compile code  before you can run it, and if you find errors they have to be diagnosed and then the code re-compiled before you can run it.  Interpreted languages skip the compile step, and just execute code directly, and if there are errors, they are seen at run-time.  "
     ]
    },
    {
     "cell_type": "heading",
     "level": 2,
     "metadata": {},
     "source": [
      "Installing Python"
     ]
    },
    {
     "cell_type": "markdown",
     "metadata": {},
     "source": [
      "In the computer lab we will install all the software you need for this course.  If you want to install software on your own computer - especially to learn and practice with Python, keep reading.\n",
      "\n",
      "The Anaconda Python installer from Continuum Analytics contains most of the libraries we will use. You can find it here:\n",
      "https://store.continuum.io/cshop/anaconda/\n",
      "\n",
      "It is free - they just ask for your email address. In fact, virtually all the software we will use in this class is open source and free (as in no cost).\n",
      "\n",
      "Python runs on Windows, OSX, and Linux, so regardless of what you have, it will most likely run on your computer.  And having Python installed on your computer is a good way to make it easier to practice on your own, without having to find time to come in to use the computer lab.  "
     ]
    },
    {
     "cell_type": "heading",
     "level": 2,
     "metadata": {},
     "source": [
      "Python Interpreter Environments"
     ]
    },
    {
     "cell_type": "markdown",
     "metadata": {},
     "source": [
      "When we write and execute Python code, we generally do that within an environment known as an Interpreter. Python interpreter and editing environments can be quite varied. Some options include:\n",
      "\n",
      "1. Starting Python at the command line, by typing 'python' at the command prompt (c:\\ on windows, for example)\n",
      "1. Starting an editor that can edit and run Python, like Idle, which comes built-in with Python,or programming editors like Scite.\n",
      "1. The way we will generally interact with Python is through IPython Notebooks, a handy interface that runs in your web browser.  This is the environment you are looking at now, with a mixture of headings, text, and code embedded in an IPython Notebook."
     ]
    },
    {
     "cell_type": "heading",
     "level": 2,
     "metadata": {},
     "source": [
      "Starting an IPython Notebook"
     ]
    },
    {
     "cell_type": "markdown",
     "metadata": {},
     "source": [
      "To begin using an IPython Notebook, you need to launch a command shell.  In Windows 7, you can click on 'Start' and then type into the text box 'cmd' and press enter, to launch a shell window.  On a mac, you can launch the terminal app.  Once you have a shell, navigate (change directory) to whatever directory you want to work in. If you have a place you want to store IPython notebooks, cd to that location, and type:\n",
      "\n",
      "ipython notebook\n",
      "\n",
      "Once you do this, and the IPython Notebook opens up in your browser, you can either load an existing notebook or begin a new one."
     ]
    },
    {
     "cell_type": "heading",
     "level": 2,
     "metadata": {},
     "source": [
      "Hello World!"
     ]
    },
    {
     "cell_type": "markdown",
     "metadata": {},
     "source": [
      "The first programming command demonstrated when you are learning a programming language is usually to make the computer print 'Hello World!'.  In Python, doing this is pretty simple:"
     ]
    },
    {
     "cell_type": "code",
     "collapsed": false,
     "input": [
      "print 'Hello World!!!!'"
     ],
     "language": "python",
     "metadata": {},
     "outputs": [
      {
       "output_type": "stream",
       "stream": "stdout",
       "text": [
        "Hello World!!!!\n"
       ]
      }
     ],
     "prompt_number": 3
    },
    {
     "cell_type": "markdown",
     "metadata": {},
     "source": [
      "As you can see, there is not much code involved in making this happen.  The word 'print' is a command that Python knows how to process, and the text string 'Hello World!' in quotations is an *argument* being passes to the print command.  You can of course pass any kind of argument to the Python print command, and it will try to *do the right thing* without you having to micro-manage the process."
     ]
    },
    {
     "cell_type": "heading",
     "level": 2,
     "metadata": {},
     "source": [
      "Python as an Interactive Calculator"
     ]
    },
    {
     "cell_type": "markdown",
     "metadata": {},
     "source": [
      "Python can be used as a simple interactive calculator, by just typing in a mathematical expression as you might on a regular or scientific calculator:"
     ]
    },
    {
     "cell_type": "code",
     "collapsed": false,
     "input": [
      "2-4"
     ],
     "language": "python",
     "metadata": {},
     "outputs": [
      {
       "metadata": {},
       "output_type": "pyout",
       "prompt_number": 6,
       "text": [
        "-2"
       ]
      }
     ],
     "prompt_number": 6
    },
    {
     "cell_type": "markdown",
     "metadata": {},
     "source": [
      "What happened above is that Python interpreted the line '2+2' to parse that it should understand the first object it encountered as an integer, the second object as a mathematical operator for addition, and the third as another integer.  Python's interpreter mostly just tries to figure out what you mean when you write statements like this, and as long as it is unambiguous and feasible to compute, it just does it without you having to explain things in detail.\n",
      "\n",
      "You can of course use any kinds of numbers -- integers or floating point numbers with decimal places, and any standard mathematical operators, and most of the time you get what you expect:"
     ]
    },
    {
     "cell_type": "code",
     "collapsed": false,
     "input": [
      "3.2*4"
     ],
     "language": "python",
     "metadata": {},
     "outputs": [
      {
       "metadata": {},
       "output_type": "pyout",
       "prompt_number": 7,
       "text": [
        "12.8"
       ]
      }
     ],
     "prompt_number": 7
    },
    {
     "cell_type": "code",
     "collapsed": false,
     "input": [
      "3**4"
     ],
     "language": "python",
     "metadata": {},
     "outputs": [
      {
       "metadata": {},
       "output_type": "pyout",
       "prompt_number": 8,
       "text": [
        "81"
       ]
      }
     ],
     "prompt_number": 8
    },
    {
     "cell_type": "heading",
     "level": 3,
     "metadata": {},
     "source": [
      "A Note on Calculating with Different Data Types"
     ]
    },
    {
     "cell_type": "markdown",
     "metadata": {},
     "source": [
      "But not always.  What happens if we divide 11 by 3? "
     ]
    },
    {
     "cell_type": "code",
     "collapsed": false,
     "input": [
      "11/3"
     ],
     "language": "python",
     "metadata": {},
     "outputs": [
      {
       "metadata": {},
       "output_type": "pyout",
       "prompt_number": 9,
       "text": [
        "3"
       ]
      }
     ],
     "prompt_number": 9
    },
    {
     "cell_type": "markdown",
     "metadata": {},
     "source": [
      "Looks like Python can't do simple division properly?  Actually, this is a feature, not a bug.  Python found two numeric objects, both of which are integers, and a division operator, so it did what was unambiguous and feasible: integer division, which just gives the truncated, integer result of dividing two integers.  To get the more traditional result that is a floating point number, we would need to be clear that we want a floating point result by making at least one of the numbers in our operation a floating point number, by adding a decimal (with or without a trailing zero):"
     ]
    },
    {
     "cell_type": "code",
     "collapsed": false,
     "input": [
      "11./3"
     ],
     "language": "python",
     "metadata": {},
     "outputs": [
      {
       "metadata": {},
       "output_type": "pyout",
       "prompt_number": 10,
       "text": [
        "3.6666666666666665"
       ]
      }
     ],
     "prompt_number": 10
    },
    {
     "cell_type": "heading",
     "level": 2,
     "metadata": {},
     "source": [
      "The Pylab Interactive Plotting Environment"
     ]
    },
    {
     "cell_type": "markdown",
     "metadata": {},
     "source": [
      "OK, so maybe using Python as an interactive calculator is not the most compelling case for using Python, even if it does demonstrate that Python has a very shallow learning curve for someone completely new to programming.  You can actually begin using it productively even before learning how to program in it!\n",
      "\n",
      "To give a preview of somewhat more advanced topics, let's look at the interactive plotting mode in IPython that we can invoke by using 'magic' commands, and importing some modules: "
     ]
    },
    {
     "cell_type": "raw",
     "metadata": {},
     "source": [
      "#magic command to display matplotlib plots inline within the ipython notebook webpage\n",
      "%matplotlib inline\n",
      "#import necessary modules\n",
      "import pandas as pd, numpy as np, matplotlib.pyplot as plt"
     ]
    },
    {
     "cell_type": "markdown",
     "metadata": {},
     "source": [
      "This loads pandas and numpy and the matplotlib plotting environment.  We'll come back to these libraries in more detail later, but now let's look at how they allow us to extend the range of things we can do.  Let's assign 1,000 sequential numbers to a variable labeled x, and create another variable, y, that has some transformation of x, and then plot y against x:"
     ]
    },
    {
     "cell_type": "code",
     "collapsed": false,
     "input": [
      "x=arange(100)\n",
      "y=sin(x)\n",
      "plot(x*y)"
     ],
     "language": "python",
     "metadata": {},
     "outputs": [
      {
       "metadata": {},
       "output_type": "pyout",
       "prompt_number": 11,
       "text": [
        "[<matplotlib.lines.Line2D at 0x1080ccbd0>]"
       ]
      },
      {
       "metadata": {},
       "output_type": "display_data",
       "png": "[encoded data removed]",
       "text": [
        "<matplotlib.figure.Figure at 0x107c33610>"
       ]
      }
     ],
     "prompt_number": 11
    },
    {
     "cell_type": "markdown",
     "metadata": {},
     "source": [
      "Or here is how we could draw 1,000 random numbers from a normal distribution, and plot the results as a frequency histogram:"
     ]
    },
    {
     "cell_type": "code",
     "collapsed": false,
     "input": [
      "x = randn(1000)\n",
      "hist(x)"
     ],
     "language": "python",
     "metadata": {},
     "outputs": [
      {
       "metadata": {},
       "output_type": "pyout",
       "prompt_number": 12,
       "text": [
        "(array([   4.,   19.,   63.,  159.,  275.,  259.,  147.,   55.,   16.,    3.]),\n",
        " array([-3.62862569, -2.90476121, -2.18089673, -1.45703225, -0.73316776,\n",
        "        -0.00930328,  0.7145612 ,  1.43842568,  2.16229016,  2.88615465,\n",
        "         3.61001913]),\n",
        " <a list of 10 Patch objects>)"
       ]
      },
      {
       "metadata": {},
       "output_type": "display_data",
       "png": "[encoded data removed]",
       "text": [
        "<matplotlib.figure.Figure at 0x1080921d0>"
       ]
      }
     ],
     "prompt_number": 12
    },
    {
     "cell_type": "heading",
     "level": 2,
     "metadata": {},
     "source": [
      "Getting Some Help"
     ]
    },
    {
     "cell_type": "markdown",
     "metadata": {},
     "source": [
      "A couple of things that IPython does to help you be more productive are useful to introduce here.  One is called tab-completion.  If you can't quite remember the full name of a function, or it is really long and you don't like to type much, you can type the first few characters, and hit the tab key, and the options that begin with those first few characters show up on a menu.\n",
      "\n",
      "The other thing you can make a lot of use of is help!  Is you want to know more about how a method or function works, type the name of the function followed by a question mark. For example, if we wanted to see how to confogure the hist command, we could do:"
     ]
    },
    {
     "cell_type": "code",
     "collapsed": false,
     "input": [
      "hist?"
     ],
     "language": "python",
     "metadata": {},
     "outputs": [],
     "prompt_number": 13
    },
    {
     "cell_type": "markdown",
     "metadata": {},
     "source": [
      "This brings up help text for this command, in a split window in the IPython Notebook.  After you read the help, you can minimize the help window by dragging the divider down to the bottom of the Notebook window."
     ]
    },
    {
     "cell_type": "heading",
     "level": 2,
     "metadata": {},
     "source": [
      "What is a Program?"
     ]
    },
    {
     "cell_type": "markdown",
     "metadata": {},
     "source": [
      "As Allen Downey explains in Think Python, the main elements of a program are:\n",
      "\n",
      "**input**: Get data from the keyboard, a \ufb01le, or some other device.\n",
      "\n",
      "**output**: Display data on the screen or send data to a \ufb01le or other device.\n",
      "\n",
      "**math**: Perform basic mathematical operations like addition and multiplication.\n",
      "\n",
      "**conditional execution**: Check for certain conditions and execute the appropriate code.\n",
      "\n",
      "**repetition**: Perform some action repeatedly, usually with some variation.\n",
      "\n",
      "These are common steps that you will find to be a generic recipe for many programs, whether written in Python or any other language."
     ]
    },
    {
     "cell_type": "heading",
     "level": 2,
     "metadata": {},
     "source": [
      "The Basic Data Types"
     ]
    },
    {
     "cell_type": "markdown",
     "metadata": {},
     "source": [
      "Data in Python is interpreted as having a **type**.  In low-level, compiled languages like C or C++, the programmer has to explicitly declare the type of each variable before actually using it.  In Python, the type is inferred at run time, and you can always ask Python what the type of an object is:"
     ]
    },
    {
     "cell_type": "code",
     "collapsed": false,
     "input": [
      "a = 13\n",
      "print type(a)"
     ],
     "language": "python",
     "metadata": {},
     "outputs": [
      {
       "output_type": "stream",
       "stream": "stdout",
       "text": [
        "<type 'int'>\n"
       ]
      }
     ],
     "prompt_number": 14
    },
    {
     "cell_type": "code",
     "collapsed": false,
     "input": [
      "a = a*1.1\n",
      "print type(a)"
     ],
     "language": "python",
     "metadata": {},
     "outputs": [
      {
       "output_type": "stream",
       "stream": "stdout",
       "text": [
        "<type 'float'>\n"
       ]
      }
     ],
     "prompt_number": 15
    },
    {
     "cell_type": "code",
     "collapsed": false,
     "input": [
      "a = 'Hello World!'\n",
      "print type(a)"
     ],
     "language": "python",
     "metadata": {},
     "outputs": [
      {
       "output_type": "stream",
       "stream": "stdout",
       "text": [
        "<type 'str'>\n"
       ]
      }
     ],
     "prompt_number": 16
    },
    {
     "cell_type": "markdown",
     "metadata": {},
     "source": [
      "Notice that when we multiply a, which was initially an integer, by a floaring point (decimal number) the result is **cast** as a float.  This is like the integer divide problem earlier -- using a floating point number in the calculation causes the result of the calculation to become a floating point number.\n",
      "\n",
      "Notice also that we can reassign any value or type to a variable.  We began with **a** being an integer, then changed its value to a float, and then to a string (text).  Variables are dynamically updated in this way based on values assigned to them."
     ]
    },
    {
     "cell_type": "heading",
     "level": 2,
     "metadata": {},
     "source": [
      "Variables"
     ]
    },
    {
     "cell_type": "markdown",
     "metadata": {},
     "source": [
      "Variables are objects that we want to associate some kind of values to.  They can be of any type: "
     ]
    },
    {
     "cell_type": "code",
     "collapsed": false,
     "input": [
      "city = 'San Francisco'\n",
      "city"
     ],
     "language": "python",
     "metadata": {},
     "outputs": [
      {
       "metadata": {},
       "output_type": "pyout",
       "prompt_number": 17,
       "text": [
        "'San Francisco'"
       ]
      }
     ],
     "prompt_number": 17
    },
    {
     "cell_type": "code",
     "collapsed": false,
     "input": [
      "type(city)"
     ],
     "language": "python",
     "metadata": {},
     "outputs": [
      {
       "metadata": {},
       "output_type": "pyout",
       "prompt_number": 18,
       "text": [
        "str"
       ]
      }
     ],
     "prompt_number": 18
    },
    {
     "cell_type": "code",
     "collapsed": false,
     "input": [
      "x = 345\n",
      "x"
     ],
     "language": "python",
     "metadata": {},
     "outputs": [
      {
       "metadata": {},
       "output_type": "pyout",
       "prompt_number": 19,
       "text": [
        "345"
       ]
      }
     ],
     "prompt_number": 19
    },
    {
     "cell_type": "code",
     "collapsed": false,
     "input": [
      "type(x)"
     ],
     "language": "python",
     "metadata": {},
     "outputs": [
      {
       "metadata": {},
       "output_type": "pyout",
       "prompt_number": 20,
       "text": [
        "int"
       ]
      }
     ],
     "prompt_number": 20
    },
    {
     "cell_type": "code",
     "collapsed": false,
     "input": [
      "y = 2.324\n",
      "y"
     ],
     "language": "python",
     "metadata": {},
     "outputs": [
      {
       "metadata": {},
       "output_type": "pyout",
       "prompt_number": 21,
       "text": [
        "2.324"
       ]
      }
     ],
     "prompt_number": 21
    },
    {
     "cell_type": "code",
     "collapsed": false,
     "input": [
      "type(y)"
     ],
     "language": "python",
     "metadata": {},
     "outputs": [
      {
       "metadata": {},
       "output_type": "pyout",
       "prompt_number": 22,
       "text": [
        "float"
       ]
      }
     ],
     "prompt_number": 22
    },
    {
     "cell_type": "markdown",
     "metadata": {},
     "source": [
      "You can use a lot of names for a variable, but there are exceptions (another word for error!).  Some rules apply.  You can't use Python reserved words, or start with a number, or use nonstandard characters like a copyright symbol.  You'll get an **exception** if you do:"
     ]
    },
    {
     "cell_type": "code",
     "collapsed": false,
     "input": [
      "2x = 24"
     ],
     "language": "python",
     "metadata": {},
     "outputs": [
      {
       "ename": "SyntaxError",
       "evalue": "invalid syntax (<ipython-input-23-c4fd6a35c330>, line 1)",
       "output_type": "pyerr",
       "traceback": [
        "\u001b[0;36m  File \u001b[0;32m\"<ipython-input-23-c4fd6a35c330>\"\u001b[0;36m, line \u001b[0;32m1\u001b[0m\n\u001b[0;31m    2x = 24\u001b[0m\n\u001b[0m     ^\u001b[0m\n\u001b[0;31mSyntaxError\u001b[0m\u001b[0;31m:\u001b[0m invalid syntax\n"
       ]
      }
     ],
     "prompt_number": 23
    },
    {
     "cell_type": "markdown",
     "metadata": {},
     "source": [
      "And here are the 31 keywords reserved by Python (in version 2), that are ineligible for use as variable names:\n",
      "\n",
      "and, as, assert, break, class, continue, def, del, elif, else, except, exec, finally, for, from, global, if, import, in, is, lambda, not, or, pass, print, raise, return, try, while, with, yield."
     ]
    },
    {
     "cell_type": "heading",
     "level": 2,
     "metadata": {},
     "source": [
      "Operators, Expressions and Statements"
     ]
    },
    {
     "cell_type": "markdown",
     "metadata": {},
     "source": [
      "Operators are symbols used to indicste different operations, mostly mathematical, but some operate on strings also.\n",
      "\n",
      "The obvious ones are +,-,*,/, and \\**, indicating addition, subtraction, multiplication, division and exponentiation."
     ]
    },
    {
     "cell_type": "code",
     "collapsed": false,
     "input": [
      "5*5"
     ],
     "language": "python",
     "metadata": {},
     "outputs": []
    },
    {
     "cell_type": "code",
     "collapsed": false,
     "input": [
      "x = 5\n",
      "x = x/2.1\n",
      "print x"
     ],
     "language": "python",
     "metadata": {},
     "outputs": []
    },
    {
     "cell_type": "code",
     "collapsed": false,
     "input": [
      "y = x**2\n",
      "print y"
     ],
     "language": "python",
     "metadata": {},
     "outputs": []
    },
    {
     "cell_type": "markdown",
     "metadata": {},
     "source": [
      "Some of these operators also work on strings, but the behavior is different:"
     ]
    },
    {
     "cell_type": "code",
     "collapsed": false,
     "input": [
      "city = 'San Francisco'\n",
      "sep = ', '\n",
      "state = 'California'\n",
      "location = city+sep+state\n",
      "print location"
     ],
     "language": "python",
     "metadata": {},
     "outputs": [
      {
       "output_type": "stream",
       "stream": "stdout",
       "text": [
        "San Francisco, California\n"
       ]
      }
     ],
     "prompt_number": 24
    },
    {
     "cell_type": "code",
     "collapsed": false,
     "input": [
      "city*4"
     ],
     "language": "python",
     "metadata": {},
     "outputs": [
      {
       "metadata": {},
       "output_type": "pyout",
       "prompt_number": 25,
       "text": [
        "'San FranciscoSan FranciscoSan FranciscoSan Francisco'"
       ]
      }
     ],
     "prompt_number": 25
    },
    {
     "cell_type": "markdown",
     "metadata": {},
     "source": [
      "Expressions are combinations of values, variables and operators, like most of the lines in this section.  Statements often include expressions, but unlike expressions they do not always have a value (for example a print statement, and represent a line of code that Python can execute."
     ]
    },
    {
     "cell_type": "heading",
     "level": 2,
     "metadata": {},
     "source": [
      "Python Scripts"
     ]
    },
    {
     "cell_type": "markdown",
     "metadata": {},
     "source": [
      "All the examples we have typed in to the IPython Notebook have been statements  evaluated interactively as soon as we type them and execute them with a Shift-Enter.  While this is an excellent way to develop confidence in learning Python, and later for interactively exploring data, it is also often useful or necessary to store statements in a Python script that can be rerun at any time.\n",
      "\n",
      "Python scripts are just text files stored on disk, containing Python statements and comments.  The convention of using **.py** as the suffix for a Python script makes it easy to find and run such scripts and to have the Python interpreter parse the statements and execute them one at a time, from top to bottom, as though they had been entered interactively (there are some minor differences in how the interpreter parses interactive commands as compared to scripts, but we will ignore that for now).\n",
      "\n",
      "Comments are a good thing to add to scripts to providr some documentation of what the script is supposed to do, or how to use the script, or to remind yourself later what you had in mind when you wrote the script.  The convention is to use a # sign at the beginning of the line to indicate that that line is a comment, and not to be parsed and executed by Python.  It does not significantly slow down Python to have to step through comments and ignore them -- so use comments liberally!"
     ]
    },
    {
     "cell_type": "code",
     "collapsed": false,
     "input": [
      "# This is a comment explaining the code below\n",
      "# which I would not remember in detail later without comments\n",
      "income = 50000.0+10000*randn(10)\n",
      "y = log(income)\n",
      "y"
     ],
     "language": "python",
     "metadata": {},
     "outputs": []
    },
    {
     "cell_type": "markdown",
     "metadata": {},
     "source": [
      "You can import and export Python scripts from the IPython Notebook.  Once you have a notebook you want to save as a Python script, you can select 'File', 'Download as', and then 'Python (.py)'.  This will save the code as a Python script that can be reloaded in a Notebook or executed in **Batch** mode, or run from beginning to end sequentially, without waiting for you to execute each cell one by one.\n",
      "\n",
      "Python scripts can be run at the command line by typing python and then the name of the python script you want to run, as in: **c:\\python test.py**. They can also be loaded into an IPython session, such as into a Notebook, and run there."
     ]
    },
    {
     "cell_type": "heading",
     "level": 2,
     "metadata": {},
     "source": [
      "Exercise"
     ]
    },
    {
     "cell_type": "markdown",
     "metadata": {},
     "source": [
      "The initial exercise for the class is to:\n",
      "\n",
      "1. Install Python (use the Anaconda installer) and test it.\n",
      "1. Write your first Python script -- make it print 'I am now a junior data ninja in training!' or some other nonsense, and run it from the command line.  Then load it in an IPython Notebook and run it there."
     ]
    }
   ],
   "metadata": {}
  }
 ]
}