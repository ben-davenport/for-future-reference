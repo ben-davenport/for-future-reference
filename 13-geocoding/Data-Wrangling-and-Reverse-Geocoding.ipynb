{
 "cells": [
  {
   "cell_type": "markdown",
   "metadata": {},
   "source": [
    "# Session 9: Data Wrangling and Reverse Geocoding the Rental Data"
   ]
  },
  {
   "cell_type": "markdown",
   "metadata": {},
   "source": [
    "Last session we began using Pandas to clean up our rental data using pandas methods. This is where we left off:"
   ]
  },
  {
   "cell_type": "code",
   "execution_count": 1,
   "metadata": {
    "collapsed": false
   },
   "outputs": [
    {
     "data": {
      "text/html": [
       "<div style=\"max-height:1000px;max-width:1500px;overflow:auto;\">\n",
       "<table border=\"1\" class=\"dataframe\">\n",
       "  <thead>\n",
       "    <tr style=\"text-align: right;\">\n",
       "      <th></th>\n",
       "      <th>neighborhood</th>\n",
       "      <th>title</th>\n",
       "      <th>price</th>\n",
       "      <th>bedrooms</th>\n",
       "      <th>pid</th>\n",
       "      <th>longitude</th>\n",
       "      <th>subregion</th>\n",
       "      <th>link</th>\n",
       "      <th>latitude</th>\n",
       "      <th>sqft</th>\n",
       "      <th>month</th>\n",
       "      <th>day</th>\n",
       "      <th>year</th>\n",
       "    </tr>\n",
       "  </thead>\n",
       "  <tbody>\n",
       "    <tr>\n",
       "      <th>0</th>\n",
       "      <td>                      bayview</td>\n",
       "      <td>    Take A TOUR ON OUR ONE FURNISHED BEDROOM TODAY</td>\n",
       "      <td>  950</td>\n",
       "      <td>              / 1br -    </td>\n",
       "      <td> 4076905111</td>\n",
       "      <td>-122.396965</td>\n",
       "      <td> SF</td>\n",
       "      <td> /sfc/apa/4076905111.html</td>\n",
       "      <td> 37.761216</td>\n",
       "      <td>              / 1br -    </td>\n",
       "      <td> Sep</td>\n",
       "      <td> 18</td>\n",
       "      <td> 2013</td>\n",
       "    </tr>\n",
       "    <tr>\n",
       "      <th>1</th>\n",
       "      <td>                      bayview</td>\n",
       "      <td>  Only walking distance to major shopping centers.</td>\n",
       "      <td>  950</td>\n",
       "      <td>              / 1br -    </td>\n",
       "      <td> 4076901755</td>\n",
       "      <td>-122.396793</td>\n",
       "      <td> SF</td>\n",
       "      <td> /sfc/apa/4076901755.html</td>\n",
       "      <td> 37.761080</td>\n",
       "      <td>              / 1br -    </td>\n",
       "      <td> Sep</td>\n",
       "      <td> 18</td>\n",
       "      <td> 2013</td>\n",
       "    </tr>\n",
       "    <tr>\n",
       "      <th>2</th>\n",
       "      <td>                      bayview</td>\n",
       "      <td> furnished - 1 Bedroom(s), 1 Bath(s), Air Condi...</td>\n",
       "      <td>  950</td>\n",
       "      <td>              / 1br -    </td>\n",
       "      <td> 4076899340</td>\n",
       "      <td>-122.397100</td>\n",
       "      <td> SF</td>\n",
       "      <td> /sfc/apa/4076899340.html</td>\n",
       "      <td> 37.762100</td>\n",
       "      <td>              / 1br -    </td>\n",
       "      <td> Sep</td>\n",
       "      <td> 18</td>\n",
       "      <td> 2013</td>\n",
       "    </tr>\n",
       "    <tr>\n",
       "      <th>3</th>\n",
       "      <td>           financial district</td>\n",
       "      <td> *NEW* Beautiful, Upscale Condo in Historic Jac...</td>\n",
       "      <td> 3300</td>\n",
       "      <td>     / 1br - 830ft² -    </td>\n",
       "      <td> 4067393707</td>\n",
       "      <td>-122.399747</td>\n",
       "      <td> SF</td>\n",
       "      <td> /sfc/apa/4067393707.html</td>\n",
       "      <td> 37.798108</td>\n",
       "      <td>     / 1br - 830ft² -    </td>\n",
       "      <td> Sep</td>\n",
       "      <td> 18</td>\n",
       "      <td> 2013</td>\n",
       "    </tr>\n",
       "    <tr>\n",
       "      <th>4</th>\n",
       "      <td>            visitacion valley</td>\n",
       "      <td>                                            楼上全层3房</td>\n",
       "      <td> 2000</td>\n",
       "      <td>    / 3br - 1280ft² -    </td>\n",
       "      <td> 4076901071</td>\n",
       "      <td>        NaN</td>\n",
       "      <td> SF</td>\n",
       "      <td> /sfc/apa/4076901071.html</td>\n",
       "      <td>       NaN</td>\n",
       "      <td>    / 3br - 1280ft² -    </td>\n",
       "      <td> Sep</td>\n",
       "      <td> 18</td>\n",
       "      <td> 2013</td>\n",
       "    </tr>\n",
       "    <tr>\n",
       "      <th>5</th>\n",
       "      <td>               bernal heights</td>\n",
       "      <td> 2 Bedroom House w/Bonus Room, Fireplace, Yard,...</td>\n",
       "      <td> 3850</td>\n",
       "      <td>              / 2br -    </td>\n",
       "      <td> 4076899828</td>\n",
       "      <td>        NaN</td>\n",
       "      <td> SF</td>\n",
       "      <td> /sfc/apa/4076899828.html</td>\n",
       "      <td>       NaN</td>\n",
       "      <td>              / 2br -    </td>\n",
       "      <td> Sep</td>\n",
       "      <td> 18</td>\n",
       "      <td> 2013</td>\n",
       "    </tr>\n",
       "    <tr>\n",
       "      <th>6</th>\n",
       "      <td>          marina / cow hollow</td>\n",
       "      <td>             ♥♥♥ Chic, cozy &amp; sunny in Marina ♥♥♥ </td>\n",
       "      <td> 3399</td>\n",
       "      <td>                         </td>\n",
       "      <td> 4076892173</td>\n",
       "      <td>        NaN</td>\n",
       "      <td> SF</td>\n",
       "      <td> /sfc/apa/4076892173.html</td>\n",
       "      <td>       NaN</td>\n",
       "      <td>                         </td>\n",
       "      <td> Sep</td>\n",
       "      <td> 18</td>\n",
       "      <td> 2013</td>\n",
       "    </tr>\n",
       "    <tr>\n",
       "      <th>7</th>\n",
       "      <td> north beach / telegraph hill</td>\n",
       "      <td>       Fully Furnished 2BR/2BA Condo with Bay View</td>\n",
       "      <td> 5250</td>\n",
       "      <td>    / 2br - 1000ft² -    </td>\n",
       "      <td> 4076895917</td>\n",
       "      <td>        NaN</td>\n",
       "      <td> SF</td>\n",
       "      <td> /sfc/apa/4076895917.html</td>\n",
       "      <td>       NaN</td>\n",
       "      <td>    / 2br - 1000ft² -    </td>\n",
       "      <td> Sep</td>\n",
       "      <td> 18</td>\n",
       "      <td> 2013</td>\n",
       "    </tr>\n",
       "    <tr>\n",
       "      <th>8</th>\n",
       "      <td>                      bayview</td>\n",
       "      <td> We accept either 6, 12 month or month-to-month...</td>\n",
       "      <td>  950</td>\n",
       "      <td>              / 1br -    </td>\n",
       "      <td> 4076896866</td>\n",
       "      <td>-122.397137</td>\n",
       "      <td> SF</td>\n",
       "      <td> /sfc/apa/4076896866.html</td>\n",
       "      <td> 37.762030</td>\n",
       "      <td>              / 1br -    </td>\n",
       "      <td> Sep</td>\n",
       "      <td> 18</td>\n",
       "      <td> 2013</td>\n",
       "    </tr>\n",
       "    <tr>\n",
       "      <th>9</th>\n",
       "      <td>                      bayview</td>\n",
       "      <td>     3 Bayside Village Pl, San Francisco, CA 94107</td>\n",
       "      <td>  950</td>\n",
       "      <td>              / 1br -    </td>\n",
       "      <td> 4076892885</td>\n",
       "      <td>-122.396450</td>\n",
       "      <td> SF</td>\n",
       "      <td> /sfc/apa/4076892885.html</td>\n",
       "      <td> 37.764065</td>\n",
       "      <td>              / 1br -    </td>\n",
       "      <td> Sep</td>\n",
       "      <td> 18</td>\n",
       "      <td> 2013</td>\n",
       "    </tr>\n",
       "  </tbody>\n",
       "</table>\n",
       "</div>"
      ],
      "text/plain": [
       "                   neighborhood  \\\n",
       "0                       bayview   \n",
       "1                       bayview   \n",
       "2                       bayview   \n",
       "3            financial district   \n",
       "4             visitacion valley   \n",
       "5                bernal heights   \n",
       "6           marina / cow hollow   \n",
       "7  north beach / telegraph hill   \n",
       "8                       bayview   \n",
       "9                       bayview   \n",
       "\n",
       "                                               title  price  \\\n",
       "0     Take A TOUR ON OUR ONE FURNISHED BEDROOM TODAY    950   \n",
       "1   Only walking distance to major shopping centers.    950   \n",
       "2  furnished - 1 Bedroom(s), 1 Bath(s), Air Condi...    950   \n",
       "3  *NEW* Beautiful, Upscale Condo in Historic Jac...   3300   \n",
       "4                                             楼上全层3房   2000   \n",
       "5  2 Bedroom House w/Bonus Room, Fireplace, Yard,...   3850   \n",
       "6              ♥♥♥ Chic, cozy & sunny in Marina ♥♥♥    3399   \n",
       "7        Fully Furnished 2BR/2BA Condo with Bay View   5250   \n",
       "8  We accept either 6, 12 month or month-to-month...    950   \n",
       "9      3 Bayside Village Pl, San Francisco, CA 94107    950   \n",
       "\n",
       "                   bedrooms         pid   longitude subregion  \\\n",
       "0               / 1br -      4076905111 -122.396965        SF   \n",
       "1               / 1br -      4076901755 -122.396793        SF   \n",
       "2               / 1br -      4076899340 -122.397100        SF   \n",
       "3      / 1br - 830ft² -      4067393707 -122.399747        SF   \n",
       "4     / 3br - 1280ft² -      4076901071         NaN        SF   \n",
       "5               / 2br -      4076899828         NaN        SF   \n",
       "6                            4076892173         NaN        SF   \n",
       "7     / 2br - 1000ft² -      4076895917         NaN        SF   \n",
       "8               / 1br -      4076896866 -122.397137        SF   \n",
       "9               / 1br -      4076892885 -122.396450        SF   \n",
       "\n",
       "                       link   latitude                      sqft month  day  \\\n",
       "0  /sfc/apa/4076905111.html  37.761216               / 1br -       Sep   18   \n",
       "1  /sfc/apa/4076901755.html  37.761080               / 1br -       Sep   18   \n",
       "2  /sfc/apa/4076899340.html  37.762100               / 1br -       Sep   18   \n",
       "3  /sfc/apa/4067393707.html  37.798108      / 1br - 830ft² -       Sep   18   \n",
       "4  /sfc/apa/4076901071.html        NaN     / 3br - 1280ft² -       Sep   18   \n",
       "5  /sfc/apa/4076899828.html        NaN               / 2br -       Sep   18   \n",
       "6  /sfc/apa/4076892173.html        NaN                             Sep   18   \n",
       "7  /sfc/apa/4076895917.html        NaN     / 2br - 1000ft² -       Sep   18   \n",
       "8  /sfc/apa/4076896866.html  37.762030               / 1br -       Sep   18   \n",
       "9  /sfc/apa/4076892885.html  37.764065               / 1br -       Sep   18   \n",
       "\n",
       "   year  \n",
       "0  2013  \n",
       "1  2013  \n",
       "2  2013  \n",
       "3  2013  \n",
       "4  2013  \n",
       "5  2013  \n",
       "6  2013  \n",
       "7  2013  \n",
       "8  2013  \n",
       "9  2013  "
      ]
     },
     "execution_count": 1,
     "metadata": {},
     "output_type": "execute_result"
    }
   ],
   "source": [
    "# import libraries and read in the csv file\n",
    "import re as re, pandas as pd, numpy as np, requests, json\n",
    "df = pd.read_csv('data/bay.csv')\n",
    "\n",
    "# clean price and neighborhood\n",
    "df.price = df.price.str.strip('$').astype('float64')\n",
    "df.neighborhood = df.neighborhood.str.strip().str.strip('(').str.strip(')')\n",
    "\n",
    "# break out the date into month day year columns\n",
    "df['month'] = df['date'].str.split().str[0]\n",
    "df['day'] = df['date'].str.split().str[1].astype('int32')\n",
    "df['year'] = df['date'].str.split().str[2].astype('int32')\n",
    "del df['date']\n",
    "\n",
    "df[:10]"
   ]
  },
  {
   "cell_type": "markdown",
   "metadata": {},
   "source": [
    "Now we need to use a couple of more advanced methods to clean up bedrooms and sqft.  Let's start with sqft.\n",
    "\n",
    "For this, at least one way to do this is to grab the starting and ending values of the substring we want to extract, keying on the '-' and the 'br' paers of the sqft text field to grab the characters in between.  The Pandas tutorial showed one way to iterate across a DataFrame. Here is another.  Notice that we also have to insert some logic to handle the case where sqft is not given."
   ]
  },
  {
   "cell_type": "code",
   "execution_count": 2,
   "metadata": {
    "collapsed": false
   },
   "outputs": [
    {
     "data": {
      "text/plain": [
       "0     NaN\n",
       "1     NaN\n",
       "2     NaN\n",
       "3     830\n",
       "4    1280\n",
       "5     NaN\n",
       "6     NaN\n",
       "7    1000\n",
       "8     NaN\n",
       "9     NaN\n",
       "Name: sqft, dtype: float64"
      ]
     },
     "execution_count": 2,
     "metadata": {},
     "output_type": "execute_result"
    }
   ],
   "source": [
    "# clean up the sqft using an iterator over the rows in the DataFrame\n",
    "for i in df.sqft.index:\n",
    "    if('ft' in df.sqft[i]):\n",
    "        end = df.sqft[i].find('ft')\n",
    "        begin = df.sqft[i].find('- ') + 2\n",
    "        if(begin > end):\n",
    "            begin = df.sqft[i].find('/ ') + 2\n",
    "        df.sqft[i] = df.sqft[i][begin:end]\n",
    "    else:\n",
    "        df.sqft[i] = np.nan\n",
    "df.sqft = df.sqft.astype('float64')\n",
    "\n",
    "df['sqft'][:10]"
   ]
  },
  {
   "cell_type": "markdown",
   "metadata": {},
   "source": [
    "You can use the same approach to extract the bedrooms.  "
   ]
  },
  {
   "cell_type": "code",
   "execution_count": 3,
   "metadata": {
    "collapsed": false
   },
   "outputs": [
    {
     "data": {
      "text/plain": [
       "0     1\n",
       "1     1\n",
       "2     1\n",
       "3     1\n",
       "4     3\n",
       "5     2\n",
       "6   NaN\n",
       "7     2\n",
       "8     1\n",
       "9     1\n",
       "Name: bedrooms, dtype: float64"
      ]
     },
     "execution_count": 3,
     "metadata": {},
     "output_type": "execute_result"
    }
   ],
   "source": [
    "for i in df.bedrooms.index:\n",
    "    if('br' in df.bedrooms[i]):\n",
    "        end = df.bedrooms[i].find('br')\n",
    "        begin = df.bedrooms[i].find('/ ') + 1\n",
    "        if(begin > end):\n",
    "            begin = df.bedrooms[i].find('/ ') + 1\n",
    "        df.bedrooms[i] = df.bedrooms[i][begin:end]\n",
    "    else:\n",
    "        df.bedrooms[i] = np.nan\n",
    "df.bedrooms = df.bedrooms.astype('float64')\n",
    "\n",
    "df['bedrooms'][:10]"
   ]
  },
  {
   "cell_type": "markdown",
   "metadata": {},
   "source": [
    "Now a more advanced topic: using regular expressions (regex) which is available in a Python library 're' (and in various other programming languages as well).  This is a 'mini language' that handles all kinds of string operations.  I leave it to those who are curious about this to read documentation on it.  A tutorial is available at: https://docs.python.org/2/howto/regex.html\n",
    "\n",
    "But for demonstration purposes, here is an example of using re to clean up the bedrooms variable:"
   ]
  },
  {
   "cell_type": "code",
   "execution_count": 4,
   "metadata": {
    "collapsed": false
   },
   "outputs": [
    {
     "data": {
      "text/plain": [
       "0     1\n",
       "1     1\n",
       "2     1\n",
       "3     1\n",
       "4     3\n",
       "5     2\n",
       "6   NaN\n",
       "7     2\n",
       "8     1\n",
       "9     1\n",
       "Name: bedrooms, dtype: float64"
      ]
     },
     "execution_count": 4,
     "metadata": {},
     "output_type": "execute_result"
    }
   ],
   "source": [
    "#Reload the data file into a different dataframe to have a raw starting file\n",
    "df2 = pd.read_csv('data/bay.csv')\n",
    "\n",
    "# clean bedrooms using regular expressions\n",
    "# see https://docs.python.org/2/howto/regex.html for a tutorial - it is a moderately advanced topic\n",
    "for i in df2.bedrooms.index:\n",
    "    r = re.search('(?<=\\/ )(.*)(?=br)', df2.bedrooms[i])\n",
    "    df2.bedrooms[i] = r.group(0) if r else np.nan\n",
    "df2.bedrooms = df2.bedrooms.astype('float64')\n",
    "\n",
    "df2['bedrooms'][:10]"
   ]
  },
  {
   "cell_type": "markdown",
   "metadata": {},
   "source": [
    "Below is a concise version of the code to load the Bay Area rental data, load it into a DataFrame, and clean it up."
   ]
  },
  {
   "cell_type": "code",
   "execution_count": 5,
   "metadata": {
    "collapsed": false
   },
   "outputs": [
    {
     "data": {
      "text/html": [
       "<div style=\"max-height:1000px;max-width:1500px;overflow:auto;\">\n",
       "<table border=\"1\" class=\"dataframe\">\n",
       "  <thead>\n",
       "    <tr style=\"text-align: right;\">\n",
       "      <th></th>\n",
       "      <th>neighborhood</th>\n",
       "      <th>title</th>\n",
       "      <th>price</th>\n",
       "      <th>bedrooms</th>\n",
       "      <th>pid</th>\n",
       "      <th>longitude</th>\n",
       "      <th>subregion</th>\n",
       "      <th>link</th>\n",
       "      <th>latitude</th>\n",
       "      <th>sqft</th>\n",
       "      <th>month</th>\n",
       "      <th>day</th>\n",
       "      <th>year</th>\n",
       "    </tr>\n",
       "  </thead>\n",
       "  <tbody>\n",
       "    <tr>\n",
       "      <th>0</th>\n",
       "      <td>            bayview</td>\n",
       "      <td>    Take A TOUR ON OUR ONE FURNISHED BEDROOM TODAY</td>\n",
       "      <td>  950</td>\n",
       "      <td> 1</td>\n",
       "      <td> 4076905111</td>\n",
       "      <td>-122.396965</td>\n",
       "      <td> SF</td>\n",
       "      <td> /sfc/apa/4076905111.html</td>\n",
       "      <td> 37.761216</td>\n",
       "      <td>  NaN</td>\n",
       "      <td> Sep</td>\n",
       "      <td> 18</td>\n",
       "      <td> 2013</td>\n",
       "    </tr>\n",
       "    <tr>\n",
       "      <th>1</th>\n",
       "      <td>            bayview</td>\n",
       "      <td>  Only walking distance to major shopping centers.</td>\n",
       "      <td>  950</td>\n",
       "      <td> 1</td>\n",
       "      <td> 4076901755</td>\n",
       "      <td>-122.396793</td>\n",
       "      <td> SF</td>\n",
       "      <td> /sfc/apa/4076901755.html</td>\n",
       "      <td> 37.761080</td>\n",
       "      <td>  NaN</td>\n",
       "      <td> Sep</td>\n",
       "      <td> 18</td>\n",
       "      <td> 2013</td>\n",
       "    </tr>\n",
       "    <tr>\n",
       "      <th>2</th>\n",
       "      <td>            bayview</td>\n",
       "      <td> furnished - 1 Bedroom(s), 1 Bath(s), Air Condi...</td>\n",
       "      <td>  950</td>\n",
       "      <td> 1</td>\n",
       "      <td> 4076899340</td>\n",
       "      <td>-122.397100</td>\n",
       "      <td> SF</td>\n",
       "      <td> /sfc/apa/4076899340.html</td>\n",
       "      <td> 37.762100</td>\n",
       "      <td>  NaN</td>\n",
       "      <td> Sep</td>\n",
       "      <td> 18</td>\n",
       "      <td> 2013</td>\n",
       "    </tr>\n",
       "    <tr>\n",
       "      <th>3</th>\n",
       "      <td> financial district</td>\n",
       "      <td> *NEW* Beautiful, Upscale Condo in Historic Jac...</td>\n",
       "      <td> 3300</td>\n",
       "      <td> 1</td>\n",
       "      <td> 4067393707</td>\n",
       "      <td>-122.399747</td>\n",
       "      <td> SF</td>\n",
       "      <td> /sfc/apa/4067393707.html</td>\n",
       "      <td> 37.798108</td>\n",
       "      <td>  830</td>\n",
       "      <td> Sep</td>\n",
       "      <td> 18</td>\n",
       "      <td> 2013</td>\n",
       "    </tr>\n",
       "    <tr>\n",
       "      <th>4</th>\n",
       "      <td>  visitacion valley</td>\n",
       "      <td>                                            楼上全层3房</td>\n",
       "      <td> 2000</td>\n",
       "      <td> 3</td>\n",
       "      <td> 4076901071</td>\n",
       "      <td>        NaN</td>\n",
       "      <td> SF</td>\n",
       "      <td> /sfc/apa/4076901071.html</td>\n",
       "      <td>       NaN</td>\n",
       "      <td> 1280</td>\n",
       "      <td> Sep</td>\n",
       "      <td> 18</td>\n",
       "      <td> 2013</td>\n",
       "    </tr>\n",
       "  </tbody>\n",
       "</table>\n",
       "</div>"
      ],
      "text/plain": [
       "         neighborhood                                              title  \\\n",
       "0             bayview     Take A TOUR ON OUR ONE FURNISHED BEDROOM TODAY   \n",
       "1             bayview   Only walking distance to major shopping centers.   \n",
       "2             bayview  furnished - 1 Bedroom(s), 1 Bath(s), Air Condi...   \n",
       "3  financial district  *NEW* Beautiful, Upscale Condo in Historic Jac...   \n",
       "4   visitacion valley                                             楼上全层3房   \n",
       "\n",
       "   price  bedrooms         pid   longitude subregion  \\\n",
       "0    950         1  4076905111 -122.396965        SF   \n",
       "1    950         1  4076901755 -122.396793        SF   \n",
       "2    950         1  4076899340 -122.397100        SF   \n",
       "3   3300         1  4067393707 -122.399747        SF   \n",
       "4   2000         3  4076901071         NaN        SF   \n",
       "\n",
       "                       link   latitude  sqft month  day  year  \n",
       "0  /sfc/apa/4076905111.html  37.761216   NaN   Sep   18  2013  \n",
       "1  /sfc/apa/4076901755.html  37.761080   NaN   Sep   18  2013  \n",
       "2  /sfc/apa/4076899340.html  37.762100   NaN   Sep   18  2013  \n",
       "3  /sfc/apa/4067393707.html  37.798108   830   Sep   18  2013  \n",
       "4  /sfc/apa/4076901071.html        NaN  1280   Sep   18  2013  "
      ]
     },
     "execution_count": 5,
     "metadata": {},
     "output_type": "execute_result"
    }
   ],
   "source": [
    "# import libraries and read in the csv file\n",
    "import re as re, pandas as pd, numpy as np, requests, json\n",
    "df = pd.read_csv('data/bay.csv')\n",
    "\n",
    "# clean price and neighborhood\n",
    "df.price = df.price.str.strip('$').astype('float64')\n",
    "df.neighborhood = df.neighborhood.str.strip().str.strip('(').str.strip(')')\n",
    "\n",
    "# break out the date into month day year columns\n",
    "df['month'] = df['date'].str.split().str[0]\n",
    "df['day'] = df['date'].str.split().str[1].astype('int32')\n",
    "df['year'] = df['date'].str.split().str[2].astype('int32')\n",
    "del df['date']\n",
    "\n",
    "# clean bedrooms using regular expressions\n",
    "# see https://docs.python.org/2/howto/regex.html for a tutorial - it is a moderately advanced topic\n",
    "for i in df.bedrooms.index:\n",
    "    r = re.search('(?<=\\/ )(.*)(?=br)', df.bedrooms[i])\n",
    "    df.bedrooms[i] = r.group(0) if r else np.nan\n",
    "df.bedrooms = df.bedrooms.astype('float64')\n",
    "\n",
    "\n",
    "# clean up the sqft using an iterator over the rows in the DataFrame\n",
    "for i in df.sqft.index:\n",
    "    if('ft' in df.sqft[i]):\n",
    "        end = df.sqft[i].find('ft')\n",
    "        begin = df.sqft[i].find('- ') + 2\n",
    "        if(begin > end):\n",
    "            begin = df.sqft[i].find('/ ') + 2\n",
    "        df.sqft[i] = df.sqft[i][begin:end]\n",
    "    else:\n",
    "        df.sqft[i] = np.nan\n",
    "df.sqft = df.sqft.astype('float64')\n",
    "\n",
    "\n",
    "df.head()"
   ]
  },
  {
   "cell_type": "markdown",
   "metadata": {},
   "source": [
    "## Now we need to build a geocoding script."
   ]
  },
  {
   "cell_type": "markdown",
   "metadata": {},
   "source": [
    "We have latitude and longitude in our data, but want to get census geographies like block and tract and county.  How to do this?  We can use an FCC API to reverse geocode from lat, long to get these:\n",
    "\n",
    "http://www.fcc.gov/developers/census-block-conversions-api\n",
    "\n",
    "Test out the FCC API manually in your browser and look at how the results look.\n",
    "\n",
    "Review the examples in Chapter 6 of Wes McKinney's book for retrieving data from a url.  I suggest using the JSON format in the API, but you can test either JSON or XML.\n",
    "\n",
    "Also, since you will want to step through the DataFrame one row at a time, we use iterrows. \n",
    "\n",
    "http://pandas.pydata.org/pandas-docs/dev/generated/pandas.DataFrame.iterrows.html\n",
    "\n",
    "**CAUTION: PLEASE DO NOT RUN THIS IN CLASS!!!**\n",
    "Since the API is a SLOW for processing a lot of records, and works one record at a time, test it out with only a few records until you are positive you have it working correctly.  It may take several minutes to grind through all the records, and you don't want to get us locked out of the site.  You might want to print the row you are processing - maybe every tenth row number, to give you some sense of how it is progressing.\n",
    "\n",
    "And watch out for those missing lat-longs.  You'll probably want to skip them since the API won't know what to do with them."
   ]
  },
  {
   "cell_type": "code",
   "execution_count": null,
   "metadata": {
    "collapsed": false
   },
   "outputs": [],
   "source": [
    "#We use an FCC API to convert lat, long to census block and other geographies\n",
    "#http://www.fcc.gov/developers/census-block-conversions-api\n",
    "url = 'http://data.fcc.gov/api/block/2010/find?format=json&latitude='\n",
    "\n",
    "# define the new geolocation fields for our dataframe\n",
    "df['blockfips'] = ''\n",
    "df['countyfips'] = ''\n",
    "df['county'] = ''\n",
    "\n",
    "#We need to iterate over the rows of the DataFrame and get data from the FCC API for each\n",
    "#http://pandas.pydata.org/pandas-docs/dev/generated/pandas.DataFrame.iterrows.html\n",
    "for i, row in df.iterrows():\n",
    "    if row['latitude']>0: # and index<50:\n",
    "        resp = requests.get(url+str(row['latitude'])+'&longitude='+str(row['longitude']))\n",
    "        data = json.loads(resp.text)\n",
    "        #print data\n",
    "        df['countyfips'][i] = data['County']['FIPS']\n",
    "        df['county'][i] = data['County']['name']\n",
    "        df['blockfips'][i] = data['Block']['FIPS']\n",
    "        if i%200 == 0: \n",
    "            print 'processing row: ', i\n",
    "\n",
    "print df[:5]"
   ]
  },
  {
   "cell_type": "markdown",
   "metadata": {},
   "source": [
    "Something you may find useful is that you can save files into a very efficient format called HDF5, which can store multiple tables in one file, and allow you to retrieve them easily.  Here is how to create a file and store the dataframe into it.  \n",
    "\n",
    "Note: if you run this cell in class and not the preceding one, you won't have the geocoding results in it.  I've placed a copy of the resulting HDF5 file in the files section for easy access.\n",
    "\n",
    "**Don't run this in class, either, or it will overwrite bay.h5**"
   ]
  },
  {
   "cell_type": "code",
   "execution_count": 8,
   "metadata": {
    "collapsed": false
   },
   "outputs": [
    {
     "name": "stdout",
     "output_type": "stream",
     "text": [
      "         neighborhood                                              title  \\\n",
      "0             bayview     Take A TOUR ON OUR ONE FURNISHED BEDROOM TODAY   \n",
      "1             bayview   Only walking distance to major shopping centers.   \n",
      "2             bayview  furnished - 1 Bedroom(s), 1 Bath(s), Air Condi...   \n",
      "3  financial district  *NEW* Beautiful, Upscale Condo in Historic Jac...   \n",
      "4   visitacion valley                                             楼上全层3房   \n",
      "\n",
      "   price  bedrooms         pid   longitude subregion  \\\n",
      "0    950         1  4076905111 -122.396965        SF   \n",
      "1    950         1  4076901755 -122.396793        SF   \n",
      "2    950         1  4076899340 -122.397100        SF   \n",
      "3   3300         1  4067393707 -122.399747        SF   \n",
      "4   2000         3  4076901071         NaN        SF   \n",
      "\n",
      "                       link   latitude  sqft month  day  year  \\\n",
      "0  /sfc/apa/4076905111.html  37.761216   NaN   Sep   18  2013   \n",
      "1  /sfc/apa/4076901755.html  37.761080   NaN   Sep   18  2013   \n",
      "2  /sfc/apa/4076899340.html  37.762100   NaN   Sep   18  2013   \n",
      "3  /sfc/apa/4067393707.html  37.798108   830   Sep   18  2013   \n",
      "4  /sfc/apa/4076901071.html        NaN  1280   Sep   18  2013   \n",
      "\n",
      "         blockfips countyfips         county  \n",
      "0  060750227022008      06075  San Francisco  \n",
      "1  060750227022008      06075  San Francisco  \n",
      "2  060750227022005      06075  San Francisco  \n",
      "3  060750105002005      06075  San Francisco  \n",
      "4                                             \n"
     ]
    },
    {
     "name": "stderr",
     "output_type": "stream",
     "text": [
      "C:\\Anaconda\\lib\\site-packages\\pandas\\io\\pytables.py:2453: PerformanceWarning: \n",
      "your performance may suffer as PyTables will pickle object types that it cannot\n",
      "map directly to c-types [inferred_type->mixed,key->block3_values] [items->['neighborhood', 'title', 'subregion', 'link', 'month', 'blockfips', 'countyfips', 'county']]\n",
      "\n",
      "  warnings.warn(ws, PerformanceWarning)\n"
     ]
    }
   ],
   "source": [
    "store = pd.HDFStore('data/bay.h5')\n",
    "store['rents'] = df\n",
    "print store['rents'][:5]\n",
    "store.close()"
   ]
  },
  {
   "cell_type": "markdown",
   "metadata": {},
   "source": [
    "And here is how to reload it to a dataframe from the HDF5 file."
   ]
  },
  {
   "cell_type": "code",
   "execution_count": 9,
   "metadata": {
    "collapsed": false
   },
   "outputs": [
    {
     "name": "stdout",
     "output_type": "stream",
     "text": [
      "0    060750227022008\n",
      "1    060750227022008\n",
      "2    060750227022005\n",
      "3    060750105002005\n",
      "4                   \n",
      "5                   \n",
      "6                   \n",
      "7                   \n",
      "8    060750227022005\n",
      "9    060750227021002\n",
      "Name: blockfips, dtype: object\n"
     ]
    }
   ],
   "source": [
    "store = pd.HDFStore('data/bay.h5')\n",
    "df = store['rents']\n",
    "print df['blockfips'][:10]"
   ]
  },
  {
   "cell_type": "markdown",
   "metadata": {},
   "source": [
    "One more new trick for today: extracting a substring using the lambda function, to extract tractfips from blockfips.\n",
    "\n",
    "A quick explanation from: http://www.python-course.eu/lambda.php:\n",
    "\n",
    "The lambda operator or lambda function is a way to create small anonymous functions, i.e. functions without a name. These functions are throw-away functions, i.e. they are just needed where they have been created. Lambda functions are mainly used in combination with the functions filter(), map() and reduce().\n",
    "\n",
    "The general syntax of a lambda function is quite simple:\n",
    "lambda argument_list: expression \n",
    "The argument list consists of a comma separated list of arguments and the expression is an arithmetic expression using these arguments. You can assign the function to a variable to give it a name. \n",
    "The following example of a lambda function returns the sum of its two arguments:"
   ]
  },
  {
   "cell_type": "code",
   "execution_count": 10,
   "metadata": {
    "collapsed": false
   },
   "outputs": [
    {
     "data": {
      "text/plain": [
       "2"
      ]
     },
     "execution_count": 10,
     "metadata": {},
     "output_type": "execute_result"
    }
   ],
   "source": [
    "f = lambda x, y : x + y\n",
    "f(1,1)"
   ]
  },
  {
   "cell_type": "markdown",
   "metadata": {},
   "source": [
    "Let's use this approach to extract the census tract values, which are the first 10 characters in the fipsblock values."
   ]
  },
  {
   "cell_type": "code",
   "execution_count": 11,
   "metadata": {
    "collapsed": false
   },
   "outputs": [
    {
     "data": {
      "text/plain": [
       "0    06075022702\n",
       "1    06075022702\n",
       "2    06075022702\n",
       "3    06075010500\n",
       "4               \n",
       "5               \n",
       "6               \n",
       "7               \n",
       "8    06075022702\n",
       "9    06075022702\n",
       "Name: tractfips, dtype: object"
      ]
     },
     "execution_count": 11,
     "metadata": {},
     "output_type": "execute_result"
    }
   ],
   "source": [
    "df['tractfips'] = df['blockfips'].map(lambda x: x[:11])\n",
    "df['tractfips'][:10]"
   ]
  },
  {
   "cell_type": "markdown",
   "metadata": {},
   "source": [
    "And here we write our dataframe to a csv file."
   ]
  },
  {
   "cell_type": "code",
   "execution_count": 12,
   "metadata": {
    "collapsed": false
   },
   "outputs": [],
   "source": [
    "df.to_csv('Data/rents.csv')"
   ]
  },
  {
   "cell_type": "markdown",
   "metadata": {},
   "source": [
    "We wrap up with a bit of exploring the data.  Computing means of sqft by county."
   ]
  },
  {
   "cell_type": "code",
   "execution_count": 13,
   "metadata": {
    "collapsed": false
   },
   "outputs": [
    {
     "data": {
      "text/plain": [
       "county\n",
       "                 1149.289189\n",
       "Alameda          1188.153439\n",
       "Butte            1350.000000\n",
       "Calaveras                NaN\n",
       "Contra Costa     1389.156716\n",
       "Humboldt         1952.000000\n",
       "Lake             1487.157895\n",
       "Marin            1401.006623\n",
       "Mendocino        1225.000000\n",
       "Merced            850.000000\n",
       "Monterey         3773.000000\n",
       "Napa             1543.306122\n",
       "Placer           2700.000000\n",
       "Sacramento       1000.000000\n",
       "San Benito       1850.000000\n",
       "San Francisco    1082.411960\n",
       "San Joaquin      2154.875000\n",
       "San Mateo        1094.573604\n",
       "Santa Clara      1104.003643\n",
       "Siskiyou          750.000000\n",
       "Solano           1236.367925\n",
       "Sonoma           1260.573248\n",
       "Name: sqft, dtype: float64"
      ]
     },
     "execution_count": 13,
     "metadata": {},
     "output_type": "execute_result"
    }
   ],
   "source": [
    "df.groupby('county')['sqft'].mean()"
   ]
  },
  {
   "cell_type": "markdown",
   "metadata": {},
   "source": [
    "Notice that we have extraneous counties in the data. Some listings advertised in the Bay Area Craigslist but were for properties in other counties. Let's eliminate the listings that are outside the Bay Area."
   ]
  },
  {
   "cell_type": "code",
   "execution_count": 14,
   "metadata": {
    "collapsed": false
   },
   "outputs": [
    {
     "data": {
      "text/plain": [
       "county\n",
       "Alameda          295\n",
       "Contra Costa     174\n",
       "Marin            213\n",
       "Napa              71\n",
       "San Francisco    692\n",
       "San Mateo        529\n",
       "Santa Clara      690\n",
       "Solano           143\n",
       "Sonoma           266\n",
       "Name: price, dtype: int64"
      ]
     },
     "execution_count": 14,
     "metadata": {},
     "output_type": "execute_result"
    }
   ],
   "source": [
    "bayarea = ['Alameda','Contra Costa','Marin','Napa','San Francisco','San Mateo','Santa Clara','Solano','Sonoma']\n",
    "df_bay = df[df['county'].isin(bayarea)]\n",
    "df_bay.groupby('county')['price'].count()"
   ]
  },
  {
   "cell_type": "code",
   "execution_count": 15,
   "metadata": {
    "collapsed": false
   },
   "outputs": [
    {
     "data": {
      "text/plain": [
       "county\n",
       "Alameda          1188.153439\n",
       "Contra Costa     1389.156716\n",
       "Marin            1401.006623\n",
       "Napa             1543.306122\n",
       "San Francisco    1082.411960\n",
       "San Mateo        1094.573604\n",
       "Santa Clara      1104.003643\n",
       "Solano           1236.367925\n",
       "Sonoma           1260.573248\n",
       "Name: sqft, dtype: float64"
      ]
     },
     "execution_count": 15,
     "metadata": {},
     "output_type": "execute_result"
    }
   ],
   "source": [
    "df_bay.groupby('county')['sqft'].mean()"
   ]
  },
  {
   "cell_type": "code",
   "execution_count": 15,
   "metadata": {
    "collapsed": false
   },
   "outputs": [],
   "source": [
    ""
   ]
  }
 ],
 "metadata": {
  "kernelspec": {
   "display_name": "Python 3",
   "language": "python",
   "name": "python3"
  },
  "language_info": {
   "codemirror_mode": {
    "name": "ipython",
    "version": 3.0
   },
   "file_extension": ".py",
   "mimetype": "text/x-python",
   "name": "python",
   "nbconvert_exporter": "python",
   "pygments_lexer": "ipython3",
   "version": "3.5.2"
  }
 },
 "nbformat": 4,
 "nbformat_minor": 0
}