{
 "cells": [
  {
   "cell_type": "markdown",
   "metadata": {},
   "source": [
    "# Working With Files and Doing Data Cleaning"
   ]
  },
  {
   "cell_type": "markdown",
   "metadata": {},
   "source": [
    "Today we begin working with files.  We learned about iterating last week as part of programming logic.  We can now begin to use that knowledge to iterate through the rows of a file, to extract values, or do computations on the data in the file.\n",
    "\n",
    "Today we will get familiar with reading and writing data in arbitrary text files, JSON files and in CSV (comma separated value) formatted files.  We will practice doing some work on the contents of the files, like computing statistics on them, and beginning to clean up messy data using some of our string methods and type conversion methods from the first week.\n",
    "\n",
    "Next session we will continue working with files, and learn a bit of QGIS to load and visualize our data."
   ]
  },
  {
   "cell_type": "markdown",
   "metadata": {},
   "source": [
    "## First, a Review on Planning Your Programs\n",
    "\n",
    "One of the most difficult things about learning to program is to learn how to start.  What to do before you write the code, and how to work your way through the coding process.\n",
    "\n",
    "A good general idea is to think through the problem you want to solve first -- just conceptually.  How will you know you have solved it?  Are there tests that you can use to be sure?  Can you break the problem down into smaller components, and solve those sequentially?  This is a step that is conceptualizing your algorithm, or your plan for the code.\n",
    "\n",
    "What approach would you use to solve each of those components? Can you describe those steps in English? We call this step writing 'pseudo-code'\n",
    "\n",
    "Finally, there is the coding step. And the inevitable debugging step.  You really can't do one without the other.\n",
    "\n",
    "Generally, it is good practice to work your way through problems in this way, and write the code for each building block, testing it to be sure it works for all the kinds of cases you can imagine, then test them together.  You'll end up being more productive, and far less frustrated, using a systematic, problem-solving approach.  \n",
    "\n",
    "And by all means, don't try to tackle it all at once.  Below is an example of how to work through this process."
   ]
  },
  {
   "cell_type": "markdown",
   "metadata": {},
   "source": [
    "### Phase 1: Conceptual Plan\n",
    "\n",
    "Think about the problem you are trying to solve, and try to determine how to break it down into steps you can conceptually solve.\n",
    "\n",
    "### Phase 2: Pseudo-Code\n",
    "\n",
    "Write the idea down as an algorithm, in words rather than code.\n",
    "\n",
    "### Phase 3: Code Incrementally, Test, and Document\n",
    "\n",
    "Generally, build the code one step at a time, and test that step.  Add comments to explain your logic.  Make sure you include narrative in your assignments explaining your reasoning, and adding explanatory comments in the code every few lines to explain what you are doing in each part."
   ]
  },
  {
   "cell_type": "markdown",
   "metadata": {},
   "source": [
    "## Reviewing the Prime Numbers Exercise\n",
    "\n",
    "Let's review the prime numbers example from the perspective of planning how to write your code, and how to build and test the code.  The process involves a combination of workplanning and problem solving in order to have a productive experience and generate clean, readable, code that is bug-free and is reusable.\n",
    "\n",
    "The objective of this exercise is to enable you to assimilate the material we have covered so far to solve a novel problem.  You should have all the tools you need, by now, and just need a bit of practice at putting the pieces together to solve a problem.  The problem we want to solve is how to test whether a whole number is a prime number. Recall that a Prime Number can be divided evenly only by 1 or itself, and it must be a whole number greater than 1. \n",
    "\n",
    "So to have reusable code to test whether any number you want to test is a prime number you would need to do what? Write code that tests whether a number passed to a function meets these conditions.\n",
    "\n",
    "Here is a table of prime numbers up to 1000:"
   ]
  },
  {
   "cell_type": "raw",
   "metadata": {},
   "source": [
    "2\t3\t5\t7\t11\t13\t17\t19\t23\t29\t31\t37\t41\t43\t47\t53\t59\t61\t67\n",
    "71\t73\t79\t83\t89\t97\t101\t103\t107\t109\t113\t127\t131\t137\t139\t149\t151\t157\t163\n",
    "167\t173\t179\t181\t191\t193\t197\t199\t211\t223\t227\t229\t233\t239\t241\t251\t257\t263\t269\n",
    "271\t277\t281\t283\t293\t307\t311\t313\t317\t331\t337\t347\t349\t353\t359\t367\t373\t379\t383\n",
    "389\t397\t401\t409\t419\t421\t431\t433\t439\t443\t449\t457\t461\t463\t467\t479\t487\t491\t499\n",
    "503\t509\t521\t523\t541\t547\t557\t563\t569\t571\t577\t587\t593\t599\t601\t607\t613\t617\t619\n",
    "631\t641\t643\t647\t653\t659\t661\t673\t677\t683\t691\t701\t709\t719\t727\t733\t739\t743\t751\n",
    "757\t761\t769\t773\t787\t797\t809\t811\t821\t823\t827\t829\t839\t853\t857\t859\t863\t877\t881\n",
    "883\t887\t907\t911\t919\t929\t937\t941\t947\t953\t967\t971\t977\t983\t991\t997\t"
   ]
  },
  {
   "cell_type": "markdown",
   "metadata": {},
   "source": [
    "### Phase 1: Conceptual Plan\n",
    "\n",
    "What do we need to do to determine whether each number between 1 and 100 is a prime number?\n",
    "\n",
    "1. We need to see if any given number can be divided evenly by any other number besides 1 and itself.  If we count all the times it is divisible by some number less than or equal to itself, it should be exacly 2. \n",
    "2. We need to test this for every number between 1 and 100\n",
    "\n",
    "### Phase 2: Pseudo-Code\n",
    "\n",
    "1. Write a function (isprime) to test whether a number passed to it as an argument (x) is a prime number.\n",
    "Iterate over all values from x to 1.\n",
    "At each iteration, test whether the original x is evenly divisible by this iteration value.\n",
    "Keep track of how many times you get an evenly divisible result.\n",
    "If the result is more than 2, call x a prime number.\n",
    "\n",
    "2. Write a loop from 1 to 100, call this value (z)\n",
    "Within the loop, call function isprime, and pass it the value of z.\n",
    "Print the list of prime numbers.\n",
    "\n",
    "### Phase 3: Code\n",
    "\n",
    "Let's build the code one step at a time, and test that step.  Add comments to explain your logic."
   ]
  },
  {
   "cell_type": "code",
   "execution_count": 58,
   "metadata": {},
   "outputs": [],
   "source": [
    "def isprime(x):\n",
    "    #Need to keep track of the original value of x, so keep a copy as y\n",
    "    y = x \n",
    "    #Initialize a counter to keep track of how many times y is evenly divisible\n",
    "    count = 0 \n",
    "    while x > 0: #create an iterator over values of x (be careful of infinite loops!)\n",
    "        even = (y%x == 0) #is y evenly divisible by x?\n",
    "        print(y, 'is evenly divisible by', x, 'is:', even) #Print the result of that\n",
    "        count = count + even #increment the count every time it is evenly divisible\n",
    "        x = x - 1 #Must not forget to decrement this counter, or will create an infinite loop!\n",
    "    print(y, 'is evenly divisible', count, 'times')"
   ]
  },
  {
   "cell_type": "code",
   "execution_count": 59,
   "metadata": {
    "scrolled": true
   },
   "outputs": [
    {
     "name": "stdout",
     "output_type": "stream",
     "text": [
      "6 is evenly divisible by 6 is: True\n",
      "6 is evenly divisible by 5 is: False\n",
      "6 is evenly divisible by 4 is: False\n",
      "6 is evenly divisible by 3 is: True\n",
      "6 is evenly divisible by 2 is: True\n",
      "6 is evenly divisible by 1 is: True\n",
      "6 is evenly divisible 4 times\n"
     ]
    }
   ],
   "source": [
    "isprime(6)"
   ]
  },
  {
   "cell_type": "markdown",
   "metadata": {},
   "source": [
    "OK, now that we're getting the results we need, let's streamline the output and check one value at a time.  \n",
    "\n",
    "Side note: The process of iteratively editing and refining your code is sometimes referred to as 'refactoring' it.  This often times involves re-writing sections of it, throwing away parts, and reorganizing it."
   ]
  },
  {
   "cell_type": "code",
   "execution_count": 60,
   "metadata": {
    "collapsed": true
   },
   "outputs": [],
   "source": [
    "def isprime(x):\n",
    "    y = x\n",
    "    count = 0\n",
    "    while x > 0:\n",
    "        even = (y%x == 0)\n",
    "        count = count + even\n",
    "        x = x - 1\n",
    "    if count != 2:\n",
    "        print(y, 'is not a prime number')\n",
    "    else:\n",
    "        print(y, 'is a prime number')"
   ]
  },
  {
   "cell_type": "code",
   "execution_count": 62,
   "metadata": {},
   "outputs": [
    {
     "name": "stdout",
     "output_type": "stream",
     "text": [
      "12 is not a prime number\n"
     ]
    }
   ],
   "source": [
    "isprime(12)"
   ]
  },
  {
   "cell_type": "markdown",
   "metadata": {},
   "source": [
    "After testing this on a bunch of numbers, it seems to be properly discriminating between prime and non-prime numbers, so now we create a loop to test that systematically and print the resulting list of prime numbers.  And let's print the results in a consise way like the table of prime numbers above."
   ]
  },
  {
   "cell_type": "code",
   "execution_count": 63,
   "metadata": {
    "collapsed": true
   },
   "outputs": [],
   "source": [
    "def isprime(x):\n",
    "    y = x\n",
    "    count = 0\n",
    "    while x > 0:\n",
    "        even = (y%x == 0)\n",
    "        count = count + even\n",
    "        x = x - 1\n",
    "    if count != 2:\n",
    "        pass #No need to print a result if it is not prime\n",
    "    else:\n",
    "        print(y, end=' ') \n",
    "        #This just prints the value if it is a prime number. The end=' ' keeps it on the same line"
   ]
  },
  {
   "cell_type": "code",
   "execution_count": 64,
   "metadata": {},
   "outputs": [
    {
     "name": "stdout",
     "output_type": "stream",
     "text": [
      "The prime numbers between 1 and 1000 are:\n",
      "2 3 5 7 11 13 17 19 23 29 31 37 41 43 47 53 59 61 67 71 73 79 83 89 97 101 103 107 109 113 127 131 137 139 149 151 157 163 167 173 179 181 191 193 197 199 211 223 227 229 233 239 241 251 257 263 269 271 277 281 283 293 307 311 313 317 331 337 347 349 353 359 367 373 379 383 389 397 401 409 419 421 431 433 439 443 449 457 461 463 467 479 487 491 499 503 509 521 523 541 547 557 563 569 571 577 587 593 599 601 607 613 617 619 631 641 643 647 653 659 661 673 677 683 691 701 709 719 727 733 739 743 751 757 761 769 773 787 797 809 811 821 823 827 829 839 853 857 859 863 877 881 883 887 907 911 919 929 937 941 947 953 967 971 977 983 991 997 "
     ]
    }
   ],
   "source": [
    "start = 1\n",
    "limit = 1000\n",
    "print('The prime numbers between', start, 'and', limit, 'are:')\n",
    "while start <= limit:\n",
    "    isprime(start)\n",
    "    start = start + 1"
   ]
  },
  {
   "cell_type": "markdown",
   "metadata": {},
   "source": [
    "# Working With Files\n",
    "\n",
    "Most data you might want to work with is likely to be in some kind of file.  You often will want to work with data in comma separated text files, or in spreadsheet tables, or in tables stored in a database.  And you will increasingly find data online, not only as text or spreadsheets to download, but as Open Data APIs, returned from a web service as a JSON object.  This session covers how to work with a variety of file formats in Python, and how to begin processing data in files to clean data."
   ]
  },
  {
   "cell_type": "markdown",
   "metadata": {},
   "source": [
    "### Basics of Reading and Writing Files in Python\n",
    "\n",
    "Let's start by creating a simple file, and then reading it back.  We will use 'open' to open a file we will call 'tempfile' in 'write' (w) mode.  We will assign the file object, which is **iterable**, to an object we will arbitrarily call 'f'."
   ]
  },
  {
   "cell_type": "code",
   "execution_count": 117,
   "metadata": {},
   "outputs": [],
   "source": [
    "f = open('tempfile.txt', 'w')\n",
    "for i in range(10):\n",
    "    f.write('this is line ' + str(i) + '\\n')\n",
    "f.close()"
   ]
  },
  {
   "cell_type": "markdown",
   "metadata": {},
   "source": [
    "Pay attention to the last line above.  When you open a file in write mode you have to **close** it when you are done or the file might be corrupted and unusable when you need to use it.\n",
    "\n",
    "You can open the text file in an editor to verify that this code wrote the file as expected.  Now open the file we just created in Python, in read mode (r)"
   ]
  },
  {
   "cell_type": "code",
   "execution_count": 66,
   "metadata": {},
   "outputs": [],
   "source": [
    "f = open('tempfile.txt', 'r')"
   ]
  },
  {
   "cell_type": "markdown",
   "metadata": {},
   "source": [
    "The first method to read a file is to read it in all at once, with a read() method. Here we load the whole file in memory and assign it to a. Note that we will re-open the file here to start from the beginning. Otherwise it will be positioned at the end of the file and give us back an empty string. "
   ]
  },
  {
   "cell_type": "code",
   "execution_count": 67,
   "metadata": {},
   "outputs": [
    {
     "data": {
      "text/plain": [
       "'this is line 0\\nthis is line 1\\nthis is line 2\\nthis is line 3\\nthis is line 4\\nthis is line 5\\nthis is line 6\\nthis is line 7\\nthis is line 8\\nthis is line 9\\n'"
      ]
     },
     "execution_count": 67,
     "metadata": {},
     "output_type": "execute_result"
    }
   ],
   "source": [
    "f = open('tempfile.txt', 'r')\n",
    "a = f.read()\n",
    "a"
   ]
  },
  {
   "cell_type": "markdown",
   "metadata": {},
   "source": [
    "Note that when we use read() it creates a string object.  The whole file is loaded into one big string.  Sometimes this may be useful, but often it is not the best way to load a file."
   ]
  },
  {
   "cell_type": "code",
   "execution_count": 68,
   "metadata": {},
   "outputs": [
    {
     "data": {
      "text/plain": [
       "str"
      ]
     },
     "execution_count": 68,
     "metadata": {},
     "output_type": "execute_result"
    }
   ],
   "source": [
    "type(a)"
   ]
  },
  {
   "cell_type": "markdown",
   "metadata": {},
   "source": [
    "An alternative approach is to step through reading each line of the file with the readline() method.  Notice that each time you execute this it advances to the next line.  Each line is read into a string object.  In this case we are not doing anything with that object except printing it."
   ]
  },
  {
   "cell_type": "code",
   "execution_count": 69,
   "metadata": {},
   "outputs": [
    {
     "name": "stdout",
     "output_type": "stream",
     "text": [
      "this is line 0\n",
      "\n",
      "this is line 1\n",
      "\n"
     ]
    }
   ],
   "source": [
    "f = open('tempfile.txt', 'r')\n",
    "print(f.readline())\n",
    "print(f.readline())"
   ]
  },
  {
   "cell_type": "markdown",
   "metadata": {},
   "source": [
    "Why did the code above print a blank line between the two lines (and another blank line after the second one)?\n",
    "\n",
    "Here is another way to loop through the lines of the file and print them all out. Remember how to printing the lines and suppress the newline string?."
   ]
  },
  {
   "cell_type": "code",
   "execution_count": 70,
   "metadata": {},
   "outputs": [
    {
     "name": "stdout",
     "output_type": "stream",
     "text": [
      "this is line 0\n",
      "this is line 1\n",
      "this is line 2\n",
      "this is line 3\n",
      "this is line 4\n",
      "this is line 5\n",
      "this is line 6\n",
      "this is line 7\n",
      "this is line 8\n",
      "this is line 9\n"
     ]
    }
   ],
   "source": [
    "f = open('tempfile.txt', 'r')\n",
    "for line in f:\n",
    "    print(line, end='')"
   ]
  },
  {
   "cell_type": "markdown",
   "metadata": {},
   "source": [
    "The plural version of the readline() method generates a list of the lines in a file, with a string containing each line of the file.  Notice that this list contains the raw text contents, including the newline string '\\n'.\n",
    "\n",
    "Assigning the contents of the file to a list object is helpful since you can do more work on that list object, whereas the results above from printing are gone as soon as you run the code.  They just print results to output."
   ]
  },
  {
   "cell_type": "code",
   "execution_count": 71,
   "metadata": {},
   "outputs": [
    {
     "data": {
      "text/plain": [
       "['this is line 0\\n',\n",
       " 'this is line 1\\n',\n",
       " 'this is line 2\\n',\n",
       " 'this is line 3\\n',\n",
       " 'this is line 4\\n',\n",
       " 'this is line 5\\n',\n",
       " 'this is line 6\\n',\n",
       " 'this is line 7\\n',\n",
       " 'this is line 8\\n',\n",
       " 'this is line 9\\n']"
      ]
     },
     "execution_count": 71,
     "metadata": {},
     "output_type": "execute_result"
    }
   ],
   "source": [
    "f = open('tempfile.txt', 'r')\n",
    "a = f.readlines()\n",
    "a"
   ]
  },
  {
   "cell_type": "markdown",
   "metadata": {},
   "source": [
    "Using **with** is a handy way to open a file, load its data, and automatically close the file. "
   ]
  },
  {
   "cell_type": "code",
   "execution_count": 74,
   "metadata": {},
   "outputs": [
    {
     "name": "stdout",
     "output_type": "stream",
     "text": [
      "this is line 0\n",
      "this is line 1\n",
      "this is line 2\n",
      "this is line 3\n",
      "this is line 4\n",
      "this is line 5\n",
      "this is line 6\n",
      "this is line 7\n",
      "this is line 8\n",
      "this is line 9\n",
      "\n"
     ]
    },
    {
     "data": {
      "text/plain": [
       "True"
      ]
     },
     "execution_count": 74,
     "metadata": {},
     "output_type": "execute_result"
    }
   ],
   "source": [
    "with open('tempfile.txt', 'r') as f:\n",
    "    read_data = f.read()\n",
    "print(read_data)\n",
    "f.closed\n"
   ]
  },
  {
   "cell_type": "markdown",
   "metadata": {},
   "source": [
    "### Working with JSON\n",
    "\n",
    "JSON (JavaScript Object Notation) is a common format for data accessed from a web browser, which is generally running JavaScript.  We will see this format a lot when we begin working with data on a web page or accessed with an API.\n",
    "\n",
    "The json dumps() method converts Python objects to JSON format, using the counterpart format for each data type, as in the table below."
   ]
  },
  {
   "cell_type": "raw",
   "metadata": {},
   "source": [
    "\n",
    "Python\t       JSON\n",
    "dict\t       object\n",
    "list, tuple\t   array\n",
    "str\t           string\n",
    "int, float     number\n",
    "True\t       true\n",
    "False\t       false\n",
    "None\t       null"
   ]
  },
  {
   "cell_type": "code",
   "execution_count": 75,
   "metadata": {},
   "outputs": [
    {
     "data": {
      "text/plain": [
       "'[1, 2, 3]'"
      ]
     },
     "execution_count": 75,
     "metadata": {},
     "output_type": "execute_result"
    }
   ],
   "source": [
    "import json\n",
    "\n",
    "json.dumps([1,2,3])"
   ]
  },
  {
   "cell_type": "markdown",
   "metadata": {},
   "source": [
    "Notice that objects can be complex, containing multiple types of data, and still be easily translated between Python objects and JSON format.  The following example converts a Python list, containing one element that is a dictionary, to JSON."
   ]
  },
  {
   "cell_type": "code",
   "execution_count": 76,
   "metadata": {},
   "outputs": [
    {
     "data": {
      "text/plain": [
       "'[1, 2, 3, {\"foo\": \"bar\"}]'"
      ]
     },
     "execution_count": 76,
     "metadata": {},
     "output_type": "execute_result"
    }
   ],
   "source": [
    "json.dumps([1,2,3,{'foo': 'bar'}])"
   ]
  },
  {
   "cell_type": "markdown",
   "metadata": {},
   "source": [
    "Below we convert the contents of tempfile to a json object."
   ]
  },
  {
   "cell_type": "code",
   "execution_count": 77,
   "metadata": {},
   "outputs": [
    {
     "data": {
      "text/plain": [
       "'[\"this is line 0\\\\n\", \"this is line 1\\\\n\", \"this is line 2\\\\n\", \"this is line 3\\\\n\", \"this is line 4\\\\n\", \"this is line 5\\\\n\", \"this is line 6\\\\n\", \"this is line 7\\\\n\", \"this is line 8\\\\n\", \"this is line 9\\\\n\"]'"
      ]
     },
     "execution_count": 77,
     "metadata": {},
     "output_type": "execute_result"
    }
   ],
   "source": [
    "f = open('tempfile.txt', 'r')\n",
    "\n",
    "x = json.dumps(f.readlines())\n",
    "x"
   ]
  },
  {
   "cell_type": "markdown",
   "metadata": {},
   "source": [
    "With the dump() method, we can write JSON data to a file.  Here we read tempfile, and create a new JSON formatted file into which we write the contents of tempfile.  Using just a couple of lines of code, we read a file into Python, and convert it to Json format, and write it to a file in Json format."
   ]
  },
  {
   "cell_type": "code",
   "execution_count": 78,
   "metadata": {},
   "outputs": [],
   "source": [
    "f = open('tempfile.txt', 'r')\n",
    "j = open('temp.json', 'w')\n",
    "json.dump(f.readlines(), j)"
   ]
  },
  {
   "cell_type": "markdown",
   "metadata": {},
   "source": [
    "Using the load() method, we can read JSON formatted data and load it into a Python object."
   ]
  },
  {
   "cell_type": "code",
   "execution_count": 79,
   "metadata": {},
   "outputs": [
    {
     "data": {
      "text/plain": [
       "['this is line 0\\n',\n",
       " 'this is line 1\\n',\n",
       " 'this is line 2\\n',\n",
       " 'this is line 3\\n',\n",
       " 'this is line 4\\n',\n",
       " 'this is line 5\\n',\n",
       " 'this is line 6\\n',\n",
       " 'this is line 7\\n',\n",
       " 'this is line 8\\n',\n",
       " 'this is line 9\\n']"
      ]
     },
     "execution_count": 79,
     "metadata": {},
     "output_type": "execute_result"
    }
   ],
   "source": [
    "j = open('temp.json', 'r')\n",
    "x = json.load(j)\n",
    "x"
   ]
  },
  {
   "cell_type": "markdown",
   "metadata": {},
   "source": [
    "### Working with CSV Files\n",
    "\n",
    "CSV (Comma Separated Values) is probably the most common format of data you will encounter.  Files in this format are often exported in this format from a database table or from Excel, or just used as a simple, standard text (ASCII) file format for ease of use.\n",
    "\n",
    "Let's begin by writing a CSV file like the JSON example above, by importing the csv module, and writing a file with several columns, separated by commas."
   ]
  },
  {
   "cell_type": "code",
   "execution_count": 3,
   "metadata": {},
   "outputs": [
    {
     "data": {
      "text/plain": [
       "[[0, 0, 2],\n",
       " [1, 2, 3],\n",
       " [2, 4, 4],\n",
       " [3, 6, 5],\n",
       " [4, 8, 6],\n",
       " [5, 10, 7],\n",
       " [6, 12, 8],\n",
       " [7, 14, 9],\n",
       " [8, 16, 10],\n",
       " [9, 18, 11]]"
      ]
     },
     "execution_count": 3,
     "metadata": {},
     "output_type": "execute_result"
    }
   ],
   "source": [
    "my_data = []\n",
    "for i in range(10):\n",
    "    my_data.append([i, i*2, i+2])\n",
    "my_data"
   ]
  },
  {
   "cell_type": "markdown",
   "metadata": {},
   "source": [
    "Now we will write the CSV file using my_data, and adding a header row first with column names.  Note that we open the file as before, in write mode, but now use the writerow() method to write one row with the header, and writerows() to iterate over the rows and write them to the file."
   ]
  },
  {
   "cell_type": "code",
   "execution_count": 4,
   "metadata": {},
   "outputs": [],
   "source": [
    "import csv\n",
    "with open('my_data.csv', 'w', newline='') as f:\n",
    "    writer = csv.writer(f)\n",
    "    writer.writerow([\"x\", \"y\", \"z\"])\n",
    "    writer.writerows(my_data)"
   ]
  },
  {
   "cell_type": "markdown",
   "metadata": {},
   "source": [
    "Reading a CSV file is very similar to writing one, but simpler.  We create a reader object that is iterable, and then we can iterate over the rows and do things, like print each row."
   ]
  },
  {
   "cell_type": "code",
   "execution_count": 83,
   "metadata": {},
   "outputs": [
    {
     "name": "stdout",
     "output_type": "stream",
     "text": [
      "['x', 'y', 'z']\n",
      "['0', '0', '2']\n",
      "['1', '2', '3']\n",
      "['2', '4', '4']\n",
      "['3', '6', '5']\n",
      "['4', '8', '6']\n",
      "['5', '10', '7']\n",
      "['6', '12', '8']\n",
      "['7', '14', '9']\n",
      "['8', '16', '10']\n",
      "['9', '18', '11']\n"
     ]
    }
   ],
   "source": [
    "with open('my_data.csv', newline='') as f:\n",
    "    reader = csv.reader(f)\n",
    "    for row in reader:\n",
    "        print(row)"
   ]
  },
  {
   "cell_type": "markdown",
   "metadata": {},
   "source": [
    "If we want to actually work with the data, then we need to assign it to an object rather than just printing it.  Here we can use the list method to convert the iterable reader object to a list, one per row."
   ]
  },
  {
   "cell_type": "code",
   "execution_count": 84,
   "metadata": {},
   "outputs": [
    {
     "data": {
      "text/plain": [
       "[['x', 'y', 'z'],\n",
       " ['0', '0', '2'],\n",
       " ['1', '2', '3'],\n",
       " ['2', '4', '4'],\n",
       " ['3', '6', '5'],\n",
       " ['4', '8', '6'],\n",
       " ['5', '10', '7'],\n",
       " ['6', '12', '8'],\n",
       " ['7', '14', '9'],\n",
       " ['8', '16', '10'],\n",
       " ['9', '18', '11']]"
      ]
     },
     "execution_count": 84,
     "metadata": {},
     "output_type": "execute_result"
    }
   ],
   "source": [
    "with open('my_data.csv', newline='') as f:\n",
    "    reader = csv.reader(f)\n",
    "    my_data = list(reader)\n",
    "my_data"
   ]
  },
  {
   "cell_type": "markdown",
   "metadata": {},
   "source": [
    "If you want to skip the header row in order to have the data without the header, you can use **next** after instantiating the reader object, to advance one row in the CVS file."
   ]
  },
  {
   "cell_type": "code",
   "execution_count": 85,
   "metadata": {},
   "outputs": [
    {
     "data": {
      "text/plain": [
       "[['0', '0', '2'],\n",
       " ['1', '2', '3'],\n",
       " ['2', '4', '4'],\n",
       " ['3', '6', '5'],\n",
       " ['4', '8', '6'],\n",
       " ['5', '10', '7'],\n",
       " ['6', '12', '8'],\n",
       " ['7', '14', '9'],\n",
       " ['8', '16', '10'],\n",
       " ['9', '18', '11']]"
      ]
     },
     "execution_count": 85,
     "metadata": {},
     "output_type": "execute_result"
    }
   ],
   "source": [
    "with open('my_data.csv', newline='') as f:\n",
    "    reader = csv.reader(f)\n",
    "    next(reader)\n",
    "    my_data = list(reader)\n",
    "my_data"
   ]
  },
  {
   "cell_type": "markdown",
   "metadata": {},
   "source": [
    "Since the data is now available as an object, you can do normal Python processing on it, like selecting the first entry of each row and printing it."
   ]
  },
  {
   "cell_type": "code",
   "execution_count": 86,
   "metadata": {},
   "outputs": [
    {
     "name": "stdout",
     "output_type": "stream",
     "text": [
      "0\n",
      "1\n",
      "2\n",
      "3\n",
      "4\n",
      "5\n",
      "6\n",
      "7\n",
      "8\n",
      "9\n"
     ]
    }
   ],
   "source": [
    "for row in my_data:\n",
    "    print(row[0])"
   ]
  },
  {
   "cell_type": "markdown",
   "metadata": {},
   "source": [
    "### Reading a CSV File and Computing Statistics With it\n",
    "\n",
    "Let's do some work with a data file.  We will use a sample file that has monthly rainfall amounts in it.  First read the file and print its contents. The file is 'data/rain.csv'"
   ]
  },
  {
   "cell_type": "code",
   "execution_count": 5,
   "metadata": {
    "scrolled": true
   },
   "outputs": [
    {
     "name": "stdout",
     "output_type": "stream",
     "text": [
      "['month_2014', 'rainfall_inches']\n",
      "['jan', '5.3']\n",
      "['feb', '5.4']\n",
      "['mar', '4.8']\n",
      "['apr', '4.7']\n",
      "['may', '3.3']\n",
      "['jun', '1.2']\n",
      "['jul', '0.8']\n",
      "['aug', '0.7']\n",
      "['sep', '']\n",
      "['oct', '3.9']\n",
      "['nov', '4.5']\n",
      "['dec', '5.9']\n"
     ]
    }
   ],
   "source": [
    "with open('data/rain.csv', 'r') as csvfile:\n",
    "    my_csv = csv.reader(csvfile)\n",
    "    for row in my_csv:\n",
    "        print(row)"
   ]
  },
  {
   "cell_type": "markdown",
   "metadata": {},
   "source": [
    "Use rain.csv to calculate mean value.  How would we do this conceptually?\n",
    "\n",
    "We need a sum of the monthly rainfall, and a count of months to divide it by to get the mean (average) monthly rainfall.\n",
    "\n",
    "So as we loop through the file row by row, let's update a count and a cumulative sum, and when we are done looping through the rows, we just divide the cumulative sum by the count to get the mean."
   ]
  },
  {
   "cell_type": "code",
   "execution_count": 6,
   "metadata": {
    "scrolled": true
   },
   "outputs": [
    {
     "ename": "ValueError",
     "evalue": "could not convert string to float: ",
     "output_type": "error",
     "traceback": [
      "\u001b[0;31m---------------------------------------------------------------------------\u001b[0m",
      "\u001b[0;31mValueError\u001b[0m                                Traceback (most recent call last)",
      "\u001b[0;32m<ipython-input-6-b494632bf7fc>\u001b[0m in \u001b[0;36m<module>\u001b[0;34m()\u001b[0m\n\u001b[1;32m     13\u001b[0m         \u001b[0;31m# increment the counter and extract this row's rainfall as a float\u001b[0m\u001b[0;34m\u001b[0m\u001b[0;34m\u001b[0m\u001b[0m\n\u001b[1;32m     14\u001b[0m         \u001b[0mcount\u001b[0m \u001b[0;34m=\u001b[0m \u001b[0mcount\u001b[0m \u001b[0;34m+\u001b[0m \u001b[0;36m1\u001b[0m\u001b[0;34m\u001b[0m\u001b[0m\n\u001b[0;32m---> 15\u001b[0;31m         \u001b[0mrainfall\u001b[0m \u001b[0;34m=\u001b[0m \u001b[0mfloat\u001b[0m\u001b[0;34m(\u001b[0m\u001b[0mrow\u001b[0m\u001b[0;34m[\u001b[0m\u001b[0;36m1\u001b[0m\u001b[0;34m]\u001b[0m\u001b[0;34m)\u001b[0m\u001b[0;34m\u001b[0m\u001b[0m\n\u001b[0m\u001b[1;32m     16\u001b[0m \u001b[0;34m\u001b[0m\u001b[0m\n\u001b[1;32m     17\u001b[0m         \u001b[0;31m# add this row's rainfall to the cumulative sum\u001b[0m\u001b[0;34m\u001b[0m\u001b[0;34m\u001b[0m\u001b[0m\n",
      "\u001b[0;31mValueError\u001b[0m: could not convert string to float: "
     ]
    }
   ],
   "source": [
    "with open('data/rain.csv', 'r') as csvfile: #use with in order to automatically close the file at the end\n",
    "    \n",
    "    # initialize a counter and variables to contain our descriptive stats\n",
    "    count = 0 #at the end, divide cumulative_sum by this to get the mean\n",
    "    cumulative_sum = 0 #our rolling sum\n",
    "    \n",
    "    # open the file and skip the header row\n",
    "    my_csv = csv.reader(csvfile)\n",
    "    next(my_csv)\n",
    "    \n",
    "    # loop through each data row\n",
    "    for row in my_csv:       \n",
    "        # increment the counter and extract this row's rainfall as a float\n",
    "        count = count + 1\n",
    "        rainfall = float(row[1])\n",
    "            \n",
    "        # add this row's rainfall to the cumulative sum\n",
    "        cumulative_sum = cumulative_sum + rainfall\n",
    "            \n",
    "    # after looping through all the rows, divide the cumulative sum by the count and round to get the mean\n",
    "    mean_value = round(cumulative_sum / count, 1)\n",
    "    \n",
    "    # print out the mean value\n",
    "    print('mean:', mean_value, 'inches')\n"
   ]
  },
  {
   "cell_type": "markdown",
   "metadata": {},
   "source": [
    "Hmm... what's wrong with the code? We got a strange error.\n",
    "\n",
    "Do any of the rows look like the value of rainfall might be difficult for Python to compute a floating point value from?\n",
    "\n",
    "Let's see what happens when we use the float method on an empty string... "
   ]
  },
  {
   "cell_type": "code",
   "execution_count": 7,
   "metadata": {},
   "outputs": [
    {
     "ename": "ValueError",
     "evalue": "could not convert string to float: ",
     "output_type": "error",
     "traceback": [
      "\u001b[0;31m---------------------------------------------------------------------------\u001b[0m",
      "\u001b[0;31mValueError\u001b[0m                                Traceback (most recent call last)",
      "\u001b[0;32m<ipython-input-7-ddb0cdb80cb6>\u001b[0m in \u001b[0;36m<module>\u001b[0;34m()\u001b[0m\n\u001b[0;32m----> 1\u001b[0;31m \u001b[0mfloat\u001b[0m\u001b[0;34m(\u001b[0m\u001b[0;34m''\u001b[0m\u001b[0;34m)\u001b[0m\u001b[0;34m\u001b[0m\u001b[0m\n\u001b[0m",
      "\u001b[0;31mValueError\u001b[0m: could not convert string to float: "
     ]
    }
   ],
   "source": [
    "float('')"
   ]
  },
  {
   "cell_type": "markdown",
   "metadata": {},
   "source": [
    "Maybe we should skip September's value since it is missing?  And we should be careful to exlude it from the count also, so we don't get an incorrect mean value."
   ]
  },
  {
   "cell_type": "code",
   "execution_count": 8,
   "metadata": {
    "scrolled": true
   },
   "outputs": [
    {
     "name": "stdout",
     "output_type": "stream",
     "text": [
      "mean: 3.7 inches\n"
     ]
    }
   ],
   "source": [
    "with open('data/rain.csv', 'r') as csvfile:\n",
    "    \n",
    "    count = 0 \n",
    "    cumulative_sum = 0 \n",
    "    \n",
    "    my_csv = csv.reader(csvfile)\n",
    "    next(my_csv)\n",
    "    \n",
    "    for row in my_csv:\n",
    "        \n",
    "        # rainfall amount is in column 1, only process this row's value if not an empty string\n",
    "        if not row[1] == '':\n",
    "            \n",
    "            count = count + 1\n",
    "            rainfall = float(row[1])\n",
    "            \n",
    "            cumulative_sum = cumulative_sum + rainfall\n",
    "            \n",
    "    mean_value = round(cumulative_sum / count, 1)\n",
    "    \n",
    "    print('mean:', mean_value, 'inches')\n"
   ]
  },
  {
   "cell_type": "markdown",
   "metadata": {},
   "source": [
    "OK, great. Now practice with this process by adding to this code a calculation for the maximum rainfall value (it should be 5.9)."
   ]
  },
  {
   "cell_type": "code",
   "execution_count": 9,
   "metadata": {},
   "outputs": [
    {
     "name": "stdout",
     "output_type": "stream",
     "text": [
      "mean: 3.7 inches\n",
      "max: 5.9 inches\n"
     ]
    }
   ],
   "source": [
    "with open('data/rain.csv', 'r') as csvfile:\n",
    "    \n",
    "    # initialize a counter and variables to contain our descriptive stats\n",
    "    count = 0 #at the end, divide cumulative_sum by this to get the mean\n",
    "    cumulative_sum = 0 #our rolling sum\n",
    "    max_value = -1 #pick a really small number that's guaranteed to be less than the max\n",
    "    \n",
    "    # open the file and skip the header row\n",
    "    my_csv = csv.reader(csvfile)\n",
    "    next(my_csv)\n",
    "    \n",
    "    # loop through each data row\n",
    "    for row in my_csv:\n",
    "        \n",
    "        # rainfall amount is in column 1, only process this row's value if not an empty string\n",
    "        if not row[1] == '':\n",
    "            \n",
    "            # increment the counter and extract this row's rainfall as a float\n",
    "            count = count + 1\n",
    "            rainfall = float(row[1])\n",
    "            \n",
    "            # add this row's rainfall to the cumulative sum\n",
    "            cumulative_sum = cumulative_sum + rainfall\n",
    "            \n",
    "            # if this row's rainfall is greater than the current max value, update with the new max\n",
    "            if rainfall > max_value:\n",
    "                max_value = rainfall\n",
    "\n",
    "    # after looping through all the rows, divide the cumulative sum by the count and round to get the mean\n",
    "    mean_value = round(cumulative_sum / count, 1)\n",
    "    \n",
    "    # print out the mean and max values\n",
    "    print('mean:', mean_value, 'inches')\n",
    "    print('max:', max_value, 'inches')"
   ]
  },
  {
   "cell_type": "markdown",
   "metadata": {},
   "source": [
    "Now add a calculation to find the minimum rainfall amount."
   ]
  },
  {
   "cell_type": "code",
   "execution_count": 11,
   "metadata": {},
   "outputs": [
    {
     "name": "stdout",
     "output_type": "stream",
     "text": [
      "mean: 3.7 inches\n",
      "max: 5.9 inches\n",
      "min: 0.7 inches\n"
     ]
    }
   ],
   "source": [
    "with open('data/rain.csv', 'r') as csvfile:\n",
    "    \n",
    "    # initialize a counter and variables to contain our descriptive stats\n",
    "    count = 0 #at the end, divide cumulative_sum by this to get the mean\n",
    "    cumulative_sum = 0 #our rolling sum\n",
    "    max_value = -1 #pick a really small number that's guaranteed to be less than the max\n",
    "    min_value = 100\n",
    "    \n",
    "    # open the file and skip the header row\n",
    "    my_csv = csv.reader(csvfile)\n",
    "    next(my_csv)\n",
    "    \n",
    "    # loop through each data row\n",
    "    for row in my_csv:\n",
    "        \n",
    "        # rainfall amount is in column 1, only process this row's value if not an empty string\n",
    "        if not row[1] == '':\n",
    "            \n",
    "            # increment the counter and extract this row's rainfall as a float\n",
    "            count = count + 1\n",
    "            rainfall = float(row[1])\n",
    "            \n",
    "            # add this row's rainfall to the cumulative sum\n",
    "            cumulative_sum = cumulative_sum + rainfall\n",
    "            \n",
    "            # if this row's rainfall is greater than the current max value, update with the new max\n",
    "            if rainfall > max_value:\n",
    "                max_value = rainfall\n",
    "\n",
    "            # if this row's rainfall is less than the current min value, update with the new min\n",
    "            if rainfall < min_value:\n",
    "                min_value = rainfall\n",
    "\n",
    "    # after looping through all the rows, divide the cumulative sum by the count and round to get the mean\n",
    "    mean_value = round(cumulative_sum / count, 1)\n",
    "    \n",
    "    # print out the mean and max values\n",
    "    print('mean:', mean_value, 'inches')\n",
    "    print('max:', max_value, 'inches')\n",
    "    print('min:', min_value, 'inches')"
   ]
  },
  {
   "cell_type": "markdown",
   "metadata": {},
   "source": [
    "### Cleaning up Messy Data"
   ]
  },
  {
   "cell_type": "markdown",
   "metadata": {},
   "source": [
    "Let's look at another data file - one that contains 15 Craigslist rental listingsthat we have already done some cleanup on."
   ]
  },
  {
   "cell_type": "code",
   "execution_count": 92,
   "metadata": {},
   "outputs": [
    {
     "name": "stdout",
     "output_type": "stream",
     "text": [
      "['neighborhood', 'price', 'bedrooms', 'date', 'sqft', 'longitude', 'latitude']\n",
      "['foster city', '2495', '1', '11/14/2014 12:26', '755', '-122.27', '37.5538']\n",
      "['palo alto', '2695', '', '11/14/2014 12:25', '443', '-122.161524', '37.450289']\n",
      "['brisbane', '3150', '2', '11/14/2014 12:24', '1242', '-122.417912', '37.692415']\n",
      "['palo alto', '2800', '2', '11/14/2014 12:24', '', '', '']\n",
      "['san mateo', '2196', '1', '11/14/2014 12:24', '676', '-122.2998', '37.5395']\n",
      "['santa clara', '3264', '3', '11/14/2014 12:28', '1138', '', '']\n",
      "['san jose south', '2000', '2', '11/14/2014 12:28', '822', '-121.902268', '37.253503']\n",
      "['sunnyvale', '4740', '3', '11/14/2014 12:28', '1406', '-122.034683', '37.368445']\n",
      "['inner sunset / UCSF', '3395', '2', '11/14/2014 12:32', '', '-122.479345', '37.764582']\n",
      "['richmond / seacliff', '2699', '1', '11/14/2014 12:32', '', '-122.503781', '37.7718']\n",
      "['SOMA / south beach', '3620', '1', '11/14/2014 12:30', '860', '-122.395195', '37.775133']\n",
      "['dublin / pleasanton / livermore', '2025', '1', '11/14/2014 12:18', '636', '-121.787665', '37.67963']\n",
      "['concord / pleasant hill / martinez', '', '2', '11/14/2014 12:18', '1019', '-122.035275', '37.975259']\n",
      "['hercules, pinole, san pablo, el sob', '1795', '1', '11/14/2014 12:17', '715', '-122.321672', '37.978086']\n",
      "['corte madera', '4299', '3', '11/14/2014 12:33', '1533', '-122.488541', '37.919834']\n"
     ]
    }
   ],
   "source": [
    "with open('data/rents_raw.csv', 'r') as csvfile:\n",
    "    my_csv = csv.reader(csvfile)\n",
    "    for row in my_csv:\n",
    "        print(row)"
   ]
  },
  {
   "cell_type": "code",
   "execution_count": 93,
   "metadata": {},
   "outputs": [
    {
     "name": "stdout",
     "output_type": "stream",
     "text": [
      "['neighborhood', 'price', 'bedrooms', 'date', 'sqft', 'longitude', 'latitude']\n"
     ]
    }
   ],
   "source": [
    "# the column headers are the first row in the data file\n",
    "# use next to iterate our csv reader to the first row to grab the headers\n",
    "with open('data/rents_raw.csv', 'r') as csvfile:\n",
    "    my_csv = csv.reader(csvfile)\n",
    "    headers = next(my_csv)\n",
    "    print(headers)"
   ]
  },
  {
   "cell_type": "code",
   "execution_count": 95,
   "metadata": {},
   "outputs": [
    {
     "data": {
      "text/plain": [
       "'price'"
      ]
     },
     "execution_count": 95,
     "metadata": {},
     "output_type": "execute_result"
    }
   ],
   "source": [
    "# what is column index 1 (zero-indexed) in our data set?\n",
    "headers[1]"
   ]
  },
  {
   "cell_type": "code",
   "execution_count": 96,
   "metadata": {},
   "outputs": [
    {
     "name": "stdout",
     "output_type": "stream",
     "text": [
      "price\n",
      "2495\n",
      "2695\n",
      "3150\n",
      "2800\n",
      "2196\n",
      "3264\n",
      "2000\n",
      "4740\n",
      "3395\n",
      "2699\n",
      "3620\n",
      "2025\n",
      "\n",
      "1795\n",
      "4299\n"
     ]
    }
   ],
   "source": [
    "# for each row in the data set, print the price column's value\n",
    "with open('data/rents_raw.csv', 'r') as csvfile:\n",
    "    my_csv = csv.reader(csvfile)\n",
    "    for row in my_csv:\n",
    "        print(row[1])"
   ]
  },
  {
   "cell_type": "code",
   "execution_count": 97,
   "metadata": {},
   "outputs": [
    {
     "data": {
      "text/plain": [
       "['price',\n",
       " '2495',\n",
       " '2695',\n",
       " '3150',\n",
       " '2800',\n",
       " '2196',\n",
       " '3264',\n",
       " '2000',\n",
       " '4740',\n",
       " '3395',\n",
       " '2699',\n",
       " '3620',\n",
       " '2025',\n",
       " '',\n",
       " '1795',\n",
       " '4299']"
      ]
     },
     "execution_count": 97,
     "metadata": {},
     "output_type": "execute_result"
    }
   ],
   "source": [
    "# create a new list to contain the column of prices in the data set\n",
    "prices = []\n",
    "with open('data/rents_raw.csv', 'r') as csvfile:\n",
    "    my_csv = csv.reader(csvfile)\n",
    "    for row in my_csv:\n",
    "        prices.append(row[1])  \n",
    "prices"
   ]
  },
  {
   "cell_type": "markdown",
   "metadata": {},
   "source": [
    "This list has a couple of problems. First, it includes the header. Second, it's all strings even though prices are numeric data. Third, it contains some empty strings. We'll have to clean it up."
   ]
  },
  {
   "cell_type": "code",
   "execution_count": 98,
   "metadata": {},
   "outputs": [
    {
     "data": {
      "text/plain": [
       "['2495',\n",
       " '2695',\n",
       " '3150',\n",
       " '2800',\n",
       " '2196',\n",
       " '3264',\n",
       " '2000',\n",
       " '4740',\n",
       " '3395',\n",
       " '2699',\n",
       " '3620',\n",
       " '2025',\n",
       " '',\n",
       " '1795',\n",
       " '4299']"
      ]
     },
     "execution_count": 98,
     "metadata": {},
     "output_type": "execute_result"
    }
   ],
   "source": [
    "# to remove the first element of the list, we can just capture position 1 through the end of the list\n",
    "prices_noheader = prices[1:]\n",
    "prices_noheader"
   ]
  },
  {
   "cell_type": "code",
   "execution_count": 99,
   "metadata": {},
   "outputs": [
    {
     "name": "stdout",
     "output_type": "stream",
     "text": [
      "2495  \n",
      "2695  \n",
      "3150  \n",
      "2800  \n",
      "2196  \n",
      "3264  \n",
      "2000  \n",
      "4740  \n",
      "3395  \n",
      "2699  \n",
      "3620  \n",
      "2025  \n"
     ]
    },
    {
     "ename": "ValueError",
     "evalue": "could not convert string to float: ",
     "output_type": "error",
     "traceback": [
      "\u001b[0;31m---------------------------------------------------------------------------\u001b[0m",
      "\u001b[0;31mValueError\u001b[0m                                Traceback (most recent call last)",
      "\u001b[0;32m<ipython-input-99-e3f778abc1a5>\u001b[0m in \u001b[0;36m<module>\u001b[0;34m()\u001b[0m\n\u001b[1;32m      1\u001b[0m \u001b[0;31m# now let's convert the price strings to integers\u001b[0m\u001b[0;34m\u001b[0m\u001b[0;34m\u001b[0m\u001b[0m\n\u001b[1;32m      2\u001b[0m \u001b[0;32mfor\u001b[0m \u001b[0mprice\u001b[0m \u001b[0;32min\u001b[0m \u001b[0mprices_noheader\u001b[0m\u001b[0;34m:\u001b[0m\u001b[0;34m\u001b[0m\u001b[0m\n\u001b[0;32m----> 3\u001b[0;31m     \u001b[0mprint\u001b[0m\u001b[0;34m(\u001b[0m\u001b[0mint\u001b[0m\u001b[0;34m(\u001b[0m\u001b[0mfloat\u001b[0m\u001b[0;34m(\u001b[0m\u001b[0mprice\u001b[0m\u001b[0;34m)\u001b[0m\u001b[0;34m)\u001b[0m\u001b[0;34m,\u001b[0m \u001b[0;34m' '\u001b[0m\u001b[0;34m)\u001b[0m\u001b[0;34m\u001b[0m\u001b[0m\n\u001b[0m",
      "\u001b[0;31mValueError\u001b[0m: could not convert string to float: "
     ]
    }
   ],
   "source": [
    "# now let's convert the price strings to integers\n",
    "for price in prices_noheader:\n",
    "    print(int(float(price)), ' ')"
   ]
  },
  {
   "cell_type": "code",
   "execution_count": 100,
   "metadata": {},
   "outputs": [
    {
     "name": "stdout",
     "output_type": "stream",
     "text": [
      "2495\n",
      "2695\n",
      "3150\n",
      "2800\n",
      "2196\n",
      "3264\n",
      "2000\n",
      "4740\n",
      "3395\n",
      "2699\n",
      "3620\n",
      "2025\n",
      "None\n",
      "1795\n",
      "4299\n"
     ]
    }
   ],
   "source": [
    "# you can't convert an empty string to a numeric type\n",
    "for price in prices_noheader:\n",
    "    if not price == '':\n",
    "        print(int(float(price)))\n",
    "    else:\n",
    "        print('None')"
   ]
  },
  {
   "cell_type": "code",
   "execution_count": 101,
   "metadata": {
    "collapsed": true
   },
   "outputs": [],
   "source": [
    "# encapsulate this functionality inside a new function\n",
    "def extract_int_price(price):\n",
    "    if not price == '':\n",
    "        return int(float(price))\n",
    "    else:\n",
    "        return None"
   ]
  },
  {
   "cell_type": "code",
   "execution_count": 102,
   "metadata": {},
   "outputs": [
    {
     "name": "stdout",
     "output_type": "stream",
     "text": [
      "2495\n",
      "2695\n",
      "3150\n",
      "2800\n",
      "2196\n",
      "3264\n",
      "2000\n",
      "4740\n",
      "3395\n",
      "2699\n",
      "3620\n",
      "2025\n",
      "None\n",
      "1795\n",
      "4299\n"
     ]
    }
   ],
   "source": [
    "# use our function to convert each element in the list of prices to an integer\n",
    "for price in prices_noheader:\n",
    "    print(extract_int_price(price))"
   ]
  },
  {
   "cell_type": "code",
   "execution_count": 103,
   "metadata": {},
   "outputs": [
    {
     "name": "stdout",
     "output_type": "stream",
     "text": [
      "[2495, 2695, 3150, 2800, 2196, 3264, 2000, 4740, 3395, 2699, 3620, 2025, None, 1795, 4299]\n"
     ]
    }
   ],
   "source": [
    "# rather than just printing each converted value, turn it into a new list called int_prices\n",
    "int_prices = []\n",
    "for price in prices_noheader:\n",
    "    int_prices.append(extract_int_price(price))\n",
    "print(int_prices)"
   ]
  },
  {
   "cell_type": "markdown",
   "metadata": {},
   "source": [
    "### Now let's clean up our neighborhood names\n"
   ]
  },
  {
   "cell_type": "code",
   "execution_count": 104,
   "metadata": {},
   "outputs": [
    {
     "name": "stdout",
     "output_type": "stream",
     "text": [
      "foster city\n",
      "palo alto\n",
      "brisbane\n",
      "palo alto\n",
      "san mateo\n",
      "santa clara\n",
      "san jose south\n",
      "sunnyvale\n",
      "inner sunset - UCSF\n",
      "richmond - seacliff\n",
      "SOMA - south beach\n",
      "dublin - pleasanton - livermore\n",
      "concord - pleasant hill - martinez\n",
      "hercules, pinole, san pablo, el sob\n",
      "corte madera\n"
     ]
    }
   ],
   "source": [
    "# replace any forward slashes in neighborhood name with a hyphen\n",
    "with open('data/rents_raw.csv', 'r') as csvfile:\n",
    "    my_csv = csv.reader(csvfile)\n",
    "    next(my_csv) #skip the header row\n",
    "    for row in my_csv:\n",
    "        print(row[0].replace('/', '-')) #use string.replace() method"
   ]
  },
  {
   "cell_type": "code",
   "execution_count": 106,
   "metadata": {
    "collapsed": true
   },
   "outputs": [],
   "source": [
    "# create a new function to replace forward slashes and commas with hyphens\n",
    "def clean_neighborhood(neighborhood_name):\n",
    "    # you can daisy chain multiple string.replace() methods\n",
    "    return neighborhood_name.replace('/', '-').replace(',', '')"
   ]
  },
  {
   "cell_type": "markdown",
   "metadata": {},
   "source": [
    "### Now let's use the functions above to create a cleaner version of the data."
   ]
  },
  {
   "cell_type": "code",
   "execution_count": 120,
   "metadata": {
    "scrolled": true
   },
   "outputs": [
    {
     "data": {
      "text/plain": [
       "[['foster city', 2495],\n",
       " ['palo alto', 2695],\n",
       " ['brisbane', 3150],\n",
       " ['palo alto', 2800],\n",
       " ['san mateo', 2196],\n",
       " ['santa clara', 3264],\n",
       " ['san jose south', 2000],\n",
       " ['sunnyvale', 4740],\n",
       " ['inner sunset - UCSF', 3395],\n",
       " ['richmond - seacliff', 2699],\n",
       " ['SOMA - south beach', 3620],\n",
       " ['dublin - pleasanton - livermore', 2025],\n",
       " ['concord - pleasant hill - martinez', None],\n",
       " ['hercules pinole san pablo el sob', 1795],\n",
       " ['corte madera', 4299]]"
      ]
     },
     "execution_count": 120,
     "metadata": {},
     "output_type": "execute_result"
    }
   ],
   "source": [
    "# clean the data set by calling the cleaning functions and save the results to variables\n",
    "rentals_cleaned = []\n",
    "with open('data/rents_raw.csv', 'r') as csvfile:\n",
    "    my_csv = csv.reader(csvfile)\n",
    "    next(my_csv)\n",
    "    for row in my_csv:\n",
    "        neighborhood_cleaned = clean_neighborhood(row[0])\n",
    "        price_cleaned = extract_int_price(row[1])\n",
    "        rentals_cleaned.append([neighborhood_cleaned, price_cleaned])      \n",
    "\n",
    "# display our nested lists of data        \n",
    "rentals_cleaned"
   ]
  },
  {
   "cell_type": "markdown",
   "metadata": {},
   "source": [
    "### Create a new data set with cleaned up variables"
   ]
  },
  {
   "cell_type": "code",
   "execution_count": 109,
   "metadata": {
    "collapsed": true
   },
   "outputs": [],
   "source": [
    "with open('data/cleaned_data.csv', 'w', newline='') as f:\n",
    "    writer = csv.writer(f)\n",
    "    writer.writerow([\"neighborhood_cleaned\", \"price_cleaned\", \"bedrooms_cleaned\"])\n",
    "    writer.writerows(rentals_cleaned)"
   ]
  },
  {
   "cell_type": "markdown",
   "metadata": {},
   "source": [
    "### Practice time\n",
    "\n",
    "Create a function to clean number of bedrooms and add this to the cleaned_data.csv file."
   ]
  },
  {
   "cell_type": "code",
   "execution_count": 105,
   "metadata": {
    "collapsed": true
   },
   "outputs": [],
   "source": [
    "# create a new function to convert bedrooms from a string to an int\n",
    "def extract_int_bedrooms(bedrooms):\n",
    "    if not bedrooms == '':\n",
    "        return int(float(bedrooms))\n",
    "    else:\n",
    "        return None"
   ]
  },
  {
   "cell_type": "code",
   "execution_count": 107,
   "metadata": {
    "scrolled": true
   },
   "outputs": [
    {
     "data": {
      "text/plain": [
       "[['foster city', 2495, 1],\n",
       " ['palo alto', 2695, None],\n",
       " ['brisbane', 3150, 2],\n",
       " ['palo alto', 2800, 2],\n",
       " ['san mateo', 2196, 1],\n",
       " ['santa clara', 3264, 3],\n",
       " ['san jose south', 2000, 2],\n",
       " ['sunnyvale', 4740, 3],\n",
       " ['inner sunset - UCSF', 3395, 2],\n",
       " ['richmond - seacliff', 2699, 1],\n",
       " ['SOMA - south beach', 3620, 1],\n",
       " ['dublin - pleasanton - livermore', 2025, 1],\n",
       " ['concord - pleasant hill - martinez', None, 2],\n",
       " ['hercules pinole san pablo el sob', 1795, 1],\n",
       " ['corte madera', 4299, 3]]"
      ]
     },
     "execution_count": 107,
     "metadata": {},
     "output_type": "execute_result"
    }
   ],
   "source": [
    "# clean the data set by calling the cleaning functions and save the results to variables\n",
    "rentals_cleaned = []\n",
    "with open('data/rents_raw.csv', 'r') as csvfile:\n",
    "    my_csv = csv.reader(csvfile)\n",
    "    next(my_csv)\n",
    "    for row in my_csv:\n",
    "        neighborhood_cleaned = clean_neighborhood(row[0])\n",
    "        price_cleaned = extract_int_price(row[1])\n",
    "        bedrooms_cleaned = extract_int_bedrooms(row[2])\n",
    "        rentals_cleaned.append([neighborhood_cleaned, price_cleaned, bedrooms_cleaned])      \n",
    "\n",
    "# display our nested lists of data        \n",
    "rentals_cleaned"
   ]
  },
  {
   "cell_type": "markdown",
   "metadata": {},
   "source": [
    "Now save the data to a new csv file:"
   ]
  },
  {
   "cell_type": "code",
   "execution_count": 109,
   "metadata": {
    "collapsed": true
   },
   "outputs": [],
   "source": [
    "with open('data/cleaned_data.csv', 'w', newline='') as f:\n",
    "    writer = csv.writer(f)\n",
    "    writer.writerow([\"neighborhood_cleaned\", \"price_cleaned\", \"bedrooms_cleaned\"])\n",
    "    writer.writerows(rentals_cleaned)"
   ]
  },
  {
   "cell_type": "markdown",
   "metadata": {},
   "source": [
    "Load the file in a text editor to confirm that it did what you expected."
   ]
  },
  {
   "cell_type": "code",
   "execution_count": null,
   "metadata": {
    "collapsed": true
   },
   "outputs": [],
   "source": []
  }
 ],
 "metadata": {
  "kernelspec": {
   "display_name": "Python [default]",
   "language": "python",
   "name": "python3"
  },
  "language_info": {
   "codemirror_mode": {
    "name": "ipython",
    "version": 3
   },
   "file_extension": ".py",
   "mimetype": "text/x-python",
   "name": "python",
   "nbconvert_exporter": "python",
   "pygments_lexer": "ipython3",
   "version": "3.5.3"
  }
 },
 "nbformat": 4,
 "nbformat_minor": 1
}
